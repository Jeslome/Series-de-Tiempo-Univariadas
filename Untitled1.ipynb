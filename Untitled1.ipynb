{
 "cells": [
  {
   "cell_type": "code",
   "execution_count": null,
   "id": "1a092001-bce1-4390-8cd1-b79fa212185e",
   "metadata": {},
   "outputs": [],
   "source": [
    "pip install tensorflow keras scikit-learn"
   ]
  },
  {
   "cell_type": "code",
   "execution_count": 1,
   "id": "b6ebb650-57d1-48ac-95a6-7b7f5cffda6a",
   "metadata": {},
   "outputs": [],
   "source": [
    "import numpy as np\n",
    "import pandas as pd\n",
    "from sklearn.model_selection import train_test_split\n",
    "from sklearn.preprocessing import MinMaxScaler\n",
    "from keras.models import Sequential\n",
    "from keras.layers import Dense, LSTM\n",
    "from keras.wrappers.scikit_learn import KerasRegressor\n",
    "from sklearn.model_selection import GridSearchCV\n"
   ]
  },
  {
   "cell_type": "code",
   "execution_count": 7,
   "id": "2f1ec146-aba9-4937-a4bd-553518de5861",
   "metadata": {},
   "outputs": [],
   "source": [
    "# Función para crear la red neuronal\n",
    "def create_model(hidden_layers=1, neurons=8, activation='relu', optimizer='adam'):\n",
    "    model = Sequential()\n",
    "    model.add(Dense(neurons, input_dim=X_train.shape[1], activation=activation))"
   ]
  },
  {
   "cell_type": "code",
   "execution_count": 8,
   "id": "a7ffa5e1-b342-4747-ab2f-6a07b42d60f8",
   "metadata": {},
   "outputs": [
    {
     "ename": "NameError",
     "evalue": "name 'hidden_layers' is not defined",
     "output_type": "error",
     "traceback": [
      "\u001b[1;31m---------------------------------------------------------------------------\u001b[0m",
      "\u001b[1;31mNameError\u001b[0m                                 Traceback (most recent call last)",
      "Input \u001b[1;32mIn [8]\u001b[0m, in \u001b[0;36m<cell line: 1>\u001b[1;34m()\u001b[0m\n\u001b[1;32m----> 1\u001b[0m \u001b[38;5;28;01mfor\u001b[39;00m i \u001b[38;5;129;01min\u001b[39;00m \u001b[38;5;28mrange\u001b[39m(\u001b[43mhidden_layers\u001b[49m \u001b[38;5;241m-\u001b[39m \u001b[38;5;241m1\u001b[39m):\n\u001b[0;32m      2\u001b[0m     model\u001b[38;5;241m.\u001b[39madd(Dense(neurons, activation\u001b[38;5;241m=\u001b[39mactivation))\n\u001b[0;32m      3\u001b[0m     model\u001b[38;5;241m.\u001b[39madd(Dense(\u001b[38;5;241m1\u001b[39m))  \u001b[38;5;66;03m# Predicción para 2 pasos adelante\u001b[39;00m\n",
      "\u001b[1;31mNameError\u001b[0m: name 'hidden_layers' is not defined"
     ]
    }
   ],
   "source": [
    "for i in range(hidden_layers - 1):\n",
    "    model.add(Dense(neurons, activation=activation))\n",
    "    model.add(Dense(1))  # Predicción para 2 pasos adelante\n",
    "    model.compile(loss='mean_squared_error', optimizer=optimizer)\n",
    "return model\n"
   ]
  },
  {
   "cell_type": "code",
   "execution_count": null,
   "id": "edddf600-fcc8-4300-9c6b-917e915eeb3d",
   "metadata": {},
   "outputs": [],
   "source": [
    "Carga y preparación de datos\n",
    "# Asumiendo que tienes una serie temporal 'data' con una columna 'target'\n",
    "data = pd.read_csv('tu_serie_temporal.csv')  # Reemplaza con tu serie temporal\n",
    "X = data.drop('target', axis=1)  # Variables explicativas\n",
    "y = data['target']"
   ]
  },
  {
   "cell_type": "code",
   "execution_count": null,
   "id": "15136010-b08c-49a6-a8a3-3cb95b5dada9",
   "metadata": {},
   "outputs": [],
   "source": [
    "scaler = MinMaxScaler(feature_range=(0, 1))\n",
    "X_scaled = scaler.fit_transform(X)\n",
    "\n",
    "# Separación en conjunto de entrenamiento y prueba\n",
    "X_train, X_val, y_train, y_val = train_test_split(X_scaled, y, test_size=0.2, shuffle=False)\n"
   ]
  },
  {
   "cell_type": "code",
   "execution_count": null,
   "id": "ca859c43-270f-4cc4-867a-91bcca9adb58",
   "metadata": {},
   "outputs": [],
   "source": [
    "# Grid Search\n",
    "model = KerasRegressor(build_fn=create_model, epochs=50, batch_size=10, verbose=0)\n",
    "param_grid = {\n",
    "    'hidden_layers': [1, 2],\n",
    "    'neurons': [8, 32],\n",
    "    'activation': ['tanh', 'relu'],\n",
    "    'optimizer': ['adam', 'sgd']\n",
    "}"
   ]
  },
  {
   "cell_type": "code",
   "execution_count": null,
   "id": "4d5fa880-4570-4d91-95d3-e2cd13f9a6a8",
   "metadata": {},
   "outputs": [],
   "source": [
    "grid = GridSearchCV(estimator=model, param_grid=param_grid, cv=3)\n",
    "grid_result = grid.fit(X_train, y_train)\n",
    "\n",
    "# Mejor modelo\n",
    "print(f\"Best params: {grid_result.best_params_}\")"
   ]
  },
  {
   "cell_type": "code",
   "execution_count": null,
   "id": "7dc30c44-a6d9-44e5-93fb-3faad20c3991",
   "metadata": {},
   "outputs": [],
   "source": [
    "# Evaluación del modelo\n",
    "best_model = grid_result.best_estimator_.model\n",
    "train_loss = best_model.evaluate(X_train, y_train)\n",
    "val_loss = best_model.evaluate(X_val, y_val)\n",
    "print(f\"Train Loss: {train_loss}, Validation Loss: {val_loss}\")"
   ]
  },
  {
   "cell_type": "code",
   "execution_count": null,
   "id": "b1c2b015-1ea8-40ee-a7eb-7248c2574890",
   "metadata": {},
   "outputs": [],
   "source": [
    "# Predicciones de 2 pasos adelante\n",
    "predictions = best_model.predict(X_val)\n",
    "print(predictions)"
   ]
  }
 ],
 "metadata": {
  "kernelspec": {
   "display_name": "Python 3 (ipykernel)",
   "language": "python",
   "name": "python3"
  },
  "language_info": {
   "codemirror_mode": {
    "name": "ipython",
    "version": 3
   },
   "file_extension": ".py",
   "mimetype": "text/x-python",
   "name": "python",
   "nbconvert_exporter": "python",
   "pygments_lexer": "ipython3",
   "version": "3.9.12"
  }
 },
 "nbformat": 4,
 "nbformat_minor": 5
}
