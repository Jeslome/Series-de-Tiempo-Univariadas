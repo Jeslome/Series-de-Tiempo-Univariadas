{
 "cells": [
  {
   "cell_type": "markdown",
   "metadata": {},
   "source": [
    "<center>\n",
    "    <h1 style=\"color: #3498db;\">Aplicación de Redes Neuronales Multicapa para la serie del Atleta Colombiano Iván</h1>\n",
    "</center>"
   ]
  },
  {
   "cell_type": "markdown",
   "metadata": {},
   "source": [
    "<h2 style=\"color: #e67e22; text-align: left;\">Librerías Necesarias</h2>\n"
   ]
  },
  {
   "cell_type": "code",
   "execution_count": 1,
   "metadata": {},
   "outputs": [],
   "source": [
    "from __future__ import print_function\n",
    "import os\n",
    "import sys\n",
    "import pandas as pd\n",
    "import numpy as np\n",
    "%matplotlib inline\n",
    "from matplotlib import pyplot as plt\n",
    "import seaborn as sns\n",
    "import datetime\n",
    "import scipy as sp\n",
    "import tensorflow as tf"
   ]
  },
  {
   "cell_type": "markdown",
   "metadata": {},
   "source": [
    "<h2 style=\"color: #e67e22; text-align: left;\">Descripción de la serie de Tiempo</h2>\n"
   ]
  },
  {
   "cell_type": "code",
   "execution_count": 3,
   "metadata": {},
   "outputs": [
    {
     "name": "stdout",
     "output_type": "stream",
     "text": [
      "              KMS\n",
      "DATE             \n",
      "2018-12-31   17.3\n",
      "2019-01-07   86.4\n",
      "2019-01-14  107.3\n",
      "2019-01-21  163.1\n",
      "2019-01-28  153.5\n"
     ]
    },
    {
     "data": {
      "text/plain": [
       "268"
      ]
     },
     "execution_count": 3,
     "metadata": {},
     "output_type": "execute_result"
    }
   ],
   "source": [
    "#set current working directory\n",
    "#os.chdir('/Users/sergiocalderon/Documents/Documentos - iMac de Sergio/Documentos iMac Sergio/Cursos/Time Series')\n",
    "#Read the dataset into a pandas.DataFrame\n",
    "ruta = r\"C:\\Users\\Lenovo\\Desktop\\Escritorio\\Serie_Ivan.xlsx\"\n",
    "# Lee el archivo Excel\n",
    "df = pd.read_excel(ruta,index_col=0)\n",
    "dff=pd.read_excel(ruta,index_col=0)\n",
    "# Muestra las primeras filas del DataFrame\n",
    "print(df.head())\n",
    "df.size"
   ]
  },
  {
   "cell_type": "code",
   "execution_count": 4,
   "metadata": {},
   "outputs": [
    {
     "name": "stdout",
     "output_type": "stream",
     "text": [
      "              KMS\n",
      "DATE             \n",
      "2018-12-31   17.3\n",
      "2019-01-07   86.4\n",
      "2019-01-14  107.3\n",
      "2019-01-21  163.1\n",
      "2019-01-28  153.5\n",
      "...           ...\n",
      "2024-01-15  202.2\n",
      "2024-01-22  200.9\n",
      "2024-01-29  160.7\n",
      "2024-02-05  135.7\n",
      "2024-02-12  121.8\n",
      "\n",
      "[268 rows x 1 columns]\n",
      "<class 'pandas.core.frame.DataFrame'>\n"
     ]
    }
   ],
   "source": [
    "print(df)\n",
    "print(type(df))"
   ]
  },
  {
   "cell_type": "code",
   "execution_count": 5,
   "metadata": {},
   "outputs": [
    {
     "name": "stdout",
     "output_type": "stream",
     "text": [
      "              KMS      Fecha  MES  DIA   AÑO\n",
      "DATE                                        \n",
      "2018-12-31   17.3 2018-12-31   12   31  2018\n",
      "2019-01-07   86.4 2019-01-07    1    7  2019\n",
      "2019-01-14  107.3 2019-01-14    1   14  2019\n",
      "2019-01-21  163.1 2019-01-21    1   21  2019\n",
      "2019-01-28  153.5 2019-01-28    1   28  2019\n",
      "...           ...        ...  ...  ...   ...\n",
      "2024-01-15  202.2 2024-01-15    1   15  2024\n",
      "2024-01-22  200.9 2024-01-22    1   22  2024\n",
      "2024-01-29  160.7 2024-01-29    1   29  2024\n",
      "2024-02-05  135.7 2024-02-05    2    5  2024\n",
      "2024-02-12  121.8 2024-02-12    2   12  2024\n",
      "\n",
      "[268 rows x 5 columns]\n"
     ]
    }
   ],
   "source": [
    "df.index = pd.to_datetime(df.index)\n",
    "df['Fecha'] = pd.to_datetime(df.index)\n",
    "# Crear nuevas columnas con mes, día y año\n",
    "df['MES'] = df.index.month\n",
    "df['DIA'] = df.index.day\n",
    "df['AÑO'] = df.index.year\n",
    "\n",
    "# Mostrar el DataFrame con las nuevas columnas\n",
    "print(df)\n"
   ]
  },
  {
   "cell_type": "markdown",
   "metadata": {},
   "source": [
    "En seguida se crea una columna de fechas"
   ]
  },
  {
   "cell_type": "code",
   "execution_count": 6,
   "metadata": {},
   "outputs": [],
   "source": [
    "df.sort_index(inplace=True)"
   ]
  },
  {
   "cell_type": "code",
   "execution_count": 7,
   "metadata": {},
   "outputs": [
    {
     "data": {
      "text/html": [
       "<div>\n",
       "<style scoped>\n",
       "    .dataframe tbody tr th:only-of-type {\n",
       "        vertical-align: middle;\n",
       "    }\n",
       "\n",
       "    .dataframe tbody tr th {\n",
       "        vertical-align: top;\n",
       "    }\n",
       "\n",
       "    .dataframe thead th {\n",
       "        text-align: right;\n",
       "    }\n",
       "</style>\n",
       "<table border=\"1\" class=\"dataframe\">\n",
       "  <thead>\n",
       "    <tr style=\"text-align: right;\">\n",
       "      <th></th>\n",
       "      <th>KMS</th>\n",
       "      <th>Fecha</th>\n",
       "      <th>MES</th>\n",
       "      <th>DIA</th>\n",
       "      <th>AÑO</th>\n",
       "    </tr>\n",
       "    <tr>\n",
       "      <th>DATE</th>\n",
       "      <th></th>\n",
       "      <th></th>\n",
       "      <th></th>\n",
       "      <th></th>\n",
       "      <th></th>\n",
       "    </tr>\n",
       "  </thead>\n",
       "  <tbody>\n",
       "    <tr>\n",
       "      <th>2018-12-31</th>\n",
       "      <td>17.3</td>\n",
       "      <td>2018-12-31</td>\n",
       "      <td>12</td>\n",
       "      <td>31</td>\n",
       "      <td>2018</td>\n",
       "    </tr>\n",
       "    <tr>\n",
       "      <th>2019-01-07</th>\n",
       "      <td>86.4</td>\n",
       "      <td>2019-01-07</td>\n",
       "      <td>1</td>\n",
       "      <td>7</td>\n",
       "      <td>2019</td>\n",
       "    </tr>\n",
       "    <tr>\n",
       "      <th>2019-01-14</th>\n",
       "      <td>107.3</td>\n",
       "      <td>2019-01-14</td>\n",
       "      <td>1</td>\n",
       "      <td>14</td>\n",
       "      <td>2019</td>\n",
       "    </tr>\n",
       "    <tr>\n",
       "      <th>2019-01-21</th>\n",
       "      <td>163.1</td>\n",
       "      <td>2019-01-21</td>\n",
       "      <td>1</td>\n",
       "      <td>21</td>\n",
       "      <td>2019</td>\n",
       "    </tr>\n",
       "    <tr>\n",
       "      <th>2019-01-28</th>\n",
       "      <td>153.5</td>\n",
       "      <td>2019-01-28</td>\n",
       "      <td>1</td>\n",
       "      <td>28</td>\n",
       "      <td>2019</td>\n",
       "    </tr>\n",
       "    <tr>\n",
       "      <th>...</th>\n",
       "      <td>...</td>\n",
       "      <td>...</td>\n",
       "      <td>...</td>\n",
       "      <td>...</td>\n",
       "      <td>...</td>\n",
       "    </tr>\n",
       "    <tr>\n",
       "      <th>2024-01-15</th>\n",
       "      <td>202.2</td>\n",
       "      <td>2024-01-15</td>\n",
       "      <td>1</td>\n",
       "      <td>15</td>\n",
       "      <td>2024</td>\n",
       "    </tr>\n",
       "    <tr>\n",
       "      <th>2024-01-22</th>\n",
       "      <td>200.9</td>\n",
       "      <td>2024-01-22</td>\n",
       "      <td>1</td>\n",
       "      <td>22</td>\n",
       "      <td>2024</td>\n",
       "    </tr>\n",
       "    <tr>\n",
       "      <th>2024-01-29</th>\n",
       "      <td>160.7</td>\n",
       "      <td>2024-01-29</td>\n",
       "      <td>1</td>\n",
       "      <td>29</td>\n",
       "      <td>2024</td>\n",
       "    </tr>\n",
       "    <tr>\n",
       "      <th>2024-02-05</th>\n",
       "      <td>135.7</td>\n",
       "      <td>2024-02-05</td>\n",
       "      <td>2</td>\n",
       "      <td>5</td>\n",
       "      <td>2024</td>\n",
       "    </tr>\n",
       "    <tr>\n",
       "      <th>2024-02-12</th>\n",
       "      <td>121.8</td>\n",
       "      <td>2024-02-12</td>\n",
       "      <td>2</td>\n",
       "      <td>12</td>\n",
       "      <td>2024</td>\n",
       "    </tr>\n",
       "  </tbody>\n",
       "</table>\n",
       "<p>268 rows × 5 columns</p>\n",
       "</div>"
      ],
      "text/plain": [
       "              KMS      Fecha  MES  DIA   AÑO\n",
       "DATE                                        \n",
       "2018-12-31   17.3 2018-12-31   12   31  2018\n",
       "2019-01-07   86.4 2019-01-07    1    7  2019\n",
       "2019-01-14  107.3 2019-01-14    1   14  2019\n",
       "2019-01-21  163.1 2019-01-21    1   21  2019\n",
       "2019-01-28  153.5 2019-01-28    1   28  2019\n",
       "...           ...        ...  ...  ...   ...\n",
       "2024-01-15  202.2 2024-01-15    1   15  2024\n",
       "2024-01-22  200.9 2024-01-22    1   22  2024\n",
       "2024-01-29  160.7 2024-01-29    1   29  2024\n",
       "2024-02-05  135.7 2024-02-05    2    5  2024\n",
       "2024-02-12  121.8 2024-02-12    2   12  2024\n",
       "\n",
       "[268 rows x 5 columns]"
      ]
     },
     "execution_count": 7,
     "metadata": {},
     "output_type": "execute_result"
    }
   ],
   "source": [
    "df"
   ]
  },
  {
   "cell_type": "code",
   "execution_count": 8,
   "metadata": {},
   "outputs": [
    {
     "name": "stderr",
     "output_type": "stream",
     "text": [
      "C:\\Users\\Lenovo\\anaconda3\\lib\\site-packages\\seaborn\\_decorators.py:36: FutureWarning: Pass the following variable as a keyword arg: x. From version 0.12, the only valid positional argument will be `data`, and passing other arguments without an explicit keyword will result in an error or misinterpretation.\n",
      "  warnings.warn(\n"
     ]
    },
    {
     "data": {
      "text/plain": [
       "Text(0.5, 1.0, 'Box plot of KMS')"
      ]
     },
     "execution_count": 8,
     "metadata": {},
     "output_type": "execute_result"
    },
    {
     "data": {
      "image/png": "[encoded data removed]",
      "text/plain": [
       "<Figure size 396x396 with 1 Axes>"
      ]
     },
     "metadata": {
      "needs_background": "light"
     },
     "output_type": "display_data"
    }
   ],
   "source": [
    "plt.figure(figsize=(5.5, 5.5))\n",
    "g = sns.boxplot(df['KMS']) \n",
    "g.set_title('Box plot of KMS')"
   ]
  },
  {
   "cell_type": "code",
   "execution_count": 9,
   "metadata": {},
   "outputs": [
    {
     "data": {
      "text/plain": [
       "Text(0.5, 1.0, 'Time series of KMS Iván')"
      ]
     },
     "execution_count": 9,
     "metadata": {},
     "output_type": "execute_result"
    },
    {
     "data": {
      "image/png": "[encoded data removed]",
      "text/plain": [
       "<Figure size 432x288 with 1 Axes>"
      ]
     },
     "metadata": {
      "needs_background": "light"
     },
     "output_type": "display_data"
    }
   ],
   "source": [
    "g = plt.plot(df['KMS'])\n",
    "plt.xlabel('Index') \n",
    "plt.ylabel('Time series of KMS Iván') \n",
    "plt.title(label='Time series of KMS Iván') "
   ]
  },
  {
   "cell_type": "code",
   "execution_count": 10,
   "metadata": {},
   "outputs": [],
   "source": [
    "indice=df['Fecha']\n",
    "KMSdf =pd.DataFrame(df['KMS'].values,index=indice)\n"
   ]
  },
  {
   "cell_type": "code",
   "execution_count": 11,
   "metadata": {},
   "outputs": [
    {
     "data": {
      "text/plain": [
       "pandas.core.frame.DataFrame"
      ]
     },
     "execution_count": 11,
     "metadata": {},
     "output_type": "execute_result"
    }
   ],
   "source": [
    "KMSdf.head(10)\n",
    "type(KMSdf)"
   ]
  },
  {
   "cell_type": "code",
   "execution_count": 12,
   "metadata": {},
   "outputs": [
    {
     "data": {
      "text/html": [
       "<div>\n",
       "<style scoped>\n",
       "    .dataframe tbody tr th:only-of-type {\n",
       "        vertical-align: middle;\n",
       "    }\n",
       "\n",
       "    .dataframe tbody tr th {\n",
       "        vertical-align: top;\n",
       "    }\n",
       "\n",
       "    .dataframe thead th {\n",
       "        text-align: right;\n",
       "    }\n",
       "</style>\n",
       "<table border=\"1\" class=\"dataframe\">\n",
       "  <thead>\n",
       "    <tr style=\"text-align: right;\">\n",
       "      <th></th>\n",
       "      <th>0</th>\n",
       "    </tr>\n",
       "    <tr>\n",
       "      <th>Fecha</th>\n",
       "      <th></th>\n",
       "    </tr>\n",
       "  </thead>\n",
       "  <tbody>\n",
       "    <tr>\n",
       "      <th>2018-12-31</th>\n",
       "      <td>17.3</td>\n",
       "    </tr>\n",
       "    <tr>\n",
       "      <th>2019-01-07</th>\n",
       "      <td>86.4</td>\n",
       "    </tr>\n",
       "    <tr>\n",
       "      <th>2019-01-14</th>\n",
       "      <td>107.3</td>\n",
       "    </tr>\n",
       "    <tr>\n",
       "      <th>2019-01-21</th>\n",
       "      <td>163.1</td>\n",
       "    </tr>\n",
       "    <tr>\n",
       "      <th>2019-01-28</th>\n",
       "      <td>153.5</td>\n",
       "    </tr>\n",
       "    <tr>\n",
       "      <th>...</th>\n",
       "      <td>...</td>\n",
       "    </tr>\n",
       "    <tr>\n",
       "      <th>2024-01-15</th>\n",
       "      <td>202.2</td>\n",
       "    </tr>\n",
       "    <tr>\n",
       "      <th>2024-01-22</th>\n",
       "      <td>200.9</td>\n",
       "    </tr>\n",
       "    <tr>\n",
       "      <th>2024-01-29</th>\n",
       "      <td>160.7</td>\n",
       "    </tr>\n",
       "    <tr>\n",
       "      <th>2024-02-05</th>\n",
       "      <td>135.7</td>\n",
       "    </tr>\n",
       "    <tr>\n",
       "      <th>2024-02-12</th>\n",
       "      <td>121.8</td>\n",
       "    </tr>\n",
       "  </tbody>\n",
       "</table>\n",
       "<p>268 rows × 1 columns</p>\n",
       "</div>"
      ],
      "text/plain": [
       "                0\n",
       "Fecha            \n",
       "2018-12-31   17.3\n",
       "2019-01-07   86.4\n",
       "2019-01-14  107.3\n",
       "2019-01-21  163.1\n",
       "2019-01-28  153.5\n",
       "...           ...\n",
       "2024-01-15  202.2\n",
       "2024-01-22  200.9\n",
       "2024-01-29  160.7\n",
       "2024-02-05  135.7\n",
       "2024-02-12  121.8\n",
       "\n",
       "[268 rows x 1 columns]"
      ]
     },
     "execution_count": 12,
     "metadata": {},
     "output_type": "execute_result"
    }
   ],
   "source": [
    "KMSdf"
   ]
  },
  {
   "cell_type": "markdown",
   "metadata": {},
   "source": [
    "<h2 style=\"color: #e67e22; text-align: left;\">Función de Autocorrelación</h2>"
   ]
  },
  {
   "cell_type": "markdown",
   "metadata": {},
   "source": [
    "**Simple**"
   ]
  },
  {
   "cell_type": "code",
   "execution_count": 13,
   "metadata": {},
   "outputs": [
    {
     "data": {
      "image/png": "[encoded data removed]",
      "text/plain": [
       "<Figure size 432x288 with 1 Axes>"
      ]
     },
     "metadata": {
      "needs_background": "light"
     },
     "output_type": "display_data"
    }
   ],
   "source": [
    "from statsmodels.graphics.tsaplots import plot_acf\n",
    "from statsmodels.graphics.tsaplots import plot_pacf\n",
    "plot_acf(KMSdf,lags=104)\n",
    "plt.show()"
   ]
  },
  {
   "cell_type": "markdown",
   "metadata": {},
   "source": [
    "**Parcial**"
   ]
  },
  {
   "cell_type": "code",
   "execution_count": 14,
   "metadata": {},
   "outputs": [
    {
     "data": {
      "image/png": "[encoded data removed]",
      "text/plain": [
       "<Figure size 432x288 with 1 Axes>"
      ]
     },
     "metadata": {
      "needs_background": "light"
     },
     "output_type": "display_data"
    }
   ],
   "source": [
    "plot_pacf(KMSdf,lags=52,method='ldbiased')\n",
    "plt.show()"
   ]
  },
  {
   "cell_type": "markdown",
   "metadata": {},
   "source": [
    "En ambos casos de nos indica que al haber al menor una autocorrelación diferente de cero, se puede decir que las variables del proceso no son independientes."
   ]
  },
  {
   "cell_type": "markdown",
   "metadata": {},
   "source": [
    "Note que 8764.8/24=365.2 que corresponde a un ciclo anual, sin embargo no se ve el ciclo diario o semanal."
   ]
  },
  {
   "cell_type": "markdown",
   "metadata": {},
   "source": [
    "**Ahora con la serie diferenciada**"
   ]
  },
  {
   "cell_type": "raw",
   "metadata": {},
   "source": [
    "dff=df\n",
    "dff['KMS'] = dff['KMS'].diff()\n",
    "# Eliminar la primera fila que tendrá un NaN después de la diferenciación\n",
    "dff.dropna(inplace=True)\n",
    "indice=df['Fecha']\n",
    "KMSdff =pd.DataFrame(dff['KMS'].values,index=indice)\n",
    "print(dff)\n",
    "print(KMSdff)\n",
    "g = plt.plot(dff['KMS'])\n",
    "plt.xlabel('Index') \n",
    "plt.ylabel('Time series of KMS Iván') \n",
    "plt.title(label='Time series of KMS Iván') \n"
   ]
  },
  {
   "cell_type": "raw",
   "metadata": {},
   "source": [
    "plot_pacf(KMSdff,lags=104)\n",
    "plt.show()"
   ]
  },
  {
   "cell_type": "raw",
   "metadata": {},
   "source": [
    "plot_pacf(KMSdff,lags=104,method='ldbiased')\n",
    "plt.show()"
   ]
  },
  {
   "cell_type": "markdown",
   "metadata": {},
   "source": [
    "<h2 style=\"color: #e67e22; text-align: left;\">Periodograma</h2>"
   ]
  },
  {
   "cell_type": "code",
   "execution_count": 15,
   "metadata": {},
   "outputs": [
    {
     "name": "stdout",
     "output_type": "stream",
     "text": [
      "16\n",
      "0.05970149253731343\n",
      "16.75\n"
     ]
    },
    {
     "data": {
      "image/png": "[encoded data removed]",
      "text/plain": [
       "<Figure size 432x288 with 1 Axes>"
      ]
     },
     "metadata": {
      "needs_background": "light"
     },
     "output_type": "display_data"
    }
   ],
   "source": [
    "f, Pxx_den=sp.signal.periodogram(df['KMS'])\n",
    "plt.plot(f, Pxx_den)\n",
    "#plt.axvline(x=1/0.9,color='red')\n",
    "max_index_value = np.argmax(Pxx_den, axis=0)\n",
    "print(max_index_value)\n",
    "frecuencia_max=f[max_index_value]\n",
    "print(frecuencia_max)\n",
    "print(1/frecuencia_max)"
   ]
  },
  {
   "cell_type": "code",
   "execution_count": 16,
   "metadata": {},
   "outputs": [
    {
     "data": {
      "text/plain": [
       "[<matplotlib.lines.Line2D at 0x2336b0badf0>]"
      ]
     },
     "execution_count": 16,
     "metadata": {},
     "output_type": "execute_result"
    },
    {
     "data": {
      "image/png": "[encoded data removed]",
      "text/plain": [
       "<Figure size 432x288 with 1 Axes>"
      ]
     },
     "metadata": {
      "needs_background": "light"
     },
     "output_type": "display_data"
    }
   ],
   "source": [
    "f_welch, Pxx_den_welch=sp.signal.welch(df['KMS'])\n",
    "plt.plot(f_welch, Pxx_den_welch)"
   ]
  },
  {
   "cell_type": "code",
   "execution_count": 17,
   "metadata": {},
   "outputs": [
    {
     "data": {
      "image/png": "[encoded data removed]",
      "text/plain": [
       "<Figure size 432x288 with 1 Axes>"
      ]
     },
     "metadata": {
      "needs_background": "light"
     },
     "output_type": "display_data"
    }
   ],
   "source": [
    "import matplotlib as mpl\n",
    "Pxx, Freqs, lines=mpl.pyplot.psd(df['KMS'],return_line=True)"
   ]
  },
  {
   "cell_type": "code",
   "execution_count": 18,
   "metadata": {},
   "outputs": [
    {
     "data": {
      "image/png": "[encoded data removed]",
      "text/plain": [
       "<Figure size 432x288 with 1 Axes>"
      ]
     },
     "metadata": {
      "needs_background": "light"
     },
     "output_type": "display_data"
    }
   ],
   "source": [
    "fft = tf.signal.rfft(df['KMS'])\n",
    "\n",
    "# Número de muestras en la serie\n",
    "n_samples = len(df['KMS'])\n",
    "\n",
    "# Frecuencia de muestreo (muestras por semana)\n",
    "samples_per_month = 4.345  # Si la serie es semanal\n",
    "\n",
    "# Número total de semanas en la serie\n",
    "weeks_per_dataset = n_samples / samples_per_month\n",
    "\n",
    "# Frecuencia en semanas\n",
    "f_per_week = np.arange(0, len(fft))\n",
    "\n",
    "# Frecuencia en años (semanas por año aproximadamente)\n",
    "weeks_per_year = 52.17891428571429\n",
    "f_per_year = f_per_week / (weeks_per_dataset / weeks_per_year)\n",
    "\n",
    "# Gráfico\n",
    "plt.step(f_per_year, np.abs(fft))\n",
    "plt.xscale('log')\n",
    "plt.ylim(0, 3000)\n",
    "plt.xlim([0.1, max(f_per_year)])\n",
    "plt.xticks([52.17891428571429,4.345], labels=['1/año', '1/mes'])\n",
    "plt.xlabel('Frecuencia (escala log)')\n",
    "plt.show()"
   ]
  },
  {
   "cell_type": "markdown",
   "metadata": {},
   "source": [
    "Es importante señalar que dependiendo la semana del mes, parece haber un valor medio distinto dependiendo del mes. También parecer haber un comportamineto estacional de forma anual, es decir, el valor medio de la semana depende del mes del año. \n",
    "Por lo tanto, se van a considerar solo dos componentes, una para que tenga encuenta la semana del mes y otro para que tenga en cuenta que el comportamiento anual, es decir, para que tenga en cuenta que al principio del año los Kms que el atleta Iván recorre es menor y que a mitad de año la cantidad de kilómetros recorrido es más alto, mientras que a final de año vuelve a disminuir la cantidad de Kilómetros recorridos,patrón que se repite año a año."
   ]
  },
  {
   "cell_type": "raw",
   "metadata": {},
   "source": [
    "#print(fft)\n",
    "print(f_per_year)"
   ]
  },
  {
   "cell_type": "markdown",
   "metadata": {},
   "source": [
    "Note que en este, caso la escala de la frecuencia está escalada para que sea leía por año."
   ]
  },
  {
   "cell_type": "code",
   "execution_count": 19,
   "metadata": {},
   "outputs": [
    {
     "data": {
      "text/plain": [
       "pandas.core.series.Series"
      ]
     },
     "execution_count": 19,
     "metadata": {},
     "output_type": "execute_result"
    }
   ],
   "source": [
    "date_time=df['Fecha']\n",
    "type(date_time)\n"
   ]
  },
  {
   "cell_type": "code",
   "execution_count": 20,
   "metadata": {},
   "outputs": [
    {
     "data": {
      "text/plain": [
       "DATE\n",
       "2018-12-31    1.546214e+09\n",
       "2019-01-07    1.546819e+09\n",
       "2019-01-14    1.547424e+09\n",
       "2019-01-21    1.548029e+09\n",
       "2019-01-28    1.548634e+09\n",
       "                  ...     \n",
       "2024-01-15    1.705277e+09\n",
       "2024-01-22    1.705882e+09\n",
       "2024-01-29    1.706486e+09\n",
       "2024-02-05    1.707091e+09\n",
       "2024-02-12    1.707696e+09\n",
       "Name: Fecha, Length: 268, dtype: float64"
      ]
     },
     "execution_count": 20,
     "metadata": {},
     "output_type": "execute_result"
    }
   ],
   "source": [
    "date_time.map(pd.Timestamp.timestamp) ###Convierte las fechas a float "
   ]
  },
  {
   "cell_type": "markdown",
   "metadata": {},
   "source": [
    "<h2 style=\"color: #e67e22; text-align: left;\">Incorporando la componente estacional</h2>"
   ]
  },
  {
   "cell_type": "markdown",
   "metadata": {},
   "source": [
    "#### Convertir las fechas en valores numéricos\n",
    "\n",
    "Note que el tiempo va a ser convertido a segundos, por lo tanto debemos escribir los ciclos a segundos."
   ]
  },
  {
   "cell_type": "code",
   "execution_count": 21,
   "metadata": {},
   "outputs": [
    {
     "data": {
      "text/plain": [
       "DATE\n",
       "2018-12-31    1.546214e+09\n",
       "2019-01-07    1.546819e+09\n",
       "2019-01-14    1.547424e+09\n",
       "2019-01-21    1.548029e+09\n",
       "2019-01-28    1.548634e+09\n",
       "                  ...     \n",
       "2024-01-15    1.705277e+09\n",
       "2024-01-22    1.705882e+09\n",
       "2024-01-29    1.706486e+09\n",
       "2024-02-05    1.707091e+09\n",
       "2024-02-12    1.707696e+09\n",
       "Name: Fecha, Length: 268, dtype: float64"
      ]
     },
     "execution_count": 21,
     "metadata": {},
     "output_type": "execute_result"
    }
   ],
   "source": [
    "timestamp_s = date_time.map(pd.Timestamp.timestamp)\n",
    "timestamp_s"
   ]
  },
  {
   "cell_type": "code",
   "execution_count": 22,
   "metadata": {},
   "outputs": [
    {
     "data": {
      "image/png": "[encoded data removed]",
      "text/plain": [
       "<Figure size 864x432 with 1 Axes>"
      ]
     },
     "metadata": {
      "needs_background": "light"
     },
     "output_type": "display_data"
    }
   ],
   "source": [
    "# Periodos\n",
    "semana = 7 * 24 * 60 * 60  # segundos en una semana\n",
    "anio = 365.25 * 24 * 60 * 60  # segundos en un año\n",
    "mes = 30.44 * 24 * 60 * 60  # Segundos en un mes promedio\n",
    "\n",
    "# Componentes estacionales semanales\n",
    "df['Week sin'] = np.sin(timestamp_s * (2 * np.pi / semana))\n",
    "df['Week cos'] = np.cos(timestamp_s * (2 * np.pi / semana))\n",
    "\n",
    "# Componentes estacionales mensuales\n",
    "mes = 30.44 * 24 * 60 * 60  # segundos en un mes\n",
    "df['Month sin'] = np.sin(timestamp_s * (2 * np.pi / mes))\n",
    "df['Month cos'] = np.cos(timestamp_s * (2 * np.pi / mes))\n",
    "\n",
    "# Componentes estacionales anuales\n",
    "df['Year sin'] = np.sin(timestamp_s * (2 * np.pi / anio))\n",
    "df['Year cos'] = np.cos(timestamp_s * (2 * np.pi / anio))\n",
    "\n",
    "# Graficar la serie temporal original\n",
    "plt.figure(figsize=(12, 6))\n",
    "plt.plot(df.index, df['KMS'])\n",
    "plt.xlabel('Fecha')\n",
    "plt.ylabel('KMS Recorridos')\n",
    "plt.title('Serie Temporal de KMS Recorridos por Iván')\n",
    "plt.grid(True)\n",
    "plt.show()\n",
    "\n",
    "# Puedes proceder a ajustar un modelo de regresión o cualquier otro modelo de serie temporal\n",
    "# que tenga en cuenta estas nuevas características estacionales."
   ]
  },
  {
   "cell_type": "code",
   "execution_count": 24,
   "metadata": {},
   "outputs": [
    {
     "data": {
      "text/plain": [
       "Text(0.5, 1.0, 'Time of year signal')"
      ]
     },
     "execution_count": 24,
     "metadata": {},
     "output_type": "execute_result"
    },
    {
     "data": {
      "image/png": "[encoded data removed]",
      "text/plain": [
       "<Figure size 432x288 with 1 Axes>"
      ]
     },
     "metadata": {
      "needs_background": "light"
     },
     "output_type": "display_data"
    }
   ],
   "source": [
    "plt.plot(np.array(df['Year sin'])[:100])\n",
    "plt.plot(np.array(df['Year cos'])[:100])\n",
    "plt.xlabel('Time [h]')\n",
    "plt.title('Time of year signal')"
   ]
  },
  {
   "cell_type": "code",
   "execution_count": 25,
   "metadata": {},
   "outputs": [
    {
     "data": {
      "text/plain": [
       "Text(0.5, 1.0, 'Time of month signal')"
      ]
     },
     "execution_count": 25,
     "metadata": {},
     "output_type": "execute_result"
    },
    {
     "data": {
      "image/png": "[encoded data removed]",
      "text/plain": [
       "<Figure size 432x288 with 1 Axes>"
      ]
     },
     "metadata": {
      "needs_background": "light"
     },
     "output_type": "display_data"
    }
   ],
   "source": [
    "plt.plot(np.array(df['Month sin'])[:100])\n",
    "plt.plot(np.array(df['Month cos'])[:100])\n",
    "plt.xlabel('Time [h]')\n",
    "plt.title('Time of month signal')"
   ]
  },
  {
   "cell_type": "code",
   "execution_count": 26,
   "metadata": {},
   "outputs": [
    {
     "data": {
      "text/plain": [
       "Index(['KMS', 'Fecha', 'MES', 'DIA', 'AÑO', 'Week sin', 'Week cos', 'Year sin',\n",
       "       'Year cos', 'Month sin', 'Month cos'],\n",
       "      dtype='object')"
      ]
     },
     "execution_count": 26,
     "metadata": {},
     "output_type": "execute_result"
    }
   ],
   "source": [
    "df.columns"
   ]
  },
  {
   "cell_type": "markdown",
   "metadata": {},
   "source": [
    "## Creación alternativa de covariables"
   ]
  },
  {
   "cell_type": "code",
   "execution_count": 27,
   "metadata": {},
   "outputs": [],
   "source": [
    "indice=df['Fecha']\n",
    "PRESdf_alt =pd.DataFrame(df[['KMS','Month sin', 'Month cos', 'Year sin','Year cos','Fecha']])\n"
   ]
  },
  {
   "cell_type": "code",
   "execution_count": 28,
   "metadata": {},
   "outputs": [
    {
     "data": {
      "text/html": [
       "<div>\n",
       "<style scoped>\n",
       "    .dataframe tbody tr th:only-of-type {\n",
       "        vertical-align: middle;\n",
       "    }\n",
       "\n",
       "    .dataframe tbody tr th {\n",
       "        vertical-align: top;\n",
       "    }\n",
       "\n",
       "    .dataframe thead th {\n",
       "        text-align: right;\n",
       "    }\n",
       "</style>\n",
       "<table border=\"1\" class=\"dataframe\">\n",
       "  <thead>\n",
       "    <tr style=\"text-align: right;\">\n",
       "      <th></th>\n",
       "      <th>KMS</th>\n",
       "      <th>Month sin</th>\n",
       "      <th>Month cos</th>\n",
       "      <th>Year sin</th>\n",
       "      <th>Year cos</th>\n",
       "      <th>Fecha</th>\n",
       "    </tr>\n",
       "    <tr>\n",
       "      <th>DATE</th>\n",
       "      <th></th>\n",
       "      <th></th>\n",
       "      <th></th>\n",
       "      <th></th>\n",
       "      <th></th>\n",
       "      <th></th>\n",
       "    </tr>\n",
       "  </thead>\n",
       "  <tbody>\n",
       "    <tr>\n",
       "      <th>2018-12-31</th>\n",
       "      <td>17.3</td>\n",
       "      <td>-0.532407</td>\n",
       "      <td>0.846489</td>\n",
       "      <td>-0.021501</td>\n",
       "      <td>0.999769</td>\n",
       "      <td>2018-12-31</td>\n",
       "    </tr>\n",
       "    <tr>\n",
       "      <th>2019-01-07</th>\n",
       "      <td>86.4</td>\n",
       "      <td>0.772929</td>\n",
       "      <td>0.634493</td>\n",
       "      <td>0.098753</td>\n",
       "      <td>0.995112</td>\n",
       "      <td>2019-01-07</td>\n",
       "    </tr>\n",
       "    <tr>\n",
       "      <th>2019-01-14</th>\n",
       "      <td>107.3</td>\n",
       "      <td>0.726534</td>\n",
       "      <td>-0.687131</td>\n",
       "      <td>0.217577</td>\n",
       "      <td>0.976043</td>\n",
       "      <td>2019-01-14</td>\n",
       "    </tr>\n",
       "    <tr>\n",
       "      <th>2019-01-21</th>\n",
       "      <td>163.1</td>\n",
       "      <td>-0.590454</td>\n",
       "      <td>-0.807071</td>\n",
       "      <td>0.333249</td>\n",
       "      <td>0.942839</td>\n",
       "      <td>2019-01-21</td>\n",
       "    </tr>\n",
       "    <tr>\n",
       "      <th>2019-01-28</th>\n",
       "      <td>153.5</td>\n",
       "      <td>-0.874831</td>\n",
       "      <td>0.484428</td>\n",
       "      <td>0.444096</td>\n",
       "      <td>0.895979</td>\n",
       "      <td>2019-01-28</td>\n",
       "    </tr>\n",
       "    <tr>\n",
       "      <th>...</th>\n",
       "      <td>...</td>\n",
       "      <td>...</td>\n",
       "      <td>...</td>\n",
       "      <td>...</td>\n",
       "      <td>...</td>\n",
       "      <td>...</td>\n",
       "    </tr>\n",
       "    <tr>\n",
       "      <th>2024-01-15</th>\n",
       "      <td>202.2</td>\n",
       "      <td>0.636087</td>\n",
       "      <td>-0.771617</td>\n",
       "      <td>0.230151</td>\n",
       "      <td>0.973155</td>\n",
       "      <td>2024-01-15</td>\n",
       "    </tr>\n",
       "    <tr>\n",
       "      <th>2024-01-22</th>\n",
       "      <td>200.9</td>\n",
       "      <td>-0.685630</td>\n",
       "      <td>-0.727950</td>\n",
       "      <td>0.345386</td>\n",
       "      <td>0.938461</td>\n",
       "      <td>2024-01-22</td>\n",
       "    </tr>\n",
       "    <tr>\n",
       "      <th>2024-01-29</th>\n",
       "      <td>160.7</td>\n",
       "      <td>-0.808288</td>\n",
       "      <td>0.588787</td>\n",
       "      <td>0.455618</td>\n",
       "      <td>0.890175</td>\n",
       "      <td>2024-01-29</td>\n",
       "    </tr>\n",
       "    <tr>\n",
       "      <th>2024-02-05</th>\n",
       "      <td>135.7</td>\n",
       "      <td>0.482622</td>\n",
       "      <td>0.875829</td>\n",
       "      <td>0.559252</td>\n",
       "      <td>0.828997</td>\n",
       "      <td>2024-02-05</td>\n",
       "    </tr>\n",
       "    <tr>\n",
       "      <th>2024-02-12</th>\n",
       "      <td>121.8</td>\n",
       "      <td>0.929503</td>\n",
       "      <td>-0.368815</td>\n",
       "      <td>0.654787</td>\n",
       "      <td>0.755814</td>\n",
       "      <td>2024-02-12</td>\n",
       "    </tr>\n",
       "  </tbody>\n",
       "</table>\n",
       "<p>268 rows × 6 columns</p>\n",
       "</div>"
      ],
      "text/plain": [
       "              KMS  Month sin  Month cos  Year sin  Year cos      Fecha\n",
       "DATE                                                                  \n",
       "2018-12-31   17.3  -0.532407   0.846489 -0.021501  0.999769 2018-12-31\n",
       "2019-01-07   86.4   0.772929   0.634493  0.098753  0.995112 2019-01-07\n",
       "2019-01-14  107.3   0.726534  -0.687131  0.217577  0.976043 2019-01-14\n",
       "2019-01-21  163.1  -0.590454  -0.807071  0.333249  0.942839 2019-01-21\n",
       "2019-01-28  153.5  -0.874831   0.484428  0.444096  0.895979 2019-01-28\n",
       "...           ...        ...        ...       ...       ...        ...\n",
       "2024-01-15  202.2   0.636087  -0.771617  0.230151  0.973155 2024-01-15\n",
       "2024-01-22  200.9  -0.685630  -0.727950  0.345386  0.938461 2024-01-22\n",
       "2024-01-29  160.7  -0.808288   0.588787  0.455618  0.890175 2024-01-29\n",
       "2024-02-05  135.7   0.482622   0.875829  0.559252  0.828997 2024-02-05\n",
       "2024-02-12  121.8   0.929503  -0.368815  0.654787  0.755814 2024-02-12\n",
       "\n",
       "[268 rows x 6 columns]"
      ]
     },
     "execution_count": 28,
     "metadata": {},
     "output_type": "execute_result"
    }
   ],
   "source": [
    "PRESdf_alt"
   ]
  },
  {
   "cell_type": "code",
   "execution_count": 29,
   "metadata": {},
   "outputs": [
    {
     "data": {
      "text/plain": [
       "DATE\n",
       "2018-12-31   2018-12-31\n",
       "2019-01-07   2019-01-07\n",
       "2019-01-14   2019-01-14\n",
       "2019-01-21   2019-01-21\n",
       "2019-01-28   2019-01-28\n",
       "                ...    \n",
       "2024-01-15   2024-01-15\n",
       "2024-01-22   2024-01-22\n",
       "2024-01-29   2024-01-29\n",
       "2024-02-05   2024-02-05\n",
       "2024-02-12   2024-02-12\n",
       "Name: Fecha, Length: 268, dtype: datetime64[ns]"
      ]
     },
     "execution_count": 29,
     "metadata": {},
     "output_type": "execute_result"
    }
   ],
   "source": [
    "indice"
   ]
  },
  {
   "cell_type": "code",
   "execution_count": 30,
   "metadata": {},
   "outputs": [],
   "source": [
    "PRES_alt_df = PRESdf_alt.set_index('Fecha')"
   ]
  },
  {
   "cell_type": "code",
   "execution_count": 31,
   "metadata": {},
   "outputs": [
    {
     "data": {
      "text/html": [
       "<div>\n",
       "<style scoped>\n",
       "    .dataframe tbody tr th:only-of-type {\n",
       "        vertical-align: middle;\n",
       "    }\n",
       "\n",
       "    .dataframe tbody tr th {\n",
       "        vertical-align: top;\n",
       "    }\n",
       "\n",
       "    .dataframe thead th {\n",
       "        text-align: right;\n",
       "    }\n",
       "</style>\n",
       "<table border=\"1\" class=\"dataframe\">\n",
       "  <thead>\n",
       "    <tr style=\"text-align: right;\">\n",
       "      <th></th>\n",
       "      <th>KMS</th>\n",
       "      <th>Month sin</th>\n",
       "      <th>Month cos</th>\n",
       "      <th>Year sin</th>\n",
       "      <th>Year cos</th>\n",
       "    </tr>\n",
       "    <tr>\n",
       "      <th>Fecha</th>\n",
       "      <th></th>\n",
       "      <th></th>\n",
       "      <th></th>\n",
       "      <th></th>\n",
       "      <th></th>\n",
       "    </tr>\n",
       "  </thead>\n",
       "  <tbody>\n",
       "    <tr>\n",
       "      <th>2018-12-31</th>\n",
       "      <td>17.3</td>\n",
       "      <td>-0.532407</td>\n",
       "      <td>0.846489</td>\n",
       "      <td>-0.021501</td>\n",
       "      <td>0.999769</td>\n",
       "    </tr>\n",
       "    <tr>\n",
       "      <th>2019-01-07</th>\n",
       "      <td>86.4</td>\n",
       "      <td>0.772929</td>\n",
       "      <td>0.634493</td>\n",
       "      <td>0.098753</td>\n",
       "      <td>0.995112</td>\n",
       "    </tr>\n",
       "    <tr>\n",
       "      <th>2019-01-14</th>\n",
       "      <td>107.3</td>\n",
       "      <td>0.726534</td>\n",
       "      <td>-0.687131</td>\n",
       "      <td>0.217577</td>\n",
       "      <td>0.976043</td>\n",
       "    </tr>\n",
       "    <tr>\n",
       "      <th>2019-01-21</th>\n",
       "      <td>163.1</td>\n",
       "      <td>-0.590454</td>\n",
       "      <td>-0.807071</td>\n",
       "      <td>0.333249</td>\n",
       "      <td>0.942839</td>\n",
       "    </tr>\n",
       "    <tr>\n",
       "      <th>2019-01-28</th>\n",
       "      <td>153.5</td>\n",
       "      <td>-0.874831</td>\n",
       "      <td>0.484428</td>\n",
       "      <td>0.444096</td>\n",
       "      <td>0.895979</td>\n",
       "    </tr>\n",
       "    <tr>\n",
       "      <th>...</th>\n",
       "      <td>...</td>\n",
       "      <td>...</td>\n",
       "      <td>...</td>\n",
       "      <td>...</td>\n",
       "      <td>...</td>\n",
       "    </tr>\n",
       "    <tr>\n",
       "      <th>2024-01-15</th>\n",
       "      <td>202.2</td>\n",
       "      <td>0.636087</td>\n",
       "      <td>-0.771617</td>\n",
       "      <td>0.230151</td>\n",
       "      <td>0.973155</td>\n",
       "    </tr>\n",
       "    <tr>\n",
       "      <th>2024-01-22</th>\n",
       "      <td>200.9</td>\n",
       "      <td>-0.685630</td>\n",
       "      <td>-0.727950</td>\n",
       "      <td>0.345386</td>\n",
       "      <td>0.938461</td>\n",
       "    </tr>\n",
       "    <tr>\n",
       "      <th>2024-01-29</th>\n",
       "      <td>160.7</td>\n",
       "      <td>-0.808288</td>\n",
       "      <td>0.588787</td>\n",
       "      <td>0.455618</td>\n",
       "      <td>0.890175</td>\n",
       "    </tr>\n",
       "    <tr>\n",
       "      <th>2024-02-05</th>\n",
       "      <td>135.7</td>\n",
       "      <td>0.482622</td>\n",
       "      <td>0.875829</td>\n",
       "      <td>0.559252</td>\n",
       "      <td>0.828997</td>\n",
       "    </tr>\n",
       "    <tr>\n",
       "      <th>2024-02-12</th>\n",
       "      <td>121.8</td>\n",
       "      <td>0.929503</td>\n",
       "      <td>-0.368815</td>\n",
       "      <td>0.654787</td>\n",
       "      <td>0.755814</td>\n",
       "    </tr>\n",
       "  </tbody>\n",
       "</table>\n",
       "<p>268 rows × 5 columns</p>\n",
       "</div>"
      ],
      "text/plain": [
       "              KMS  Month sin  Month cos  Year sin  Year cos\n",
       "Fecha                                                      \n",
       "2018-12-31   17.3  -0.532407   0.846489 -0.021501  0.999769\n",
       "2019-01-07   86.4   0.772929   0.634493  0.098753  0.995112\n",
       "2019-01-14  107.3   0.726534  -0.687131  0.217577  0.976043\n",
       "2019-01-21  163.1  -0.590454  -0.807071  0.333249  0.942839\n",
       "2019-01-28  153.5  -0.874831   0.484428  0.444096  0.895979\n",
       "...           ...        ...        ...       ...       ...\n",
       "2024-01-15  202.2   0.636087  -0.771617  0.230151  0.973155\n",
       "2024-01-22  200.9  -0.685630  -0.727950  0.345386  0.938461\n",
       "2024-01-29  160.7  -0.808288   0.588787  0.455618  0.890175\n",
       "2024-02-05  135.7   0.482622   0.875829  0.559252  0.828997\n",
       "2024-02-12  121.8   0.929503  -0.368815  0.654787  0.755814\n",
       "\n",
       "[268 rows x 5 columns]"
      ]
     },
     "execution_count": 31,
     "metadata": {},
     "output_type": "execute_result"
    }
   ],
   "source": [
    "PRES_alt_df"
   ]
  },
  {
   "cell_type": "markdown",
   "metadata": {},
   "source": [
    "<h2 style=\"color: #e67e22; text-align: left;\">Entrenamiento Validacion y Prueba</h2> "
   ]
  },
  {
   "cell_type": "code",
   "execution_count": 32,
   "metadata": {},
   "outputs": [
    {
     "data": {
      "text/plain": [
       "5"
      ]
     },
     "execution_count": 32,
     "metadata": {},
     "output_type": "execute_result"
    }
   ],
   "source": [
    "column_indices = {name: i for i, name in enumerate(PRES_alt_df.columns)}\n",
    "\n",
    "n = len(PRES_alt_df)\n",
    "train_dfPRES = PRES_alt_df[0:int(n*0.7)]\n",
    "val_dfPRES = PRES_alt_df[int(n*0.7):int(n*0.9)]\n",
    "test_dfPRES = PRES_alt_df[int(n*0.9):]\n",
    "\n",
    "num_features = PRES_alt_df.shape[1]\n",
    "num_features"
   ]
  },
  {
   "cell_type": "code",
   "execution_count": 33,
   "metadata": {},
   "outputs": [
    {
     "data": {
      "text/html": [
       "<div>\n",
       "<style scoped>\n",
       "    .dataframe tbody tr th:only-of-type {\n",
       "        vertical-align: middle;\n",
       "    }\n",
       "\n",
       "    .dataframe tbody tr th {\n",
       "        vertical-align: top;\n",
       "    }\n",
       "\n",
       "    .dataframe thead th {\n",
       "        text-align: right;\n",
       "    }\n",
       "</style>\n",
       "<table border=\"1\" class=\"dataframe\">\n",
       "  <thead>\n",
       "    <tr style=\"text-align: right;\">\n",
       "      <th></th>\n",
       "      <th>KMS</th>\n",
       "      <th>Month sin</th>\n",
       "      <th>Month cos</th>\n",
       "      <th>Year sin</th>\n",
       "      <th>Year cos</th>\n",
       "    </tr>\n",
       "    <tr>\n",
       "      <th>Fecha</th>\n",
       "      <th></th>\n",
       "      <th></th>\n",
       "      <th></th>\n",
       "      <th></th>\n",
       "      <th></th>\n",
       "    </tr>\n",
       "  </thead>\n",
       "  <tbody>\n",
       "    <tr>\n",
       "      <th>2018-12-31</th>\n",
       "      <td>17.300</td>\n",
       "      <td>-0.532407</td>\n",
       "      <td>0.846489</td>\n",
       "      <td>-0.021501</td>\n",
       "      <td>0.999769</td>\n",
       "    </tr>\n",
       "    <tr>\n",
       "      <th>2019-01-07</th>\n",
       "      <td>86.400</td>\n",
       "      <td>0.772929</td>\n",
       "      <td>0.634493</td>\n",
       "      <td>0.098753</td>\n",
       "      <td>0.995112</td>\n",
       "    </tr>\n",
       "    <tr>\n",
       "      <th>2019-01-14</th>\n",
       "      <td>107.300</td>\n",
       "      <td>0.726534</td>\n",
       "      <td>-0.687131</td>\n",
       "      <td>0.217577</td>\n",
       "      <td>0.976043</td>\n",
       "    </tr>\n",
       "    <tr>\n",
       "      <th>2019-01-21</th>\n",
       "      <td>163.100</td>\n",
       "      <td>-0.590454</td>\n",
       "      <td>-0.807071</td>\n",
       "      <td>0.333249</td>\n",
       "      <td>0.942839</td>\n",
       "    </tr>\n",
       "    <tr>\n",
       "      <th>2019-01-28</th>\n",
       "      <td>153.500</td>\n",
       "      <td>-0.874831</td>\n",
       "      <td>0.484428</td>\n",
       "      <td>0.444096</td>\n",
       "      <td>0.895979</td>\n",
       "    </tr>\n",
       "    <tr>\n",
       "      <th>...</th>\n",
       "      <td>...</td>\n",
       "      <td>...</td>\n",
       "      <td>...</td>\n",
       "      <td>...</td>\n",
       "      <td>...</td>\n",
       "    </tr>\n",
       "    <tr>\n",
       "      <th>2022-06-27</th>\n",
       "      <td>70.400</td>\n",
       "      <td>-0.996421</td>\n",
       "      <td>0.084528</td>\n",
       "      <td>0.096613</td>\n",
       "      <td>-0.995322</td>\n",
       "    </tr>\n",
       "    <tr>\n",
       "      <th>2022-07-04</th>\n",
       "      <td>0.001</td>\n",
       "      <td>-0.041271</td>\n",
       "      <td>0.999148</td>\n",
       "      <td>-0.023651</td>\n",
       "      <td>-0.999720</td>\n",
       "    </tr>\n",
       "    <tr>\n",
       "      <th>2022-07-11</th>\n",
       "      <td>62.400</td>\n",
       "      <td>0.986056</td>\n",
       "      <td>0.166416</td>\n",
       "      <td>-0.143572</td>\n",
       "      <td>-0.989640</td>\n",
       "    </tr>\n",
       "    <tr>\n",
       "      <th>2022-07-18</th>\n",
       "      <td>77.800</td>\n",
       "      <td>0.288926</td>\n",
       "      <td>-0.957351</td>\n",
       "      <td>-0.261414</td>\n",
       "      <td>-0.965227</td>\n",
       "    </tr>\n",
       "    <tr>\n",
       "      <th>2022-07-25</th>\n",
       "      <td>169.300</td>\n",
       "      <td>-0.913489</td>\n",
       "      <td>-0.406862</td>\n",
       "      <td>-0.375470</td>\n",
       "      <td>-0.926834</td>\n",
       "    </tr>\n",
       "  </tbody>\n",
       "</table>\n",
       "<p>187 rows × 5 columns</p>\n",
       "</div>"
      ],
      "text/plain": [
       "                KMS  Month sin  Month cos  Year sin  Year cos\n",
       "Fecha                                                        \n",
       "2018-12-31   17.300  -0.532407   0.846489 -0.021501  0.999769\n",
       "2019-01-07   86.400   0.772929   0.634493  0.098753  0.995112\n",
       "2019-01-14  107.300   0.726534  -0.687131  0.217577  0.976043\n",
       "2019-01-21  163.100  -0.590454  -0.807071  0.333249  0.942839\n",
       "2019-01-28  153.500  -0.874831   0.484428  0.444096  0.895979\n",
       "...             ...        ...        ...       ...       ...\n",
       "2022-06-27   70.400  -0.996421   0.084528  0.096613 -0.995322\n",
       "2022-07-04    0.001  -0.041271   0.999148 -0.023651 -0.999720\n",
       "2022-07-11   62.400   0.986056   0.166416 -0.143572 -0.989640\n",
       "2022-07-18   77.800   0.288926  -0.957351 -0.261414 -0.965227\n",
       "2022-07-25  169.300  -0.913489  -0.406862 -0.375470 -0.926834\n",
       "\n",
       "[187 rows x 5 columns]"
      ]
     },
     "execution_count": 33,
     "metadata": {},
     "output_type": "execute_result"
    }
   ],
   "source": [
    "train_dfPRES"
   ]
  },
  {
   "cell_type": "code",
   "execution_count": 34,
   "metadata": {},
   "outputs": [
    {
     "data": {
      "text/html": [
       "<div>\n",
       "<style scoped>\n",
       "    .dataframe tbody tr th:only-of-type {\n",
       "        vertical-align: middle;\n",
       "    }\n",
       "\n",
       "    .dataframe tbody tr th {\n",
       "        vertical-align: top;\n",
       "    }\n",
       "\n",
       "    .dataframe thead th {\n",
       "        text-align: right;\n",
       "    }\n",
       "</style>\n",
       "<table border=\"1\" class=\"dataframe\">\n",
       "  <thead>\n",
       "    <tr style=\"text-align: right;\">\n",
       "      <th></th>\n",
       "      <th>KMS</th>\n",
       "      <th>Month sin</th>\n",
       "      <th>Month cos</th>\n",
       "      <th>Year sin</th>\n",
       "      <th>Year cos</th>\n",
       "    </tr>\n",
       "    <tr>\n",
       "      <th>Fecha</th>\n",
       "      <th></th>\n",
       "      <th></th>\n",
       "      <th></th>\n",
       "      <th></th>\n",
       "      <th></th>\n",
       "    </tr>\n",
       "  </thead>\n",
       "  <tbody>\n",
       "    <tr>\n",
       "      <th>2022-08-01</th>\n",
       "      <td>119.8</td>\n",
       "      <td>-0.518357</td>\n",
       "      <td>0.855165</td>\n",
       "      <td>-0.484089</td>\n",
       "      <td>-0.875019</td>\n",
       "    </tr>\n",
       "    <tr>\n",
       "      <th>2022-08-08</th>\n",
       "      <td>171.5</td>\n",
       "      <td>0.783300</td>\n",
       "      <td>0.621644</td>\n",
       "      <td>-0.585696</td>\n",
       "      <td>-0.810531</td>\n",
       "    </tr>\n",
       "    <tr>\n",
       "      <th>2022-08-15</th>\n",
       "      <td>154.7</td>\n",
       "      <td>0.715089</td>\n",
       "      <td>-0.699034</td>\n",
       "      <td>-0.678820</td>\n",
       "      <td>-0.734304</td>\n",
       "    </tr>\n",
       "    <tr>\n",
       "      <th>2022-08-22</th>\n",
       "      <td>27.8</td>\n",
       "      <td>-0.603700</td>\n",
       "      <td>-0.797212</td>\n",
       "      <td>-0.762114</td>\n",
       "      <td>-0.647443</td>\n",
       "    </tr>\n",
       "    <tr>\n",
       "      <th>2022-08-29</th>\n",
       "      <td>99.2</td>\n",
       "      <td>-0.866713</td>\n",
       "      <td>0.498808</td>\n",
       "      <td>-0.834370</td>\n",
       "      <td>-0.551205</td>\n",
       "    </tr>\n",
       "    <tr>\n",
       "      <th>2022-09-05</th>\n",
       "      <td>60.3</td>\n",
       "      <td>0.386018</td>\n",
       "      <td>0.922491</td>\n",
       "      <td>-0.894542</td>\n",
       "      <td>-0.446983</td>\n",
       "    </tr>\n",
       "    <tr>\n",
       "      <th>2022-09-12</th>\n",
       "      <td>68.3</td>\n",
       "      <td>0.963664</td>\n",
       "      <td>-0.267117</td>\n",
       "      <td>-0.941759</td>\n",
       "      <td>-0.336289</td>\n",
       "    </tr>\n",
       "    <tr>\n",
       "      <th>2022-09-19</th>\n",
       "      <td>83.5</td>\n",
       "      <td>-0.143986</td>\n",
       "      <td>-0.989580</td>\n",
       "      <td>-0.975336</td>\n",
       "      <td>-0.220724</td>\n",
       "    </tr>\n",
       "    <tr>\n",
       "      <th>2022-09-26</th>\n",
       "      <td>60.5</td>\n",
       "      <td>-0.999827</td>\n",
       "      <td>0.018576</td>\n",
       "      <td>-0.994788</td>\n",
       "      <td>-0.101962</td>\n",
       "    </tr>\n",
       "    <tr>\n",
       "      <th>2022-10-03</th>\n",
       "      <td>154.3</td>\n",
       "      <td>-0.107128</td>\n",
       "      <td>0.994245</td>\n",
       "      <td>-0.999833</td>\n",
       "      <td>0.018277</td>\n",
       "    </tr>\n",
       "    <tr>\n",
       "      <th>2022-10-10</th>\n",
       "      <td>153.0</td>\n",
       "      <td>0.972921</td>\n",
       "      <td>0.231137</td>\n",
       "      <td>-0.990397</td>\n",
       "      <td>0.138250</td>\n",
       "    </tr>\n",
       "    <tr>\n",
       "      <th>2022-10-17</th>\n",
       "      <td>126.3</td>\n",
       "      <td>0.351485</td>\n",
       "      <td>-0.936193</td>\n",
       "      <td>-0.966618</td>\n",
       "      <td>0.256222</td>\n",
       "    </tr>\n",
       "    <tr>\n",
       "      <th>2022-10-24</th>\n",
       "      <td>98.1</td>\n",
       "      <td>-0.884643</td>\n",
       "      <td>-0.466269</td>\n",
       "      <td>-0.928839</td>\n",
       "      <td>0.370483</td>\n",
       "    </tr>\n",
       "    <tr>\n",
       "      <th>2022-10-31</th>\n",
       "      <td>54.2</td>\n",
       "      <td>-0.573670</td>\n",
       "      <td>0.819086</td>\n",
       "      <td>-0.877609</td>\n",
       "      <td>0.479378</td>\n",
       "    </tr>\n",
       "    <tr>\n",
       "      <th>2022-11-07</th>\n",
       "      <td>175.3</td>\n",
       "      <td>0.740561</td>\n",
       "      <td>0.671989</td>\n",
       "      <td>-0.813668</td>\n",
       "      <td>0.581330</td>\n",
       "    </tr>\n",
       "    <tr>\n",
       "      <th>2022-11-14</th>\n",
       "      <td>178.9</td>\n",
       "      <td>0.759668</td>\n",
       "      <td>-0.650311</td>\n",
       "      <td>-0.737943</td>\n",
       "      <td>0.674863</td>\n",
       "    </tr>\n",
       "    <tr>\n",
       "      <th>2022-11-21</th>\n",
       "      <td>176.6</td>\n",
       "      <td>-0.549764</td>\n",
       "      <td>-0.835320</td>\n",
       "      <td>-0.651530</td>\n",
       "      <td>0.758623</td>\n",
       "    </tr>\n",
       "    <tr>\n",
       "      <th>2022-11-28</th>\n",
       "      <td>136.1</td>\n",
       "      <td>-0.897746</td>\n",
       "      <td>0.440514</td>\n",
       "      <td>-0.555682</td>\n",
       "      <td>0.831395</td>\n",
       "    </tr>\n",
       "    <tr>\n",
       "      <th>2022-12-05</th>\n",
       "      <td>175.4</td>\n",
       "      <td>0.324288</td>\n",
       "      <td>0.945958</td>\n",
       "      <td>-0.451786</td>\n",
       "      <td>0.892126</td>\n",
       "    </tr>\n",
       "    <tr>\n",
       "      <th>2022-12-12</th>\n",
       "      <td>208.0</td>\n",
       "      <td>0.979193</td>\n",
       "      <td>-0.202929</td>\n",
       "      <td>-0.341347</td>\n",
       "      <td>0.939938</td>\n",
       "    </tr>\n",
       "    <tr>\n",
       "      <th>2022-12-19</th>\n",
       "      <td>200.0</td>\n",
       "      <td>-0.078356</td>\n",
       "      <td>-0.996925</td>\n",
       "      <td>-0.225964</td>\n",
       "      <td>0.974136</td>\n",
       "    </tr>\n",
       "    <tr>\n",
       "      <th>2022-12-26</th>\n",
       "      <td>114.0</td>\n",
       "      <td>-0.998873</td>\n",
       "      <td>-0.047457</td>\n",
       "      <td>-0.107308</td>\n",
       "      <td>0.994226</td>\n",
       "    </tr>\n",
       "    <tr>\n",
       "      <th>2023-01-02</th>\n",
       "      <td>200.0</td>\n",
       "      <td>-0.172519</td>\n",
       "      <td>0.985006</td>\n",
       "      <td>0.012901</td>\n",
       "      <td>0.999917</td>\n",
       "    </tr>\n",
       "    <tr>\n",
       "      <th>2023-01-09</th>\n",
       "      <td>198.4</td>\n",
       "      <td>0.955544</td>\n",
       "      <td>0.294849</td>\n",
       "      <td>0.132924</td>\n",
       "      <td>0.991126</td>\n",
       "    </tr>\n",
       "    <tr>\n",
       "      <th>2023-01-16</th>\n",
       "      <td>181.1</td>\n",
       "      <td>0.412511</td>\n",
       "      <td>-0.910953</td>\n",
       "      <td>0.251022</td>\n",
       "      <td>0.967981</td>\n",
       "    </tr>\n",
       "    <tr>\n",
       "      <th>2023-01-23</th>\n",
       "      <td>203.5</td>\n",
       "      <td>-0.851938</td>\n",
       "      <td>-0.523642</td>\n",
       "      <td>0.365484</td>\n",
       "      <td>0.930818</td>\n",
       "    </tr>\n",
       "    <tr>\n",
       "      <th>2023-01-30</th>\n",
       "      <td>152.2</td>\n",
       "      <td>-0.626482</td>\n",
       "      <td>0.779436</td>\n",
       "      <td>0.474653</td>\n",
       "      <td>0.880173</td>\n",
       "    </tr>\n",
       "    <tr>\n",
       "      <th>2023-02-06</th>\n",
       "      <td>147.2</td>\n",
       "      <td>0.694592</td>\n",
       "      <td>0.719404</td>\n",
       "      <td>0.576948</td>\n",
       "      <td>0.816781</td>\n",
       "    </tr>\n",
       "    <tr>\n",
       "      <th>2023-02-13</th>\n",
       "      <td>73.4</td>\n",
       "      <td>0.800935</td>\n",
       "      <td>-0.598752</td>\n",
       "      <td>0.670887</td>\n",
       "      <td>0.741560</td>\n",
       "    </tr>\n",
       "    <tr>\n",
       "      <th>2023-02-20</th>\n",
       "      <td>52.9</td>\n",
       "      <td>-0.493431</td>\n",
       "      <td>-0.869785</td>\n",
       "      <td>0.755109</td>\n",
       "      <td>0.655599</td>\n",
       "    </tr>\n",
       "    <tr>\n",
       "      <th>2023-02-27</th>\n",
       "      <td>75.5</td>\n",
       "      <td>-0.924864</td>\n",
       "      <td>0.380298</td>\n",
       "      <td>0.828396</td>\n",
       "      <td>0.560143</td>\n",
       "    </tr>\n",
       "    <tr>\n",
       "      <th>2023-03-06</th>\n",
       "      <td>133.5</td>\n",
       "      <td>0.261144</td>\n",
       "      <td>0.965300</td>\n",
       "      <td>0.889685</td>\n",
       "      <td>0.456575</td>\n",
       "    </tr>\n",
       "    <tr>\n",
       "      <th>2023-03-13</th>\n",
       "      <td>179.1</td>\n",
       "      <td>0.990452</td>\n",
       "      <td>-0.137856</td>\n",
       "      <td>0.938089</td>\n",
       "      <td>0.346394</td>\n",
       "    </tr>\n",
       "    <tr>\n",
       "      <th>2023-03-20</th>\n",
       "      <td>106.3</td>\n",
       "      <td>-0.012384</td>\n",
       "      <td>-0.999923</td>\n",
       "      <td>0.972907</td>\n",
       "      <td>0.231197</td>\n",
       "    </tr>\n",
       "    <tr>\n",
       "      <th>2023-03-27</th>\n",
       "      <td>211.0</td>\n",
       "      <td>-0.993563</td>\n",
       "      <td>-0.113283</td>\n",
       "      <td>0.993635</td>\n",
       "      <td>0.112651</td>\n",
       "    </tr>\n",
       "    <tr>\n",
       "      <th>2023-04-03</th>\n",
       "      <td>71.5</td>\n",
       "      <td>-0.237157</td>\n",
       "      <td>0.971471</td>\n",
       "      <td>0.999972</td>\n",
       "      <td>-0.007526</td>\n",
       "    </tr>\n",
       "    <tr>\n",
       "      <th>2023-04-10</th>\n",
       "      <td>98.0</td>\n",
       "      <td>0.933999</td>\n",
       "      <td>0.357276</td>\n",
       "      <td>0.991826</td>\n",
       "      <td>-0.127594</td>\n",
       "    </tr>\n",
       "    <tr>\n",
       "      <th>2023-04-17</th>\n",
       "      <td>174.3</td>\n",
       "      <td>0.471738</td>\n",
       "      <td>-0.881739</td>\n",
       "      <td>0.969317</td>\n",
       "      <td>-0.245815</td>\n",
       "    </tr>\n",
       "    <tr>\n",
       "      <th>2023-04-24</th>\n",
       "      <td>182.0</td>\n",
       "      <td>-0.815518</td>\n",
       "      <td>-0.578731</td>\n",
       "      <td>0.932769</td>\n",
       "      <td>-0.360475</td>\n",
       "    </tr>\n",
       "    <tr>\n",
       "      <th>2023-05-01</th>\n",
       "      <td>178.5</td>\n",
       "      <td>-0.676562</td>\n",
       "      <td>0.736386</td>\n",
       "      <td>0.882712</td>\n",
       "      <td>-0.469915</td>\n",
       "    </tr>\n",
       "    <tr>\n",
       "      <th>2023-05-08</th>\n",
       "      <td>164.4</td>\n",
       "      <td>0.645594</td>\n",
       "      <td>0.763681</td>\n",
       "      <td>0.819871</td>\n",
       "      <td>-0.572548</td>\n",
       "    </tr>\n",
       "    <tr>\n",
       "      <th>2023-05-15</th>\n",
       "      <td>91.2</td>\n",
       "      <td>0.838708</td>\n",
       "      <td>-0.544581</td>\n",
       "      <td>0.745156</td>\n",
       "      <td>-0.666890</td>\n",
       "    </tr>\n",
       "    <tr>\n",
       "      <th>2023-05-22</th>\n",
       "      <td>129.9</td>\n",
       "      <td>-0.434946</td>\n",
       "      <td>-0.900456</td>\n",
       "      <td>0.659649</td>\n",
       "      <td>-0.751574</td>\n",
       "    </tr>\n",
       "    <tr>\n",
       "      <th>2023-05-29</th>\n",
       "      <td>180.5</td>\n",
       "      <td>-0.947948</td>\n",
       "      <td>0.318425</td>\n",
       "      <td>0.564588</td>\n",
       "      <td>-0.825373</td>\n",
       "    </tr>\n",
       "    <tr>\n",
       "      <th>2023-06-05</th>\n",
       "      <td>172.4</td>\n",
       "      <td>0.196861</td>\n",
       "      <td>0.980431</td>\n",
       "      <td>0.461351</td>\n",
       "      <td>-0.887218</td>\n",
       "    </tr>\n",
       "    <tr>\n",
       "      <th>2023-06-12</th>\n",
       "      <td>168.4</td>\n",
       "      <td>0.997392</td>\n",
       "      <td>-0.072181</td>\n",
       "      <td>0.351432</td>\n",
       "      <td>-0.936213</td>\n",
       "    </tr>\n",
       "    <tr>\n",
       "      <th>2023-06-19</th>\n",
       "      <td>133.9</td>\n",
       "      <td>0.053641</td>\n",
       "      <td>-0.998560</td>\n",
       "      <td>0.236424</td>\n",
       "      <td>-0.971650</td>\n",
       "    </tr>\n",
       "    <tr>\n",
       "      <th>2023-06-26</th>\n",
       "      <td>154.8</td>\n",
       "      <td>-0.983919</td>\n",
       "      <td>-0.178615</td>\n",
       "      <td>0.117991</td>\n",
       "      <td>-0.993015</td>\n",
       "    </tr>\n",
       "    <tr>\n",
       "      <th>2023-07-03</th>\n",
       "      <td>72.2</td>\n",
       "      <td>-0.300760</td>\n",
       "      <td>0.953700</td>\n",
       "      <td>-0.002150</td>\n",
       "      <td>-0.999998</td>\n",
       "    </tr>\n",
       "    <tr>\n",
       "      <th>2023-07-10</th>\n",
       "      <td>171.0</td>\n",
       "      <td>0.908381</td>\n",
       "      <td>0.418144</td>\n",
       "      <td>-0.122261</td>\n",
       "      <td>-0.992498</td>\n",
       "    </tr>\n",
       "    <tr>\n",
       "      <th>2023-07-17</th>\n",
       "      <td>54.9</td>\n",
       "      <td>0.528908</td>\n",
       "      <td>-0.848679</td>\n",
       "      <td>-0.240600</td>\n",
       "      <td>-0.970624</td>\n",
       "    </tr>\n",
       "    <tr>\n",
       "      <th>2023-07-24</th>\n",
       "      <td>107.9</td>\n",
       "      <td>-0.775541</td>\n",
       "      <td>-0.631297</td>\n",
       "      <td>-0.355455</td>\n",
       "      <td>-0.934693</td>\n",
       "    </tr>\n",
       "    <tr>\n",
       "      <th>2023-07-31</th>\n",
       "      <td>13.3</td>\n",
       "      <td>-0.723691</td>\n",
       "      <td>0.690124</td>\n",
       "      <td>-0.465162</td>\n",
       "      <td>-0.885225</td>\n",
       "    </tr>\n",
       "    <tr>\n",
       "      <th>2023-08-07</th>\n",
       "      <td>200.7</td>\n",
       "      <td>0.593781</td>\n",
       "      <td>0.804627</td>\n",
       "      <td>-0.568133</td>\n",
       "      <td>-0.822937</td>\n",
       "    </tr>\n",
       "  </tbody>\n",
       "</table>\n",
       "</div>"
      ],
      "text/plain": [
       "              KMS  Month sin  Month cos  Year sin  Year cos\n",
       "Fecha                                                      \n",
       "2022-08-01  119.8  -0.518357   0.855165 -0.484089 -0.875019\n",
       "2022-08-08  171.5   0.783300   0.621644 -0.585696 -0.810531\n",
       "2022-08-15  154.7   0.715089  -0.699034 -0.678820 -0.734304\n",
       "2022-08-22   27.8  -0.603700  -0.797212 -0.762114 -0.647443\n",
       "2022-08-29   99.2  -0.866713   0.498808 -0.834370 -0.551205\n",
       "2022-09-05   60.3   0.386018   0.922491 -0.894542 -0.446983\n",
       "2022-09-12   68.3   0.963664  -0.267117 -0.941759 -0.336289\n",
       "2022-09-19   83.5  -0.143986  -0.989580 -0.975336 -0.220724\n",
       "2022-09-26   60.5  -0.999827   0.018576 -0.994788 -0.101962\n",
       "2022-10-03  154.3  -0.107128   0.994245 -0.999833  0.018277\n",
       "2022-10-10  153.0   0.972921   0.231137 -0.990397  0.138250\n",
       "2022-10-17  126.3   0.351485  -0.936193 -0.966618  0.256222\n",
       "2022-10-24   98.1  -0.884643  -0.466269 -0.928839  0.370483\n",
       "2022-10-31   54.2  -0.573670   0.819086 -0.877609  0.479378\n",
       "2022-11-07  175.3   0.740561   0.671989 -0.813668  0.581330\n",
       "2022-11-14  178.9   0.759668  -0.650311 -0.737943  0.674863\n",
       "2022-11-21  176.6  -0.549764  -0.835320 -0.651530  0.758623\n",
       "2022-11-28  136.1  -0.897746   0.440514 -0.555682  0.831395\n",
       "2022-12-05  175.4   0.324288   0.945958 -0.451786  0.892126\n",
       "2022-12-12  208.0   0.979193  -0.202929 -0.341347  0.939938\n",
       "2022-12-19  200.0  -0.078356  -0.996925 -0.225964  0.974136\n",
       "2022-12-26  114.0  -0.998873  -0.047457 -0.107308  0.994226\n",
       "2023-01-02  200.0  -0.172519   0.985006  0.012901  0.999917\n",
       "2023-01-09  198.4   0.955544   0.294849  0.132924  0.991126\n",
       "2023-01-16  181.1   0.412511  -0.910953  0.251022  0.967981\n",
       "2023-01-23  203.5  -0.851938  -0.523642  0.365484  0.930818\n",
       "2023-01-30  152.2  -0.626482   0.779436  0.474653  0.880173\n",
       "2023-02-06  147.2   0.694592   0.719404  0.576948  0.816781\n",
       "2023-02-13   73.4   0.800935  -0.598752  0.670887  0.741560\n",
       "2023-02-20   52.9  -0.493431  -0.869785  0.755109  0.655599\n",
       "2023-02-27   75.5  -0.924864   0.380298  0.828396  0.560143\n",
       "2023-03-06  133.5   0.261144   0.965300  0.889685  0.456575\n",
       "2023-03-13  179.1   0.990452  -0.137856  0.938089  0.346394\n",
       "2023-03-20  106.3  -0.012384  -0.999923  0.972907  0.231197\n",
       "2023-03-27  211.0  -0.993563  -0.113283  0.993635  0.112651\n",
       "2023-04-03   71.5  -0.237157   0.971471  0.999972 -0.007526\n",
       "2023-04-10   98.0   0.933999   0.357276  0.991826 -0.127594\n",
       "2023-04-17  174.3   0.471738  -0.881739  0.969317 -0.245815\n",
       "2023-04-24  182.0  -0.815518  -0.578731  0.932769 -0.360475\n",
       "2023-05-01  178.5  -0.676562   0.736386  0.882712 -0.469915\n",
       "2023-05-08  164.4   0.645594   0.763681  0.819871 -0.572548\n",
       "2023-05-15   91.2   0.838708  -0.544581  0.745156 -0.666890\n",
       "2023-05-22  129.9  -0.434946  -0.900456  0.659649 -0.751574\n",
       "2023-05-29  180.5  -0.947948   0.318425  0.564588 -0.825373\n",
       "2023-06-05  172.4   0.196861   0.980431  0.461351 -0.887218\n",
       "2023-06-12  168.4   0.997392  -0.072181  0.351432 -0.936213\n",
       "2023-06-19  133.9   0.053641  -0.998560  0.236424 -0.971650\n",
       "2023-06-26  154.8  -0.983919  -0.178615  0.117991 -0.993015\n",
       "2023-07-03   72.2  -0.300760   0.953700 -0.002150 -0.999998\n",
       "2023-07-10  171.0   0.908381   0.418144 -0.122261 -0.992498\n",
       "2023-07-17   54.9   0.528908  -0.848679 -0.240600 -0.970624\n",
       "2023-07-24  107.9  -0.775541  -0.631297 -0.355455 -0.934693\n",
       "2023-07-31   13.3  -0.723691   0.690124 -0.465162 -0.885225\n",
       "2023-08-07  200.7   0.593781   0.804627 -0.568133 -0.822937"
      ]
     },
     "execution_count": 34,
     "metadata": {},
     "output_type": "execute_result"
    }
   ],
   "source": [
    "val_dfPRES"
   ]
  },
  {
   "cell_type": "code",
   "execution_count": 35,
   "metadata": {},
   "outputs": [
    {
     "data": {
      "text/html": [
       "<div>\n",
       "<style scoped>\n",
       "    .dataframe tbody tr th:only-of-type {\n",
       "        vertical-align: middle;\n",
       "    }\n",
       "\n",
       "    .dataframe tbody tr th {\n",
       "        vertical-align: top;\n",
       "    }\n",
       "\n",
       "    .dataframe thead th {\n",
       "        text-align: right;\n",
       "    }\n",
       "</style>\n",
       "<table border=\"1\" class=\"dataframe\">\n",
       "  <thead>\n",
       "    <tr style=\"text-align: right;\">\n",
       "      <th></th>\n",
       "      <th>KMS</th>\n",
       "      <th>Month sin</th>\n",
       "      <th>Month cos</th>\n",
       "      <th>Year sin</th>\n",
       "      <th>Year cos</th>\n",
       "    </tr>\n",
       "    <tr>\n",
       "      <th>Fecha</th>\n",
       "      <th></th>\n",
       "      <th></th>\n",
       "      <th></th>\n",
       "      <th></th>\n",
       "      <th></th>\n",
       "    </tr>\n",
       "  </thead>\n",
       "  <tbody>\n",
       "    <tr>\n",
       "      <th>2023-08-14</th>\n",
       "      <td>122.6</td>\n",
       "      <td>0.872824</td>\n",
       "      <td>-0.488036</td>\n",
       "      <td>-0.662875</td>\n",
       "      <td>-0.748730</td>\n",
       "    </tr>\n",
       "    <tr>\n",
       "      <th>2023-08-21</th>\n",
       "      <td>190.9</td>\n",
       "      <td>-0.374564</td>\n",
       "      <td>-0.927201</td>\n",
       "      <td>-0.748017</td>\n",
       "      <td>-0.663680</td>\n",
       "    </tr>\n",
       "    <tr>\n",
       "      <th>2023-08-28</th>\n",
       "      <td>186.3</td>\n",
       "      <td>-0.966898</td>\n",
       "      <td>0.255162</td>\n",
       "      <td>-0.822326</td>\n",
       "      <td>-0.569017</td>\n",
       "    </tr>\n",
       "    <tr>\n",
       "      <th>2023-09-04</th>\n",
       "      <td>185.9</td>\n",
       "      <td>0.131720</td>\n",
       "      <td>0.991287</td>\n",
       "      <td>-0.884725</td>\n",
       "      <td>-0.466114</td>\n",
       "    </tr>\n",
       "    <tr>\n",
       "      <th>2023-09-11</th>\n",
       "      <td>106.9</td>\n",
       "      <td>0.999981</td>\n",
       "      <td>-0.006192</td>\n",
       "      <td>-0.934311</td>\n",
       "      <td>-0.356460</td>\n",
       "    </tr>\n",
       "    <tr>\n",
       "      <th>2023-09-18</th>\n",
       "      <td>157.4</td>\n",
       "      <td>0.119433</td>\n",
       "      <td>-0.992842</td>\n",
       "      <td>-0.970365</td>\n",
       "      <td>-0.241644</td>\n",
       "    </tr>\n",
       "    <tr>\n",
       "      <th>2023-09-25</th>\n",
       "      <td>35.2</td>\n",
       "      <td>-0.969984</td>\n",
       "      <td>-0.243168</td>\n",
       "      <td>-0.992366</td>\n",
       "      <td>-0.123328</td>\n",
       "    </tr>\n",
       "    <tr>\n",
       "      <th>2023-10-02</th>\n",
       "      <td>140.6</td>\n",
       "      <td>-0.363052</td>\n",
       "      <td>0.931769</td>\n",
       "      <td>-0.999995</td>\n",
       "      <td>-0.003225</td>\n",
       "    </tr>\n",
       "    <tr>\n",
       "      <th>2023-10-09</th>\n",
       "      <td>173.4</td>\n",
       "      <td>0.878801</td>\n",
       "      <td>0.477189</td>\n",
       "      <td>-0.993141</td>\n",
       "      <td>0.116923</td>\n",
       "    </tr>\n",
       "    <tr>\n",
       "      <th>2023-10-16</th>\n",
       "      <td>115.6</td>\n",
       "      <td>0.583770</td>\n",
       "      <td>-0.811919</td>\n",
       "      <td>-0.971904</td>\n",
       "      <td>0.235379</td>\n",
       "    </tr>\n",
       "    <tr>\n",
       "      <th>2023-10-23</th>\n",
       "      <td>130.5</td>\n",
       "      <td>-0.732182</td>\n",
       "      <td>-0.681109</td>\n",
       "      <td>-0.936591</td>\n",
       "      <td>0.350426</td>\n",
       "    </tr>\n",
       "    <tr>\n",
       "      <th>2023-10-30</th>\n",
       "      <td>67.9</td>\n",
       "      <td>-0.767664</td>\n",
       "      <td>0.640853</td>\n",
       "      <td>-0.887713</td>\n",
       "      <td>0.460397</td>\n",
       "    </tr>\n",
       "    <tr>\n",
       "      <th>2023-11-06</th>\n",
       "      <td>146.9</td>\n",
       "      <td>0.539377</td>\n",
       "      <td>0.842064</td>\n",
       "      <td>-0.825979</td>\n",
       "      <td>0.563701</td>\n",
       "    </tr>\n",
       "    <tr>\n",
       "      <th>2023-11-13</th>\n",
       "      <td>123.5</td>\n",
       "      <td>0.903133</td>\n",
       "      <td>-0.429362</td>\n",
       "      <td>-0.752283</td>\n",
       "      <td>0.658840</td>\n",
       "    </tr>\n",
       "    <tr>\n",
       "      <th>2023-11-20</th>\n",
       "      <td>81.0</td>\n",
       "      <td>-0.312548</td>\n",
       "      <td>-0.949902</td>\n",
       "      <td>-0.667691</td>\n",
       "      <td>0.744438</td>\n",
       "    </tr>\n",
       "    <tr>\n",
       "      <th>2023-11-27</th>\n",
       "      <td>146.8</td>\n",
       "      <td>-0.981632</td>\n",
       "      <td>0.190786</td>\n",
       "      <td>-0.573430</td>\n",
       "      <td>0.819255</td>\n",
       "    </tr>\n",
       "    <tr>\n",
       "      <th>2023-12-04</th>\n",
       "      <td>143.6</td>\n",
       "      <td>0.066004</td>\n",
       "      <td>0.997819</td>\n",
       "      <td>-0.470863</td>\n",
       "      <td>0.882206</td>\n",
       "    </tr>\n",
       "    <tr>\n",
       "      <th>2023-12-11</th>\n",
       "      <td>188.8</td>\n",
       "      <td>0.998209</td>\n",
       "      <td>0.059824</td>\n",
       "      <td>-0.361478</td>\n",
       "      <td>0.932381</td>\n",
       "    </tr>\n",
       "    <tr>\n",
       "      <th>2023-12-18</th>\n",
       "      <td>202.1</td>\n",
       "      <td>0.184704</td>\n",
       "      <td>-0.982794</td>\n",
       "      <td>-0.246857</td>\n",
       "      <td>0.969052</td>\n",
       "    </tr>\n",
       "    <tr>\n",
       "      <th>2023-12-25</th>\n",
       "      <td>126.2</td>\n",
       "      <td>-0.951819</td>\n",
       "      <td>-0.306660</td>\n",
       "      <td>-0.128661</td>\n",
       "      <td>0.991689</td>\n",
       "    </tr>\n",
       "    <tr>\n",
       "      <th>2024-01-01</th>\n",
       "      <td>206.3</td>\n",
       "      <td>-0.423761</td>\n",
       "      <td>0.905774</td>\n",
       "      <td>-0.008601</td>\n",
       "      <td>0.999963</td>\n",
       "    </tr>\n",
       "    <tr>\n",
       "      <th>2024-01-08</th>\n",
       "      <td>211.0</td>\n",
       "      <td>0.845388</td>\n",
       "      <td>0.534153</td>\n",
       "      <td>0.111583</td>\n",
       "      <td>0.993755</td>\n",
       "    </tr>\n",
       "    <tr>\n",
       "      <th>2024-01-15</th>\n",
       "      <td>202.2</td>\n",
       "      <td>0.636087</td>\n",
       "      <td>-0.771617</td>\n",
       "      <td>0.230151</td>\n",
       "      <td>0.973155</td>\n",
       "    </tr>\n",
       "    <tr>\n",
       "      <th>2024-01-22</th>\n",
       "      <td>200.9</td>\n",
       "      <td>-0.685630</td>\n",
       "      <td>-0.727950</td>\n",
       "      <td>0.345386</td>\n",
       "      <td>0.938461</td>\n",
       "    </tr>\n",
       "    <tr>\n",
       "      <th>2024-01-29</th>\n",
       "      <td>160.7</td>\n",
       "      <td>-0.808288</td>\n",
       "      <td>0.588787</td>\n",
       "      <td>0.455618</td>\n",
       "      <td>0.890175</td>\n",
       "    </tr>\n",
       "    <tr>\n",
       "      <th>2024-02-05</th>\n",
       "      <td>135.7</td>\n",
       "      <td>0.482622</td>\n",
       "      <td>0.875829</td>\n",
       "      <td>0.559252</td>\n",
       "      <td>0.828997</td>\n",
       "    </tr>\n",
       "    <tr>\n",
       "      <th>2024-02-12</th>\n",
       "      <td>121.8</td>\n",
       "      <td>0.929503</td>\n",
       "      <td>-0.368815</td>\n",
       "      <td>0.654787</td>\n",
       "      <td>0.755814</td>\n",
       "    </tr>\n",
       "  </tbody>\n",
       "</table>\n",
       "</div>"
      ],
      "text/plain": [
       "              KMS  Month sin  Month cos  Year sin  Year cos\n",
       "Fecha                                                      \n",
       "2023-08-14  122.6   0.872824  -0.488036 -0.662875 -0.748730\n",
       "2023-08-21  190.9  -0.374564  -0.927201 -0.748017 -0.663680\n",
       "2023-08-28  186.3  -0.966898   0.255162 -0.822326 -0.569017\n",
       "2023-09-04  185.9   0.131720   0.991287 -0.884725 -0.466114\n",
       "2023-09-11  106.9   0.999981  -0.006192 -0.934311 -0.356460\n",
       "2023-09-18  157.4   0.119433  -0.992842 -0.970365 -0.241644\n",
       "2023-09-25   35.2  -0.969984  -0.243168 -0.992366 -0.123328\n",
       "2023-10-02  140.6  -0.363052   0.931769 -0.999995 -0.003225\n",
       "2023-10-09  173.4   0.878801   0.477189 -0.993141  0.116923\n",
       "2023-10-16  115.6   0.583770  -0.811919 -0.971904  0.235379\n",
       "2023-10-23  130.5  -0.732182  -0.681109 -0.936591  0.350426\n",
       "2023-10-30   67.9  -0.767664   0.640853 -0.887713  0.460397\n",
       "2023-11-06  146.9   0.539377   0.842064 -0.825979  0.563701\n",
       "2023-11-13  123.5   0.903133  -0.429362 -0.752283  0.658840\n",
       "2023-11-20   81.0  -0.312548  -0.949902 -0.667691  0.744438\n",
       "2023-11-27  146.8  -0.981632   0.190786 -0.573430  0.819255\n",
       "2023-12-04  143.6   0.066004   0.997819 -0.470863  0.882206\n",
       "2023-12-11  188.8   0.998209   0.059824 -0.361478  0.932381\n",
       "2023-12-18  202.1   0.184704  -0.982794 -0.246857  0.969052\n",
       "2023-12-25  126.2  -0.951819  -0.306660 -0.128661  0.991689\n",
       "2024-01-01  206.3  -0.423761   0.905774 -0.008601  0.999963\n",
       "2024-01-08  211.0   0.845388   0.534153  0.111583  0.993755\n",
       "2024-01-15  202.2   0.636087  -0.771617  0.230151  0.973155\n",
       "2024-01-22  200.9  -0.685630  -0.727950  0.345386  0.938461\n",
       "2024-01-29  160.7  -0.808288   0.588787  0.455618  0.890175\n",
       "2024-02-05  135.7   0.482622   0.875829  0.559252  0.828997\n",
       "2024-02-12  121.8   0.929503  -0.368815  0.654787  0.755814"
      ]
     },
     "execution_count": 35,
     "metadata": {},
     "output_type": "execute_result"
    }
   ],
   "source": [
    "test_dfPRES"
   ]
  },
  {
   "cell_type": "markdown",
   "metadata": {},
   "source": [
    "<h2 style=\"color: #e67e22; text-align: left;\">Normalización</h2> "
   ]
  },
  {
   "cell_type": "code",
   "execution_count": 36,
   "metadata": {},
   "outputs": [],
   "source": [
    "train_mean = train_dfPRES.mean()\n",
    "train_std = train_dfPRES.std()\n",
    "\n",
    "train_df = (train_dfPRES - train_mean) / train_std\n",
    "val_df = (val_dfPRES - train_mean) / train_std\n",
    "test_df = (test_dfPRES - train_mean) / train_std"
   ]
  },
  {
   "cell_type": "markdown",
   "metadata": {},
   "source": [
    "Note que se podría analizar que pasa cuando se tiene como variables predictoras solo a estas variables determinísticas, o como viene enseguida sólo con variables rezagadas. Finalmente, se pueden unir características de ambas y formar predictoras de las dos naturalezas."
   ]
  },
  {
   "cell_type": "markdown",
   "metadata": {},
   "source": [
    "<h2 style=\"color: #e67e22; text-align: left;\"> Creación de variables rezagadas</h2> "
   ]
  },
  {
   "cell_type": "markdown",
   "metadata": {},
   "source": [
    "Note que vamos a enfocarnos en la predicción 1 paso adelante."
   ]
  },
  {
   "cell_type": "code",
   "execution_count": 37,
   "metadata": {},
   "outputs": [
    {
     "name": "stdout",
     "output_type": "stream",
     "text": [
      "              KMS  Month sin  Month cos  Year sin  Year cos\n",
      "Fecha                                                      \n",
      "2018-12-31   17.3  -0.532407   0.846489 -0.021501  0.999769\n",
      "2019-01-07   86.4   0.772929   0.634493  0.098753  0.995112\n",
      "2019-01-14  107.3   0.726534  -0.687131  0.217577  0.976043\n",
      "2019-01-21  163.1  -0.590454  -0.807071  0.333249  0.942839\n",
      "2019-01-28  153.5  -0.874831   0.484428  0.444096  0.895979\n",
      "...           ...        ...        ...       ...       ...\n",
      "2024-01-15  202.2   0.636087  -0.771617  0.230151  0.973155\n",
      "2024-01-22  200.9  -0.685630  -0.727950  0.345386  0.938461\n",
      "2024-01-29  160.7  -0.808288   0.588787  0.455618  0.890175\n",
      "2024-02-05  135.7   0.482622   0.875829  0.559252  0.828997\n",
      "2024-02-12  121.8   0.929503  -0.368815  0.654787  0.755814\n",
      "\n",
      "[268 rows x 5 columns]\n"
     ]
    }
   ],
   "source": [
    "from pandas import DataFrame\n",
    "# reframe as supervised learning\n",
    "# lag observation (t-1) is the input variable and t is the output variable.\n",
    "df1 = PRES_alt_df.copy()\n",
    "print(df1)"
   ]
  },
  {
   "cell_type": "code",
   "execution_count": 38,
   "metadata": {},
   "outputs": [
    {
     "name": "stdout",
     "output_type": "stream",
     "text": [
      "              KMS  Month sin  Month cos  Year sin  Year cos    t-2    t-1\n",
      "Fecha                                                                    \n",
      "2018-12-31   17.3  -0.532407   0.846489 -0.021501  0.999769    NaN    NaN\n",
      "2019-01-07   86.4   0.772929   0.634493  0.098753  0.995112    NaN   17.3\n",
      "2019-01-14  107.3   0.726534  -0.687131  0.217577  0.976043   17.3   86.4\n",
      "2019-01-21  163.1  -0.590454  -0.807071  0.333249  0.942839   86.4  107.3\n",
      "2019-01-28  153.5  -0.874831   0.484428  0.444096  0.895979  107.3  163.1\n",
      "...           ...        ...        ...       ...       ...    ...    ...\n",
      "2024-01-15  202.2   0.636087  -0.771617  0.230151  0.973155  206.3  211.0\n",
      "2024-01-22  200.9  -0.685630  -0.727950  0.345386  0.938461  211.0  202.2\n",
      "2024-01-29  160.7  -0.808288   0.588787  0.455618  0.890175  202.2  200.9\n",
      "2024-02-05  135.7   0.482622   0.875829  0.559252  0.828997  200.9  160.7\n",
      "2024-02-12  121.8   0.929503  -0.368815  0.654787  0.755814  160.7  135.7\n",
      "\n",
      "[268 rows x 7 columns]\n"
     ]
    }
   ],
   "source": [
    "for i in range(2, 0, -1):\n",
    "    df1['t-' + str(i)] = PRES_alt_df['KMS'].shift(i)\n",
    "\n",
    "# Mostrar el resultado\n",
    "print(df1)\n"
   ]
  },
  {
   "cell_type": "code",
   "execution_count": 39,
   "metadata": {},
   "outputs": [
    {
     "name": "stdout",
     "output_type": "stream",
     "text": [
      "              KMS  Month sin  Month cos  Year sin  Year cos    t-2    t-1  \\\n",
      "Fecha                                                                       \n",
      "2018-12-31   17.3  -0.532407   0.846489 -0.021501  0.999769    NaN    NaN   \n",
      "2019-01-07   86.4   0.772929   0.634493  0.098753  0.995112    NaN   17.3   \n",
      "2019-01-14  107.3   0.726534  -0.687131  0.217577  0.976043   17.3   86.4   \n",
      "2019-01-21  163.1  -0.590454  -0.807071  0.333249  0.942839   86.4  107.3   \n",
      "2019-01-28  153.5  -0.874831   0.484428  0.444096  0.895979  107.3  163.1   \n",
      "2019-02-04  131.0   0.370733   0.928739  0.548511  0.836144  163.1  153.5   \n",
      "2019-02-11  146.1   0.967943  -0.251168  0.644981  0.764198  153.5  131.0   \n",
      "2019-02-18  176.2  -0.127626  -0.991822  0.732111  0.681185  131.0  146.1   \n",
      "\n",
      "                t  \n",
      "Fecha              \n",
      "2018-12-31   17.3  \n",
      "2019-01-07   86.4  \n",
      "2019-01-14  107.3  \n",
      "2019-01-21  163.1  \n",
      "2019-01-28  153.5  \n",
      "2019-02-04  131.0  \n",
      "2019-02-11  146.1  \n",
      "2019-02-18  176.2  \n"
     ]
    }
   ],
   "source": [
    "# Create column t\n",
    "df1['t'] = PRES_alt_df['KMS']\n",
    "print(df1.head(8))"
   ]
  },
  {
   "cell_type": "code",
   "execution_count": 40,
   "metadata": {},
   "outputs": [
    {
     "name": "stdout",
     "output_type": "stream",
     "text": [
      "              KMS  Month sin  Month cos  Year sin  Year cos   t-2    t-1  \\\n",
      "Fecha                                                                      \n",
      "2019-01-14  107.3   0.726534  -0.687131  0.217577  0.976043  17.3   86.4   \n",
      "2019-01-21  163.1  -0.590454  -0.807071  0.333249  0.942839  86.4  107.3   \n",
      "\n",
      "                t  \n",
      "Fecha              \n",
      "2019-01-14  107.3  \n",
      "2019-01-21  163.1  \n"
     ]
    },
    {
     "data": {
      "text/plain": [
       "(266, 8)"
      ]
     },
     "execution_count": 40,
     "metadata": {},
     "output_type": "execute_result"
    }
   ],
   "source": [
    "# Create a new subsetted dataframe, removing Nans from first 7 rows\n",
    "df1_PRES = df1[2:]\n",
    "print(df1_PRES.head(2))\n",
    "df1_PRES.shape"
   ]
  },
  {
   "cell_type": "markdown",
   "metadata": {},
   "source": [
    "<h2 style=\"color: #e67e22; text-align: left;\">  Dividir los datos en repuestas y Covariables, entrenamiento, validación y prueba.</h2> "
   ]
  },
  {
   "cell_type": "code",
   "execution_count": 41,
   "metadata": {},
   "outputs": [],
   "source": [
    "# Split data\n",
    "\n",
    "PRESsplit = df1_PRES.values\n",
    "# split into lagged variables and original time series\n",
    "X1= PRESsplit[:, 0:-1]  # slice all rows and start with column 0 and go up to but not including the last column\n",
    "y1 =PRESsplit[:,-1]  # slice all rows and last column, essentially separating out 't' column"
   ]
  },
  {
   "cell_type": "code",
   "execution_count": 42,
   "metadata": {},
   "outputs": [
    {
     "name": "stdout",
     "output_type": "stream",
     "text": [
      "[[107.3          0.7265337   -0.68713084 ...   0.97604325  17.3\n",
      "   86.4       ]\n",
      " [163.1         -0.5904539   -0.80707137 ...   0.94283872  86.4\n",
      "  107.3       ]\n",
      " [153.5         -0.87483088   0.48442845 ...   0.89597931 107.3\n",
      "  163.1       ]\n",
      " ...\n",
      " [160.7         -0.80828842   0.58878675 ...   0.89017525 202.2\n",
      "  200.9       ]\n",
      " [135.7          0.48262166   0.87582894 ...   0.82899749 200.9\n",
      "  160.7       ]\n",
      " [121.8          0.92950268  -0.36881535 ...   0.75581358 160.7\n",
      "  135.7       ]]\n",
      "[1.073e+02 1.631e+02 1.535e+02 1.310e+02 1.461e+02 1.762e+02 9.920e+01\n",
      " 1.702e+02 1.191e+02 1.553e+02 1.288e+02 1.515e+02 1.161e+02 6.440e+01\n",
      " 1.072e+02 2.600e+01 1.594e+02 1.398e+02 7.170e+01 8.730e+01 5.690e+01\n",
      " 1.477e+02 9.160e+01 1.282e+02 1.735e+02 1.586e+02 1.150e+02 1.325e+02\n",
      " 7.870e+01 3.780e+01 1.339e+02 9.980e+01 4.350e+01 1.254e+02 1.484e+02\n",
      " 8.360e+01 7.120e+01 1.246e+02 1.573e+02 1.667e+02 1.261e+02 9.280e+01\n",
      " 1.459e+02 1.321e+02 1.041e+02 5.720e+01 1.225e+02 1.440e+02 1.657e+02\n",
      " 9.300e+01 2.470e+01 5.430e+01 9.320e+01 1.519e+02 1.654e+02 1.695e+02\n",
      " 1.520e+02 1.762e+02 1.043e+02 1.375e+02 9.870e+01 9.330e+01 8.500e+01\n",
      " 6.900e+01 5.260e+01 7.840e+01 6.920e+01 5.190e+01 6.280e+01 1.032e+02\n",
      " 8.630e+01 1.277e+02 1.301e+02 1.067e+02 8.360e+01 1.691e+02 2.626e+02\n",
      " 1.429e+02 1.341e+02 1.935e+02 7.830e+01 1.083e+02 1.559e+02 1.926e+02\n",
      " 9.080e+01 1.976e+02 1.779e+02 1.267e+02 1.726e+02 1.825e+02 1.337e+02\n",
      " 9.170e+01 1.377e+02 1.768e+02 2.065e+02 1.330e+02 1.888e+02 1.273e+02\n",
      " 1.206e+02 3.790e+01 1.091e+02 7.780e+01 3.670e+01 4.940e+01 1.635e+02\n",
      " 1.580e+02 1.633e+02 9.930e+01 1.165e+02 1.399e+02 1.681e+02 1.446e+02\n",
      " 1.687e+02 1.082e+02 6.880e+01 1.341e+02 1.370e+02 6.950e+01 5.880e+01\n",
      " 8.530e+01 8.910e+01 1.584e+02 1.810e+02 4.520e+01 1.842e+02 1.948e+02\n",
      " 1.951e+02 1.560e+02 2.070e+02 2.036e+02 1.397e+02 1.848e+02 1.099e+02\n",
      " 1.133e+02 3.920e+01 1.353e+02 2.011e+02 2.075e+02 1.950e+02 1.590e+02\n",
      " 1.801e+02 1.339e+02 9.840e+01 1.000e-03 9.100e+00 9.710e+01 1.028e+02\n",
      " 1.138e+02 1.108e+02 1.362e+02 1.577e+02 7.410e+01 9.670e+01 4.620e+01\n",
      " 1.590e+02 1.848e+02 2.290e+02 1.087e+02 1.442e+02 1.592e+02 1.333e+02\n",
      " 1.800e+02 1.063e+02 1.595e+02 1.561e+02 1.708e+02 1.174e+02 1.072e+02\n",
      " 1.395e+02 5.060e+01 1.487e+02 7.690e+01 8.780e+01 1.104e+02 1.342e+02\n",
      " 1.551e+02 1.098e+02 7.020e+01 1.291e+02 1.001e+02 7.040e+01 1.000e-03\n",
      " 6.240e+01 7.780e+01 1.693e+02 1.198e+02 1.715e+02 1.547e+02 2.780e+01\n",
      " 9.920e+01 6.030e+01 6.830e+01 8.350e+01 6.050e+01 1.543e+02 1.530e+02\n",
      " 1.263e+02 9.810e+01 5.420e+01 1.753e+02 1.789e+02 1.766e+02 1.361e+02\n",
      " 1.754e+02 2.080e+02 2.000e+02 1.140e+02 2.000e+02 1.984e+02 1.811e+02\n",
      " 2.035e+02 1.522e+02 1.472e+02 7.340e+01 5.290e+01 7.550e+01 1.335e+02\n",
      " 1.791e+02 1.063e+02 2.110e+02 7.150e+01 9.800e+01 1.743e+02 1.820e+02\n",
      " 1.785e+02 1.644e+02 9.120e+01 1.299e+02 1.805e+02 1.724e+02 1.684e+02\n",
      " 1.339e+02 1.548e+02 7.220e+01 1.710e+02 5.490e+01 1.079e+02 1.330e+01\n",
      " 2.007e+02 1.226e+02 1.909e+02 1.863e+02 1.859e+02 1.069e+02 1.574e+02\n",
      " 3.520e+01 1.406e+02 1.734e+02 1.156e+02 1.305e+02 6.790e+01 1.469e+02\n",
      " 1.235e+02 8.100e+01 1.468e+02 1.436e+02 1.888e+02 2.021e+02 1.262e+02\n",
      " 2.063e+02 2.110e+02 2.022e+02 2.009e+02 1.607e+02 1.357e+02 1.218e+02]\n"
     ]
    }
   ],
   "source": [
    "print(X1)\n",
    "print(y1)"
   ]
  },
  {
   "cell_type": "markdown",
   "metadata": {},
   "source": [
    "Primero dividiremos nuestro conjunto de datos en entrenamiento(90%) y prueba(10%), luego el entrenamiento será dividido en entrenamiento(80% del 90%) y validación(20% del 90%)."
   ]
  },
  {
   "cell_type": "code",
   "execution_count": 43,
   "metadata": {},
   "outputs": [],
   "source": [
    "from sklearn.model_selection import train_test_split\n",
    "from sklearn.preprocessing import StandardScaler, MinMaxScaler"
   ]
  },
  {
   "cell_type": "code",
   "execution_count": 44,
   "metadata": {},
   "outputs": [],
   "source": [
    "X_train_full, X_test, y_train_full, y_test=train_test_split(X1,y1,test_size=0.1, train_size=0.9,shuffle=False)"
   ]
  },
  {
   "cell_type": "code",
   "execution_count": 45,
   "metadata": {},
   "outputs": [
    {
     "name": "stdout",
     "output_type": "stream",
     "text": [
      "(239, 7)\n",
      "(27, 7)\n",
      "(239,)\n",
      "(27,)\n"
     ]
    }
   ],
   "source": [
    "print(X_train_full.shape)\n",
    "print(X_test.shape)\n",
    "\n",
    "print(y_train_full.shape)\n",
    "print(y_test.shape)"
   ]
  },
  {
   "cell_type": "code",
   "execution_count": 46,
   "metadata": {},
   "outputs": [],
   "source": [
    "X_train, X_val, y_train, y_val=train_test_split(X_train_full,y_train_full,test_size=0.2, train_size=0.8,shuffle=False)"
   ]
  },
  {
   "cell_type": "code",
   "execution_count": 47,
   "metadata": {},
   "outputs": [
    {
     "name": "stdout",
     "output_type": "stream",
     "text": [
      "(191, 7)\n",
      "(48, 7)\n",
      "(191,)\n",
      "(48,)\n"
     ]
    }
   ],
   "source": [
    "print(X_train.shape)\n",
    "print(X_val.shape)\n",
    "\n",
    "print(y_train.shape)\n",
    "print(y_val.shape)"
   ]
  },
  {
   "cell_type": "markdown",
   "metadata": {},
   "source": [
    "Vamos a chequear que los valores quedaron consecutivos"
   ]
  },
  {
   "cell_type": "code",
   "execution_count": 48,
   "metadata": {},
   "outputs": [
    {
     "data": {
      "text/plain": [
       "array([1.073e+02, 1.631e+02, 1.535e+02, 1.310e+02, 1.461e+02, 1.762e+02,\n",
       "       9.920e+01, 1.702e+02, 1.191e+02, 1.553e+02, 1.288e+02, 1.515e+02,\n",
       "       1.161e+02, 6.440e+01, 1.072e+02, 2.600e+01, 1.594e+02, 1.398e+02,\n",
       "       7.170e+01, 8.730e+01, 5.690e+01, 1.477e+02, 9.160e+01, 1.282e+02,\n",
       "       1.735e+02, 1.586e+02, 1.150e+02, 1.325e+02, 7.870e+01, 3.780e+01,\n",
       "       1.339e+02, 9.980e+01, 4.350e+01, 1.254e+02, 1.484e+02, 8.360e+01,\n",
       "       7.120e+01, 1.246e+02, 1.573e+02, 1.667e+02, 1.261e+02, 9.280e+01,\n",
       "       1.459e+02, 1.321e+02, 1.041e+02, 5.720e+01, 1.225e+02, 1.440e+02,\n",
       "       1.657e+02, 9.300e+01, 2.470e+01, 5.430e+01, 9.320e+01, 1.519e+02,\n",
       "       1.654e+02, 1.695e+02, 1.520e+02, 1.762e+02, 1.043e+02, 1.375e+02,\n",
       "       9.870e+01, 9.330e+01, 8.500e+01, 6.900e+01, 5.260e+01, 7.840e+01,\n",
       "       6.920e+01, 5.190e+01, 6.280e+01, 1.032e+02, 8.630e+01, 1.277e+02,\n",
       "       1.301e+02, 1.067e+02, 8.360e+01, 1.691e+02, 2.626e+02, 1.429e+02,\n",
       "       1.341e+02, 1.935e+02, 7.830e+01, 1.083e+02, 1.559e+02, 1.926e+02,\n",
       "       9.080e+01, 1.976e+02, 1.779e+02, 1.267e+02, 1.726e+02, 1.825e+02,\n",
       "       1.337e+02, 9.170e+01, 1.377e+02, 1.768e+02, 2.065e+02, 1.330e+02,\n",
       "       1.888e+02, 1.273e+02, 1.206e+02, 3.790e+01, 1.091e+02, 7.780e+01,\n",
       "       3.670e+01, 4.940e+01, 1.635e+02, 1.580e+02, 1.633e+02, 9.930e+01,\n",
       "       1.165e+02, 1.399e+02, 1.681e+02, 1.446e+02, 1.687e+02, 1.082e+02,\n",
       "       6.880e+01, 1.341e+02, 1.370e+02, 6.950e+01, 5.880e+01, 8.530e+01,\n",
       "       8.910e+01, 1.584e+02, 1.810e+02, 4.520e+01, 1.842e+02, 1.948e+02,\n",
       "       1.951e+02, 1.560e+02, 2.070e+02, 2.036e+02, 1.397e+02, 1.848e+02,\n",
       "       1.099e+02, 1.133e+02, 3.920e+01, 1.353e+02, 2.011e+02, 2.075e+02,\n",
       "       1.950e+02, 1.590e+02, 1.801e+02, 1.339e+02, 9.840e+01, 1.000e-03,\n",
       "       9.100e+00, 9.710e+01, 1.028e+02, 1.138e+02, 1.108e+02, 1.362e+02,\n",
       "       1.577e+02, 7.410e+01, 9.670e+01, 4.620e+01, 1.590e+02, 1.848e+02,\n",
       "       2.290e+02, 1.087e+02, 1.442e+02, 1.592e+02, 1.333e+02, 1.800e+02,\n",
       "       1.063e+02, 1.595e+02, 1.561e+02, 1.708e+02, 1.174e+02, 1.072e+02,\n",
       "       1.395e+02, 5.060e+01, 1.487e+02, 7.690e+01, 8.780e+01, 1.104e+02,\n",
       "       1.342e+02, 1.551e+02, 1.098e+02, 7.020e+01, 1.291e+02, 1.001e+02,\n",
       "       7.040e+01, 1.000e-03, 6.240e+01, 7.780e+01, 1.693e+02, 1.198e+02,\n",
       "       1.715e+02, 1.547e+02, 2.780e+01, 9.920e+01, 6.030e+01])"
      ]
     },
     "execution_count": 48,
     "metadata": {},
     "output_type": "execute_result"
    }
   ],
   "source": [
    "y_train"
   ]
  },
  {
   "cell_type": "code",
   "execution_count": 49,
   "metadata": {},
   "outputs": [
    {
     "data": {
      "text/plain": [
       "array([ 68.3,  83.5,  60.5, 154.3, 153. , 126.3,  98.1,  54.2, 175.3,\n",
       "       178.9, 176.6, 136.1, 175.4, 208. , 200. , 114. , 200. , 198.4,\n",
       "       181.1, 203.5, 152.2, 147.2,  73.4,  52.9,  75.5, 133.5, 179.1,\n",
       "       106.3, 211. ,  71.5,  98. , 174.3, 182. , 178.5, 164.4,  91.2,\n",
       "       129.9, 180.5, 172.4, 168.4, 133.9, 154.8,  72.2, 171. ,  54.9,\n",
       "       107.9,  13.3, 200.7])"
      ]
     },
     "execution_count": 49,
     "metadata": {},
     "output_type": "execute_result"
    }
   ],
   "source": [
    "y_val"
   ]
  },
  {
   "cell_type": "code",
   "execution_count": 50,
   "metadata": {},
   "outputs": [
    {
     "data": {
      "text/plain": [
       "array([122.6, 190.9, 186.3, 185.9, 106.9, 157.4,  35.2, 140.6, 173.4,\n",
       "       115.6, 130.5,  67.9, 146.9, 123.5,  81. , 146.8, 143.6, 188.8,\n",
       "       202.1, 126.2, 206.3, 211. , 202.2, 200.9, 160.7, 135.7, 121.8])"
      ]
     },
     "execution_count": 50,
     "metadata": {},
     "output_type": "execute_result"
    }
   ],
   "source": [
    "y_test"
   ]
  },
  {
   "cell_type": "markdown",
   "metadata": {},
   "source": [
    "<h2 style=\"color: #e67e22; text-align: left;\">  Normalización de las covariables únicamente</h2> \n",
    "\n",
    "Note que para éste caso se elige la normalización MinMaxScaler, es decir, transforma todas las variables a que tomen valores entre 0 y 1. Vale la pena decir que esta transformación es basada en el conjuto de entrenamiento, y aplicada con esos parámetros(Min y Max), a los tres conjuntos entrenamiento , validación y prueba."
   ]
  },
  {
   "cell_type": "code",
   "execution_count": 51,
   "metadata": {},
   "outputs": [],
   "source": [
    "scaler=MinMaxScaler()\n",
    "X_train=scaler.fit_transform(X_train)\n",
    "X_val=scaler.transform(X_val)\n",
    "X_test=scaler.transform(X_test)"
   ]
  },
  {
   "cell_type": "code",
   "execution_count": 52,
   "metadata": {
    "scrolled": true
   },
   "outputs": [
    {
     "data": {
      "text/plain": [
       "array([[0.40860399, 0.86328969, 0.15644165, ..., 0.98831242, 0.06587611,\n",
       "        0.32901496],\n",
       "       [0.62109528, 0.20477766, 0.09646704, ..., 0.97170292, 0.32901496,\n",
       "        0.40860399],\n",
       "       [0.58453764, 0.06258523, 0.74226373, ..., 0.948263  , 0.40860399,\n",
       "        0.62109528],\n",
       "       ...,\n",
       "       [0.10586103, 0.19815445, 0.10139727, ..., 0.17621553, 0.65308322,\n",
       "        0.58910735],\n",
       "       [0.37775848, 0.06664447, 0.74945392, ..., 0.22435561, 0.58910735,\n",
       "        0.10586103],\n",
       "       [0.22962388, 0.69302722, 0.96131095, ..., 0.2764889 , 0.10586103,\n",
       "        0.37775848]])"
      ]
     },
     "execution_count": 52,
     "metadata": {},
     "output_type": "execute_result"
    }
   ],
   "source": [
    "X_train"
   ]
  },
  {
   "cell_type": "code",
   "execution_count": 53,
   "metadata": {},
   "outputs": [
    {
     "data": {
      "text/plain": [
       "array([1.073e+02, 1.631e+02, 1.535e+02, 1.310e+02, 1.461e+02, 1.762e+02,\n",
       "       9.920e+01, 1.702e+02, 1.191e+02, 1.553e+02, 1.288e+02, 1.515e+02,\n",
       "       1.161e+02, 6.440e+01, 1.072e+02, 2.600e+01, 1.594e+02, 1.398e+02,\n",
       "       7.170e+01, 8.730e+01, 5.690e+01, 1.477e+02, 9.160e+01, 1.282e+02,\n",
       "       1.735e+02, 1.586e+02, 1.150e+02, 1.325e+02, 7.870e+01, 3.780e+01,\n",
       "       1.339e+02, 9.980e+01, 4.350e+01, 1.254e+02, 1.484e+02, 8.360e+01,\n",
       "       7.120e+01, 1.246e+02, 1.573e+02, 1.667e+02, 1.261e+02, 9.280e+01,\n",
       "       1.459e+02, 1.321e+02, 1.041e+02, 5.720e+01, 1.225e+02, 1.440e+02,\n",
       "       1.657e+02, 9.300e+01, 2.470e+01, 5.430e+01, 9.320e+01, 1.519e+02,\n",
       "       1.654e+02, 1.695e+02, 1.520e+02, 1.762e+02, 1.043e+02, 1.375e+02,\n",
       "       9.870e+01, 9.330e+01, 8.500e+01, 6.900e+01, 5.260e+01, 7.840e+01,\n",
       "       6.920e+01, 5.190e+01, 6.280e+01, 1.032e+02, 8.630e+01, 1.277e+02,\n",
       "       1.301e+02, 1.067e+02, 8.360e+01, 1.691e+02, 2.626e+02, 1.429e+02,\n",
       "       1.341e+02, 1.935e+02, 7.830e+01, 1.083e+02, 1.559e+02, 1.926e+02,\n",
       "       9.080e+01, 1.976e+02, 1.779e+02, 1.267e+02, 1.726e+02, 1.825e+02,\n",
       "       1.337e+02, 9.170e+01, 1.377e+02, 1.768e+02, 2.065e+02, 1.330e+02,\n",
       "       1.888e+02, 1.273e+02, 1.206e+02, 3.790e+01, 1.091e+02, 7.780e+01,\n",
       "       3.670e+01, 4.940e+01, 1.635e+02, 1.580e+02, 1.633e+02, 9.930e+01,\n",
       "       1.165e+02, 1.399e+02, 1.681e+02, 1.446e+02, 1.687e+02, 1.082e+02,\n",
       "       6.880e+01, 1.341e+02, 1.370e+02, 6.950e+01, 5.880e+01, 8.530e+01,\n",
       "       8.910e+01, 1.584e+02, 1.810e+02, 4.520e+01, 1.842e+02, 1.948e+02,\n",
       "       1.951e+02, 1.560e+02, 2.070e+02, 2.036e+02, 1.397e+02, 1.848e+02,\n",
       "       1.099e+02, 1.133e+02, 3.920e+01, 1.353e+02, 2.011e+02, 2.075e+02,\n",
       "       1.950e+02, 1.590e+02, 1.801e+02, 1.339e+02, 9.840e+01, 1.000e-03,\n",
       "       9.100e+00, 9.710e+01, 1.028e+02, 1.138e+02, 1.108e+02, 1.362e+02,\n",
       "       1.577e+02, 7.410e+01, 9.670e+01, 4.620e+01, 1.590e+02, 1.848e+02,\n",
       "       2.290e+02, 1.087e+02, 1.442e+02, 1.592e+02, 1.333e+02, 1.800e+02,\n",
       "       1.063e+02, 1.595e+02, 1.561e+02, 1.708e+02, 1.174e+02, 1.072e+02,\n",
       "       1.395e+02, 5.060e+01, 1.487e+02, 7.690e+01, 8.780e+01, 1.104e+02,\n",
       "       1.342e+02, 1.551e+02, 1.098e+02, 7.020e+01, 1.291e+02, 1.001e+02,\n",
       "       7.040e+01, 1.000e-03, 6.240e+01, 7.780e+01, 1.693e+02, 1.198e+02,\n",
       "       1.715e+02, 1.547e+02, 2.780e+01, 9.920e+01, 6.030e+01])"
      ]
     },
     "execution_count": 53,
     "metadata": {},
     "output_type": "execute_result"
    }
   ],
   "source": [
    "y_train"
   ]
  },
  {
   "cell_type": "code",
   "execution_count": 54,
   "metadata": {},
   "outputs": [
    {
     "data": {
      "text/plain": [
       "array([[ 4.66867734e-01,  9.36436667e-01,  2.55996367e-01,\n",
       "         1.68298499e-01,  1.25549806e-01,  5.06437572e-02,\n",
       "         7.64279377e-01],\n",
       "       [ 7.26960118e-01,  3.12725564e-01,  3.63978574e-02,\n",
       "         1.25704753e-01,  1.68093576e-01,  7.64279377e-01,\n",
       "         4.66867734e-01],\n",
       "       [ 7.09442915e-01,  1.65502249e-02,  6.27622158e-01,\n",
       "         8.85305693e-02,  2.15445387e-01,  4.66867734e-01,\n",
       "         7.26960118e-01],\n",
       "       [ 7.07919680e-01,  5.65874540e-01,  9.95711347e-01,\n",
       "         5.73143315e-02,  2.66919458e-01,  7.26960118e-01,\n",
       "         7.09442915e-01],\n",
       "       [ 4.07080758e-01,  1.00001704e+00,  4.96935570e-01,\n",
       "         3.25081360e-02,  3.21770302e-01,  7.09442915e-01,\n",
       "         7.07919680e-01],\n",
       "       [ 5.99389183e-01,  5.59731066e-01,  3.57488263e-03,\n",
       "         1.44712443e-02,  3.79203530e-01,  7.07919680e-01,\n",
       "         4.07080758e-01],\n",
       "       [ 1.34040876e-01,  1.50072427e-02,  3.78439206e-01,\n",
       "         3.46487979e-03,  4.38387351e-01,  4.07080758e-01,\n",
       "         5.99389183e-01],\n",
       "       [ 5.35413311e-01,  3.18481505e-01,  9.65950044e-01,\n",
       "        -3.51555183e-04,  4.98464622e-01,  5.99389183e-01,\n",
       "         1.34040876e-01],\n",
       "       [ 6.60318585e-01,  9.39425299e-01,  7.38643735e-01,\n",
       "         3.07721175e-03,  5.58565260e-01,  1.34040876e-01,\n",
       "         5.35413311e-01],\n",
       "       [ 4.40211120e-01,  7.91906003e-01,  9.40431110e-02,\n",
       "         1.37015227e-02,  6.17818843e-01,  5.35413311e-01,\n",
       "         6.60318585e-01],\n",
       "       [ 4.96951626e-01,  1.33911565e-01,  1.59452854e-01,\n",
       "         3.13675085e-02,  6.75367217e-01,  6.60318585e-01,\n",
       "         4.40211120e-01],\n",
       "       [ 2.58565341e-01,  1.16170333e-01,  8.20481655e-01,\n",
       "         5.58193176e-02,  7.30376926e-01,  4.40211120e-01,\n",
       "         4.96951626e-01],\n",
       "       [ 5.59404263e-01,  7.69708919e-01,  9.21094545e-01,\n",
       "         8.67028208e-02,  7.82051277e-01,  4.96951626e-01,\n",
       "         2.58565341e-01],\n",
       "       [ 4.70295013e-01,  9.51591558e-01,  2.85335471e-01,\n",
       "         1.23570741e-01,  8.29641886e-01,  2.58565341e-01,\n",
       "         5.59404263e-01],\n",
       "       [ 3.08451289e-01,  3.43734241e-01,  2.50466399e-02,\n",
       "         1.65889129e-01,  8.72459509e-01,  5.59404263e-01,\n",
       "         4.70295013e-01],\n",
       "       [ 5.59023454e-01,  9.18340951e-03,  5.95432107e-01,\n",
       "         2.13045099e-01,  9.09884031e-01,  4.70295013e-01,\n",
       "         3.08451289e-01],\n",
       "       [ 5.46837574e-01,  5.33015628e-01,  9.98977778e-01,\n",
       "         2.64355705e-01,  9.41373443e-01,  3.08451289e-01,\n",
       "         5.59023454e-01],\n",
       "       [ 7.18963134e-01,  9.99131081e-01,  5.29946011e-01,\n",
       "         3.19077829e-01,  9.66471691e-01,  5.59023454e-01,\n",
       "         5.46837574e-01],\n",
       "       [ 7.69610699e-01,  5.92367461e-01,  8.59928691e-03,\n",
       "         3.76418943e-01,  9.84815285e-01,  5.46837574e-01,\n",
       "         7.18963134e-01],\n",
       "       [ 4.80576849e-01,  2.40900938e-02,  3.46690683e-01,\n",
       "         4.35548593e-01,  9.96138558e-01,  7.18963134e-01,\n",
       "         7.69610699e-01],\n",
       "       [ 7.85604667e-01,  2.88126340e-01,  9.52951747e-01,\n",
       "         4.95610420e-01,  1.00027752e+00,  7.69610699e-01,\n",
       "         4.80576849e-01],\n",
       "       [ 8.03502679e-01,  9.22718507e-01,  7.67127632e-01,\n",
       "         5.55734563e-01,  9.97172226e-01,  4.80576849e-01,\n",
       "         7.85604667e-01],\n",
       "       [ 7.69991508e-01,  8.18065124e-01,  1.14195366e-01,\n",
       "         6.15050262e-01,  9.86867651e-01,  7.85604667e-01,\n",
       "         8.03502679e-01],\n",
       "       [ 7.65040994e-01,  1.57188429e-01,  1.36030356e-01,\n",
       "         6.72698462e-01,  9.69513031e-01,  8.03502679e-01,\n",
       "         7.69991508e-01],\n",
       "       [ 6.11955872e-01,  9.58573805e-02,  7.94446653e-01,\n",
       "         7.27844261e-01,  9.45359710e-01,  7.69991508e-01,\n",
       "         7.65040994e-01],\n",
       "       [ 5.16753681e-01,  7.41330297e-01,  9.37978145e-01,\n",
       "         7.79688996e-01,  9.14757494e-01,  7.65040994e-01,\n",
       "         6.11955872e-01],\n",
       "       [ 4.63821264e-01,  9.64776994e-01,  3.15610922e-01,\n",
       "         8.27481814e-01,  8.78149586e-01,  6.11955872e-01,\n",
       "         5.16753681e-01]])"
      ]
     },
     "execution_count": 54,
     "metadata": {},
     "output_type": "execute_result"
    }
   ],
   "source": [
    "X_test"
   ]
  },
  {
   "cell_type": "code",
   "execution_count": 55,
   "metadata": {},
   "outputs": [
    {
     "data": {
      "text/plain": [
       "array([122.6, 190.9, 186.3, 185.9, 106.9, 157.4,  35.2, 140.6, 173.4,\n",
       "       115.6, 130.5,  67.9, 146.9, 123.5,  81. , 146.8, 143.6, 188.8,\n",
       "       202.1, 126.2, 206.3, 211. , 202.2, 200.9, 160.7, 135.7, 121.8])"
      ]
     },
     "execution_count": 55,
     "metadata": {},
     "output_type": "execute_result"
    }
   ],
   "source": [
    "y_test"
   ]
  },
  {
   "cell_type": "code",
   "execution_count": 56,
   "metadata": {},
   "outputs": [
    {
     "data": {
      "text/plain": [
       "[<matplotlib.lines.Line2D at 0x2336ce1ddf0>]"
      ]
     },
     "execution_count": 56,
     "metadata": {},
     "output_type": "execute_result"
    },
    {
     "data": {
      "image/png": "[encoded data removed]",
      "text/plain": [
       "<Figure size 432x288 with 1 Axes>"
      ]
     },
     "metadata": {
      "needs_background": "light"
     },
     "output_type": "display_data"
    }
   ],
   "source": [
    "plt.plot(y_test)"
   ]
  },
  {
   "cell_type": "code",
   "execution_count": 57,
   "metadata": {},
   "outputs": [
    {
     "data": {
      "text/plain": [
       "array([[ 2.60088576e-01,  9.81858204e-01,  3.66463871e-01,\n",
       "         2.87819509e-02,  3.31860382e-01,  3.77758483e-01,\n",
       "         2.29623875e-01],\n",
       "       [ 3.17971508e-01,  4.28017653e-01,  5.20627381e-03,\n",
       "         1.19842443e-02,  3.89668112e-01,  2.29623875e-01,\n",
       "         2.60088576e-01],\n",
       "       [ 2.30385493e-01,  8.52118157e-05,  5.09320640e-01,\n",
       "         2.25308350e-03,  4.49074879e-01,  2.60088576e-01,\n",
       "         3.17971508e-01],\n",
       "       [ 5.87584111e-01,  4.46447132e-01,  9.97190565e-01,\n",
       "        -2.70597677e-04,  5.09220312e-01,  3.17971508e-01,\n",
       "         2.30385493e-01],\n",
       "       [ 5.82633597e-01,  9.86486914e-01,  6.15608605e-01,\n",
       "         4.44975057e-03,  5.69233340e-01,  2.30385493e-01,\n",
       "         5.87584111e-01],\n",
       "       [ 4.80957658e-01,  6.75760274e-01,  3.19013402e-02,\n",
       "         1.63457647e-02,  6.28244810e-01,  5.87584111e-01,\n",
       "         5.82633597e-01],\n",
       "       [ 3.73569587e-01,  5.76790289e-02,  2.66880585e-01,\n",
       "         3.52451579e-02,  6.85400075e-01,  5.82633597e-01,\n",
       "         4.80957658e-01],\n",
       "       [ 2.06394541e-01,  2.13169655e-01,  9.09604753e-01,\n",
       "         6.08742153e-02,  7.39871371e-01,  4.80957658e-01,\n",
       "         3.73569587e-01],\n",
       "       [ 6.67553951e-01,  8.70303606e-01,  8.36050788e-01,\n",
       "         9.28617582e-02,  7.90869804e-01,  3.73569587e-01,\n",
       "         2.06394541e-01],\n",
       "       [ 6.81263067e-01,  8.79857391e-01,  1.74852957e-01,\n",
       "         1.30744519e-01,  8.37656778e-01,  2.06394541e-01,\n",
       "         6.67553951e-01],\n",
       "       [ 6.72504465e-01,  2.25122949e-01,  8.23418359e-02,\n",
       "         1.73973853e-01,  8.79554689e-01,  6.67553951e-01,\n",
       "         6.81263067e-01],\n",
       "       [ 5.18276917e-01,  5.11274084e-02,  7.20304764e-01,\n",
       "         2.21923680e-01,  9.15956741e-01,  6.81263067e-01,\n",
       "         6.72504465e-01],\n",
       "       [ 6.67934760e-01,  6.62161488e-01,  9.73045341e-01,\n",
       "         2.73899557e-01,  9.46335734e-01,  6.72504465e-01,\n",
       "         5.18276917e-01],\n",
       "       [ 7.92078416e-01,  9.89623091e-01,  3.98560217e-01,\n",
       "         3.29148729e-01,  9.70251695e-01,  5.18276917e-01,\n",
       "         6.67934760e-01],\n",
       "       [ 7.61613715e-01,  4.60833593e-01,  1.53313751e-03,\n",
       "         3.86871039e-01,  9.87358257e-01,  6.67934760e-01,\n",
       "         7.92078416e-01],\n",
       "       [ 4.34118180e-01,  5.62308533e-04,  4.76301758e-01,\n",
       "         4.46230510e-01,  9.97407670e-01,  7.92078416e-01,\n",
       "         7.61613715e-01],\n",
       "       [ 7.61613715e-01,  4.13751018e-01,  9.92570747e-01,\n",
       "         5.06367453e-01,  1.00025439e+00,  7.61613715e-01,\n",
       "         4.34118180e-01],\n",
       "       [ 7.55520775e-01,  9.77797928e-01,  6.47467183e-01,\n",
       "         5.66410922e-01,  9.95857192e-01,  4.34118180e-01,\n",
       "         7.61613715e-01],\n",
       "       [ 6.89640859e-01,  7.06274081e-01,  4.45226936e-02,\n",
       "         6.25491324e-01,  9.84279756e-01,  7.61613715e-01,\n",
       "         7.55520775e-01],\n",
       "       [ 7.74942022e-01,  7.40317991e-02,  2.38191960e-01,\n",
       "         6.82753012e-01,  9.65689755e-01,  7.55520775e-01,\n",
       "         6.89640859e-01],\n",
       "       [ 5.79587127e-01,  1.86762976e-01,  8.89778024e-01,\n",
       "         7.37366681e-01,  9.40356425e-01,  6.89640859e-01,\n",
       "         7.74942022e-01],\n",
       "       [ 5.60546689e-01,  8.47318588e-01,  8.59759773e-01,\n",
       "         7.88541376e-01,  9.08646660e-01,  7.74942022e-01,\n",
       "         5.79587127e-01],\n",
       "       [ 2.79509823e-01,  9.00491199e-01,  2.00634387e-01,\n",
       "         8.35535947e-01,  8.71019706e-01,  5.79587127e-01,\n",
       "         5.60546689e-01],\n",
       "       [ 2.01444027e-01,  2.53290311e-01,  6.51080618e-02,\n",
       "         8.77669785e-01,  8.28020502e-01,  5.60546689e-01,\n",
       "         2.79509823e-01],\n",
       "       [ 2.87506807e-01,  3.75680565e-02,  6.90194935e-01,\n",
       "         9.14332676e-01,  7.80271796e-01,  2.79509823e-01,\n",
       "         2.01444027e-01],\n",
       "       [ 5.08375889e-01,  6.30588587e-01,  9.82716793e-01,\n",
       "         9.44993641e-01,  7.28465118e-01,  2.01444027e-01,\n",
       "         2.87506807e-01],\n",
       "       [ 6.82024684e-01,  9.95252658e-01,  4.31099107e-01,\n",
       "         9.69208626e-01,  6.73350771e-01,  2.87506807e-01,\n",
       "         5.08375889e-01],\n",
       "       [ 4.04795906e-01,  4.93820405e-01,  3.40867595e-05,\n",
       "         9.86626932e-01,  6.15726962e-01,  5.08375889e-01,\n",
       "         6.82024684e-01],\n",
       "       [ 8.03502679e-01,  3.21764121e-03,  4.43386369e-01,\n",
       "         9.96996294e-01,  5.56428240e-01,  6.82024684e-01,\n",
       "         4.04795906e-01],\n",
       "       [ 2.72274456e-01,  3.81431114e-01,  9.85802836e-01,\n",
       "         1.00016654e+00,  4.96313414e-01,  4.04795906e-01,\n",
       "         8.03502679e-01],\n",
       "       [ 3.73188778e-01,  9.67025195e-01,  6.78682758e-01,\n",
       "         9.96091742e-01,  4.36253110e-01,  8.03502679e-01,\n",
       "         2.72274456e-01],\n",
       "       [ 6.63745863e-01,  7.35888327e-01,  5.91306436e-02,\n",
       "         9.84830929e-01,  3.77117166e-01,  2.72274456e-01,\n",
       "         3.73188778e-01],\n",
       "       [ 6.93068138e-01,  9.22423854e-02,  2.10645288e-01,\n",
       "         9.66547182e-01,  3.19762031e-01,  3.73188778e-01,\n",
       "         6.63745863e-01],\n",
       "       [ 6.79739831e-01,  1.61722463e-01,  8.68251508e-01,\n",
       "         9.41505302e-01,  2.65018365e-01,  6.63745863e-01,\n",
       "         6.93068138e-01],\n",
       "       [ 6.26045796e-01,  8.22818878e-01,  8.81899889e-01,\n",
       "         9.10067962e-01,  2.13679005e-01,  6.93068138e-01,\n",
       "         6.79739831e-01],\n",
       "       [ 3.47293783e-01,  9.19378415e-01,  2.27721568e-01,\n",
       "         8.72690461e-01,  1.66487486e-01,  6.79739831e-01,\n",
       "         6.26045796e-01],\n",
       "       [ 4.94666773e-01,  2.82533695e-01,  4.97711061e-02,\n",
       "         8.29914128e-01,  1.24127271e-01,  6.26045796e-01,\n",
       "         3.47293783e-01],\n",
       "       [ 6.87356007e-01,  2.60255487e-02,  6.59255755e-01,\n",
       "         7.82358480e-01,  8.72118500e-02,  3.47293783e-01,\n",
       "         4.94666773e-01],\n",
       "       [ 6.56510497e-01,  5.98446211e-01,  9.90283128e-01,\n",
       "         7.30712254e-01,  5.62758600e-02,  4.94666773e-01,\n",
       "         6.87356007e-01],\n",
       "       [ 6.41278147e-01,  9.98722353e-01,  4.63938632e-01,\n",
       "         6.75723428e-01,  3.17673387e-02,  6.87356007e-01,\n",
       "         6.56510497e-01],\n",
       "       [ 5.09899124e-01,  5.26834223e-01,  7.15659306e-04,\n",
       "         6.18188390e-01,  1.40412363e-02,  6.56510497e-01,\n",
       "         6.41278147e-01],\n",
       "       [ 5.89488155e-01,  8.03962924e-03,  4.10718026e-01,\n",
       "         5.58940406e-01,  3.35427523e-03,  6.41278147e-01,\n",
       "         5.09899124e-01],\n",
       "       [ 2.74940118e-01,  3.49628376e-01,  9.76916350e-01,\n",
       "         4.98837547e-01, -1.38768036e-04,  5.09899124e-01,\n",
       "         5.89488155e-01],\n",
       "       [ 6.51179174e-01,  9.54215697e-01,  7.09119189e-01,\n",
       "         4.38750268e-01,  3.61269529e-03,  5.89488155e-01,\n",
       "         2.74940118e-01],\n",
       "       [ 2.09060202e-01,  7.64473857e-01,  7.56614812e-02,\n",
       "         3.79548796e-01,  1.45543337e-02,  2.74940118e-01,\n",
       "         6.51179174e-01],\n",
       "       [ 4.10888846e-01,  1.12231367e-01,  1.84360708e-01,\n",
       "         3.22090531e-01,  3.25276825e-02,  6.51179174e-01,\n",
       "         2.09060202e-01],\n",
       "       [ 5.06437572e-02,  1.38157325e-01,  8.45119090e-01,\n",
       "         2.67207625e-01,  5.72724384e-02,  2.09060202e-01,\n",
       "         4.10888846e-01],\n",
       "       [ 7.64279377e-01,  7.96911325e-01,  9.02374578e-01,\n",
       "         2.15694932e-01,  8.84302297e-02,  4.10888846e-01,\n",
       "         5.06437572e-02]])"
      ]
     },
     "execution_count": 57,
     "metadata": {},
     "output_type": "execute_result"
    }
   ],
   "source": [
    "X_val"
   ]
  },
  {
   "cell_type": "code",
   "execution_count": 58,
   "metadata": {},
   "outputs": [
    {
     "data": {
      "text/plain": [
       "array([ 68.3,  83.5,  60.5, 154.3, 153. , 126.3,  98.1,  54.2, 175.3,\n",
       "       178.9, 176.6, 136.1, 175.4, 208. , 200. , 114. , 200. , 198.4,\n",
       "       181.1, 203.5, 152.2, 147.2,  73.4,  52.9,  75.5, 133.5, 179.1,\n",
       "       106.3, 211. ,  71.5,  98. , 174.3, 182. , 178.5, 164.4,  91.2,\n",
       "       129.9, 180.5, 172.4, 168.4, 133.9, 154.8,  72.2, 171. ,  54.9,\n",
       "       107.9,  13.3, 200.7])"
      ]
     },
     "execution_count": 58,
     "metadata": {},
     "output_type": "execute_result"
    }
   ],
   "source": [
    "y_val"
   ]
  },
  {
   "cell_type": "code",
   "execution_count": 59,
   "metadata": {},
   "outputs": [],
   "source": [
    "import tensorflow.keras as keras"
   ]
  },
  {
   "cell_type": "markdown",
   "metadata": {},
   "source": [
    "<h2 style=\"color: #e67e22; text-align: left;\">   Red Nueronal con una sola Capa oculta(MLP)</h2> \n",
    "\n",
    "La siguiente es la configuración de una red neuronal con una sola capa oculta"
   ]
  },
  {
   "cell_type": "code",
   "execution_count": 60,
   "metadata": {
    "tags": []
   },
   "outputs": [
    {
     "name": "stdout",
     "output_type": "stream",
     "text": [
      "Model: \"sequential\"\n",
      "_________________________________________________________________\n",
      " Layer (type)                Output Shape              Param #   \n",
      "=================================================================\n",
      " dense (Dense)               (None, 64)                512       \n",
      "                                                                 \n",
      " dense_1 (Dense)             (None, 1)                 65        \n",
      "                                                                 \n",
      "=================================================================\n",
      "Total params: 577\n",
      "Trainable params: 577\n",
      "Non-trainable params: 0\n",
      "_________________________________________________________________\n"
     ]
    }
   ],
   "source": [
    "model=keras.models.Sequential([keras.layers.Dense(64,activation=\"relu\",input_shape=X_train.shape[1:]),keras.layers.Dense(1)])\n",
    "model.summary()"
   ]
  },
  {
   "cell_type": "code",
   "execution_count": 61,
   "metadata": {},
   "outputs": [
    {
     "name": "stdout",
     "output_type": "stream",
     "text": [
      "Epoch 1/50\n",
      "6/6 [==============================] - 3s 124ms/step - loss: 17201.4824 - val_loss: 21455.9375\n",
      "Epoch 2/50\n",
      "6/6 [==============================] - 0s 25ms/step - loss: 17157.3438 - val_loss: 21402.6484\n",
      "Epoch 3/50\n",
      "6/6 [==============================] - 0s 27ms/step - loss: 17112.2793 - val_loss: 21347.7207\n",
      "Epoch 4/50\n",
      "6/6 [==============================] - 0s 23ms/step - loss: 17065.3789 - val_loss: 21290.0000\n",
      "Epoch 5/50\n",
      "6/6 [==============================] - 0s 23ms/step - loss: 17015.7324 - val_loss: 21228.6191\n",
      "Epoch 6/50\n",
      "6/6 [==============================] - 0s 26ms/step - loss: 16962.2207 - val_loss: 21162.7227\n",
      "Epoch 7/50\n",
      "6/6 [==============================] - 0s 23ms/step - loss: 16905.0898 - val_loss: 21090.6582\n",
      "Epoch 8/50\n",
      "6/6 [==============================] - 0s 24ms/step - loss: 16841.1230 - val_loss: 21012.0039\n",
      "Epoch 9/50\n",
      "6/6 [==============================] - 0s 28ms/step - loss: 16773.4473 - val_loss: 20925.3066\n",
      "Epoch 10/50\n",
      "6/6 [==============================] - 0s 31ms/step - loss: 16695.8906 - val_loss: 20831.2188\n",
      "Epoch 11/50\n",
      "6/6 [==============================] - 0s 26ms/step - loss: 16615.4102 - val_loss: 20728.5645\n",
      "Epoch 12/50\n",
      "6/6 [==============================] - 0s 29ms/step - loss: 16527.0820 - val_loss: 20618.2109\n",
      "Epoch 13/50\n",
      "6/6 [==============================] - 0s 26ms/step - loss: 16430.6133 - val_loss: 20501.1738\n",
      "Epoch 14/50\n",
      "6/6 [==============================] - 0s 27ms/step - loss: 16331.5684 - val_loss: 20376.0703\n",
      "Epoch 15/50\n",
      "6/6 [==============================] - 0s 26ms/step - loss: 16226.2471 - val_loss: 20243.9238\n",
      "Epoch 16/50\n",
      "6/6 [==============================] - 0s 25ms/step - loss: 16111.8564 - val_loss: 20106.9141\n",
      "Epoch 17/50\n",
      "6/6 [==============================] - 0s 24ms/step - loss: 15995.1377 - val_loss: 19962.8574\n",
      "Epoch 18/50\n",
      "6/6 [==============================] - 0s 20ms/step - loss: 15872.7988 - val_loss: 19812.3672\n",
      "Epoch 19/50\n",
      "6/6 [==============================] - 0s 23ms/step - loss: 15744.4199 - val_loss: 19655.7949\n",
      "Epoch 20/50\n",
      "6/6 [==============================] - 0s 22ms/step - loss: 15614.2666 - val_loss: 19491.4512\n",
      "Epoch 21/50\n",
      "6/6 [==============================] - 0s 26ms/step - loss: 15476.1152 - val_loss: 19321.3027\n",
      "Epoch 22/50\n",
      "6/6 [==============================] - 0s 22ms/step - loss: 15330.9004 - val_loss: 19146.7480\n",
      "Epoch 23/50\n",
      "6/6 [==============================] - 0s 24ms/step - loss: 15183.2695 - val_loss: 18966.1270\n",
      "Epoch 24/50\n",
      "6/6 [==============================] - 0s 24ms/step - loss: 15027.9502 - val_loss: 18781.2363\n",
      "Epoch 25/50\n",
      "6/6 [==============================] - 0s 23ms/step - loss: 14874.4043 - val_loss: 18588.1543\n",
      "Epoch 26/50\n",
      "6/6 [==============================] - 0s 20ms/step - loss: 14711.0732 - val_loss: 18390.4941\n",
      "Epoch 27/50\n",
      "6/6 [==============================] - 0s 23ms/step - loss: 14545.6963 - val_loss: 18186.8496\n",
      "Epoch 28/50\n",
      "6/6 [==============================] - 0s 31ms/step - loss: 14374.0420 - val_loss: 17978.8418\n",
      "Epoch 29/50\n",
      "6/6 [==============================] - 0s 24ms/step - loss: 14200.4492 - val_loss: 17765.1035\n",
      "Epoch 30/50\n",
      "6/6 [==============================] - 0s 27ms/step - loss: 14024.2236 - val_loss: 17545.3066\n",
      "Epoch 31/50\n",
      "6/6 [==============================] - 0s 30ms/step - loss: 13840.6816 - val_loss: 17322.0566\n",
      "Epoch 32/50\n",
      "6/6 [==============================] - 0s 24ms/step - loss: 13651.8418 - val_loss: 17096.5566\n",
      "Epoch 33/50\n",
      "6/6 [==============================] - 0s 27ms/step - loss: 13466.9873 - val_loss: 16864.2344\n",
      "Epoch 34/50\n",
      "6/6 [==============================] - 0s 26ms/step - loss: 13270.8359 - val_loss: 16630.6543\n",
      "Epoch 35/50\n",
      "6/6 [==============================] - 0s 25ms/step - loss: 13078.4385 - val_loss: 16391.4961\n",
      "Epoch 36/50\n",
      "6/6 [==============================] - 0s 29ms/step - loss: 12876.2627 - val_loss: 16151.4795\n",
      "Epoch 37/50\n",
      "6/6 [==============================] - 0s 27ms/step - loss: 12680.0547 - val_loss: 15905.0430\n",
      "Epoch 38/50\n",
      "6/6 [==============================] - 0s 30ms/step - loss: 12472.5781 - val_loss: 15658.2158\n",
      "Epoch 39/50\n",
      "6/6 [==============================] - 0s 27ms/step - loss: 12272.3643 - val_loss: 15404.9365\n",
      "Epoch 40/50\n",
      "6/6 [==============================] - 0s 28ms/step - loss: 12062.8418 - val_loss: 15150.3037\n",
      "Epoch 41/50\n",
      "6/6 [==============================] - 0s 28ms/step - loss: 11852.9414 - val_loss: 14893.5439\n",
      "Epoch 42/50\n",
      "6/6 [==============================] - 0s 25ms/step - loss: 11636.9609 - val_loss: 14637.5029\n",
      "Epoch 43/50\n",
      "6/6 [==============================] - 0s 25ms/step - loss: 11430.7432 - val_loss: 14374.6670\n",
      "Epoch 44/50\n",
      "6/6 [==============================] - 0s 25ms/step - loss: 11215.1699 - val_loss: 14110.7510\n",
      "Epoch 45/50\n",
      "6/6 [==============================] - 0s 27ms/step - loss: 10997.5732 - val_loss: 13846.0361\n",
      "Epoch 46/50\n",
      "6/6 [==============================] - 0s 33ms/step - loss: 10778.7500 - val_loss: 13580.3555\n",
      "Epoch 47/50\n",
      "6/6 [==============================] - 0s 29ms/step - loss: 10559.8164 - val_loss: 13312.5986\n",
      "Epoch 48/50\n",
      "6/6 [==============================] - 0s 31ms/step - loss: 10344.7812 - val_loss: 13040.0547\n",
      "Epoch 49/50\n",
      "6/6 [==============================] - 0s 26ms/step - loss: 10121.8301 - val_loss: 12767.9502\n",
      "Epoch 50/50\n",
      "6/6 [==============================] - 0s 32ms/step - loss: 9903.6309 - val_loss: 12493.4600\n"
     ]
    }
   ],
   "source": [
    "model.compile(loss=\"mean_squared_error\",optimizer=\"adam\")\n",
    "history=model.fit(X_train,y_train,epochs=50,validation_data=(X_val,y_val)) #está tomando por defecto 32 del tamaño del lote, que sucede si es mayor o menor? Se puede modificar usando  el argumento batch_size= "
   ]
  },
  {
   "cell_type": "code",
   "execution_count": 62,
   "metadata": {},
   "outputs": [
    {
     "data": {
      "text/plain": [
       "<AxesSubplot:>"
      ]
     },
     "execution_count": 62,
     "metadata": {},
     "output_type": "execute_result"
    },
    {
     "data": {
      "image/png": "[encoded data removed]",
      "text/plain": [
       "<Figure size 576x360 with 1 Axes>"
      ]
     },
     "metadata": {
      "needs_background": "light"
     },
     "output_type": "display_data"
    }
   ],
   "source": [
    "pd.DataFrame(history.history).plot(figsize=(8,5))"
   ]
  },
  {
   "cell_type": "code",
   "execution_count": 63,
   "metadata": {},
   "outputs": [
    {
     "name": "stdout",
     "output_type": "stream",
     "text": [
      "1/1 [==============================] - 0s 79ms/step - loss: 14154.6875\n"
     ]
    }
   ],
   "source": [
    "mse_test=model.evaluate(X_test,y_test)\n"
   ]
  },
  {
   "cell_type": "code",
   "execution_count": 64,
   "metadata": {},
   "outputs": [
    {
     "name": "stdout",
     "output_type": "stream",
     "text": [
      "14154.6875\n"
     ]
    }
   ],
   "source": [
    "print(mse_test)"
   ]
  },
  {
   "cell_type": "code",
   "execution_count": 65,
   "metadata": {},
   "outputs": [
    {
     "name": "stdout",
     "output_type": "stream",
     "text": [
      "1/1 [==============================] - 0s 316ms/step\n",
      "[[30.461544]\n",
      " [28.501698]\n",
      " [30.356247]\n",
      " [39.959568]\n",
      " [37.34063 ]\n",
      " [29.03766 ]\n",
      " [23.165222]\n",
      " [31.8545  ]\n",
      " [36.432327]\n",
      " [32.815617]\n",
      " [27.89368 ]\n",
      " [30.443329]\n",
      " [38.418156]\n",
      " [35.374607]\n",
      " [28.999874]\n",
      " [31.355686]\n",
      " [40.337482]\n",
      " [44.400837]\n",
      " [38.99858 ]\n",
      " [36.750584]\n",
      " [44.899464]\n",
      " [49.662586]\n",
      " [46.149616]\n",
      " [40.80716 ]\n",
      " [44.27155 ]\n",
      " [49.137974]\n",
      " [43.86854 ]]\n"
     ]
    }
   ],
   "source": [
    "ypred=model.predict(X_test)\n",
    "print(ypred)"
   ]
  },
  {
   "cell_type": "code",
   "execution_count": 66,
   "metadata": {},
   "outputs": [
    {
     "data": {
      "text/plain": [
       "Text(0.5, 0, 'Index')"
      ]
     },
     "execution_count": 66,
     "metadata": {},
     "output_type": "execute_result"
    },
    {
     "data": {
      "image/png": "[encoded data removed]",
      "text/plain": [
       "<Figure size 432x432 with 1 Axes>"
      ]
     },
     "metadata": {
      "needs_background": "light"
     },
     "output_type": "display_data"
    }
   ],
   "source": [
    "plt.figure(figsize=(6, 6))\n",
    "plt.plot(range(y_test.size), y_test, linestyle='-', marker='*', color='r')\n",
    "plt.plot(range(ypred.size), ypred, linestyle='-', marker='.', color='b') \n",
    "plt.legend(['Actual','Predicted'], loc=2)\n",
    "plt.title('Actual vs Predicted Kms recorridos por Iván')\n",
    "plt.ylabel('Kms')\n",
    "plt.xlabel('Index')"
   ]
  },
  {
   "cell_type": "markdown",
   "metadata": {},
   "source": [
    "<h2 style=\"color: #e67e22; text-align: left;\"> Modelos mas complejos</h2>  "
   ]
  },
  {
   "cell_type": "code",
   "execution_count": 67,
   "metadata": {},
   "outputs": [],
   "source": [
    "input_layer = keras.layers.Input(shape=X_train.shape[1:])\n",
    "hidden1 = keras.layers.Dense(32,activation=\"linear\")(input_layer)\n",
    "hidden2 = keras.layers.Dense(16,activation=\"linear\")(hidden1)\n",
    "hidden3 = keras.layers.Dense(16,activation=\"linear\")(hidden2)\n",
    "#dropout_layer = keras.layers.Dropout(0.2)(hidden3)\n",
    "#output_layer = keras.layers.Dense(1, activation='linear')(dropout_layer)\n",
    "output_layer = keras.layers.Dense(1, activation='linear')(hidden3)"
   ]
  },
  {
   "cell_type": "code",
   "execution_count": 68,
   "metadata": {},
   "outputs": [
    {
     "name": "stdout",
     "output_type": "stream",
     "text": [
      "Model: \"model\"\n",
      "_________________________________________________________________\n",
      " Layer (type)                Output Shape              Param #   \n",
      "=================================================================\n",
      " input_1 (InputLayer)        [(None, 7)]               0         \n",
      "                                                                 \n",
      " dense_2 (Dense)             (None, 32)                256       \n",
      "                                                                 \n",
      " dense_3 (Dense)             (None, 16)                528       \n",
      "                                                                 \n",
      " dense_4 (Dense)             (None, 16)                272       \n",
      "                                                                 \n",
      " dense_5 (Dense)             (None, 1)                 17        \n",
      "                                                                 \n",
      "=================================================================\n",
      "Total params: 1,073\n",
      "Trainable params: 1,073\n",
      "Non-trainable params: 0\n",
      "_________________________________________________________________\n"
     ]
    }
   ],
   "source": [
    "ts_model=keras.Model(inputs=[input_layer],outputs=[output_layer])\n",
    "ts_model.summary()"
   ]
  },
  {
   "cell_type": "code",
   "execution_count": 69,
   "metadata": {},
   "outputs": [
    {
     "name": "stdout",
     "output_type": "stream",
     "text": [
      "Input shape: (191, 7)\n",
      "Target shape: (191,)\n"
     ]
    }
   ],
   "source": [
    "print(\"Input shape:\", X_train.shape)\n",
    "print(\"Target shape:\", y_train.shape)"
   ]
  },
  {
   "cell_type": "code",
   "execution_count": 70,
   "metadata": {},
   "outputs": [
    {
     "data": {
      "text/plain": [
       "numpy.ndarray"
      ]
     },
     "execution_count": 70,
     "metadata": {},
     "output_type": "execute_result"
    }
   ],
   "source": [
    "type(X_train)"
   ]
  },
  {
   "cell_type": "code",
   "execution_count": 71,
   "metadata": {},
   "outputs": [
    {
     "name": "stdout",
     "output_type": "stream",
     "text": [
      "Epoch 1/50\n",
      "12/12 [==============================] - 4s 64ms/step - loss: 17180.3516 - val_loss: 21249.0762\n",
      "Epoch 2/50\n",
      "12/12 [==============================] - 0s 16ms/step - loss: 16848.5605 - val_loss: 20804.9746\n",
      "Epoch 3/50\n",
      "12/12 [==============================] - 0s 19ms/step - loss: 16429.0820 - val_loss: 20184.2051\n",
      "Epoch 4/50\n",
      "12/12 [==============================] - 0s 16ms/step - loss: 15790.2783 - val_loss: 19254.3887\n",
      "Epoch 5/50\n",
      "12/12 [==============================] - 0s 15ms/step - loss: 14863.9014 - val_loss: 17818.6074\n",
      "Epoch 6/50\n",
      "12/12 [==============================] - 0s 14ms/step - loss: 13444.0410 - val_loss: 15734.1992\n",
      "Epoch 7/50\n",
      "12/12 [==============================] - 0s 16ms/step - loss: 11482.3623 - val_loss: 12863.0469\n",
      "Epoch 8/50\n",
      "12/12 [==============================] - 0s 17ms/step - loss: 8914.9150 - val_loss: 9344.6338\n",
      "Epoch 9/50\n",
      "12/12 [==============================] - 0s 13ms/step - loss: 5992.3403 - val_loss: 5782.9575\n",
      "Epoch 10/50\n",
      "12/12 [==============================] - 0s 16ms/step - loss: 3556.9487 - val_loss: 3091.1443\n",
      "Epoch 11/50\n",
      "12/12 [==============================] - 0s 15ms/step - loss: 2290.5857 - val_loss: 1997.0205\n",
      "Epoch 12/50\n",
      "12/12 [==============================] - 0s 15ms/step - loss: 2076.4111 - val_loss: 1840.1572\n",
      "Epoch 13/50\n",
      "12/12 [==============================] - 0s 16ms/step - loss: 2066.4324 - val_loss: 1834.5299\n",
      "Epoch 14/50\n",
      "12/12 [==============================] - 0s 19ms/step - loss: 2014.3947 - val_loss: 1866.5458\n",
      "Epoch 15/50\n",
      "12/12 [==============================] - 0s 15ms/step - loss: 1969.5525 - val_loss: 1863.6656\n",
      "Epoch 16/50\n",
      "12/12 [==============================] - 0s 16ms/step - loss: 1932.3013 - val_loss: 1827.6586\n",
      "Epoch 17/50\n",
      "12/12 [==============================] - 0s 16ms/step - loss: 1897.1569 - val_loss: 1771.5756\n",
      "Epoch 18/50\n",
      "12/12 [==============================] - 0s 14ms/step - loss: 1859.9309 - val_loss: 1745.9447\n",
      "Epoch 19/50\n",
      "12/12 [==============================] - 0s 15ms/step - loss: 1822.3879 - val_loss: 1746.1803\n",
      "Epoch 20/50\n",
      "12/12 [==============================] - 0s 16ms/step - loss: 1785.7529 - val_loss: 1699.6914\n",
      "Epoch 21/50\n",
      "12/12 [==============================] - 0s 15ms/step - loss: 1768.1204 - val_loss: 1635.7445\n",
      "Epoch 22/50\n",
      "12/12 [==============================] - 0s 16ms/step - loss: 1711.3452 - val_loss: 1664.4352\n",
      "Epoch 23/50\n",
      "12/12 [==============================] - 0s 16ms/step - loss: 1682.6906 - val_loss: 1628.8066\n",
      "Epoch 24/50\n",
      "12/12 [==============================] - 0s 16ms/step - loss: 1634.6875 - val_loss: 1564.6475\n",
      "Epoch 25/50\n",
      "12/12 [==============================] - 0s 16ms/step - loss: 1595.6823 - val_loss: 1541.0052\n",
      "Epoch 26/50\n",
      "12/12 [==============================] - 0s 17ms/step - loss: 1556.8528 - val_loss: 1528.9150\n",
      "Epoch 27/50\n",
      "12/12 [==============================] - 0s 17ms/step - loss: 1530.4437 - val_loss: 1470.9376\n",
      "Epoch 28/50\n",
      "12/12 [==============================] - 0s 15ms/step - loss: 1481.0393 - val_loss: 1444.1754\n",
      "Epoch 29/50\n",
      "12/12 [==============================] - 0s 15ms/step - loss: 1441.5732 - val_loss: 1462.2998\n",
      "Epoch 30/50\n",
      "12/12 [==============================] - 0s 17ms/step - loss: 1399.7950 - val_loss: 1386.3198\n",
      "Epoch 31/50\n",
      "12/12 [==============================] - 0s 15ms/step - loss: 1357.4656 - val_loss: 1351.7489\n",
      "Epoch 32/50\n",
      "12/12 [==============================] - 0s 15ms/step - loss: 1310.1427 - val_loss: 1312.1940\n",
      "Epoch 33/50\n",
      "12/12 [==============================] - 0s 16ms/step - loss: 1268.7159 - val_loss: 1274.6653\n",
      "Epoch 34/50\n",
      "12/12 [==============================] - 0s 18ms/step - loss: 1224.2905 - val_loss: 1249.9866\n",
      "Epoch 35/50\n",
      "12/12 [==============================] - 0s 15ms/step - loss: 1182.5510 - val_loss: 1216.9717\n",
      "Epoch 36/50\n",
      "12/12 [==============================] - 0s 16ms/step - loss: 1147.5052 - val_loss: 1153.7955\n",
      "Epoch 37/50\n",
      "12/12 [==============================] - 0s 15ms/step - loss: 1103.9888 - val_loss: 1171.3427\n",
      "Epoch 38/50\n",
      "12/12 [==============================] - 0s 16ms/step - loss: 1052.8950 - val_loss: 1105.2720\n",
      "Epoch 39/50\n",
      "12/12 [==============================] - 0s 15ms/step - loss: 1008.5110 - val_loss: 1046.6880\n",
      "Epoch 40/50\n",
      "12/12 [==============================] - 0s 16ms/step - loss: 963.3033 - val_loss: 1031.6746\n",
      "Epoch 41/50\n",
      "12/12 [==============================] - 0s 16ms/step - loss: 924.3516 - val_loss: 996.0622\n",
      "Epoch 42/50\n",
      "12/12 [==============================] - 0s 17ms/step - loss: 879.5694 - val_loss: 956.0297\n",
      "Epoch 43/50\n",
      "12/12 [==============================] - 0s 16ms/step - loss: 835.4351 - val_loss: 903.9692\n",
      "Epoch 44/50\n",
      "12/12 [==============================] - 0s 17ms/step - loss: 790.4473 - val_loss: 876.7057\n",
      "Epoch 45/50\n",
      "12/12 [==============================] - 0s 14ms/step - loss: 749.6666 - val_loss: 841.8418\n",
      "Epoch 46/50\n",
      "12/12 [==============================] - 0s 16ms/step - loss: 709.4792 - val_loss: 805.8252\n",
      "Epoch 47/50\n",
      "12/12 [==============================] - 0s 19ms/step - loss: 671.1651 - val_loss: 759.8296\n",
      "Epoch 48/50\n",
      "12/12 [==============================] - 0s 16ms/step - loss: 632.5205 - val_loss: 726.6321\n",
      "Epoch 49/50\n",
      "12/12 [==============================] - 0s 19ms/step - loss: 595.3851 - val_loss: 690.0674\n",
      "Epoch 50/50\n",
      "12/12 [==============================] - 0s 15ms/step - loss: 566.7084 - val_loss: 669.6006\n"
     ]
    }
   ],
   "source": [
    "ts_model.compile(loss=\"mean_squared_error\",optimizer=\"adam\")\n",
    "history=ts_model.fit(X_train,y_train,epochs=50,batch_size=16,validation_data=(X_val,y_val))"
   ]
  },
  {
   "cell_type": "code",
   "execution_count": 72,
   "metadata": {},
   "outputs": [
    {
     "data": {
      "text/plain": [
       "<AxesSubplot:>"
      ]
     },
     "execution_count": 72,
     "metadata": {},
     "output_type": "execute_result"
    },
    {
     "data": {
      "image/png": "[encoded data removed]",
      "text/plain": [
       "<Figure size 576x360 with 1 Axes>"
      ]
     },
     "metadata": {
      "needs_background": "light"
     },
     "output_type": "display_data"
    }
   ],
   "source": [
    "pd.DataFrame(history.history).plot(figsize=(8,5))"
   ]
  },
  {
   "cell_type": "code",
   "execution_count": 73,
   "metadata": {},
   "outputs": [
    {
     "name": "stdout",
     "output_type": "stream",
     "text": [
      "1/1 [==============================] - 0s 441ms/step - loss: 483.4838\n"
     ]
    }
   ],
   "source": [
    "mse_test=ts_model.evaluate(X_test,y_test)"
   ]
  },
  {
   "cell_type": "code",
   "execution_count": 74,
   "metadata": {},
   "outputs": [
    {
     "name": "stdout",
     "output_type": "stream",
     "text": [
      "483.48382568359375\n"
     ]
    }
   ],
   "source": [
    "print(mse_test)"
   ]
  },
  {
   "cell_type": "code",
   "execution_count": 75,
   "metadata": {},
   "outputs": [
    {
     "name": "stdout",
     "output_type": "stream",
     "text": [
      "1/1 [==============================] - 0s 245ms/step\n",
      "[[128.79597 ]\n",
      " [164.30502 ]\n",
      " [166.18417 ]\n",
      " [174.0161  ]\n",
      " [137.25323 ]\n",
      " [145.21584 ]\n",
      " [ 85.834755]\n",
      " [118.91238 ]\n",
      " [145.09793 ]\n",
      " [134.50824 ]\n",
      " [131.57724 ]\n",
      " [ 97.70055 ]\n",
      " [127.33671 ]\n",
      " [125.977905]\n",
      " [107.06527 ]\n",
      " [126.514786]\n",
      " [134.78754 ]\n",
      " [164.58759 ]\n",
      " [178.32404 ]\n",
      " [146.52002 ]\n",
      " [172.04108 ]\n",
      " [184.14267 ]\n",
      " [188.94942 ]\n",
      " [184.5646  ]\n",
      " [163.01332 ]\n",
      " [144.72348 ]\n",
      " [129.84367 ]]\n"
     ]
    }
   ],
   "source": [
    "preds_ts_model=ts_model.predict(X_test)\n",
    "print(preds_ts_model)"
   ]
  },
  {
   "cell_type": "code",
   "execution_count": 76,
   "metadata": {},
   "outputs": [
    {
     "data": {
      "text/plain": [
       "Text(0.5, 0, 'Index')"
      ]
     },
     "execution_count": 76,
     "metadata": {},
     "output_type": "execute_result"
    },
    {
     "data": {
      "image/png": "[encoded data removed]",
      "text/plain": [
       "<Figure size 432x432 with 1 Axes>"
      ]
     },
     "metadata": {
      "needs_background": "light"
     },
     "output_type": "display_data"
    }
   ],
   "source": [
    "plt.figure(figsize=(6, 6))\n",
    "plt.plot(range(y_test.size), y_test, linestyle='-', marker='*', color='r')\n",
    "plt.plot(range(preds_ts_model.size), preds_ts_model, linestyle='-', marker='.', color='b') \n",
    "plt.legend(['Actual','Predicted'], loc=2)\n",
    "plt.title('Actual vs Predicted Kms')\n",
    "plt.ylabel('Kms recorridos por Iván')\n",
    "plt.xlabel('Index')"
   ]
  },
  {
   "cell_type": "markdown",
   "metadata": {},
   "source": [
    "<h2 style=\"color: #e67e22; text-align: left;\"> Busqueda de los hiperparámetros</h2>   "
   ]
  },
  {
   "cell_type": "code",
   "execution_count": 77,
   "metadata": {},
   "outputs": [],
   "source": [
    "from tensorflow import keras\n",
    "import keras_tuner as kt\n",
    "from tensorflow.keras import layers"
   ]
  },
  {
   "cell_type": "code",
   "execution_count": 78,
   "metadata": {},
   "outputs": [
    {
     "data": {
      "text/plain": [
       "<keras.engine.sequential.Sequential at 0x2336e813ac0>"
      ]
     },
     "execution_count": 78,
     "metadata": {},
     "output_type": "execute_result"
    }
   ],
   "source": [
    "def build_model(hp):\n",
    "    model = keras.Sequential()\n",
    "    model.add(layers.Dense(units=hp.Int(\"num_units\", min_value=32, max_value=64, step=32),\n",
    "                activation=hp.Choice(\"activation\", [\"relu\", \"tanh\"])))\n",
    "    # Tune the number of layers.\n",
    "    for i in range(hp.Int(\"num_layers\", 1, 2)):\n",
    "        model.add(\n",
    "            layers.Dense(\n",
    "                # Tune number of units separately.\n",
    "                units=hp.Int(f\"units_{i}\", min_value=32, max_value=64, step=32),\n",
    "                activation=hp.Choice(\"activation\", [\"relu\", \"tanh\"]),\n",
    "            )\n",
    "        )\n",
    "    if hp.Boolean(\"dropout\"):\n",
    "        model.add(layers.Dropout(rate=0.25))\n",
    "    model.add(layers.Dense(1, activation=\"linear\"))\n",
    "    learning_rate = hp.Float(\"lr\", min_value=1e-3, max_value=1e-2,step=0.003)\n",
    "    model.compile(\n",
    "        optimizer=keras.optimizers.Adam(learning_rate=learning_rate),\n",
    "        loss=\"mean_squared_error\",\n",
    "        metrics=[\"mean_squared_error\"]\n",
    "    )\n",
    "    return model\n",
    "\n",
    "\n",
    "build_model(kt.HyperParameters())"
   ]
  },
  {
   "cell_type": "code",
   "execution_count": 79,
   "metadata": {},
   "outputs": [],
   "source": [
    "tuner_GridSearch_mlp = kt.GridSearch(\n",
    "    hypermodel=build_model,\n",
    "    objective=\"val_loss\",\n",
    "    max_trials=None,\n",
    "    executions_per_trial=1,\n",
    "    overwrite=True,\n",
    "    directory=\"dirsalida\",\n",
    "    project_name=\"helloworld\",\n",
    ")"
   ]
  },
  {
   "cell_type": "code",
   "execution_count": 83,
   "metadata": {
    "scrolled": true
   },
   "outputs": [
    {
     "name": "stdout",
     "output_type": "stream",
     "text": [
      "Search space summary\n",
      "Default search space size: 7\n",
      "num_units (Int)\n",
      "{'default': None, 'conditions': [], 'min_value': 32, 'max_value': 64, 'step': 32, 'sampling': 'linear'}\n",
      "activation (Choice)\n",
      "{'default': 'relu', 'conditions': [], 'values': ['relu', 'tanh'], 'ordered': False}\n",
      "num_layers (Int)\n",
      "{'default': None, 'conditions': [], 'min_value': 1, 'max_value': 2, 'step': 1, 'sampling': 'linear'}\n",
      "units_0 (Int)\n",
      "{'default': None, 'conditions': [], 'min_value': 32, 'max_value': 64, 'step': 32, 'sampling': 'linear'}\n",
      "dropout (Boolean)\n",
      "{'default': False, 'conditions': []}\n",
      "lr (Float)\n",
      "{'default': 0.001, 'conditions': [], 'min_value': 0.001, 'max_value': 0.01, 'step': 0.003, 'sampling': 'linear'}\n",
      "units_1 (Int)\n",
      "{'default': None, 'conditions': [], 'min_value': 32, 'max_value': 64, 'step': 32, 'sampling': 'linear'}\n"
     ]
    }
   ],
   "source": [
    "tuner_GridSearch_mlp.search_space_summary()"
   ]
  },
  {
   "cell_type": "code",
   "execution_count": 84,
   "metadata": {},
   "outputs": [],
   "source": [
    "stop_early=tf.keras.callbacks.EarlyStopping(monitor=\"val_loss\",patience=2)"
   ]
  },
  {
   "cell_type": "code",
   "execution_count": 85,
   "metadata": {},
   "outputs": [],
   "source": [
    "tuner_GridSearch_mlp.search(X_train,y_train, epochs=20, validation_data=(X_val,y_val),callbacks=[stop_early])"
   ]
  },
  {
   "cell_type": "code",
   "execution_count": 86,
   "metadata": {},
   "outputs": [
    {
     "name": "stdout",
     "output_type": "stream",
     "text": [
      "Shape de la variable: (7, 64)\n"
     ]
    }
   ],
   "source": [
    "# Get the top 2 models.\n",
    "shape = (7, 64)\n",
    "initial_value = tf.random.normal(shape=(shape[0], shape[1]))\n",
    "\n",
    "# Crear la variable con el valor inicial y la forma especificada\n",
    "variable = tf.Variable(initial_value, shape=shape)\n",
    "\n",
    "# Verificar la forma de la variable creada\n",
    "print(\"Shape de la variable:\", variable.shape)"
   ]
  },
  {
   "cell_type": "markdown",
   "metadata": {},
   "source": [
    "<h2 style=\"color: #e67e22; text-align: left;\"> Los mejores 10 modelos</h2>   \n",
    "\n"
   ]
  },
  {
   "cell_type": "code",
   "execution_count": 87,
   "metadata": {},
   "outputs": [
    {
     "name": "stdout",
     "output_type": "stream",
     "text": [
      "Results summary\n",
      "Results in dirsalida\\helloworld\n",
      "Showing 10 best trials\n",
      "Objective(name=\"val_loss\", direction=\"min\")\n",
      "\n",
      "Trial 0175 summary\n",
      "Hyperparameters:\n",
      "num_units: 64\n",
      "activation: relu\n",
      "num_layers: 2\n",
      "units_0: 64\n",
      "dropout: True\n",
      "lr: 0.010000000000000002\n",
      "units_1: 64\n",
      "Score: 35.2726936340332\n",
      "\n",
      "Trial 0167 summary\n",
      "Hyperparameters:\n",
      "num_units: 64\n",
      "activation: relu\n",
      "num_layers: 2\n",
      "units_0: 64\n",
      "dropout: False\n",
      "lr: 0.010000000000000002\n",
      "units_1: 64\n",
      "Score: 38.17170333862305\n",
      "\n",
      "Trial 0047 summary\n",
      "Hyperparameters:\n",
      "num_units: 32\n",
      "activation: relu\n",
      "num_layers: 2\n",
      "units_0: 64\n",
      "dropout: True\n",
      "lr: 0.010000000000000002\n",
      "units_1: 64\n",
      "Score: 114.6114730834961\n",
      "\n",
      "Trial 0039 summary\n",
      "Hyperparameters:\n",
      "num_units: 32\n",
      "activation: relu\n",
      "num_layers: 2\n",
      "units_0: 64\n",
      "dropout: False\n",
      "lr: 0.010000000000000002\n",
      "units_1: 64\n",
      "Score: 115.4169692993164\n",
      "\n",
      "Trial 0166 summary\n",
      "Hyperparameters:\n",
      "num_units: 64\n",
      "activation: relu\n",
      "num_layers: 2\n",
      "units_0: 64\n",
      "dropout: False\n",
      "lr: 0.010000000000000002\n",
      "units_1: 32\n",
      "Score: 131.088623046875\n",
      "\n",
      "Trial 0151 summary\n",
      "Hyperparameters:\n",
      "num_units: 64\n",
      "activation: relu\n",
      "num_layers: 2\n",
      "units_0: 32\n",
      "dropout: False\n",
      "lr: 0.010000000000000002\n",
      "units_1: 64\n",
      "Score: 156.5976104736328\n",
      "\n",
      "Trial 0173 summary\n",
      "Hyperparameters:\n",
      "num_units: 64\n",
      "activation: relu\n",
      "num_layers: 2\n",
      "units_0: 64\n",
      "dropout: True\n",
      "lr: 0.007\n",
      "units_1: 64\n",
      "Score: 196.38819885253906\n",
      "\n",
      "Trial 0174 summary\n",
      "Hyperparameters:\n",
      "num_units: 64\n",
      "activation: relu\n",
      "num_layers: 2\n",
      "units_0: 64\n",
      "dropout: True\n",
      "lr: 0.010000000000000002\n",
      "units_1: 32\n",
      "Score: 304.6864929199219\n",
      "\n",
      "Trial 0149 summary\n",
      "Hyperparameters:\n",
      "num_units: 64\n",
      "activation: relu\n",
      "num_layers: 2\n",
      "units_0: 32\n",
      "dropout: False\n",
      "lr: 0.007\n",
      "units_1: 64\n",
      "Score: 375.5816955566406\n",
      "\n",
      "Trial 0172 summary\n",
      "Hyperparameters:\n",
      "num_units: 64\n",
      "activation: relu\n",
      "num_layers: 2\n",
      "units_0: 64\n",
      "dropout: True\n",
      "lr: 0.007\n",
      "units_1: 32\n",
      "Score: 447.9638977050781\n"
     ]
    }
   ],
   "source": [
    "tuner_GridSearch_mlp.results_summary()"
   ]
  },
  {
   "cell_type": "markdown",
   "metadata": {},
   "source": [
    "<h2 style=\"color: #e67e22; text-align: left;\"> Ajuste del mejor modelo con el conjunto de entrenamineto y validación</h2>   "
   ]
  },
  {
   "cell_type": "code",
   "execution_count": 88,
   "metadata": {},
   "outputs": [],
   "source": [
    "x_all = np.concatenate((X_train, X_val))\n",
    "y_all = np.concatenate((y_train, y_val))"
   ]
  },
  {
   "cell_type": "code",
   "execution_count": 89,
   "metadata": {},
   "outputs": [
    {
     "name": "stdout",
     "output_type": "stream",
     "text": [
      "Epoch 1/50\n",
      "8/8 [==============================] - 4s 9ms/step - loss: 16987.6992 - mean_squared_error: 16987.6992\n",
      "Epoch 2/50\n",
      "8/8 [==============================] - 0s 8ms/step - loss: 6202.1865 - mean_squared_error: 6202.1865\n",
      "Epoch 3/50\n",
      "8/8 [==============================] - 0s 6ms/step - loss: 3624.0510 - mean_squared_error: 3624.0510\n",
      "Epoch 4/50\n",
      "8/8 [==============================] - 0s 7ms/step - loss: 2915.6521 - mean_squared_error: 2915.6521\n",
      "Epoch 5/50\n",
      "8/8 [==============================] - 0s 7ms/step - loss: 2034.3085 - mean_squared_error: 2034.3085\n",
      "Epoch 6/50\n",
      "8/8 [==============================] - 0s 6ms/step - loss: 1767.9966 - mean_squared_error: 1767.9966\n",
      "Epoch 7/50\n",
      "8/8 [==============================] - 0s 7ms/step - loss: 1389.7964 - mean_squared_error: 1389.7964\n",
      "Epoch 8/50\n",
      "8/8 [==============================] - 0s 7ms/step - loss: 1369.5201 - mean_squared_error: 1369.5201\n",
      "Epoch 9/50\n",
      "8/8 [==============================] - 0s 7ms/step - loss: 1004.6632 - mean_squared_error: 1004.6632\n",
      "Epoch 10/50\n",
      "8/8 [==============================] - 0s 9ms/step - loss: 817.5246 - mean_squared_error: 817.5246\n",
      "Epoch 11/50\n",
      "8/8 [==============================] - 0s 7ms/step - loss: 801.3713 - mean_squared_error: 801.3713\n",
      "Epoch 12/50\n",
      "8/8 [==============================] - 0s 9ms/step - loss: 587.6611 - mean_squared_error: 587.6611\n",
      "Epoch 13/50\n",
      "8/8 [==============================] - 0s 8ms/step - loss: 602.3575 - mean_squared_error: 602.3575\n",
      "Epoch 14/50\n",
      "8/8 [==============================] - 0s 8ms/step - loss: 433.8077 - mean_squared_error: 433.8077\n",
      "Epoch 15/50\n",
      "8/8 [==============================] - 0s 10ms/step - loss: 418.4390 - mean_squared_error: 418.4390\n",
      "Epoch 16/50\n",
      "8/8 [==============================] - 0s 7ms/step - loss: 394.5121 - mean_squared_error: 394.5121\n",
      "Epoch 17/50\n",
      "8/8 [==============================] - 0s 7ms/step - loss: 328.7114 - mean_squared_error: 328.7114\n",
      "Epoch 18/50\n",
      "8/8 [==============================] - 0s 7ms/step - loss: 250.2271 - mean_squared_error: 250.2271\n",
      "Epoch 19/50\n",
      "8/8 [==============================] - 0s 8ms/step - loss: 237.4949 - mean_squared_error: 237.4949\n",
      "Epoch 20/50\n",
      "8/8 [==============================] - 0s 7ms/step - loss: 269.5518 - mean_squared_error: 269.5518\n",
      "Epoch 21/50\n",
      "8/8 [==============================] - 0s 7ms/step - loss: 199.2354 - mean_squared_error: 199.2354\n",
      "Epoch 22/50\n",
      "8/8 [==============================] - 0s 7ms/step - loss: 309.6038 - mean_squared_error: 309.6038\n",
      "Epoch 23/50\n",
      "8/8 [==============================] - 0s 6ms/step - loss: 255.0247 - mean_squared_error: 255.0247\n",
      "Epoch 24/50\n",
      "8/8 [==============================] - 0s 7ms/step - loss: 245.5426 - mean_squared_error: 245.5426\n",
      "Epoch 25/50\n",
      "8/8 [==============================] - 0s 8ms/step - loss: 260.1906 - mean_squared_error: 260.1906\n",
      "Epoch 26/50\n",
      "8/8 [==============================] - 0s 8ms/step - loss: 304.1561 - mean_squared_error: 304.1561\n"
     ]
    },
    {
     "data": {
      "text/plain": [
       "<keras.callbacks.History at 0x23373812fd0>"
      ]
     },
     "execution_count": 89,
     "metadata": {},
     "output_type": "execute_result"
    }
   ],
   "source": [
    "callback=tf.keras.callbacks.EarlyStopping(monitor=\"loss\",patience=5)\n",
    "best_hps_mlp = tuner_GridSearch_mlp.get_best_hyperparameters(2)\n",
    "model_mlp = build_model(best_hps_mlp[0])\n",
    "# Fit with the entire dataset.\n",
    "model_mlp.fit(x_all,y_all, epochs=50,callbacks=[callback])"
   ]
  },
  {
   "cell_type": "code",
   "execution_count": 110,
   "metadata": {},
   "outputs": [
    {
     "data": {
      "text/plain": [
       "array([[-1.37044251e-01,  3.11767936e-01, -3.42087328e-01,\n",
       "         4.28011149e-01,  1.33449435e+00, -2.19895810e-01,\n",
       "         4.22669202e-01, -1.62275173e-02,  6.03473902e-01,\n",
       "         7.88827181e-01, -2.99684048e-01,  8.69486749e-01,\n",
       "         6.67322993e-01,  5.74551582e-01,  4.98135656e-01,\n",
       "        -1.14693195e-02,  1.90955088e-01,  3.55962366e-01,\n",
       "         4.74306494e-01,  2.93315887e-01, -1.79635301e-01,\n",
       "         7.70548820e-01,  9.56614256e-01, -1.66104227e-01,\n",
       "         2.19055563e-01,  9.84409511e-01, -2.26052582e-01,\n",
       "         2.62626380e-01,  7.93445408e-01,  6.90932751e-01,\n",
       "         1.10224593e+00,  9.33375239e-01,  3.64181489e-01,\n",
       "         1.20683968e+00,  4.40167725e-01,  7.43808091e-01,\n",
       "         7.23330498e-01,  8.27281594e-01,  9.96007323e-01,\n",
       "         3.61384869e-01,  6.27636135e-01,  4.71390367e-01,\n",
       "         7.27593303e-01, -2.06785589e-01,  5.74242353e-01,\n",
       "         1.80703774e-01,  1.69987991e-01,  7.60992646e-01,\n",
       "         6.62578702e-01,  7.24356949e-01,  4.16102916e-01,\n",
       "         1.04865932e+00, -1.63939059e-01, -1.68833464e-01,\n",
       "         8.32537174e-01,  5.06057203e-01,  2.29292065e-01,\n",
       "         9.78067756e-01,  8.91071379e-01, -1.32145375e-01,\n",
       "         7.51346529e-01,  7.28207007e-02,  8.51720750e-01,\n",
       "        -2.84691095e-01],\n",
       "       [-2.48791397e-01, -4.46436666e-02,  2.94382945e-02,\n",
       "         3.98014812e-03,  1.08790658e-01,  2.30866694e-03,\n",
       "         2.93396171e-02,  1.04449049e-01,  1.07252091e-01,\n",
       "         1.92251578e-01,  1.59821168e-01,  2.54755132e-02,\n",
       "         4.91729602e-02, -2.30542734e-01, -2.65105993e-01,\n",
       "         1.79460626e-02,  4.51407060e-02,  7.25216568e-02,\n",
       "        -1.78695604e-01,  2.39941567e-01,  1.18205167e-01,\n",
       "         1.27997637e-01, -2.31833190e-01,  3.39487828e-02,\n",
       "         1.59630269e-01,  6.09782711e-02, -2.80863911e-01,\n",
       "         2.11640626e-01, -1.47668213e-01,  3.86344828e-02,\n",
       "        -1.57352298e-01,  1.39873266e-01,  1.47255644e-01,\n",
       "        -1.01760566e-01,  2.12461859e-01,  1.76408902e-01,\n",
       "        -1.32057518e-01,  1.42663881e-01, -1.11523412e-01,\n",
       "         6.00516871e-02,  4.99611907e-02, -4.01988775e-02,\n",
       "        -2.13812776e-02,  2.89661866e-02, -1.64633080e-01,\n",
       "        -2.59131104e-01,  2.44481489e-01,  8.46265815e-03,\n",
       "        -6.53216839e-02,  8.08127075e-02,  2.60859001e-02,\n",
       "        -5.95959276e-03, -2.89198816e-01,  3.40424776e-02,\n",
       "         2.12025214e-02, -5.62094748e-02, -6.58490658e-02,\n",
       "         1.38911277e-01,  5.59305549e-02,  4.70304973e-02,\n",
       "        -1.13905445e-02, -2.73569733e-01, -1.54293021e-02,\n",
       "        -2.81032175e-01],\n",
       "       [ 1.72093511e-02, -1.55234292e-01,  1.10545091e-01,\n",
       "         1.72249824e-01, -8.24149847e-02, -6.05570488e-02,\n",
       "        -2.65866667e-01, -4.23059575e-02, -1.21594533e-01,\n",
       "         1.12555288e-01, -1.02122501e-01,  5.09424135e-02,\n",
       "         2.13710785e-01, -1.99631125e-01,  1.63374767e-01,\n",
       "         2.00926557e-01, -2.72518724e-01,  1.14271650e-02,\n",
       "         5.97308502e-02,  1.77187383e-01, -7.97112808e-02,\n",
       "        -1.31510779e-01,  1.51350737e-01,  1.77949145e-02,\n",
       "        -2.25813285e-01,  8.28776583e-02,  8.99889171e-02,\n",
       "        -1.11090071e-01, -2.84400396e-02, -1.77429199e-01,\n",
       "         3.30924243e-02, -1.00664534e-01, -1.37206927e-01,\n",
       "         1.50454357e-01,  8.24511126e-02, -1.55986056e-01,\n",
       "        -8.66315365e-02,  2.98499987e-02, -7.60494247e-02,\n",
       "         1.05331868e-01,  2.15907872e-01,  2.29048118e-01,\n",
       "         4.25116159e-03, -1.42191932e-01, -7.84288719e-02,\n",
       "        -2.13443488e-02, -9.76523384e-02,  3.67256775e-02,\n",
       "         1.74234182e-01, -7.91019350e-02, -6.52573630e-02,\n",
       "         1.99390069e-01, -8.86446983e-02, -1.64511949e-01,\n",
       "         1.98484540e-01, -1.90267429e-01, -8.27833563e-02,\n",
       "        -1.15919933e-01, -1.30575389e-01, -3.76162678e-01,\n",
       "         9.30428505e-02, -2.74724096e-01, -2.43826270e-01,\n",
       "        -3.09704244e-01],\n",
       "       [ 6.66674674e-02,  1.57992035e-01, -3.16482216e-01,\n",
       "         6.18616454e-02, -1.33938082e-02, -1.17987148e-01,\n",
       "         9.14036408e-02, -2.49485672e-01, -1.92418039e-01,\n",
       "        -2.08974600e-01,  7.94320107e-02, -6.23610988e-02,\n",
       "         1.81425884e-01,  1.94733411e-01,  1.04269028e-01,\n",
       "        -3.75208586e-01,  7.04903295e-03, -2.61280537e-01,\n",
       "        -1.98425770e-01, -5.76282889e-02,  2.25242749e-01,\n",
       "         1.30338505e-01, -1.01977579e-01, -1.53083950e-01,\n",
       "        -1.87579095e-01,  1.72015384e-01, -5.24098277e-02,\n",
       "        -1.82469115e-02,  2.33659089e-01,  1.12451464e-01,\n",
       "         2.70520914e-02, -3.60052995e-02, -9.79173090e-03,\n",
       "        -2.64235940e-02, -1.67829528e-01,  9.43454430e-02,\n",
       "         6.00757711e-02,  5.06052654e-03, -1.61673248e-01,\n",
       "        -1.94369376e-01, -1.88141435e-01,  1.63597375e-01,\n",
       "         1.12077668e-01, -3.11034739e-01,  1.63203806e-01,\n",
       "        -1.75976247e-01, -5.79938553e-02, -1.68422118e-01,\n",
       "         1.94059402e-01,  7.91618973e-02,  1.63592577e-01,\n",
       "        -2.45642602e-01, -1.55572981e-01, -6.15394711e-02,\n",
       "         3.23125310e-02,  8.26509818e-02, -1.49178326e-01,\n",
       "        -1.32696345e-01,  6.97705615e-03,  1.08594850e-01,\n",
       "        -3.78897786e-02, -3.60926837e-01,  9.28223431e-02,\n",
       "        -6.73074722e-02],\n",
       "       [ 4.87495065e-02, -7.72346035e-02,  1.87142529e-02,\n",
       "        -1.02236554e-01, -2.35124417e-02,  1.25099003e-01,\n",
       "        -1.52591050e-01,  9.61950645e-02, -1.13395415e-01,\n",
       "         1.50847342e-02,  1.73645362e-01,  1.20390244e-01,\n",
       "         7.34665766e-02, -2.15044975e-01,  4.56043184e-02,\n",
       "        -1.42032146e-01, -2.73356885e-01, -1.73093721e-01,\n",
       "        -1.52828291e-01,  2.34468102e-01, -1.76814586e-01,\n",
       "         1.96344689e-01, -5.00234067e-02,  4.12474722e-02,\n",
       "        -1.76432610e-01,  1.28739804e-01,  2.67931819e-02,\n",
       "        -1.17355369e-01, -1.99371681e-01, -1.44358307e-01,\n",
       "         1.01932976e-02, -1.88852906e-01, -2.36373872e-01,\n",
       "        -3.76994647e-02, -1.51489517e-02, -2.79150577e-03,\n",
       "        -2.08829179e-01,  1.21617846e-01,  1.06880277e-01,\n",
       "         1.06361747e-01, -1.61264941e-01,  2.14293793e-01,\n",
       "         1.46309361e-01, -2.91801870e-01, -1.11639746e-01,\n",
       "        -1.77820414e-01,  1.88490212e-01, -5.79787157e-02,\n",
       "         4.31624651e-02,  1.45751610e-01, -1.13253236e-01,\n",
       "        -1.49902463e-01,  1.86987951e-01, -1.61729738e-01,\n",
       "         2.38496423e-01, -1.94950476e-01, -2.21605793e-01,\n",
       "         2.06429422e-01,  2.52150536e-01,  5.14316699e-03,\n",
       "         1.23358995e-01, -1.57427281e-01, -7.25808814e-02,\n",
       "        -3.05413246e-01],\n",
       "       [-1.20446384e-01,  1.81087092e-01, -2.87056360e-02,\n",
       "         2.03630570e-02,  1.45228758e-01, -2.91444082e-02,\n",
       "         2.18287438e-01,  9.37141478e-02,  1.08577684e-01,\n",
       "         5.74095435e-02, -3.18153054e-01, -7.16133714e-02,\n",
       "        -1.37085214e-01,  1.35468319e-01, -2.03811571e-01,\n",
       "         1.43138781e-01,  1.09933451e-01,  3.31819057e-02,\n",
       "        -5.54951988e-02, -6.88568875e-03,  1.29605949e-01,\n",
       "        -6.05483688e-02,  2.50548515e-02,  1.52895600e-01,\n",
       "        -9.48052853e-02, -1.78798586e-01, -1.59152716e-01,\n",
       "         2.84620970e-01, -2.47206911e-01,  1.91169605e-01,\n",
       "        -7.94689578e-04, -1.24573797e-01,  1.67441502e-01,\n",
       "         5.24068959e-02,  5.84265254e-02,  8.47647041e-02,\n",
       "        -1.41275749e-01, -4.88587171e-02,  1.13199048e-01,\n",
       "         2.44325876e-01,  1.77771971e-01, -2.20598295e-01,\n",
       "        -1.43756017e-01,  1.00577347e-01,  3.38598490e-02,\n",
       "         2.94909347e-02,  2.25180760e-01, -2.72385210e-01,\n",
       "         2.08358038e-02, -9.16292239e-03,  5.29969484e-03,\n",
       "         4.68253456e-02,  6.45423830e-02, -1.04672894e-01,\n",
       "        -3.43930662e-01,  1.33246541e-01, -9.42347944e-02,\n",
       "         5.10008223e-02, -5.89445531e-02, -1.44188955e-01,\n",
       "        -3.14285129e-01,  5.05294651e-02,  1.58959955e-01,\n",
       "        -3.34003538e-01],\n",
       "       [-2.29716182e-01,  8.81809741e-02, -2.02835873e-01,\n",
       "         1.38992639e-02, -3.49508896e-02, -1.00469962e-01,\n",
       "         2.09667012e-01,  9.17353183e-02,  1.58246204e-01,\n",
       "        -1.98419303e-01,  1.37251049e-01,  2.35730574e-01,\n",
       "         9.34157223e-02, -3.64868715e-02, -3.37133370e-02,\n",
       "        -1.34806499e-01, -2.21572265e-01,  2.19199926e-01,\n",
       "         1.08067594e-01,  2.61983633e-01,  3.53020757e-01,\n",
       "        -1.33268505e-01, -1.66137621e-01,  3.41388769e-02,\n",
       "         2.59472579e-01, -7.69956857e-02, -7.88636506e-02,\n",
       "         1.00708395e-01,  7.25953057e-02, -2.70780355e-01,\n",
       "         1.17771238e-01,  8.12138169e-05, -1.69292763e-01,\n",
       "         5.63236922e-02,  3.95405218e-02, -1.24506347e-01,\n",
       "         1.36205837e-01, -1.42219573e-01,  1.86281875e-02,\n",
       "        -7.20677245e-03,  8.74272920e-03,  2.99187358e-02,\n",
       "         1.18393399e-01,  7.78546976e-03,  3.43771487e-01,\n",
       "        -5.24818012e-03, -2.56923884e-01, -1.40171915e-01,\n",
       "         5.60395755e-02, -1.40074283e-01,  1.10518947e-01,\n",
       "         7.01868907e-02,  2.40414083e-01, -1.08580813e-01,\n",
       "         2.19785497e-01,  1.27678230e-01,  2.00938225e-01,\n",
       "        -1.64387196e-01, -2.02204451e-01, -2.18889583e-02,\n",
       "         1.34078726e-01, -1.33561388e-01, -1.89539179e-01,\n",
       "        -1.12940729e-01],\n",
       "       [ 2.29303330e-01, -2.33925804e-01, -3.06486130e-01,\n",
       "        -1.71514392e-01, -1.46388188e-01,  1.29942536e-01,\n",
       "         8.44604224e-02,  3.52599829e-01, -1.28979161e-01,\n",
       "        -3.66903134e-02, -3.09887886e-01, -2.81183094e-01,\n",
       "        -3.65465358e-02,  6.76964745e-02,  5.93524333e-03,\n",
       "        -1.97846442e-01, -2.10429072e-01, -4.14094795e-03,\n",
       "         6.13268726e-02, -2.38199979e-02, -1.60704702e-02,\n",
       "         2.07373023e-01,  1.60800114e-01, -1.72081679e-01,\n",
       "        -1.94183975e-01, -2.19751999e-01, -2.28918865e-01,\n",
       "        -2.32958928e-01, -4.22386080e-02,  2.75662933e-02,\n",
       "         1.30336419e-01,  1.58245638e-01,  2.19679102e-01,\n",
       "         4.83671501e-02,  4.07808051e-02, -4.34327833e-02,\n",
       "         7.22770542e-02,  7.64710009e-02,  1.42888218e-01,\n",
       "        -1.64916322e-01,  2.72696521e-02, -1.60720855e-01,\n",
       "        -1.38964280e-01,  1.41009673e-01, -8.16104263e-02,\n",
       "         1.44863948e-01, -1.21636555e-01,  1.79132238e-01,\n",
       "         1.71924099e-01,  1.13078974e-01,  1.36971539e-02,\n",
       "         1.00793533e-01, -5.65716671e-03, -3.92914861e-02,\n",
       "         1.97153255e-01,  2.30311736e-01, -1.96605593e-01,\n",
       "        -9.19061080e-02, -2.13935286e-01,  9.15501863e-02,\n",
       "         3.06524355e-02,  1.23139516e-01,  1.75253645e-01,\n",
       "        -1.57097414e-01],\n",
       "       [-6.16753250e-02,  1.52988881e-01, -8.84066373e-02,\n",
       "        -6.71210587e-02, -2.11404949e-01, -2.24098891e-01,\n",
       "         9.95250568e-02, -1.02896295e-01,  2.17466563e-01,\n",
       "        -2.25397214e-01, -2.18359858e-01, -1.82521060e-01,\n",
       "         6.24210872e-02,  2.65891701e-01,  2.45704308e-01,\n",
       "        -4.32209596e-02, -1.02882974e-01, -9.18027684e-02,\n",
       "        -2.22848132e-01, -1.31739512e-01, -1.30985826e-01,\n",
       "        -1.80221885e-01,  2.00441837e-01,  7.31851757e-02,\n",
       "        -1.45298138e-01,  2.07050517e-03, -1.89513236e-01,\n",
       "         2.38034576e-01,  1.68109939e-01,  1.56062260e-01,\n",
       "        -9.86065343e-02,  6.37622550e-02,  1.03174210e-01,\n",
       "         1.21333338e-01, -2.06421450e-01,  8.06520060e-02,\n",
       "         1.24301784e-01, -7.33526275e-02,  2.16344967e-01,\n",
       "        -1.30159557e-01,  8.17665085e-02, -2.42939383e-01,\n",
       "         5.12642413e-02, -2.97775924e-01, -1.58492014e-01,\n",
       "        -2.24514812e-01,  2.31298074e-01,  1.28825843e-01,\n",
       "        -8.77956972e-02, -1.57372635e-02, -4.69723828e-02,\n",
       "        -1.06691539e-01, -2.43186876e-01, -2.47265369e-01,\n",
       "         1.14731580e-01, -1.13481291e-01, -1.19294092e-01,\n",
       "        -4.45434824e-02,  1.33724898e-01,  6.95065707e-02,\n",
       "         1.64053798e-01, -2.58378714e-01, -7.02648535e-02,\n",
       "         4.22981493e-02],\n",
       "       [-1.61658585e-01,  1.36447445e-01, -2.92443354e-02,\n",
       "         2.56949030e-02,  1.39613301e-01, -2.81477511e-01,\n",
       "        -1.79916784e-01,  2.50375867e-01, -1.71538323e-01,\n",
       "         1.64859667e-01,  1.78589925e-01, -2.44996324e-02,\n",
       "         3.07229739e-02,  2.43024826e-01,  2.28788536e-02,\n",
       "         2.06851602e-01, -1.53785467e-01,  1.97065875e-01,\n",
       "         1.93639696e-01,  7.69153833e-02,  1.82173550e-01,\n",
       "        -9.92372036e-02,  1.36799783e-01, -1.93334281e-01,\n",
       "        -2.67206848e-01, -6.92218021e-02, -9.01297331e-02,\n",
       "        -2.05688812e-02,  1.05801359e-01,  1.50583033e-02,\n",
       "        -1.51072338e-01,  1.72568470e-01, -5.86625673e-02,\n",
       "        -1.60550609e-01,  1.51189044e-01,  6.05795607e-02,\n",
       "         1.43102616e-01,  2.31151935e-02, -2.15980560e-01,\n",
       "         2.22356275e-01, -2.77301431e-01, -1.21037224e-02,\n",
       "         1.48806527e-01,  8.97804573e-02,  1.20409973e-01,\n",
       "        -3.02834332e-01,  1.87124431e-01,  2.08867397e-02,\n",
       "        -2.93897897e-01,  7.24948943e-02, -1.95942484e-02,\n",
       "        -1.54693276e-01, -1.70883775e-01, -3.99172306e-03,\n",
       "        -3.39926600e-01, -1.20967045e-01,  3.06267440e-02,\n",
       "         1.38509050e-01,  1.78430025e-02, -2.91208029e-01,\n",
       "        -4.16828319e-02, -2.88979828e-01,  4.21714894e-02,\n",
       "         1.52283058e-01],\n",
       "       [-1.19643778e-01, -3.49473357e-02,  4.53750603e-02,\n",
       "        -1.26851499e-01, -1.52784949e-02, -2.46088177e-01,\n",
       "         1.89726546e-01, -1.58002928e-01, -2.19438481e-03,\n",
       "         2.62784343e-02, -7.37711862e-02,  1.91175595e-01,\n",
       "        -2.34569684e-02, -1.16103888e-01,  4.45061475e-02,\n",
       "        -7.21159354e-02, -1.63568139e-01,  1.10015377e-01,\n",
       "         1.78759053e-01, -1.17663905e-01,  6.25026003e-02,\n",
       "         7.69316452e-03,  9.74137485e-02, -3.06803823e-01,\n",
       "        -2.18456998e-01,  1.07136585e-01,  2.00346559e-01,\n",
       "        -1.77937523e-01,  2.24063069e-01, -1.62079316e-02,\n",
       "         1.22934468e-01,  1.51628941e-01, -1.46994352e-01,\n",
       "        -1.75278783e-01, -2.47131079e-01, -7.09594116e-02,\n",
       "         1.25027932e-02, -1.94866270e-01, -1.46414489e-01,\n",
       "        -1.44321278e-01, -1.88742489e-01,  1.89509913e-01,\n",
       "         6.52120635e-02, -2.22276121e-01, -1.51481122e-01,\n",
       "        -1.61942303e-01, -1.41058698e-01,  1.96921274e-01,\n",
       "         3.70806716e-02, -9.08571929e-02, -4.22290862e-02,\n",
       "        -4.53739874e-02, -2.24087626e-01, -1.37974203e-01,\n",
       "         1.28054053e-01, -5.91306686e-02, -1.71194792e-01,\n",
       "        -2.01064020e-01,  6.48334548e-02, -3.92139666e-02,\n",
       "        -1.61248178e-03,  8.32802057e-02,  2.44098827e-01,\n",
       "         1.57124072e-01],\n",
       "       [-8.72802436e-02, -7.74241388e-02, -3.51514339e-01,\n",
       "         3.36773068e-01, -4.18002419e-02, -1.60528064e-01,\n",
       "         8.32995325e-02,  9.18602198e-02,  2.80837297e-01,\n",
       "        -1.78586870e-01, -3.27480584e-01,  1.05320923e-01,\n",
       "         2.45562315e-01,  5.90481497e-02,  1.85452208e-01,\n",
       "        -3.90573330e-02, -2.18690932e-01,  1.68402363e-02,\n",
       "         1.64800152e-01,  1.75455108e-01,  1.89019814e-01,\n",
       "        -7.95998871e-02, -3.09727937e-01, -1.71749279e-01,\n",
       "        -2.30391771e-01,  1.00378796e-01, -1.50187597e-01,\n",
       "         3.73625278e-01, -1.55401364e-01,  2.47581601e-01,\n",
       "         1.09016426e-01, -2.42039949e-01,  1.15028046e-01,\n",
       "        -1.69921964e-01,  2.17254832e-01, -1.20575577e-01,\n",
       "         2.12718584e-02,  2.54907366e-02, -1.22661628e-01,\n",
       "        -1.03577726e-01,  2.12359264e-01, -1.27514452e-01,\n",
       "        -3.05331796e-01, -2.39011481e-01,  3.90633680e-02,\n",
       "        -2.51351357e-01,  3.03626120e-01,  1.85461640e-01,\n",
       "         5.88285699e-02,  2.93655217e-01,  8.67644697e-02,\n",
       "         1.00663699e-01, -2.58253664e-01, -1.92318559e-02,\n",
       "        -3.23276520e-02,  1.89808905e-01, -1.41110137e-01,\n",
       "        -4.06017452e-02,  1.94675326e-01, -2.73887336e-01,\n",
       "         3.12154032e-02,  5.72598465e-02, -1.15553766e-01,\n",
       "         1.90034267e-02]], dtype=float32)"
      ]
     },
     "execution_count": 110,
     "metadata": {},
     "output_type": "execute_result"
    }
   ],
   "source": [
    "model_mlp.layers[0].get_weights()[0]"
   ]
  },
  {
   "cell_type": "code",
   "execution_count": 111,
   "metadata": {},
   "outputs": [
    {
     "name": "stdout",
     "output_type": "stream",
     "text": [
      "[ 0.         -0.02174609 -0.08620937  0.02180137  0.02594201 -0.14191347\n",
      " -0.01921464  0.11315835 -0.01607207  0.01652003 -0.0713684  -0.05173353\n",
      " -0.00962688 -0.00967716  0.00970609 -0.06209595 -0.05116066 -0.02940643\n",
      " -0.00153265  0.04835726  0.14901428  0.02546816 -0.07575285 -0.07748306\n",
      "  0.          0.00457995  0.          0.04379756  0.00255919 -0.00828321\n",
      " -0.07083062 -0.04729395  0.00073695 -0.01093365 -0.00410548 -0.01192286\n",
      "  0.0023911   0.00554899  0.02220302  0.02415901 -0.00196708  0.02033081\n",
      " -0.01449655 -0.0600512   0.0195901  -0.05558833  0.01490367  0.00199354\n",
      " -0.04455896 -0.02501794 -0.03680494  0.00399301 -0.01181651  0.\n",
      " -0.02796973 -0.00363795  0.          0.01387925  0.01025491 -0.09715459\n",
      " -0.05841712 -0.09761839  0.00761427 -0.11435913]\n"
     ]
    }
   ],
   "source": [
    "print(model_mlp.layers[0].bias.numpy())"
   ]
  },
  {
   "cell_type": "code",
   "execution_count": 112,
   "metadata": {},
   "outputs": [
    {
     "data": {
      "text/plain": [
       "(27, 12)"
      ]
     },
     "execution_count": 112,
     "metadata": {},
     "output_type": "execute_result"
    }
   ],
   "source": [
    "X_test.shape"
   ]
  },
  {
   "cell_type": "code",
   "execution_count": 113,
   "metadata": {},
   "outputs": [
    {
     "name": "stdout",
     "output_type": "stream",
     "text": [
      "1/1 [==============================] - 0s 367ms/step\n"
     ]
    }
   ],
   "source": [
    "prediction_test=model_mlp.predict( X_test, verbose=1)"
   ]
  },
  {
   "cell_type": "code",
   "execution_count": 114,
   "metadata": {},
   "outputs": [
    {
     "data": {
      "text/plain": [
       "array([[122.40724 ],\n",
       "       [191.20389 ],\n",
       "       [186.57243 ],\n",
       "       [185.79619 ],\n",
       "       [107.076584],\n",
       "       [157.11768 ],\n",
       "       [ 35.418816],\n",
       "       [139.75467 ],\n",
       "       [173.02309 ],\n",
       "       [114.87732 ],\n",
       "       [130.07112 ],\n",
       "       [ 67.0627  ],\n",
       "       [146.51065 ],\n",
       "       [122.87221 ],\n",
       "       [ 79.86789 ],\n",
       "       [146.23778 ],\n",
       "       [142.78499 ],\n",
       "       [188.93854 ],\n",
       "       [202.48642 ],\n",
       "       [125.63301 ],\n",
       "       [206.41653 ],\n",
       "       [211.13635 ],\n",
       "       [202.6302  ],\n",
       "       [201.24269 ],\n",
       "       [160.16043 ],\n",
       "       [134.9737  ],\n",
       "       [120.98413 ]], dtype=float32)"
      ]
     },
     "execution_count": 114,
     "metadata": {},
     "output_type": "execute_result"
    }
   ],
   "source": [
    "prediction_test"
   ]
  },
  {
   "cell_type": "code",
   "execution_count": 115,
   "metadata": {},
   "outputs": [],
   "source": [
    "y_test=y_test.reshape((y_test.shape[0], 1))"
   ]
  },
  {
   "cell_type": "code",
   "execution_count": 116,
   "metadata": {},
   "outputs": [
    {
     "data": {
      "text/plain": [
       "(27, 1)"
      ]
     },
     "execution_count": 116,
     "metadata": {},
     "output_type": "execute_result"
    }
   ],
   "source": [
    "prediction_test.shape"
   ]
  },
  {
   "cell_type": "code",
   "execution_count": 117,
   "metadata": {},
   "outputs": [
    {
     "data": {
      "text/plain": [
       "(27, 1)"
      ]
     },
     "execution_count": 117,
     "metadata": {},
     "output_type": "execute_result"
    }
   ],
   "source": [
    "y_test.shape"
   ]
  },
  {
   "cell_type": "markdown",
   "metadata": {},
   "source": [
    "**Devolviendo a la escala original**"
   ]
  },
  {
   "cell_type": "code",
   "execution_count": 121,
   "metadata": {},
   "outputs": [
    {
     "data": {
      "text/plain": [
       "48.14013908282751"
      ]
     },
     "execution_count": 121,
     "metadata": {},
     "output_type": "execute_result"
    }
   ],
   "source": [
    "train_std"
   ]
  },
  {
   "cell_type": "code",
   "execution_count": 120,
   "metadata": {},
   "outputs": [
    {
     "data": {
      "text/plain": [
       "KMS          122.046000\n",
       "Month sin     -0.000064\n",
       "Month cos      0.000019\n",
       "Year sin       0.084394\n",
       "Year cos      -0.015505\n",
       "dtype: float64"
      ]
     },
     "execution_count": 120,
     "metadata": {},
     "output_type": "execute_result"
    }
   ],
   "source": [
    "train_mean"
   ]
  },
  {
   "cell_type": "code",
   "execution_count": 123,
   "metadata": {},
   "outputs": [],
   "source": [
    "y_test2=(y_test*train_std[0])+ train_mean[0]\n",
    "prediction_test2=(prediction_test*train_std[0])+ train_mean[0]"
   ]
  },
  {
   "cell_type": "code",
   "execution_count": 124,
   "metadata": {},
   "outputs": [
    {
     "name": "stdout",
     "output_type": "stream",
     "text": [
      "RECM: 25.797903002306334\n"
     ]
    }
   ],
   "source": [
    "errors_squared=tf.keras.metrics.mean_squared_error(y_test2, prediction_test2).numpy()\n",
    "print(\"RECM:\",errors_squared.mean()**0.5)"
   ]
  },
  {
   "cell_type": "markdown",
   "metadata": {},
   "source": [
    "<h2 style=\"color: #e67e22; text-align: left;\"> Gráfica en el conjunto de prueba</h2>   "
   ]
  },
  {
   "cell_type": "code",
   "execution_count": 128,
   "metadata": {},
   "outputs": [
    {
     "data": {
      "text/plain": [
       "Text(0, 0.5, 'Y y $\\\\hat{Y}$ en conjunto de prueba')"
      ]
     },
     "execution_count": 128,
     "metadata": {},
     "output_type": "execute_result"
    },
    {
     "data": {
      "image/png": "[encoded data removed]",
      "text/plain": [
       "<Figure size 432x288 with 1 Axes>"
      ]
     },
     "metadata": {
      "needs_background": "light"
     },
     "output_type": "display_data"
    }
   ],
   "source": [
    "plt.plot(y_test)\n",
    "plt.plot(prediction_test)\n",
    "plt.legend(['Respuesta real','Predicción de la Respuesta'],loc=\"best\", fontsize=12)\n",
    "plt.ylabel('Y y $\\hat{Y}$ en conjunto de prueba', fontsize=14)"
   ]
  },
  {
   "cell_type": "code",
   "execution_count": 126,
   "metadata": {},
   "outputs": [
    {
     "data": {
      "text/plain": [
       "Text(0, 0.5, '$\\\\hat{e}$ en conjunto de prueba')"
      ]
     },
     "execution_count": 126,
     "metadata": {},
     "output_type": "execute_result"
    },
    {
     "data": {
      "image/png": "[encoded data removed]",
      "text/plain": [
       "<Figure size 432x288 with 1 Axes>"
      ]
     },
     "metadata": {
      "needs_background": "light"
     },
     "output_type": "display_data"
    }
   ],
   "source": [
    "plt.plot(prediction_test2-y_test2)\n",
    "plt.legend(['Error de predicción'],loc=\"best\", fontsize=12)\n",
    "plt.ylabel('$\\hat{e}$ en conjunto de prueba', fontsize=12)"
   ]
  },
  {
   "cell_type": "code",
   "execution_count": 127,
   "metadata": {},
   "outputs": [
    {
     "data": {
      "text/plain": [
       "array([[ -9.27949296],\n",
       "       [ 14.62937878],\n",
       "       [ 13.11503418],\n",
       "       [ -4.99707425],\n",
       "       [  8.50067111],\n",
       "       [-13.59100101],\n",
       "       [ 10.53389725],\n",
       "       [-40.6940863 ],\n",
       "       [-18.14474977],\n",
       "       [-34.78973032],\n",
       "       [-20.64616203],\n",
       "       [-40.30783044],\n",
       "       [-18.7430758 ],\n",
       "       [-30.22182907],\n",
       "       [-54.50004891],\n",
       "       [-27.06529236],\n",
       "       [-39.23462073],\n",
       "       [  6.66898335],\n",
       "       [ 18.60239917],\n",
       "       [-27.29493116],\n",
       "       [  5.61010409],\n",
       "       [  6.56434102],\n",
       "       [ 20.71026026],\n",
       "       [ 16.4975192 ],\n",
       "       [-25.97494436],\n",
       "       [-34.96414307],\n",
       "       [-39.27617076]])"
      ]
     },
     "execution_count": 127,
     "metadata": {},
     "output_type": "execute_result"
    }
   ],
   "source": [
    "prediction_test2-y_test2"
   ]
  },
  {
   "cell_type": "code",
   "execution_count": null,
   "metadata": {},
   "outputs": [],
   "source": []
  }
 ],
 "metadata": {
  "kernelspec": {
   "display_name": "Python 3 (ipykernel)",
   "language": "python",
   "name": "python3"
  },
  "language_info": {
   "codemirror_mode": {
    "name": "ipython",
    "version": 3
   },
   "file_extension": ".py",
   "mimetype": "text/x-python",
   "name": "python",
   "nbconvert_exporter": "python",
   "pygments_lexer": "ipython3",
   "version": "3.9.12"
  }
 },
 "nbformat": 4,
 "nbformat_minor": 4
}
