{
 "cells": [
  {
   "cell_type": "markdown",
   "metadata": {},
   "source": [
    "<center>\n",
    "    <h1 style=\"color: #3498db;\">Aplicación de Redes Neuronales Multicapa para la serie del Atleta Colombiano Iván</h1>\n",
    "</center>"
   ]
  },
  {
   "cell_type": "markdown",
   "metadata": {},
   "source": [
    "<h2 style=\"color: #e67e22; text-align: left;\">Librerías Necesarias</h2>\n"
   ]
  },
  {
   "cell_type": "code",
   "execution_count": 1,
   "metadata": {},
   "outputs": [],
   "source": [
    "from __future__ import print_function\n",
    "import os\n",
    "import sys\n",
    "import pandas as pd\n",
    "import numpy as np\n",
    "%matplotlib inline\n",
    "from matplotlib import pyplot as plt\n",
    "import seaborn as sns\n",
    "import datetime\n",
    "import scipy as sp\n",
    "import tensorflow as tf"
   ]
  },
  {
   "cell_type": "markdown",
   "metadata": {},
   "source": [
    "<h2 style=\"color: #e67e22; text-align: left;\">Descripción de la serie de Tiempo</h2>"
   ]
  },
  {
   "cell_type": "code",
   "execution_count": 2,
   "metadata": {},
   "outputs": [
    {
     "name": "stdout",
     "output_type": "stream",
     "text": [
      "              KMS\n",
      "DATE             \n",
      "2018-12-31   17.3\n",
      "2019-01-07   86.4\n",
      "2019-01-14  107.3\n",
      "2019-01-21  163.1\n",
      "2019-01-28  153.5\n"
     ]
    },
    {
     "data": {
      "text/plain": [
       "268"
      ]
     },
     "execution_count": 2,
     "metadata": {},
     "output_type": "execute_result"
    }
   ],
   "source": [
    "#set current working directory\n",
    "#os.chdir('/Users/sergiocalderon/Documents/Documentos - iMac de Sergio/Documentos iMac Sergio/Cursos/Time Series')\n",
    "#Read the dataset into a pandas.DataFrame\n",
    "ruta = r\"C:\\Users\\Lenovo\\Desktop\\shyni\\Serie_Ivan.xlsx\"\n",
    "# Lee el archivo Excel\n",
    "df = pd.read_excel(ruta,index_col=0)\n",
    "dff=pd.read_excel(ruta,index_col=0)\n",
    "# Muestra las primeras filas del DataFrame\n",
    "print(df.head())\n",
    "df.size"
   ]
  },
  {
   "cell_type": "code",
   "execution_count": 3,
   "metadata": {},
   "outputs": [
    {
     "name": "stdout",
     "output_type": "stream",
     "text": [
      "              KMS\n",
      "DATE             \n",
      "2018-12-31   17.3\n",
      "2019-01-07   86.4\n",
      "2019-01-14  107.3\n",
      "2019-01-21  163.1\n",
      "2019-01-28  153.5\n",
      "...           ...\n",
      "2024-01-15  202.2\n",
      "2024-01-22  200.9\n",
      "2024-01-29  160.7\n",
      "2024-02-05  135.7\n",
      "2024-02-12  121.8\n",
      "\n",
      "[268 rows x 1 columns]\n",
      "<class 'pandas.core.frame.DataFrame'>\n"
     ]
    }
   ],
   "source": [
    "print(df)\n",
    "print(type(df))"
   ]
  },
  {
   "cell_type": "code",
   "execution_count": 4,
   "metadata": {},
   "outputs": [
    {
     "name": "stdout",
     "output_type": "stream",
     "text": [
      "              KMS      Fecha  MES  DIA   AÑO\n",
      "DATE                                        \n",
      "2018-12-31   17.3 2018-12-31   12   31  2018\n",
      "2019-01-07   86.4 2019-01-07    1    7  2019\n",
      "2019-01-14  107.3 2019-01-14    1   14  2019\n",
      "2019-01-21  163.1 2019-01-21    1   21  2019\n",
      "2019-01-28  153.5 2019-01-28    1   28  2019\n",
      "...           ...        ...  ...  ...   ...\n",
      "2024-01-15  202.2 2024-01-15    1   15  2024\n",
      "2024-01-22  200.9 2024-01-22    1   22  2024\n",
      "2024-01-29  160.7 2024-01-29    1   29  2024\n",
      "2024-02-05  135.7 2024-02-05    2    5  2024\n",
      "2024-02-12  121.8 2024-02-12    2   12  2024\n",
      "\n",
      "[268 rows x 5 columns]\n"
     ]
    }
   ],
   "source": [
    "df.index = pd.to_datetime(df.index)\n",
    "df['Fecha'] = pd.to_datetime(df.index)\n",
    "# Crear nuevas columnas con mes, día y año\n",
    "df['MES'] = df.index.month\n",
    "df['DIA'] = df.index.day\n",
    "df['AÑO'] = df.index.year\n",
    "\n",
    "# Mostrar el DataFrame con las nuevas columnas\n",
    "print(df)\n"
   ]
  },
  {
   "cell_type": "markdown",
   "metadata": {},
   "source": [
    "En seguida se crea una columna de fechas"
   ]
  },
  {
   "cell_type": "code",
   "execution_count": 5,
   "metadata": {},
   "outputs": [],
   "source": [
    "df.sort_index(inplace=True)"
   ]
  },
  {
   "cell_type": "code",
   "execution_count": 6,
   "metadata": {},
   "outputs": [
    {
     "data": {
      "text/html": [
       "<div>\n",
       "<style scoped>\n",
       "    .dataframe tbody tr th:only-of-type {\n",
       "        vertical-align: middle;\n",
       "    }\n",
       "\n",
       "    .dataframe tbody tr th {\n",
       "        vertical-align: top;\n",
       "    }\n",
       "\n",
       "    .dataframe thead th {\n",
       "        text-align: right;\n",
       "    }\n",
       "</style>\n",
       "<table border=\"1\" class=\"dataframe\">\n",
       "  <thead>\n",
       "    <tr style=\"text-align: right;\">\n",
       "      <th></th>\n",
       "      <th>KMS</th>\n",
       "      <th>Fecha</th>\n",
       "      <th>MES</th>\n",
       "      <th>DIA</th>\n",
       "      <th>AÑO</th>\n",
       "    </tr>\n",
       "    <tr>\n",
       "      <th>DATE</th>\n",
       "      <th></th>\n",
       "      <th></th>\n",
       "      <th></th>\n",
       "      <th></th>\n",
       "      <th></th>\n",
       "    </tr>\n",
       "  </thead>\n",
       "  <tbody>\n",
       "    <tr>\n",
       "      <th>2018-12-31</th>\n",
       "      <td>17.3</td>\n",
       "      <td>2018-12-31</td>\n",
       "      <td>12</td>\n",
       "      <td>31</td>\n",
       "      <td>2018</td>\n",
       "    </tr>\n",
       "    <tr>\n",
       "      <th>2019-01-07</th>\n",
       "      <td>86.4</td>\n",
       "      <td>2019-01-07</td>\n",
       "      <td>1</td>\n",
       "      <td>7</td>\n",
       "      <td>2019</td>\n",
       "    </tr>\n",
       "    <tr>\n",
       "      <th>2019-01-14</th>\n",
       "      <td>107.3</td>\n",
       "      <td>2019-01-14</td>\n",
       "      <td>1</td>\n",
       "      <td>14</td>\n",
       "      <td>2019</td>\n",
       "    </tr>\n",
       "    <tr>\n",
       "      <th>2019-01-21</th>\n",
       "      <td>163.1</td>\n",
       "      <td>2019-01-21</td>\n",
       "      <td>1</td>\n",
       "      <td>21</td>\n",
       "      <td>2019</td>\n",
       "    </tr>\n",
       "    <tr>\n",
       "      <th>2019-01-28</th>\n",
       "      <td>153.5</td>\n",
       "      <td>2019-01-28</td>\n",
       "      <td>1</td>\n",
       "      <td>28</td>\n",
       "      <td>2019</td>\n",
       "    </tr>\n",
       "    <tr>\n",
       "      <th>...</th>\n",
       "      <td>...</td>\n",
       "      <td>...</td>\n",
       "      <td>...</td>\n",
       "      <td>...</td>\n",
       "      <td>...</td>\n",
       "    </tr>\n",
       "    <tr>\n",
       "      <th>2024-01-15</th>\n",
       "      <td>202.2</td>\n",
       "      <td>2024-01-15</td>\n",
       "      <td>1</td>\n",
       "      <td>15</td>\n",
       "      <td>2024</td>\n",
       "    </tr>\n",
       "    <tr>\n",
       "      <th>2024-01-22</th>\n",
       "      <td>200.9</td>\n",
       "      <td>2024-01-22</td>\n",
       "      <td>1</td>\n",
       "      <td>22</td>\n",
       "      <td>2024</td>\n",
       "    </tr>\n",
       "    <tr>\n",
       "      <th>2024-01-29</th>\n",
       "      <td>160.7</td>\n",
       "      <td>2024-01-29</td>\n",
       "      <td>1</td>\n",
       "      <td>29</td>\n",
       "      <td>2024</td>\n",
       "    </tr>\n",
       "    <tr>\n",
       "      <th>2024-02-05</th>\n",
       "      <td>135.7</td>\n",
       "      <td>2024-02-05</td>\n",
       "      <td>2</td>\n",
       "      <td>5</td>\n",
       "      <td>2024</td>\n",
       "    </tr>\n",
       "    <tr>\n",
       "      <th>2024-02-12</th>\n",
       "      <td>121.8</td>\n",
       "      <td>2024-02-12</td>\n",
       "      <td>2</td>\n",
       "      <td>12</td>\n",
       "      <td>2024</td>\n",
       "    </tr>\n",
       "  </tbody>\n",
       "</table>\n",
       "<p>268 rows × 5 columns</p>\n",
       "</div>"
      ],
      "text/plain": [
       "              KMS      Fecha  MES  DIA   AÑO\n",
       "DATE                                        \n",
       "2018-12-31   17.3 2018-12-31   12   31  2018\n",
       "2019-01-07   86.4 2019-01-07    1    7  2019\n",
       "2019-01-14  107.3 2019-01-14    1   14  2019\n",
       "2019-01-21  163.1 2019-01-21    1   21  2019\n",
       "2019-01-28  153.5 2019-01-28    1   28  2019\n",
       "...           ...        ...  ...  ...   ...\n",
       "2024-01-15  202.2 2024-01-15    1   15  2024\n",
       "2024-01-22  200.9 2024-01-22    1   22  2024\n",
       "2024-01-29  160.7 2024-01-29    1   29  2024\n",
       "2024-02-05  135.7 2024-02-05    2    5  2024\n",
       "2024-02-12  121.8 2024-02-12    2   12  2024\n",
       "\n",
       "[268 rows x 5 columns]"
      ]
     },
     "execution_count": 6,
     "metadata": {},
     "output_type": "execute_result"
    }
   ],
   "source": [
    "df"
   ]
  },
  {
   "cell_type": "code",
   "execution_count": 7,
   "metadata": {},
   "outputs": [
    {
     "name": "stderr",
     "output_type": "stream",
     "text": [
      "C:\\Users\\Lenovo\\anaconda3\\lib\\site-packages\\seaborn\\_decorators.py:36: FutureWarning: Pass the following variable as a keyword arg: x. From version 0.12, the only valid positional argument will be `data`, and passing other arguments without an explicit keyword will result in an error or misinterpretation.\n",
      "  warnings.warn(\n"
     ]
    },
    {
     "data": {
      "text/plain": [
       "Text(0.5, 1.0, 'Box plot of KMS')"
      ]
     },
     "execution_count": 7,
     "metadata": {},
     "output_type": "execute_result"
    },
    {
     "data": {
      "image/png": "[encoded data removed]",
      "text/plain": [
       "<Figure size 396x396 with 1 Axes>"
      ]
     },
     "metadata": {
      "needs_background": "light"
     },
     "output_type": "display_data"
    }
   ],
   "source": [
    "plt.figure(figsize=(5.5, 5.5))\n",
    "g = sns.boxplot(df['KMS']) \n",
    "g.set_title('Box plot of KMS')"
   ]
  },
  {
   "cell_type": "code",
   "execution_count": 8,
   "metadata": {},
   "outputs": [
    {
     "data": {
      "text/plain": [
       "Text(0.5, 1.0, 'Time series of KMS Iván')"
      ]
     },
     "execution_count": 8,
     "metadata": {},
     "output_type": "execute_result"
    },
    {
     "data": {
      "image/png": "[encoded data removed]",
      "text/plain": [
       "<Figure size 432x288 with 1 Axes>"
      ]
     },
     "metadata": {
      "needs_background": "light"
     },
     "output_type": "display_data"
    }
   ],
   "source": [
    "g = plt.plot(df['KMS'])\n",
    "plt.xlabel('Index') \n",
    "plt.ylabel('Time series of KMS Iván') \n",
    "plt.title(label='Time series of KMS Iván') "
   ]
  },
  {
   "cell_type": "code",
   "execution_count": 9,
   "metadata": {},
   "outputs": [],
   "source": [
    "indice=df['Fecha']\n",
    "KMSdf =pd.DataFrame(df['KMS'].values,index=indice)\n"
   ]
  },
  {
   "cell_type": "code",
   "execution_count": 10,
   "metadata": {},
   "outputs": [
    {
     "data": {
      "text/plain": [
       "pandas.core.frame.DataFrame"
      ]
     },
     "execution_count": 10,
     "metadata": {},
     "output_type": "execute_result"
    }
   ],
   "source": [
    "KMSdf.head(10)\n",
    "type(KMSdf)"
   ]
  },
  {
   "cell_type": "code",
   "execution_count": 11,
   "metadata": {},
   "outputs": [
    {
     "data": {
      "text/html": [
       "<div>\n",
       "<style scoped>\n",
       "    .dataframe tbody tr th:only-of-type {\n",
       "        vertical-align: middle;\n",
       "    }\n",
       "\n",
       "    .dataframe tbody tr th {\n",
       "        vertical-align: top;\n",
       "    }\n",
       "\n",
       "    .dataframe thead th {\n",
       "        text-align: right;\n",
       "    }\n",
       "</style>\n",
       "<table border=\"1\" class=\"dataframe\">\n",
       "  <thead>\n",
       "    <tr style=\"text-align: right;\">\n",
       "      <th></th>\n",
       "      <th>0</th>\n",
       "    </tr>\n",
       "    <tr>\n",
       "      <th>Fecha</th>\n",
       "      <th></th>\n",
       "    </tr>\n",
       "  </thead>\n",
       "  <tbody>\n",
       "    <tr>\n",
       "      <th>2018-12-31</th>\n",
       "      <td>17.3</td>\n",
       "    </tr>\n",
       "    <tr>\n",
       "      <th>2019-01-07</th>\n",
       "      <td>86.4</td>\n",
       "    </tr>\n",
       "    <tr>\n",
       "      <th>2019-01-14</th>\n",
       "      <td>107.3</td>\n",
       "    </tr>\n",
       "    <tr>\n",
       "      <th>2019-01-21</th>\n",
       "      <td>163.1</td>\n",
       "    </tr>\n",
       "    <tr>\n",
       "      <th>2019-01-28</th>\n",
       "      <td>153.5</td>\n",
       "    </tr>\n",
       "    <tr>\n",
       "      <th>...</th>\n",
       "      <td>...</td>\n",
       "    </tr>\n",
       "    <tr>\n",
       "      <th>2024-01-15</th>\n",
       "      <td>202.2</td>\n",
       "    </tr>\n",
       "    <tr>\n",
       "      <th>2024-01-22</th>\n",
       "      <td>200.9</td>\n",
       "    </tr>\n",
       "    <tr>\n",
       "      <th>2024-01-29</th>\n",
       "      <td>160.7</td>\n",
       "    </tr>\n",
       "    <tr>\n",
       "      <th>2024-02-05</th>\n",
       "      <td>135.7</td>\n",
       "    </tr>\n",
       "    <tr>\n",
       "      <th>2024-02-12</th>\n",
       "      <td>121.8</td>\n",
       "    </tr>\n",
       "  </tbody>\n",
       "</table>\n",
       "<p>268 rows × 1 columns</p>\n",
       "</div>"
      ],
      "text/plain": [
       "                0\n",
       "Fecha            \n",
       "2018-12-31   17.3\n",
       "2019-01-07   86.4\n",
       "2019-01-14  107.3\n",
       "2019-01-21  163.1\n",
       "2019-01-28  153.5\n",
       "...           ...\n",
       "2024-01-15  202.2\n",
       "2024-01-22  200.9\n",
       "2024-01-29  160.7\n",
       "2024-02-05  135.7\n",
       "2024-02-12  121.8\n",
       "\n",
       "[268 rows x 1 columns]"
      ]
     },
     "execution_count": 11,
     "metadata": {},
     "output_type": "execute_result"
    }
   ],
   "source": [
    "KMSdf"
   ]
  },
  {
   "cell_type": "markdown",
   "metadata": {},
   "source": [
    "<h2 style=\"color: #e67e22; text-align: left;\">Función de Autocorrelación</h2>"
   ]
  },
  {
   "cell_type": "markdown",
   "metadata": {},
   "source": [
    "**Simple**"
   ]
  },
  {
   "cell_type": "code",
   "execution_count": 12,
   "metadata": {},
   "outputs": [
    {
     "data": {
      "image/png": "[encoded data removed]",
      "text/plain": [
       "<Figure size 432x288 with 1 Axes>"
      ]
     },
     "metadata": {
      "needs_background": "light"
     },
     "output_type": "display_data"
    }
   ],
   "source": [
    "from statsmodels.graphics.tsaplots import plot_acf\n",
    "from statsmodels.graphics.tsaplots import plot_pacf\n",
    "plot_acf(KMSdf,lags=104)\n",
    "plt.show()"
   ]
  },
  {
   "cell_type": "markdown",
   "metadata": {},
   "source": [
    "**Parcial**"
   ]
  },
  {
   "cell_type": "code",
   "execution_count": 13,
   "metadata": {},
   "outputs": [
    {
     "data": {
      "image/png": "[encoded data removed]",
      "text/plain": [
       "<Figure size 432x288 with 1 Axes>"
      ]
     },
     "metadata": {
      "needs_background": "light"
     },
     "output_type": "display_data"
    }
   ],
   "source": [
    "plot_pacf(KMSdf,lags=52,method='ldbiased')\n",
    "plt.show()"
   ]
  },
  {
   "cell_type": "markdown",
   "metadata": {},
   "source": [
    "En ambos casos de nos indica que al haber al menor una autocorrelación diferente de cero, se puede decir que las variables del proceso no son independientes."
   ]
  },
  {
   "cell_type": "markdown",
   "metadata": {},
   "source": [
    "<h2 style=\"color: #e67e22; text-align: left;\">Periodograma</h2>"
   ]
  },
  {
   "cell_type": "code",
   "execution_count": 14,
   "metadata": {},
   "outputs": [
    {
     "name": "stdout",
     "output_type": "stream",
     "text": [
      "16\n",
      "0.05970149253731343\n",
      "16.75\n"
     ]
    },
    {
     "data": {
      "image/png": "[encoded data removed]",
      "text/plain": [
       "<Figure size 432x288 with 1 Axes>"
      ]
     },
     "metadata": {
      "needs_background": "light"
     },
     "output_type": "display_data"
    }
   ],
   "source": [
    "f, Pxx_den=sp.signal.periodogram(df['KMS'])\n",
    "plt.plot(f, Pxx_den)\n",
    "#plt.axvline(x=1/0.9,color='red')\n",
    "max_index_value = np.argmax(Pxx_den, axis=0)\n",
    "print(max_index_value)\n",
    "frecuencia_max=f[max_index_value]\n",
    "print(frecuencia_max)\n",
    "print(1/frecuencia_max)"
   ]
  },
  {
   "cell_type": "code",
   "execution_count": 15,
   "metadata": {},
   "outputs": [
    {
     "data": {
      "image/png": "[encoded data removed]",
      "text/plain": [
       "<Figure size 432x288 with 1 Axes>"
      ]
     },
     "metadata": {
      "needs_background": "light"
     },
     "output_type": "display_data"
    }
   ],
   "source": [
    "fft = tf.signal.rfft(df['KMS'])\n",
    "\n",
    "# Número de muestras en la serie\n",
    "n_samples = len(df['KMS'])\n",
    "\n",
    "# Frecuencia de muestreo (muestras por semana)\n",
    "samples_per_month = 4.345  # Si la serie es semanal\n",
    "\n",
    "# Número total de semanas en la serie\n",
    "weeks_per_dataset = n_samples / samples_per_month\n",
    "\n",
    "# Frecuencia en semanas\n",
    "f_per_week = np.arange(0, len(fft))\n",
    "\n",
    "# Frecuencia en años (semanas por año aproximadamente)\n",
    "weeks_per_year = 52.17891428571429\n",
    "f_per_year = f_per_week / (weeks_per_dataset / weeks_per_year)\n",
    "\n",
    "# Gráfico\n",
    "plt.step(f_per_year, np.abs(fft))\n",
    "plt.xscale('log')\n",
    "plt.ylim(0, 3000)\n",
    "plt.xlim([0.1, max(f_per_year)])\n",
    "plt.xticks([52.17891428571429,4.345], labels=['1/año', '1/mes'])\n",
    "plt.xlabel('Frecuencia (escala log)')\n",
    "plt.show()"
   ]
  },
  {
   "cell_type": "markdown",
   "metadata": {},
   "source": [
    "Es importante señalar que dependiendo la semana del mes, parece haber un valor medio distinto dependiendo del mes. También parecer haber un comportamineto estacional de forma anual, es decir, el valor medio de la semana depende del mes del año. \n",
    "Por lo tanto, se van a considerar solo dos componentes, una para que tenga encuenta la semana del mes y otro para que tenga en cuenta que el comportamiento anual, es decir, para que tenga en cuenta que al principio del año los Kms que el atleta Iván recorre es menor y que a mitad de año la cantidad de kilómetros recorrido es más alto, mientras que a final de año vuelve a disminuir la cantidad de Kilómetros recorridos,patrón que se repite año a año."
   ]
  },
  {
   "cell_type": "code",
   "execution_count": 16,
   "metadata": {},
   "outputs": [
    {
     "data": {
      "text/plain": [
       "pandas.core.series.Series"
      ]
     },
     "execution_count": 16,
     "metadata": {},
     "output_type": "execute_result"
    }
   ],
   "source": [
    "date_time=df['Fecha']\n",
    "type(date_time)\n"
   ]
  },
  {
   "cell_type": "code",
   "execution_count": 17,
   "metadata": {},
   "outputs": [
    {
     "data": {
      "text/plain": [
       "DATE\n",
       "2018-12-31    1.546214e+09\n",
       "2019-01-07    1.546819e+09\n",
       "2019-01-14    1.547424e+09\n",
       "2019-01-21    1.548029e+09\n",
       "2019-01-28    1.548634e+09\n",
       "                  ...     \n",
       "2024-01-15    1.705277e+09\n",
       "2024-01-22    1.705882e+09\n",
       "2024-01-29    1.706486e+09\n",
       "2024-02-05    1.707091e+09\n",
       "2024-02-12    1.707696e+09\n",
       "Name: Fecha, Length: 268, dtype: float64"
      ]
     },
     "execution_count": 17,
     "metadata": {},
     "output_type": "execute_result"
    }
   ],
   "source": [
    "date_time.map(pd.Timestamp.timestamp) ###Convierte las fechas a float "
   ]
  },
  {
   "cell_type": "markdown",
   "metadata": {},
   "source": [
    "<h2 style=\"color: #e67e22; text-align: left;\">Incorporando la componente estacional</h2>"
   ]
  },
  {
   "cell_type": "markdown",
   "metadata": {},
   "source": [
    "#### Convertir las fechas en valores numéricos\n",
    "\n",
    "Note que el tiempo va a ser convertido a segundos, por lo tanto debemos escribir los ciclos a segundos."
   ]
  },
  {
   "cell_type": "code",
   "execution_count": 18,
   "metadata": {},
   "outputs": [
    {
     "data": {
      "text/plain": [
       "DATE\n",
       "2018-12-31    1.546214e+09\n",
       "2019-01-07    1.546819e+09\n",
       "2019-01-14    1.547424e+09\n",
       "2019-01-21    1.548029e+09\n",
       "2019-01-28    1.548634e+09\n",
       "                  ...     \n",
       "2024-01-15    1.705277e+09\n",
       "2024-01-22    1.705882e+09\n",
       "2024-01-29    1.706486e+09\n",
       "2024-02-05    1.707091e+09\n",
       "2024-02-12    1.707696e+09\n",
       "Name: Fecha, Length: 268, dtype: float64"
      ]
     },
     "execution_count": 18,
     "metadata": {},
     "output_type": "execute_result"
    }
   ],
   "source": [
    "timestamp_s = date_time.map(pd.Timestamp.timestamp)\n",
    "timestamp_s"
   ]
  },
  {
   "cell_type": "code",
   "execution_count": 19,
   "metadata": {},
   "outputs": [
    {
     "data": {
      "image/png": "[encoded data removed]",
      "text/plain": [
       "<Figure size 864x432 with 1 Axes>"
      ]
     },
     "metadata": {
      "needs_background": "light"
     },
     "output_type": "display_data"
    }
   ],
   "source": [
    "# Periodos\n",
    "anio = 365.25 * 24 * 60 * 60  # segundos en un año\n",
    "mes = 30.44 * 24 * 60 * 60  # Segundos en un mes promedio\n",
    "\n",
    "# Componentes estacionales mensuales\n",
    "df['Month sin'] = np.sin(timestamp_s * (2 * np.pi / mes))\n",
    "df['Month cos'] = np.cos(timestamp_s * (2 * np.pi / mes))\n",
    "\n",
    "# Componentes estacionales anuales\n",
    "df['Year sin'] = np.sin(timestamp_s * (2 * np.pi / anio))\n",
    "df['Year cos'] = np.cos(timestamp_s * (2 * np.pi / anio))\n",
    "\n",
    "# Graficar la serie temporal original\n",
    "plt.figure(figsize=(12, 6))\n",
    "plt.plot(df.index, df['KMS'])\n",
    "plt.xlabel('Fecha')\n",
    "plt.ylabel('KMS Recorridos')\n",
    "plt.title('Serie Temporal de KMS Recorridos por Iván')\n",
    "plt.grid(True)\n",
    "plt.show()\n",
    "\n",
    "# Puedes proceder a ajustar un modelo de regresión o cualquier otro modelo de serie temporal\n",
    "# que tenga en cuenta estas nuevas características estacionales."
   ]
  },
  {
   "cell_type": "code",
   "execution_count": 20,
   "metadata": {},
   "outputs": [
    {
     "data": {
      "text/plain": [
       "Text(0.5, 1.0, 'Time of year signal')"
      ]
     },
     "execution_count": 20,
     "metadata": {},
     "output_type": "execute_result"
    },
    {
     "data": {
      "image/png": "[encoded data removed]",
      "text/plain": [
       "<Figure size 432x288 with 1 Axes>"
      ]
     },
     "metadata": {
      "needs_background": "light"
     },
     "output_type": "display_data"
    }
   ],
   "source": [
    "plt.plot(np.array(df['Year sin'])[:100])\n",
    "plt.plot(np.array(df['Year cos'])[:100])\n",
    "plt.xlabel('Time [h]')\n",
    "plt.title('Time of year signal')"
   ]
  },
  {
   "cell_type": "code",
   "execution_count": 21,
   "metadata": {},
   "outputs": [
    {
     "data": {
      "text/plain": [
       "Text(0.5, 1.0, 'Time of month signal')"
      ]
     },
     "execution_count": 21,
     "metadata": {},
     "output_type": "execute_result"
    },
    {
     "data": {
      "image/png": "[encoded data removed]",
      "text/plain": [
       "<Figure size 432x288 with 1 Axes>"
      ]
     },
     "metadata": {
      "needs_background": "light"
     },
     "output_type": "display_data"
    }
   ],
   "source": [
    "plt.plot(np.array(df['Month sin'])[:100])\n",
    "plt.plot(np.array(df['Month cos'])[:100])\n",
    "plt.xlabel('Time [h]')\n",
    "plt.title('Time of month signal')"
   ]
  },
  {
   "cell_type": "code",
   "execution_count": 22,
   "metadata": {},
   "outputs": [
    {
     "data": {
      "text/plain": [
       "Index(['KMS', 'Fecha', 'MES', 'DIA', 'AÑO', 'Month sin', 'Month cos',\n",
       "       'Year sin', 'Year cos'],\n",
       "      dtype='object')"
      ]
     },
     "execution_count": 22,
     "metadata": {},
     "output_type": "execute_result"
    }
   ],
   "source": [
    "df.columns"
   ]
  },
  {
   "cell_type": "markdown",
   "metadata": {},
   "source": [
    "## Creación alternativa de covariables"
   ]
  },
  {
   "cell_type": "code",
   "execution_count": 23,
   "metadata": {},
   "outputs": [],
   "source": [
    "indice=df['Fecha']\n",
    "PRESdf_alt =pd.DataFrame(df[['KMS','Month sin', 'Month cos', 'Year sin','Year cos','Fecha']])\n"
   ]
  },
  {
   "cell_type": "code",
   "execution_count": 24,
   "metadata": {},
   "outputs": [
    {
     "data": {
      "text/html": [
       "<div>\n",
       "<style scoped>\n",
       "    .dataframe tbody tr th:only-of-type {\n",
       "        vertical-align: middle;\n",
       "    }\n",
       "\n",
       "    .dataframe tbody tr th {\n",
       "        vertical-align: top;\n",
       "    }\n",
       "\n",
       "    .dataframe thead th {\n",
       "        text-align: right;\n",
       "    }\n",
       "</style>\n",
       "<table border=\"1\" class=\"dataframe\">\n",
       "  <thead>\n",
       "    <tr style=\"text-align: right;\">\n",
       "      <th></th>\n",
       "      <th>KMS</th>\n",
       "      <th>Month sin</th>\n",
       "      <th>Month cos</th>\n",
       "      <th>Year sin</th>\n",
       "      <th>Year cos</th>\n",
       "      <th>Fecha</th>\n",
       "    </tr>\n",
       "    <tr>\n",
       "      <th>DATE</th>\n",
       "      <th></th>\n",
       "      <th></th>\n",
       "      <th></th>\n",
       "      <th></th>\n",
       "      <th></th>\n",
       "      <th></th>\n",
       "    </tr>\n",
       "  </thead>\n",
       "  <tbody>\n",
       "    <tr>\n",
       "      <th>2018-12-31</th>\n",
       "      <td>17.3</td>\n",
       "      <td>-0.532407</td>\n",
       "      <td>0.846489</td>\n",
       "      <td>-0.021501</td>\n",
       "      <td>0.999769</td>\n",
       "      <td>2018-12-31</td>\n",
       "    </tr>\n",
       "    <tr>\n",
       "      <th>2019-01-07</th>\n",
       "      <td>86.4</td>\n",
       "      <td>0.772929</td>\n",
       "      <td>0.634493</td>\n",
       "      <td>0.098753</td>\n",
       "      <td>0.995112</td>\n",
       "      <td>2019-01-07</td>\n",
       "    </tr>\n",
       "    <tr>\n",
       "      <th>2019-01-14</th>\n",
       "      <td>107.3</td>\n",
       "      <td>0.726534</td>\n",
       "      <td>-0.687131</td>\n",
       "      <td>0.217577</td>\n",
       "      <td>0.976043</td>\n",
       "      <td>2019-01-14</td>\n",
       "    </tr>\n",
       "    <tr>\n",
       "      <th>2019-01-21</th>\n",
       "      <td>163.1</td>\n",
       "      <td>-0.590454</td>\n",
       "      <td>-0.807071</td>\n",
       "      <td>0.333249</td>\n",
       "      <td>0.942839</td>\n",
       "      <td>2019-01-21</td>\n",
       "    </tr>\n",
       "    <tr>\n",
       "      <th>2019-01-28</th>\n",
       "      <td>153.5</td>\n",
       "      <td>-0.874831</td>\n",
       "      <td>0.484428</td>\n",
       "      <td>0.444096</td>\n",
       "      <td>0.895979</td>\n",
       "      <td>2019-01-28</td>\n",
       "    </tr>\n",
       "    <tr>\n",
       "      <th>...</th>\n",
       "      <td>...</td>\n",
       "      <td>...</td>\n",
       "      <td>...</td>\n",
       "      <td>...</td>\n",
       "      <td>...</td>\n",
       "      <td>...</td>\n",
       "    </tr>\n",
       "    <tr>\n",
       "      <th>2024-01-15</th>\n",
       "      <td>202.2</td>\n",
       "      <td>0.636087</td>\n",
       "      <td>-0.771617</td>\n",
       "      <td>0.230151</td>\n",
       "      <td>0.973155</td>\n",
       "      <td>2024-01-15</td>\n",
       "    </tr>\n",
       "    <tr>\n",
       "      <th>2024-01-22</th>\n",
       "      <td>200.9</td>\n",
       "      <td>-0.685630</td>\n",
       "      <td>-0.727950</td>\n",
       "      <td>0.345386</td>\n",
       "      <td>0.938461</td>\n",
       "      <td>2024-01-22</td>\n",
       "    </tr>\n",
       "    <tr>\n",
       "      <th>2024-01-29</th>\n",
       "      <td>160.7</td>\n",
       "      <td>-0.808288</td>\n",
       "      <td>0.588787</td>\n",
       "      <td>0.455618</td>\n",
       "      <td>0.890175</td>\n",
       "      <td>2024-01-29</td>\n",
       "    </tr>\n",
       "    <tr>\n",
       "      <th>2024-02-05</th>\n",
       "      <td>135.7</td>\n",
       "      <td>0.482622</td>\n",
       "      <td>0.875829</td>\n",
       "      <td>0.559252</td>\n",
       "      <td>0.828997</td>\n",
       "      <td>2024-02-05</td>\n",
       "    </tr>\n",
       "    <tr>\n",
       "      <th>2024-02-12</th>\n",
       "      <td>121.8</td>\n",
       "      <td>0.929503</td>\n",
       "      <td>-0.368815</td>\n",
       "      <td>0.654787</td>\n",
       "      <td>0.755814</td>\n",
       "      <td>2024-02-12</td>\n",
       "    </tr>\n",
       "  </tbody>\n",
       "</table>\n",
       "<p>268 rows × 6 columns</p>\n",
       "</div>"
      ],
      "text/plain": [
       "              KMS  Month sin  Month cos  Year sin  Year cos      Fecha\n",
       "DATE                                                                  \n",
       "2018-12-31   17.3  -0.532407   0.846489 -0.021501  0.999769 2018-12-31\n",
       "2019-01-07   86.4   0.772929   0.634493  0.098753  0.995112 2019-01-07\n",
       "2019-01-14  107.3   0.726534  -0.687131  0.217577  0.976043 2019-01-14\n",
       "2019-01-21  163.1  -0.590454  -0.807071  0.333249  0.942839 2019-01-21\n",
       "2019-01-28  153.5  -0.874831   0.484428  0.444096  0.895979 2019-01-28\n",
       "...           ...        ...        ...       ...       ...        ...\n",
       "2024-01-15  202.2   0.636087  -0.771617  0.230151  0.973155 2024-01-15\n",
       "2024-01-22  200.9  -0.685630  -0.727950  0.345386  0.938461 2024-01-22\n",
       "2024-01-29  160.7  -0.808288   0.588787  0.455618  0.890175 2024-01-29\n",
       "2024-02-05  135.7   0.482622   0.875829  0.559252  0.828997 2024-02-05\n",
       "2024-02-12  121.8   0.929503  -0.368815  0.654787  0.755814 2024-02-12\n",
       "\n",
       "[268 rows x 6 columns]"
      ]
     },
     "execution_count": 24,
     "metadata": {},
     "output_type": "execute_result"
    }
   ],
   "source": [
    "PRESdf_alt"
   ]
  },
  {
   "cell_type": "code",
   "execution_count": 25,
   "metadata": {},
   "outputs": [
    {
     "data": {
      "text/plain": [
       "DATE\n",
       "2018-12-31   2018-12-31\n",
       "2019-01-07   2019-01-07\n",
       "2019-01-14   2019-01-14\n",
       "2019-01-21   2019-01-21\n",
       "2019-01-28   2019-01-28\n",
       "                ...    \n",
       "2024-01-15   2024-01-15\n",
       "2024-01-22   2024-01-22\n",
       "2024-01-29   2024-01-29\n",
       "2024-02-05   2024-02-05\n",
       "2024-02-12   2024-02-12\n",
       "Name: Fecha, Length: 268, dtype: datetime64[ns]"
      ]
     },
     "execution_count": 25,
     "metadata": {},
     "output_type": "execute_result"
    }
   ],
   "source": [
    "indice"
   ]
  },
  {
   "cell_type": "code",
   "execution_count": 26,
   "metadata": {},
   "outputs": [],
   "source": [
    "PRES_alt_df = PRESdf_alt.set_index('Fecha')"
   ]
  },
  {
   "cell_type": "code",
   "execution_count": 27,
   "metadata": {},
   "outputs": [
    {
     "data": {
      "text/html": [
       "<div>\n",
       "<style scoped>\n",
       "    .dataframe tbody tr th:only-of-type {\n",
       "        vertical-align: middle;\n",
       "    }\n",
       "\n",
       "    .dataframe tbody tr th {\n",
       "        vertical-align: top;\n",
       "    }\n",
       "\n",
       "    .dataframe thead th {\n",
       "        text-align: right;\n",
       "    }\n",
       "</style>\n",
       "<table border=\"1\" class=\"dataframe\">\n",
       "  <thead>\n",
       "    <tr style=\"text-align: right;\">\n",
       "      <th></th>\n",
       "      <th>KMS</th>\n",
       "      <th>Month sin</th>\n",
       "      <th>Month cos</th>\n",
       "      <th>Year sin</th>\n",
       "      <th>Year cos</th>\n",
       "    </tr>\n",
       "    <tr>\n",
       "      <th>Fecha</th>\n",
       "      <th></th>\n",
       "      <th></th>\n",
       "      <th></th>\n",
       "      <th></th>\n",
       "      <th></th>\n",
       "    </tr>\n",
       "  </thead>\n",
       "  <tbody>\n",
       "    <tr>\n",
       "      <th>2018-12-31</th>\n",
       "      <td>17.3</td>\n",
       "      <td>-0.532407</td>\n",
       "      <td>0.846489</td>\n",
       "      <td>-0.021501</td>\n",
       "      <td>0.999769</td>\n",
       "    </tr>\n",
       "    <tr>\n",
       "      <th>2019-01-07</th>\n",
       "      <td>86.4</td>\n",
       "      <td>0.772929</td>\n",
       "      <td>0.634493</td>\n",
       "      <td>0.098753</td>\n",
       "      <td>0.995112</td>\n",
       "    </tr>\n",
       "    <tr>\n",
       "      <th>2019-01-14</th>\n",
       "      <td>107.3</td>\n",
       "      <td>0.726534</td>\n",
       "      <td>-0.687131</td>\n",
       "      <td>0.217577</td>\n",
       "      <td>0.976043</td>\n",
       "    </tr>\n",
       "    <tr>\n",
       "      <th>2019-01-21</th>\n",
       "      <td>163.1</td>\n",
       "      <td>-0.590454</td>\n",
       "      <td>-0.807071</td>\n",
       "      <td>0.333249</td>\n",
       "      <td>0.942839</td>\n",
       "    </tr>\n",
       "    <tr>\n",
       "      <th>2019-01-28</th>\n",
       "      <td>153.5</td>\n",
       "      <td>-0.874831</td>\n",
       "      <td>0.484428</td>\n",
       "      <td>0.444096</td>\n",
       "      <td>0.895979</td>\n",
       "    </tr>\n",
       "    <tr>\n",
       "      <th>...</th>\n",
       "      <td>...</td>\n",
       "      <td>...</td>\n",
       "      <td>...</td>\n",
       "      <td>...</td>\n",
       "      <td>...</td>\n",
       "    </tr>\n",
       "    <tr>\n",
       "      <th>2024-01-15</th>\n",
       "      <td>202.2</td>\n",
       "      <td>0.636087</td>\n",
       "      <td>-0.771617</td>\n",
       "      <td>0.230151</td>\n",
       "      <td>0.973155</td>\n",
       "    </tr>\n",
       "    <tr>\n",
       "      <th>2024-01-22</th>\n",
       "      <td>200.9</td>\n",
       "      <td>-0.685630</td>\n",
       "      <td>-0.727950</td>\n",
       "      <td>0.345386</td>\n",
       "      <td>0.938461</td>\n",
       "    </tr>\n",
       "    <tr>\n",
       "      <th>2024-01-29</th>\n",
       "      <td>160.7</td>\n",
       "      <td>-0.808288</td>\n",
       "      <td>0.588787</td>\n",
       "      <td>0.455618</td>\n",
       "      <td>0.890175</td>\n",
       "    </tr>\n",
       "    <tr>\n",
       "      <th>2024-02-05</th>\n",
       "      <td>135.7</td>\n",
       "      <td>0.482622</td>\n",
       "      <td>0.875829</td>\n",
       "      <td>0.559252</td>\n",
       "      <td>0.828997</td>\n",
       "    </tr>\n",
       "    <tr>\n",
       "      <th>2024-02-12</th>\n",
       "      <td>121.8</td>\n",
       "      <td>0.929503</td>\n",
       "      <td>-0.368815</td>\n",
       "      <td>0.654787</td>\n",
       "      <td>0.755814</td>\n",
       "    </tr>\n",
       "  </tbody>\n",
       "</table>\n",
       "<p>268 rows × 5 columns</p>\n",
       "</div>"
      ],
      "text/plain": [
       "              KMS  Month sin  Month cos  Year sin  Year cos\n",
       "Fecha                                                      \n",
       "2018-12-31   17.3  -0.532407   0.846489 -0.021501  0.999769\n",
       "2019-01-07   86.4   0.772929   0.634493  0.098753  0.995112\n",
       "2019-01-14  107.3   0.726534  -0.687131  0.217577  0.976043\n",
       "2019-01-21  163.1  -0.590454  -0.807071  0.333249  0.942839\n",
       "2019-01-28  153.5  -0.874831   0.484428  0.444096  0.895979\n",
       "...           ...        ...        ...       ...       ...\n",
       "2024-01-15  202.2   0.636087  -0.771617  0.230151  0.973155\n",
       "2024-01-22  200.9  -0.685630  -0.727950  0.345386  0.938461\n",
       "2024-01-29  160.7  -0.808288   0.588787  0.455618  0.890175\n",
       "2024-02-05  135.7   0.482622   0.875829  0.559252  0.828997\n",
       "2024-02-12  121.8   0.929503  -0.368815  0.654787  0.755814\n",
       "\n",
       "[268 rows x 5 columns]"
      ]
     },
     "execution_count": 27,
     "metadata": {},
     "output_type": "execute_result"
    }
   ],
   "source": [
    "PRES_alt_df"
   ]
  },
  {
   "cell_type": "markdown",
   "metadata": {},
   "source": [
    "<h2 style=\"color: #e67e22; text-align: left;\">Entrenamiento Validacion y Prueba</h2> "
   ]
  },
  {
   "cell_type": "code",
   "execution_count": 28,
   "metadata": {},
   "outputs": [
    {
     "data": {
      "text/plain": [
       "5"
      ]
     },
     "execution_count": 28,
     "metadata": {},
     "output_type": "execute_result"
    }
   ],
   "source": [
    "column_indices = {name: i for i, name in enumerate(PRES_alt_df.columns)}\n",
    "\n",
    "n = len(PRES_alt_df)\n",
    "train_dfPRES = PRES_alt_df[0:int(n*0.7)]\n",
    "val_dfPRES = PRES_alt_df[int(n*0.7):int(n*0.8)]\n",
    "test_dfPRES = PRES_alt_df[int(n*0.8):]\n",
    "\n",
    "num_features = PRES_alt_df.shape[1]\n",
    "num_features"
   ]
  },
  {
   "cell_type": "code",
   "execution_count": 29,
   "metadata": {},
   "outputs": [
    {
     "data": {
      "text/html": [
       "<div>\n",
       "<style scoped>\n",
       "    .dataframe tbody tr th:only-of-type {\n",
       "        vertical-align: middle;\n",
       "    }\n",
       "\n",
       "    .dataframe tbody tr th {\n",
       "        vertical-align: top;\n",
       "    }\n",
       "\n",
       "    .dataframe thead th {\n",
       "        text-align: right;\n",
       "    }\n",
       "</style>\n",
       "<table border=\"1\" class=\"dataframe\">\n",
       "  <thead>\n",
       "    <tr style=\"text-align: right;\">\n",
       "      <th></th>\n",
       "      <th>KMS</th>\n",
       "      <th>Month sin</th>\n",
       "      <th>Month cos</th>\n",
       "      <th>Year sin</th>\n",
       "      <th>Year cos</th>\n",
       "    </tr>\n",
       "    <tr>\n",
       "      <th>Fecha</th>\n",
       "      <th></th>\n",
       "      <th></th>\n",
       "      <th></th>\n",
       "      <th></th>\n",
       "      <th></th>\n",
       "    </tr>\n",
       "  </thead>\n",
       "  <tbody>\n",
       "    <tr>\n",
       "      <th>2018-12-31</th>\n",
       "      <td>17.300</td>\n",
       "      <td>-0.532407</td>\n",
       "      <td>0.846489</td>\n",
       "      <td>-0.021501</td>\n",
       "      <td>0.999769</td>\n",
       "    </tr>\n",
       "    <tr>\n",
       "      <th>2019-01-07</th>\n",
       "      <td>86.400</td>\n",
       "      <td>0.772929</td>\n",
       "      <td>0.634493</td>\n",
       "      <td>0.098753</td>\n",
       "      <td>0.995112</td>\n",
       "    </tr>\n",
       "    <tr>\n",
       "      <th>2019-01-14</th>\n",
       "      <td>107.300</td>\n",
       "      <td>0.726534</td>\n",
       "      <td>-0.687131</td>\n",
       "      <td>0.217577</td>\n",
       "      <td>0.976043</td>\n",
       "    </tr>\n",
       "    <tr>\n",
       "      <th>2019-01-21</th>\n",
       "      <td>163.100</td>\n",
       "      <td>-0.590454</td>\n",
       "      <td>-0.807071</td>\n",
       "      <td>0.333249</td>\n",
       "      <td>0.942839</td>\n",
       "    </tr>\n",
       "    <tr>\n",
       "      <th>2019-01-28</th>\n",
       "      <td>153.500</td>\n",
       "      <td>-0.874831</td>\n",
       "      <td>0.484428</td>\n",
       "      <td>0.444096</td>\n",
       "      <td>0.895979</td>\n",
       "    </tr>\n",
       "    <tr>\n",
       "      <th>...</th>\n",
       "      <td>...</td>\n",
       "      <td>...</td>\n",
       "      <td>...</td>\n",
       "      <td>...</td>\n",
       "      <td>...</td>\n",
       "    </tr>\n",
       "    <tr>\n",
       "      <th>2022-06-27</th>\n",
       "      <td>70.400</td>\n",
       "      <td>-0.996421</td>\n",
       "      <td>0.084528</td>\n",
       "      <td>0.096613</td>\n",
       "      <td>-0.995322</td>\n",
       "    </tr>\n",
       "    <tr>\n",
       "      <th>2022-07-04</th>\n",
       "      <td>0.001</td>\n",
       "      <td>-0.041271</td>\n",
       "      <td>0.999148</td>\n",
       "      <td>-0.023651</td>\n",
       "      <td>-0.999720</td>\n",
       "    </tr>\n",
       "    <tr>\n",
       "      <th>2022-07-11</th>\n",
       "      <td>62.400</td>\n",
       "      <td>0.986056</td>\n",
       "      <td>0.166416</td>\n",
       "      <td>-0.143572</td>\n",
       "      <td>-0.989640</td>\n",
       "    </tr>\n",
       "    <tr>\n",
       "      <th>2022-07-18</th>\n",
       "      <td>77.800</td>\n",
       "      <td>0.288926</td>\n",
       "      <td>-0.957351</td>\n",
       "      <td>-0.261414</td>\n",
       "      <td>-0.965227</td>\n",
       "    </tr>\n",
       "    <tr>\n",
       "      <th>2022-07-25</th>\n",
       "      <td>169.300</td>\n",
       "      <td>-0.913489</td>\n",
       "      <td>-0.406862</td>\n",
       "      <td>-0.375470</td>\n",
       "      <td>-0.926834</td>\n",
       "    </tr>\n",
       "  </tbody>\n",
       "</table>\n",
       "<p>187 rows × 5 columns</p>\n",
       "</div>"
      ],
      "text/plain": [
       "                KMS  Month sin  Month cos  Year sin  Year cos\n",
       "Fecha                                                        \n",
       "2018-12-31   17.300  -0.532407   0.846489 -0.021501  0.999769\n",
       "2019-01-07   86.400   0.772929   0.634493  0.098753  0.995112\n",
       "2019-01-14  107.300   0.726534  -0.687131  0.217577  0.976043\n",
       "2019-01-21  163.100  -0.590454  -0.807071  0.333249  0.942839\n",
       "2019-01-28  153.500  -0.874831   0.484428  0.444096  0.895979\n",
       "...             ...        ...        ...       ...       ...\n",
       "2022-06-27   70.400  -0.996421   0.084528  0.096613 -0.995322\n",
       "2022-07-04    0.001  -0.041271   0.999148 -0.023651 -0.999720\n",
       "2022-07-11   62.400   0.986056   0.166416 -0.143572 -0.989640\n",
       "2022-07-18   77.800   0.288926  -0.957351 -0.261414 -0.965227\n",
       "2022-07-25  169.300  -0.913489  -0.406862 -0.375470 -0.926834\n",
       "\n",
       "[187 rows x 5 columns]"
      ]
     },
     "execution_count": 29,
     "metadata": {},
     "output_type": "execute_result"
    }
   ],
   "source": [
    "train_dfPRES"
   ]
  },
  {
   "cell_type": "code",
   "execution_count": 30,
   "metadata": {},
   "outputs": [
    {
     "data": {
      "text/html": [
       "<div>\n",
       "<style scoped>\n",
       "    .dataframe tbody tr th:only-of-type {\n",
       "        vertical-align: middle;\n",
       "    }\n",
       "\n",
       "    .dataframe tbody tr th {\n",
       "        vertical-align: top;\n",
       "    }\n",
       "\n",
       "    .dataframe thead th {\n",
       "        text-align: right;\n",
       "    }\n",
       "</style>\n",
       "<table border=\"1\" class=\"dataframe\">\n",
       "  <thead>\n",
       "    <tr style=\"text-align: right;\">\n",
       "      <th></th>\n",
       "      <th>KMS</th>\n",
       "      <th>Month sin</th>\n",
       "      <th>Month cos</th>\n",
       "      <th>Year sin</th>\n",
       "      <th>Year cos</th>\n",
       "    </tr>\n",
       "    <tr>\n",
       "      <th>Fecha</th>\n",
       "      <th></th>\n",
       "      <th></th>\n",
       "      <th></th>\n",
       "      <th></th>\n",
       "      <th></th>\n",
       "    </tr>\n",
       "  </thead>\n",
       "  <tbody>\n",
       "    <tr>\n",
       "      <th>2022-08-01</th>\n",
       "      <td>119.8</td>\n",
       "      <td>-0.518357</td>\n",
       "      <td>0.855165</td>\n",
       "      <td>-0.484089</td>\n",
       "      <td>-0.875019</td>\n",
       "    </tr>\n",
       "    <tr>\n",
       "      <th>2022-08-08</th>\n",
       "      <td>171.5</td>\n",
       "      <td>0.783300</td>\n",
       "      <td>0.621644</td>\n",
       "      <td>-0.585696</td>\n",
       "      <td>-0.810531</td>\n",
       "    </tr>\n",
       "    <tr>\n",
       "      <th>2022-08-15</th>\n",
       "      <td>154.7</td>\n",
       "      <td>0.715089</td>\n",
       "      <td>-0.699034</td>\n",
       "      <td>-0.678820</td>\n",
       "      <td>-0.734304</td>\n",
       "    </tr>\n",
       "    <tr>\n",
       "      <th>2022-08-22</th>\n",
       "      <td>27.8</td>\n",
       "      <td>-0.603700</td>\n",
       "      <td>-0.797212</td>\n",
       "      <td>-0.762114</td>\n",
       "      <td>-0.647443</td>\n",
       "    </tr>\n",
       "    <tr>\n",
       "      <th>2022-08-29</th>\n",
       "      <td>99.2</td>\n",
       "      <td>-0.866713</td>\n",
       "      <td>0.498808</td>\n",
       "      <td>-0.834370</td>\n",
       "      <td>-0.551205</td>\n",
       "    </tr>\n",
       "    <tr>\n",
       "      <th>2022-09-05</th>\n",
       "      <td>60.3</td>\n",
       "      <td>0.386018</td>\n",
       "      <td>0.922491</td>\n",
       "      <td>-0.894542</td>\n",
       "      <td>-0.446983</td>\n",
       "    </tr>\n",
       "    <tr>\n",
       "      <th>2022-09-12</th>\n",
       "      <td>68.3</td>\n",
       "      <td>0.963664</td>\n",
       "      <td>-0.267117</td>\n",
       "      <td>-0.941759</td>\n",
       "      <td>-0.336289</td>\n",
       "    </tr>\n",
       "    <tr>\n",
       "      <th>2022-09-19</th>\n",
       "      <td>83.5</td>\n",
       "      <td>-0.143986</td>\n",
       "      <td>-0.989580</td>\n",
       "      <td>-0.975336</td>\n",
       "      <td>-0.220724</td>\n",
       "    </tr>\n",
       "    <tr>\n",
       "      <th>2022-09-26</th>\n",
       "      <td>60.5</td>\n",
       "      <td>-0.999827</td>\n",
       "      <td>0.018576</td>\n",
       "      <td>-0.994788</td>\n",
       "      <td>-0.101962</td>\n",
       "    </tr>\n",
       "    <tr>\n",
       "      <th>2022-10-03</th>\n",
       "      <td>154.3</td>\n",
       "      <td>-0.107128</td>\n",
       "      <td>0.994245</td>\n",
       "      <td>-0.999833</td>\n",
       "      <td>0.018277</td>\n",
       "    </tr>\n",
       "    <tr>\n",
       "      <th>2022-10-10</th>\n",
       "      <td>153.0</td>\n",
       "      <td>0.972921</td>\n",
       "      <td>0.231137</td>\n",
       "      <td>-0.990397</td>\n",
       "      <td>0.138250</td>\n",
       "    </tr>\n",
       "    <tr>\n",
       "      <th>2022-10-17</th>\n",
       "      <td>126.3</td>\n",
       "      <td>0.351485</td>\n",
       "      <td>-0.936193</td>\n",
       "      <td>-0.966618</td>\n",
       "      <td>0.256222</td>\n",
       "    </tr>\n",
       "    <tr>\n",
       "      <th>2022-10-24</th>\n",
       "      <td>98.1</td>\n",
       "      <td>-0.884643</td>\n",
       "      <td>-0.466269</td>\n",
       "      <td>-0.928839</td>\n",
       "      <td>0.370483</td>\n",
       "    </tr>\n",
       "    <tr>\n",
       "      <th>2022-10-31</th>\n",
       "      <td>54.2</td>\n",
       "      <td>-0.573670</td>\n",
       "      <td>0.819086</td>\n",
       "      <td>-0.877609</td>\n",
       "      <td>0.479378</td>\n",
       "    </tr>\n",
       "    <tr>\n",
       "      <th>2022-11-07</th>\n",
       "      <td>175.3</td>\n",
       "      <td>0.740561</td>\n",
       "      <td>0.671989</td>\n",
       "      <td>-0.813668</td>\n",
       "      <td>0.581330</td>\n",
       "    </tr>\n",
       "    <tr>\n",
       "      <th>2022-11-14</th>\n",
       "      <td>178.9</td>\n",
       "      <td>0.759668</td>\n",
       "      <td>-0.650311</td>\n",
       "      <td>-0.737943</td>\n",
       "      <td>0.674863</td>\n",
       "    </tr>\n",
       "    <tr>\n",
       "      <th>2022-11-21</th>\n",
       "      <td>176.6</td>\n",
       "      <td>-0.549764</td>\n",
       "      <td>-0.835320</td>\n",
       "      <td>-0.651530</td>\n",
       "      <td>0.758623</td>\n",
       "    </tr>\n",
       "    <tr>\n",
       "      <th>2022-11-28</th>\n",
       "      <td>136.1</td>\n",
       "      <td>-0.897746</td>\n",
       "      <td>0.440514</td>\n",
       "      <td>-0.555682</td>\n",
       "      <td>0.831395</td>\n",
       "    </tr>\n",
       "    <tr>\n",
       "      <th>2022-12-05</th>\n",
       "      <td>175.4</td>\n",
       "      <td>0.324288</td>\n",
       "      <td>0.945958</td>\n",
       "      <td>-0.451786</td>\n",
       "      <td>0.892126</td>\n",
       "    </tr>\n",
       "    <tr>\n",
       "      <th>2022-12-12</th>\n",
       "      <td>208.0</td>\n",
       "      <td>0.979193</td>\n",
       "      <td>-0.202929</td>\n",
       "      <td>-0.341347</td>\n",
       "      <td>0.939938</td>\n",
       "    </tr>\n",
       "    <tr>\n",
       "      <th>2022-12-19</th>\n",
       "      <td>200.0</td>\n",
       "      <td>-0.078356</td>\n",
       "      <td>-0.996925</td>\n",
       "      <td>-0.225964</td>\n",
       "      <td>0.974136</td>\n",
       "    </tr>\n",
       "    <tr>\n",
       "      <th>2022-12-26</th>\n",
       "      <td>114.0</td>\n",
       "      <td>-0.998873</td>\n",
       "      <td>-0.047457</td>\n",
       "      <td>-0.107308</td>\n",
       "      <td>0.994226</td>\n",
       "    </tr>\n",
       "    <tr>\n",
       "      <th>2023-01-02</th>\n",
       "      <td>200.0</td>\n",
       "      <td>-0.172519</td>\n",
       "      <td>0.985006</td>\n",
       "      <td>0.012901</td>\n",
       "      <td>0.999917</td>\n",
       "    </tr>\n",
       "    <tr>\n",
       "      <th>2023-01-09</th>\n",
       "      <td>198.4</td>\n",
       "      <td>0.955544</td>\n",
       "      <td>0.294849</td>\n",
       "      <td>0.132924</td>\n",
       "      <td>0.991126</td>\n",
       "    </tr>\n",
       "    <tr>\n",
       "      <th>2023-01-16</th>\n",
       "      <td>181.1</td>\n",
       "      <td>0.412511</td>\n",
       "      <td>-0.910953</td>\n",
       "      <td>0.251022</td>\n",
       "      <td>0.967981</td>\n",
       "    </tr>\n",
       "    <tr>\n",
       "      <th>2023-01-23</th>\n",
       "      <td>203.5</td>\n",
       "      <td>-0.851938</td>\n",
       "      <td>-0.523642</td>\n",
       "      <td>0.365484</td>\n",
       "      <td>0.930818</td>\n",
       "    </tr>\n",
       "    <tr>\n",
       "      <th>2023-01-30</th>\n",
       "      <td>152.2</td>\n",
       "      <td>-0.626482</td>\n",
       "      <td>0.779436</td>\n",
       "      <td>0.474653</td>\n",
       "      <td>0.880173</td>\n",
       "    </tr>\n",
       "  </tbody>\n",
       "</table>\n",
       "</div>"
      ],
      "text/plain": [
       "              KMS  Month sin  Month cos  Year sin  Year cos\n",
       "Fecha                                                      \n",
       "2022-08-01  119.8  -0.518357   0.855165 -0.484089 -0.875019\n",
       "2022-08-08  171.5   0.783300   0.621644 -0.585696 -0.810531\n",
       "2022-08-15  154.7   0.715089  -0.699034 -0.678820 -0.734304\n",
       "2022-08-22   27.8  -0.603700  -0.797212 -0.762114 -0.647443\n",
       "2022-08-29   99.2  -0.866713   0.498808 -0.834370 -0.551205\n",
       "2022-09-05   60.3   0.386018   0.922491 -0.894542 -0.446983\n",
       "2022-09-12   68.3   0.963664  -0.267117 -0.941759 -0.336289\n",
       "2022-09-19   83.5  -0.143986  -0.989580 -0.975336 -0.220724\n",
       "2022-09-26   60.5  -0.999827   0.018576 -0.994788 -0.101962\n",
       "2022-10-03  154.3  -0.107128   0.994245 -0.999833  0.018277\n",
       "2022-10-10  153.0   0.972921   0.231137 -0.990397  0.138250\n",
       "2022-10-17  126.3   0.351485  -0.936193 -0.966618  0.256222\n",
       "2022-10-24   98.1  -0.884643  -0.466269 -0.928839  0.370483\n",
       "2022-10-31   54.2  -0.573670   0.819086 -0.877609  0.479378\n",
       "2022-11-07  175.3   0.740561   0.671989 -0.813668  0.581330\n",
       "2022-11-14  178.9   0.759668  -0.650311 -0.737943  0.674863\n",
       "2022-11-21  176.6  -0.549764  -0.835320 -0.651530  0.758623\n",
       "2022-11-28  136.1  -0.897746   0.440514 -0.555682  0.831395\n",
       "2022-12-05  175.4   0.324288   0.945958 -0.451786  0.892126\n",
       "2022-12-12  208.0   0.979193  -0.202929 -0.341347  0.939938\n",
       "2022-12-19  200.0  -0.078356  -0.996925 -0.225964  0.974136\n",
       "2022-12-26  114.0  -0.998873  -0.047457 -0.107308  0.994226\n",
       "2023-01-02  200.0  -0.172519   0.985006  0.012901  0.999917\n",
       "2023-01-09  198.4   0.955544   0.294849  0.132924  0.991126\n",
       "2023-01-16  181.1   0.412511  -0.910953  0.251022  0.967981\n",
       "2023-01-23  203.5  -0.851938  -0.523642  0.365484  0.930818\n",
       "2023-01-30  152.2  -0.626482   0.779436  0.474653  0.880173"
      ]
     },
     "execution_count": 30,
     "metadata": {},
     "output_type": "execute_result"
    }
   ],
   "source": [
    "val_dfPRES"
   ]
  },
  {
   "cell_type": "code",
   "execution_count": 31,
   "metadata": {},
   "outputs": [
    {
     "data": {
      "text/html": [
       "<div>\n",
       "<style scoped>\n",
       "    .dataframe tbody tr th:only-of-type {\n",
       "        vertical-align: middle;\n",
       "    }\n",
       "\n",
       "    .dataframe tbody tr th {\n",
       "        vertical-align: top;\n",
       "    }\n",
       "\n",
       "    .dataframe thead th {\n",
       "        text-align: right;\n",
       "    }\n",
       "</style>\n",
       "<table border=\"1\" class=\"dataframe\">\n",
       "  <thead>\n",
       "    <tr style=\"text-align: right;\">\n",
       "      <th></th>\n",
       "      <th>KMS</th>\n",
       "      <th>Month sin</th>\n",
       "      <th>Month cos</th>\n",
       "      <th>Year sin</th>\n",
       "      <th>Year cos</th>\n",
       "    </tr>\n",
       "    <tr>\n",
       "      <th>Fecha</th>\n",
       "      <th></th>\n",
       "      <th></th>\n",
       "      <th></th>\n",
       "      <th></th>\n",
       "      <th></th>\n",
       "    </tr>\n",
       "  </thead>\n",
       "  <tbody>\n",
       "    <tr>\n",
       "      <th>2023-02-06</th>\n",
       "      <td>147.2</td>\n",
       "      <td>0.694592</td>\n",
       "      <td>0.719404</td>\n",
       "      <td>0.576948</td>\n",
       "      <td>0.816781</td>\n",
       "    </tr>\n",
       "    <tr>\n",
       "      <th>2023-02-13</th>\n",
       "      <td>73.4</td>\n",
       "      <td>0.800935</td>\n",
       "      <td>-0.598752</td>\n",
       "      <td>0.670887</td>\n",
       "      <td>0.741560</td>\n",
       "    </tr>\n",
       "    <tr>\n",
       "      <th>2023-02-20</th>\n",
       "      <td>52.9</td>\n",
       "      <td>-0.493431</td>\n",
       "      <td>-0.869785</td>\n",
       "      <td>0.755109</td>\n",
       "      <td>0.655599</td>\n",
       "    </tr>\n",
       "    <tr>\n",
       "      <th>2023-02-27</th>\n",
       "      <td>75.5</td>\n",
       "      <td>-0.924864</td>\n",
       "      <td>0.380298</td>\n",
       "      <td>0.828396</td>\n",
       "      <td>0.560143</td>\n",
       "    </tr>\n",
       "    <tr>\n",
       "      <th>2023-03-06</th>\n",
       "      <td>133.5</td>\n",
       "      <td>0.261144</td>\n",
       "      <td>0.965300</td>\n",
       "      <td>0.889685</td>\n",
       "      <td>0.456575</td>\n",
       "    </tr>\n",
       "    <tr>\n",
       "      <th>2023-03-13</th>\n",
       "      <td>179.1</td>\n",
       "      <td>0.990452</td>\n",
       "      <td>-0.137856</td>\n",
       "      <td>0.938089</td>\n",
       "      <td>0.346394</td>\n",
       "    </tr>\n",
       "    <tr>\n",
       "      <th>2023-03-20</th>\n",
       "      <td>106.3</td>\n",
       "      <td>-0.012384</td>\n",
       "      <td>-0.999923</td>\n",
       "      <td>0.972907</td>\n",
       "      <td>0.231197</td>\n",
       "    </tr>\n",
       "    <tr>\n",
       "      <th>2023-03-27</th>\n",
       "      <td>211.0</td>\n",
       "      <td>-0.993563</td>\n",
       "      <td>-0.113283</td>\n",
       "      <td>0.993635</td>\n",
       "      <td>0.112651</td>\n",
       "    </tr>\n",
       "    <tr>\n",
       "      <th>2023-04-03</th>\n",
       "      <td>71.5</td>\n",
       "      <td>-0.237157</td>\n",
       "      <td>0.971471</td>\n",
       "      <td>0.999972</td>\n",
       "      <td>-0.007526</td>\n",
       "    </tr>\n",
       "    <tr>\n",
       "      <th>2023-04-10</th>\n",
       "      <td>98.0</td>\n",
       "      <td>0.933999</td>\n",
       "      <td>0.357276</td>\n",
       "      <td>0.991826</td>\n",
       "      <td>-0.127594</td>\n",
       "    </tr>\n",
       "    <tr>\n",
       "      <th>2023-04-17</th>\n",
       "      <td>174.3</td>\n",
       "      <td>0.471738</td>\n",
       "      <td>-0.881739</td>\n",
       "      <td>0.969317</td>\n",
       "      <td>-0.245815</td>\n",
       "    </tr>\n",
       "    <tr>\n",
       "      <th>2023-04-24</th>\n",
       "      <td>182.0</td>\n",
       "      <td>-0.815518</td>\n",
       "      <td>-0.578731</td>\n",
       "      <td>0.932769</td>\n",
       "      <td>-0.360475</td>\n",
       "    </tr>\n",
       "    <tr>\n",
       "      <th>2023-05-01</th>\n",
       "      <td>178.5</td>\n",
       "      <td>-0.676562</td>\n",
       "      <td>0.736386</td>\n",
       "      <td>0.882712</td>\n",
       "      <td>-0.469915</td>\n",
       "    </tr>\n",
       "    <tr>\n",
       "      <th>2023-05-08</th>\n",
       "      <td>164.4</td>\n",
       "      <td>0.645594</td>\n",
       "      <td>0.763681</td>\n",
       "      <td>0.819871</td>\n",
       "      <td>-0.572548</td>\n",
       "    </tr>\n",
       "    <tr>\n",
       "      <th>2023-05-15</th>\n",
       "      <td>91.2</td>\n",
       "      <td>0.838708</td>\n",
       "      <td>-0.544581</td>\n",
       "      <td>0.745156</td>\n",
       "      <td>-0.666890</td>\n",
       "    </tr>\n",
       "    <tr>\n",
       "      <th>2023-05-22</th>\n",
       "      <td>129.9</td>\n",
       "      <td>-0.434946</td>\n",
       "      <td>-0.900456</td>\n",
       "      <td>0.659649</td>\n",
       "      <td>-0.751574</td>\n",
       "    </tr>\n",
       "    <tr>\n",
       "      <th>2023-05-29</th>\n",
       "      <td>180.5</td>\n",
       "      <td>-0.947948</td>\n",
       "      <td>0.318425</td>\n",
       "      <td>0.564588</td>\n",
       "      <td>-0.825373</td>\n",
       "    </tr>\n",
       "    <tr>\n",
       "      <th>2023-06-05</th>\n",
       "      <td>172.4</td>\n",
       "      <td>0.196861</td>\n",
       "      <td>0.980431</td>\n",
       "      <td>0.461351</td>\n",
       "      <td>-0.887218</td>\n",
       "    </tr>\n",
       "    <tr>\n",
       "      <th>2023-06-12</th>\n",
       "      <td>168.4</td>\n",
       "      <td>0.997392</td>\n",
       "      <td>-0.072181</td>\n",
       "      <td>0.351432</td>\n",
       "      <td>-0.936213</td>\n",
       "    </tr>\n",
       "    <tr>\n",
       "      <th>2023-06-19</th>\n",
       "      <td>133.9</td>\n",
       "      <td>0.053641</td>\n",
       "      <td>-0.998560</td>\n",
       "      <td>0.236424</td>\n",
       "      <td>-0.971650</td>\n",
       "    </tr>\n",
       "    <tr>\n",
       "      <th>2023-06-26</th>\n",
       "      <td>154.8</td>\n",
       "      <td>-0.983919</td>\n",
       "      <td>-0.178615</td>\n",
       "      <td>0.117991</td>\n",
       "      <td>-0.993015</td>\n",
       "    </tr>\n",
       "    <tr>\n",
       "      <th>2023-07-03</th>\n",
       "      <td>72.2</td>\n",
       "      <td>-0.300760</td>\n",
       "      <td>0.953700</td>\n",
       "      <td>-0.002150</td>\n",
       "      <td>-0.999998</td>\n",
       "    </tr>\n",
       "    <tr>\n",
       "      <th>2023-07-10</th>\n",
       "      <td>171.0</td>\n",
       "      <td>0.908381</td>\n",
       "      <td>0.418144</td>\n",
       "      <td>-0.122261</td>\n",
       "      <td>-0.992498</td>\n",
       "    </tr>\n",
       "    <tr>\n",
       "      <th>2023-07-17</th>\n",
       "      <td>54.9</td>\n",
       "      <td>0.528908</td>\n",
       "      <td>-0.848679</td>\n",
       "      <td>-0.240600</td>\n",
       "      <td>-0.970624</td>\n",
       "    </tr>\n",
       "    <tr>\n",
       "      <th>2023-07-24</th>\n",
       "      <td>107.9</td>\n",
       "      <td>-0.775541</td>\n",
       "      <td>-0.631297</td>\n",
       "      <td>-0.355455</td>\n",
       "      <td>-0.934693</td>\n",
       "    </tr>\n",
       "    <tr>\n",
       "      <th>2023-07-31</th>\n",
       "      <td>13.3</td>\n",
       "      <td>-0.723691</td>\n",
       "      <td>0.690124</td>\n",
       "      <td>-0.465162</td>\n",
       "      <td>-0.885225</td>\n",
       "    </tr>\n",
       "    <tr>\n",
       "      <th>2023-08-07</th>\n",
       "      <td>200.7</td>\n",
       "      <td>0.593781</td>\n",
       "      <td>0.804627</td>\n",
       "      <td>-0.568133</td>\n",
       "      <td>-0.822937</td>\n",
       "    </tr>\n",
       "    <tr>\n",
       "      <th>2023-08-14</th>\n",
       "      <td>122.6</td>\n",
       "      <td>0.872824</td>\n",
       "      <td>-0.488036</td>\n",
       "      <td>-0.662875</td>\n",
       "      <td>-0.748730</td>\n",
       "    </tr>\n",
       "    <tr>\n",
       "      <th>2023-08-21</th>\n",
       "      <td>190.9</td>\n",
       "      <td>-0.374564</td>\n",
       "      <td>-0.927201</td>\n",
       "      <td>-0.748017</td>\n",
       "      <td>-0.663680</td>\n",
       "    </tr>\n",
       "    <tr>\n",
       "      <th>2023-08-28</th>\n",
       "      <td>186.3</td>\n",
       "      <td>-0.966898</td>\n",
       "      <td>0.255162</td>\n",
       "      <td>-0.822326</td>\n",
       "      <td>-0.569017</td>\n",
       "    </tr>\n",
       "    <tr>\n",
       "      <th>2023-09-04</th>\n",
       "      <td>185.9</td>\n",
       "      <td>0.131720</td>\n",
       "      <td>0.991287</td>\n",
       "      <td>-0.884725</td>\n",
       "      <td>-0.466114</td>\n",
       "    </tr>\n",
       "    <tr>\n",
       "      <th>2023-09-11</th>\n",
       "      <td>106.9</td>\n",
       "      <td>0.999981</td>\n",
       "      <td>-0.006192</td>\n",
       "      <td>-0.934311</td>\n",
       "      <td>-0.356460</td>\n",
       "    </tr>\n",
       "    <tr>\n",
       "      <th>2023-09-18</th>\n",
       "      <td>157.4</td>\n",
       "      <td>0.119433</td>\n",
       "      <td>-0.992842</td>\n",
       "      <td>-0.970365</td>\n",
       "      <td>-0.241644</td>\n",
       "    </tr>\n",
       "    <tr>\n",
       "      <th>2023-09-25</th>\n",
       "      <td>35.2</td>\n",
       "      <td>-0.969984</td>\n",
       "      <td>-0.243168</td>\n",
       "      <td>-0.992366</td>\n",
       "      <td>-0.123328</td>\n",
       "    </tr>\n",
       "    <tr>\n",
       "      <th>2023-10-02</th>\n",
       "      <td>140.6</td>\n",
       "      <td>-0.363052</td>\n",
       "      <td>0.931769</td>\n",
       "      <td>-0.999995</td>\n",
       "      <td>-0.003225</td>\n",
       "    </tr>\n",
       "    <tr>\n",
       "      <th>2023-10-09</th>\n",
       "      <td>173.4</td>\n",
       "      <td>0.878801</td>\n",
       "      <td>0.477189</td>\n",
       "      <td>-0.993141</td>\n",
       "      <td>0.116923</td>\n",
       "    </tr>\n",
       "    <tr>\n",
       "      <th>2023-10-16</th>\n",
       "      <td>115.6</td>\n",
       "      <td>0.583770</td>\n",
       "      <td>-0.811919</td>\n",
       "      <td>-0.971904</td>\n",
       "      <td>0.235379</td>\n",
       "    </tr>\n",
       "    <tr>\n",
       "      <th>2023-10-23</th>\n",
       "      <td>130.5</td>\n",
       "      <td>-0.732182</td>\n",
       "      <td>-0.681109</td>\n",
       "      <td>-0.936591</td>\n",
       "      <td>0.350426</td>\n",
       "    </tr>\n",
       "    <tr>\n",
       "      <th>2023-10-30</th>\n",
       "      <td>67.9</td>\n",
       "      <td>-0.767664</td>\n",
       "      <td>0.640853</td>\n",
       "      <td>-0.887713</td>\n",
       "      <td>0.460397</td>\n",
       "    </tr>\n",
       "    <tr>\n",
       "      <th>2023-11-06</th>\n",
       "      <td>146.9</td>\n",
       "      <td>0.539377</td>\n",
       "      <td>0.842064</td>\n",
       "      <td>-0.825979</td>\n",
       "      <td>0.563701</td>\n",
       "    </tr>\n",
       "    <tr>\n",
       "      <th>2023-11-13</th>\n",
       "      <td>123.5</td>\n",
       "      <td>0.903133</td>\n",
       "      <td>-0.429362</td>\n",
       "      <td>-0.752283</td>\n",
       "      <td>0.658840</td>\n",
       "    </tr>\n",
       "    <tr>\n",
       "      <th>2023-11-20</th>\n",
       "      <td>81.0</td>\n",
       "      <td>-0.312548</td>\n",
       "      <td>-0.949902</td>\n",
       "      <td>-0.667691</td>\n",
       "      <td>0.744438</td>\n",
       "    </tr>\n",
       "    <tr>\n",
       "      <th>2023-11-27</th>\n",
       "      <td>146.8</td>\n",
       "      <td>-0.981632</td>\n",
       "      <td>0.190786</td>\n",
       "      <td>-0.573430</td>\n",
       "      <td>0.819255</td>\n",
       "    </tr>\n",
       "    <tr>\n",
       "      <th>2023-12-04</th>\n",
       "      <td>143.6</td>\n",
       "      <td>0.066004</td>\n",
       "      <td>0.997819</td>\n",
       "      <td>-0.470863</td>\n",
       "      <td>0.882206</td>\n",
       "    </tr>\n",
       "    <tr>\n",
       "      <th>2023-12-11</th>\n",
       "      <td>188.8</td>\n",
       "      <td>0.998209</td>\n",
       "      <td>0.059824</td>\n",
       "      <td>-0.361478</td>\n",
       "      <td>0.932381</td>\n",
       "    </tr>\n",
       "    <tr>\n",
       "      <th>2023-12-18</th>\n",
       "      <td>202.1</td>\n",
       "      <td>0.184704</td>\n",
       "      <td>-0.982794</td>\n",
       "      <td>-0.246857</td>\n",
       "      <td>0.969052</td>\n",
       "    </tr>\n",
       "    <tr>\n",
       "      <th>2023-12-25</th>\n",
       "      <td>126.2</td>\n",
       "      <td>-0.951819</td>\n",
       "      <td>-0.306660</td>\n",
       "      <td>-0.128661</td>\n",
       "      <td>0.991689</td>\n",
       "    </tr>\n",
       "    <tr>\n",
       "      <th>2024-01-01</th>\n",
       "      <td>206.3</td>\n",
       "      <td>-0.423761</td>\n",
       "      <td>0.905774</td>\n",
       "      <td>-0.008601</td>\n",
       "      <td>0.999963</td>\n",
       "    </tr>\n",
       "    <tr>\n",
       "      <th>2024-01-08</th>\n",
       "      <td>211.0</td>\n",
       "      <td>0.845388</td>\n",
       "      <td>0.534153</td>\n",
       "      <td>0.111583</td>\n",
       "      <td>0.993755</td>\n",
       "    </tr>\n",
       "    <tr>\n",
       "      <th>2024-01-15</th>\n",
       "      <td>202.2</td>\n",
       "      <td>0.636087</td>\n",
       "      <td>-0.771617</td>\n",
       "      <td>0.230151</td>\n",
       "      <td>0.973155</td>\n",
       "    </tr>\n",
       "    <tr>\n",
       "      <th>2024-01-22</th>\n",
       "      <td>200.9</td>\n",
       "      <td>-0.685630</td>\n",
       "      <td>-0.727950</td>\n",
       "      <td>0.345386</td>\n",
       "      <td>0.938461</td>\n",
       "    </tr>\n",
       "    <tr>\n",
       "      <th>2024-01-29</th>\n",
       "      <td>160.7</td>\n",
       "      <td>-0.808288</td>\n",
       "      <td>0.588787</td>\n",
       "      <td>0.455618</td>\n",
       "      <td>0.890175</td>\n",
       "    </tr>\n",
       "    <tr>\n",
       "      <th>2024-02-05</th>\n",
       "      <td>135.7</td>\n",
       "      <td>0.482622</td>\n",
       "      <td>0.875829</td>\n",
       "      <td>0.559252</td>\n",
       "      <td>0.828997</td>\n",
       "    </tr>\n",
       "    <tr>\n",
       "      <th>2024-02-12</th>\n",
       "      <td>121.8</td>\n",
       "      <td>0.929503</td>\n",
       "      <td>-0.368815</td>\n",
       "      <td>0.654787</td>\n",
       "      <td>0.755814</td>\n",
       "    </tr>\n",
       "  </tbody>\n",
       "</table>\n",
       "</div>"
      ],
      "text/plain": [
       "              KMS  Month sin  Month cos  Year sin  Year cos\n",
       "Fecha                                                      \n",
       "2023-02-06  147.2   0.694592   0.719404  0.576948  0.816781\n",
       "2023-02-13   73.4   0.800935  -0.598752  0.670887  0.741560\n",
       "2023-02-20   52.9  -0.493431  -0.869785  0.755109  0.655599\n",
       "2023-02-27   75.5  -0.924864   0.380298  0.828396  0.560143\n",
       "2023-03-06  133.5   0.261144   0.965300  0.889685  0.456575\n",
       "2023-03-13  179.1   0.990452  -0.137856  0.938089  0.346394\n",
       "2023-03-20  106.3  -0.012384  -0.999923  0.972907  0.231197\n",
       "2023-03-27  211.0  -0.993563  -0.113283  0.993635  0.112651\n",
       "2023-04-03   71.5  -0.237157   0.971471  0.999972 -0.007526\n",
       "2023-04-10   98.0   0.933999   0.357276  0.991826 -0.127594\n",
       "2023-04-17  174.3   0.471738  -0.881739  0.969317 -0.245815\n",
       "2023-04-24  182.0  -0.815518  -0.578731  0.932769 -0.360475\n",
       "2023-05-01  178.5  -0.676562   0.736386  0.882712 -0.469915\n",
       "2023-05-08  164.4   0.645594   0.763681  0.819871 -0.572548\n",
       "2023-05-15   91.2   0.838708  -0.544581  0.745156 -0.666890\n",
       "2023-05-22  129.9  -0.434946  -0.900456  0.659649 -0.751574\n",
       "2023-05-29  180.5  -0.947948   0.318425  0.564588 -0.825373\n",
       "2023-06-05  172.4   0.196861   0.980431  0.461351 -0.887218\n",
       "2023-06-12  168.4   0.997392  -0.072181  0.351432 -0.936213\n",
       "2023-06-19  133.9   0.053641  -0.998560  0.236424 -0.971650\n",
       "2023-06-26  154.8  -0.983919  -0.178615  0.117991 -0.993015\n",
       "2023-07-03   72.2  -0.300760   0.953700 -0.002150 -0.999998\n",
       "2023-07-10  171.0   0.908381   0.418144 -0.122261 -0.992498\n",
       "2023-07-17   54.9   0.528908  -0.848679 -0.240600 -0.970624\n",
       "2023-07-24  107.9  -0.775541  -0.631297 -0.355455 -0.934693\n",
       "2023-07-31   13.3  -0.723691   0.690124 -0.465162 -0.885225\n",
       "2023-08-07  200.7   0.593781   0.804627 -0.568133 -0.822937\n",
       "2023-08-14  122.6   0.872824  -0.488036 -0.662875 -0.748730\n",
       "2023-08-21  190.9  -0.374564  -0.927201 -0.748017 -0.663680\n",
       "2023-08-28  186.3  -0.966898   0.255162 -0.822326 -0.569017\n",
       "2023-09-04  185.9   0.131720   0.991287 -0.884725 -0.466114\n",
       "2023-09-11  106.9   0.999981  -0.006192 -0.934311 -0.356460\n",
       "2023-09-18  157.4   0.119433  -0.992842 -0.970365 -0.241644\n",
       "2023-09-25   35.2  -0.969984  -0.243168 -0.992366 -0.123328\n",
       "2023-10-02  140.6  -0.363052   0.931769 -0.999995 -0.003225\n",
       "2023-10-09  173.4   0.878801   0.477189 -0.993141  0.116923\n",
       "2023-10-16  115.6   0.583770  -0.811919 -0.971904  0.235379\n",
       "2023-10-23  130.5  -0.732182  -0.681109 -0.936591  0.350426\n",
       "2023-10-30   67.9  -0.767664   0.640853 -0.887713  0.460397\n",
       "2023-11-06  146.9   0.539377   0.842064 -0.825979  0.563701\n",
       "2023-11-13  123.5   0.903133  -0.429362 -0.752283  0.658840\n",
       "2023-11-20   81.0  -0.312548  -0.949902 -0.667691  0.744438\n",
       "2023-11-27  146.8  -0.981632   0.190786 -0.573430  0.819255\n",
       "2023-12-04  143.6   0.066004   0.997819 -0.470863  0.882206\n",
       "2023-12-11  188.8   0.998209   0.059824 -0.361478  0.932381\n",
       "2023-12-18  202.1   0.184704  -0.982794 -0.246857  0.969052\n",
       "2023-12-25  126.2  -0.951819  -0.306660 -0.128661  0.991689\n",
       "2024-01-01  206.3  -0.423761   0.905774 -0.008601  0.999963\n",
       "2024-01-08  211.0   0.845388   0.534153  0.111583  0.993755\n",
       "2024-01-15  202.2   0.636087  -0.771617  0.230151  0.973155\n",
       "2024-01-22  200.9  -0.685630  -0.727950  0.345386  0.938461\n",
       "2024-01-29  160.7  -0.808288   0.588787  0.455618  0.890175\n",
       "2024-02-05  135.7   0.482622   0.875829  0.559252  0.828997\n",
       "2024-02-12  121.8   0.929503  -0.368815  0.654787  0.755814"
      ]
     },
     "execution_count": 31,
     "metadata": {},
     "output_type": "execute_result"
    }
   ],
   "source": [
    "test_dfPRES"
   ]
  },
  {
   "cell_type": "markdown",
   "metadata": {},
   "source": [
    "<h2 style=\"color: #e67e22; text-align: left;\">Normalización</h2> "
   ]
  },
  {
   "cell_type": "code",
   "execution_count": 32,
   "metadata": {},
   "outputs": [],
   "source": [
    "train_mean = train_dfPRES.mean()\n",
    "train_std = train_dfPRES.std()\n",
    "\n",
    "train_df = (train_dfPRES - train_mean) / train_std\n",
    "val_df = (val_dfPRES - train_mean) / train_std\n",
    "test_df = (test_dfPRES - train_mean) / train_std"
   ]
  },
  {
   "cell_type": "code",
   "execution_count": 33,
   "metadata": {},
   "outputs": [
    {
     "name": "stdout",
     "output_type": "stream",
     "text": [
      "                 KMS  Month sin  Month cos  Year sin  Year cos\n",
      "Fecha                                                         \n",
      "2018-12-31 -2.175856  -0.750803   1.193928 -0.152055  1.417556\n",
      "2019-01-07 -0.740463   1.090209   0.894912  0.020618  1.411054\n",
      "2019-01-14 -0.306314   1.024775  -0.969211  0.191237  1.384430\n",
      "2019-01-21  0.852802  -0.832671  -1.138385  0.357332  1.338069\n",
      "2019-01-28  0.653384  -1.233750   0.683249  0.516496  1.272642\n",
      "...              ...        ...        ...       ...       ...\n",
      "2022-06-27 -1.072826  -1.405237   0.119198  0.017545 -1.368049\n",
      "2022-07-04 -2.535202  -0.058117   1.409250 -0.155141 -1.374190\n",
      "2022-07-11 -1.239008   1.390798   0.234699 -0.327336 -1.360116\n",
      "2022-07-18 -0.919108   0.407585  -1.350352 -0.496546 -1.326029\n",
      "2022-07-25  0.981593  -1.288273  -0.573898 -0.660319 -1.272425\n",
      "\n",
      "[187 rows x 5 columns]\n"
     ]
    }
   ],
   "source": [
    "print(train_df)"
   ]
  },
  {
   "cell_type": "markdown",
   "metadata": {},
   "source": [
    "Note que se podría analizar que pasa cuando se tiene como variables predictoras solo a estas variables determinísticas, o como viene enseguida sólo con variables rezagadas. Finalmente, se pueden unir características de ambas y formar predictoras de las dos naturalezas."
   ]
  },
  {
   "cell_type": "markdown",
   "metadata": {},
   "source": [
    "<h2 style=\"color: #e67e22; text-align: left;\"> Creación de variables rezagadas</h2> "
   ]
  },
  {
   "cell_type": "markdown",
   "metadata": {},
   "source": [
    "Note que vamos a enfocarnos en la predicción 1 paso adelante."
   ]
  },
  {
   "cell_type": "code",
   "execution_count": 34,
   "metadata": {},
   "outputs": [
    {
     "name": "stdout",
     "output_type": "stream",
     "text": [
      "              KMS  Month sin  Month cos  Year sin  Year cos\n",
      "Fecha                                                      \n",
      "2018-12-31   17.3  -0.532407   0.846489 -0.021501  0.999769\n",
      "2019-01-07   86.4   0.772929   0.634493  0.098753  0.995112\n",
      "2019-01-14  107.3   0.726534  -0.687131  0.217577  0.976043\n",
      "2019-01-21  163.1  -0.590454  -0.807071  0.333249  0.942839\n",
      "2019-01-28  153.5  -0.874831   0.484428  0.444096  0.895979\n",
      "...           ...        ...        ...       ...       ...\n",
      "2024-01-15  202.2   0.636087  -0.771617  0.230151  0.973155\n",
      "2024-01-22  200.9  -0.685630  -0.727950  0.345386  0.938461\n",
      "2024-01-29  160.7  -0.808288   0.588787  0.455618  0.890175\n",
      "2024-02-05  135.7   0.482622   0.875829  0.559252  0.828997\n",
      "2024-02-12  121.8   0.929503  -0.368815  0.654787  0.755814\n",
      "\n",
      "[268 rows x 5 columns]\n"
     ]
    }
   ],
   "source": [
    "from pandas import DataFrame\n",
    "# reframe as supervised learning\n",
    "# lag observation (t-1) is the input variable and t is the output variable.\n",
    "df1 = PRES_alt_df.copy()\n",
    "print(df1)"
   ]
  },
  {
   "cell_type": "code",
   "execution_count": 35,
   "metadata": {},
   "outputs": [],
   "source": [
    "df1=df1[['Month sin','Month cos','Year sin','Year cos']]"
   ]
  },
  {
   "cell_type": "code",
   "execution_count": 36,
   "metadata": {},
   "outputs": [
    {
     "data": {
      "text/html": [
       "<div>\n",
       "<style scoped>\n",
       "    .dataframe tbody tr th:only-of-type {\n",
       "        vertical-align: middle;\n",
       "    }\n",
       "\n",
       "    .dataframe tbody tr th {\n",
       "        vertical-align: top;\n",
       "    }\n",
       "\n",
       "    .dataframe thead th {\n",
       "        text-align: right;\n",
       "    }\n",
       "</style>\n",
       "<table border=\"1\" class=\"dataframe\">\n",
       "  <thead>\n",
       "    <tr style=\"text-align: right;\">\n",
       "      <th></th>\n",
       "      <th>Month sin</th>\n",
       "      <th>Month cos</th>\n",
       "      <th>Year sin</th>\n",
       "      <th>Year cos</th>\n",
       "    </tr>\n",
       "    <tr>\n",
       "      <th>Fecha</th>\n",
       "      <th></th>\n",
       "      <th></th>\n",
       "      <th></th>\n",
       "      <th></th>\n",
       "    </tr>\n",
       "  </thead>\n",
       "  <tbody>\n",
       "    <tr>\n",
       "      <th>2018-12-31</th>\n",
       "      <td>-0.532407</td>\n",
       "      <td>0.846489</td>\n",
       "      <td>-0.021501</td>\n",
       "      <td>0.999769</td>\n",
       "    </tr>\n",
       "    <tr>\n",
       "      <th>2019-01-07</th>\n",
       "      <td>0.772929</td>\n",
       "      <td>0.634493</td>\n",
       "      <td>0.098753</td>\n",
       "      <td>0.995112</td>\n",
       "    </tr>\n",
       "    <tr>\n",
       "      <th>2019-01-14</th>\n",
       "      <td>0.726534</td>\n",
       "      <td>-0.687131</td>\n",
       "      <td>0.217577</td>\n",
       "      <td>0.976043</td>\n",
       "    </tr>\n",
       "    <tr>\n",
       "      <th>2019-01-21</th>\n",
       "      <td>-0.590454</td>\n",
       "      <td>-0.807071</td>\n",
       "      <td>0.333249</td>\n",
       "      <td>0.942839</td>\n",
       "    </tr>\n",
       "    <tr>\n",
       "      <th>2019-01-28</th>\n",
       "      <td>-0.874831</td>\n",
       "      <td>0.484428</td>\n",
       "      <td>0.444096</td>\n",
       "      <td>0.895979</td>\n",
       "    </tr>\n",
       "    <tr>\n",
       "      <th>...</th>\n",
       "      <td>...</td>\n",
       "      <td>...</td>\n",
       "      <td>...</td>\n",
       "      <td>...</td>\n",
       "    </tr>\n",
       "    <tr>\n",
       "      <th>2024-01-15</th>\n",
       "      <td>0.636087</td>\n",
       "      <td>-0.771617</td>\n",
       "      <td>0.230151</td>\n",
       "      <td>0.973155</td>\n",
       "    </tr>\n",
       "    <tr>\n",
       "      <th>2024-01-22</th>\n",
       "      <td>-0.685630</td>\n",
       "      <td>-0.727950</td>\n",
       "      <td>0.345386</td>\n",
       "      <td>0.938461</td>\n",
       "    </tr>\n",
       "    <tr>\n",
       "      <th>2024-01-29</th>\n",
       "      <td>-0.808288</td>\n",
       "      <td>0.588787</td>\n",
       "      <td>0.455618</td>\n",
       "      <td>0.890175</td>\n",
       "    </tr>\n",
       "    <tr>\n",
       "      <th>2024-02-05</th>\n",
       "      <td>0.482622</td>\n",
       "      <td>0.875829</td>\n",
       "      <td>0.559252</td>\n",
       "      <td>0.828997</td>\n",
       "    </tr>\n",
       "    <tr>\n",
       "      <th>2024-02-12</th>\n",
       "      <td>0.929503</td>\n",
       "      <td>-0.368815</td>\n",
       "      <td>0.654787</td>\n",
       "      <td>0.755814</td>\n",
       "    </tr>\n",
       "  </tbody>\n",
       "</table>\n",
       "<p>268 rows × 4 columns</p>\n",
       "</div>"
      ],
      "text/plain": [
       "            Month sin  Month cos  Year sin  Year cos\n",
       "Fecha                                               \n",
       "2018-12-31  -0.532407   0.846489 -0.021501  0.999769\n",
       "2019-01-07   0.772929   0.634493  0.098753  0.995112\n",
       "2019-01-14   0.726534  -0.687131  0.217577  0.976043\n",
       "2019-01-21  -0.590454  -0.807071  0.333249  0.942839\n",
       "2019-01-28  -0.874831   0.484428  0.444096  0.895979\n",
       "...               ...        ...       ...       ...\n",
       "2024-01-15   0.636087  -0.771617  0.230151  0.973155\n",
       "2024-01-22  -0.685630  -0.727950  0.345386  0.938461\n",
       "2024-01-29  -0.808288   0.588787  0.455618  0.890175\n",
       "2024-02-05   0.482622   0.875829  0.559252  0.828997\n",
       "2024-02-12   0.929503  -0.368815  0.654787  0.755814\n",
       "\n",
       "[268 rows x 4 columns]"
      ]
     },
     "execution_count": 36,
     "metadata": {},
     "output_type": "execute_result"
    }
   ],
   "source": [
    "df1"
   ]
  },
  {
   "cell_type": "code",
   "execution_count": 37,
   "metadata": {},
   "outputs": [
    {
     "name": "stdout",
     "output_type": "stream",
     "text": [
      "            Month sin  Month cos  Year sin  Year cos    t-2    t-1\n",
      "Fecha                                                             \n",
      "2018-12-31  -0.532407   0.846489 -0.021501  0.999769    NaN    NaN\n",
      "2019-01-07   0.772929   0.634493  0.098753  0.995112    NaN   17.3\n",
      "2019-01-14   0.726534  -0.687131  0.217577  0.976043   17.3   86.4\n",
      "2019-01-21  -0.590454  -0.807071  0.333249  0.942839   86.4  107.3\n",
      "2019-01-28  -0.874831   0.484428  0.444096  0.895979  107.3  163.1\n",
      "...               ...        ...       ...       ...    ...    ...\n",
      "2024-01-15   0.636087  -0.771617  0.230151  0.973155  206.3  211.0\n",
      "2024-01-22  -0.685630  -0.727950  0.345386  0.938461  211.0  202.2\n",
      "2024-01-29  -0.808288   0.588787  0.455618  0.890175  202.2  200.9\n",
      "2024-02-05   0.482622   0.875829  0.559252  0.828997  200.9  160.7\n",
      "2024-02-12   0.929503  -0.368815  0.654787  0.755814  160.7  135.7\n",
      "\n",
      "[268 rows x 6 columns]\n"
     ]
    }
   ],
   "source": [
    "for i in range(2, 0, -1):\n",
    "    df1['t-' + str(i)] = PRES_alt_df['KMS'].shift(i)\n",
    "\n",
    "# Mostrar el resultado\n",
    "print(df1)\n"
   ]
  },
  {
   "cell_type": "code",
   "execution_count": 38,
   "metadata": {},
   "outputs": [
    {
     "name": "stdout",
     "output_type": "stream",
     "text": [
      "            Month sin  Month cos  Year sin  Year cos    t-2    t-1      t\n",
      "Fecha                                                                    \n",
      "2018-12-31  -0.532407   0.846489 -0.021501  0.999769    NaN    NaN   17.3\n",
      "2019-01-07   0.772929   0.634493  0.098753  0.995112    NaN   17.3   86.4\n",
      "2019-01-14   0.726534  -0.687131  0.217577  0.976043   17.3   86.4  107.3\n",
      "2019-01-21  -0.590454  -0.807071  0.333249  0.942839   86.4  107.3  163.1\n",
      "2019-01-28  -0.874831   0.484428  0.444096  0.895979  107.3  163.1  153.5\n",
      "2019-02-04   0.370733   0.928739  0.548511  0.836144  163.1  153.5  131.0\n",
      "2019-02-11   0.967943  -0.251168  0.644981  0.764198  153.5  131.0  146.1\n",
      "2019-02-18  -0.127626  -0.991822  0.732111  0.681185  131.0  146.1  176.2\n"
     ]
    }
   ],
   "source": [
    "# Create column t\n",
    "df1['t'] = PRES_alt_df['KMS']\n",
    "print(df1.head(8))"
   ]
  },
  {
   "cell_type": "code",
   "execution_count": 39,
   "metadata": {},
   "outputs": [
    {
     "name": "stdout",
     "output_type": "stream",
     "text": [
      "            Month sin  Month cos  Year sin  Year cos   t-2    t-1      t\n",
      "Fecha                                                                   \n",
      "2019-01-14   0.726534  -0.687131  0.217577  0.976043  17.3   86.4  107.3\n",
      "2019-01-21  -0.590454  -0.807071  0.333249  0.942839  86.4  107.3  163.1\n"
     ]
    },
    {
     "data": {
      "text/plain": [
       "(266, 7)"
      ]
     },
     "execution_count": 39,
     "metadata": {},
     "output_type": "execute_result"
    }
   ],
   "source": [
    "# Create a new subsetted dataframe, removing Nans from first 7 rows\n",
    "df1_PRES = df1[2:]\n",
    "print(df1_PRES.head(2))\n",
    "df1_PRES.shape"
   ]
  },
  {
   "cell_type": "markdown",
   "metadata": {},
   "source": [
    "<h2 style=\"color: #e67e22; text-align: left;\">  Dividir los datos en repuestas y Covariables, entrenamiento, validación y prueba.</h2> "
   ]
  },
  {
   "cell_type": "code",
   "execution_count": 40,
   "metadata": {},
   "outputs": [],
   "source": [
    "# Split data\n",
    "\n",
    "PRESsplit = df1_PRES.values\n",
    "# split into lagged variables and original time series\n",
    "X1= PRESsplit[:, 0:-1]  # slice all rows and start with column 0 and go up to but not including the last column\n",
    "y1 =PRESsplit[:,-1]  # slice all rows and last column, essentially separating out 't' column"
   ]
  },
  {
   "cell_type": "code",
   "execution_count": 41,
   "metadata": {},
   "outputs": [
    {
     "name": "stdout",
     "output_type": "stream",
     "text": [
      "[[  0.7265337   -0.68713084   0.21757661   0.97604325  17.3\n",
      "   86.4       ]\n",
      " [ -0.5904539   -0.80707137   0.33324939   0.94283872  86.4\n",
      "  107.3       ]\n",
      " [ -0.87483088   0.48442845   0.4440958    0.89597931 107.3\n",
      "  163.1       ]\n",
      " ...\n",
      " [ -0.80828842   0.58878675   0.45561828   0.89017525 202.2\n",
      "  200.9       ]\n",
      " [  0.48262166   0.87582894   0.55925232   0.82899749 200.9\n",
      "  160.7       ]\n",
      " [  0.92950268  -0.36881535   0.65478686   0.75581358 160.7\n",
      "  135.7       ]]\n",
      "[1.073e+02 1.631e+02 1.535e+02 1.310e+02 1.461e+02 1.762e+02 9.920e+01\n",
      " 1.702e+02 1.191e+02 1.553e+02 1.288e+02 1.515e+02 1.161e+02 6.440e+01\n",
      " 1.072e+02 2.600e+01 1.594e+02 1.398e+02 7.170e+01 8.730e+01 5.690e+01\n",
      " 1.477e+02 9.160e+01 1.282e+02 1.735e+02 1.586e+02 1.150e+02 1.325e+02\n",
      " 7.870e+01 3.780e+01 1.339e+02 9.980e+01 4.350e+01 1.254e+02 1.484e+02\n",
      " 8.360e+01 7.120e+01 1.246e+02 1.573e+02 1.667e+02 1.261e+02 9.280e+01\n",
      " 1.459e+02 1.321e+02 1.041e+02 5.720e+01 1.225e+02 1.440e+02 1.657e+02\n",
      " 9.300e+01 2.470e+01 5.430e+01 9.320e+01 1.519e+02 1.654e+02 1.695e+02\n",
      " 1.520e+02 1.762e+02 1.043e+02 1.375e+02 9.870e+01 9.330e+01 8.500e+01\n",
      " 6.900e+01 5.260e+01 7.840e+01 6.920e+01 5.190e+01 6.280e+01 1.032e+02\n",
      " 8.630e+01 1.277e+02 1.301e+02 1.067e+02 8.360e+01 1.691e+02 2.626e+02\n",
      " 1.429e+02 1.341e+02 1.935e+02 7.830e+01 1.083e+02 1.559e+02 1.926e+02\n",
      " 9.080e+01 1.976e+02 1.779e+02 1.267e+02 1.726e+02 1.825e+02 1.337e+02\n",
      " 9.170e+01 1.377e+02 1.768e+02 2.065e+02 1.330e+02 1.888e+02 1.273e+02\n",
      " 1.206e+02 3.790e+01 1.091e+02 7.780e+01 3.670e+01 4.940e+01 1.635e+02\n",
      " 1.580e+02 1.633e+02 9.930e+01 1.165e+02 1.399e+02 1.681e+02 1.446e+02\n",
      " 1.687e+02 1.082e+02 6.880e+01 1.341e+02 1.370e+02 6.950e+01 5.880e+01\n",
      " 8.530e+01 8.910e+01 1.584e+02 1.810e+02 4.520e+01 1.842e+02 1.948e+02\n",
      " 1.951e+02 1.560e+02 2.070e+02 2.036e+02 1.397e+02 1.848e+02 1.099e+02\n",
      " 1.133e+02 3.920e+01 1.353e+02 2.011e+02 2.075e+02 1.950e+02 1.590e+02\n",
      " 1.801e+02 1.339e+02 9.840e+01 1.000e-03 9.100e+00 9.710e+01 1.028e+02\n",
      " 1.138e+02 1.108e+02 1.362e+02 1.577e+02 7.410e+01 9.670e+01 4.620e+01\n",
      " 1.590e+02 1.848e+02 2.290e+02 1.087e+02 1.442e+02 1.592e+02 1.333e+02\n",
      " 1.800e+02 1.063e+02 1.595e+02 1.561e+02 1.708e+02 1.174e+02 1.072e+02\n",
      " 1.395e+02 5.060e+01 1.487e+02 7.690e+01 8.780e+01 1.104e+02 1.342e+02\n",
      " 1.551e+02 1.098e+02 7.020e+01 1.291e+02 1.001e+02 7.040e+01 1.000e-03\n",
      " 6.240e+01 7.780e+01 1.693e+02 1.198e+02 1.715e+02 1.547e+02 2.780e+01\n",
      " 9.920e+01 6.030e+01 6.830e+01 8.350e+01 6.050e+01 1.543e+02 1.530e+02\n",
      " 1.263e+02 9.810e+01 5.420e+01 1.753e+02 1.789e+02 1.766e+02 1.361e+02\n",
      " 1.754e+02 2.080e+02 2.000e+02 1.140e+02 2.000e+02 1.984e+02 1.811e+02\n",
      " 2.035e+02 1.522e+02 1.472e+02 7.340e+01 5.290e+01 7.550e+01 1.335e+02\n",
      " 1.791e+02 1.063e+02 2.110e+02 7.150e+01 9.800e+01 1.743e+02 1.820e+02\n",
      " 1.785e+02 1.644e+02 9.120e+01 1.299e+02 1.805e+02 1.724e+02 1.684e+02\n",
      " 1.339e+02 1.548e+02 7.220e+01 1.710e+02 5.490e+01 1.079e+02 1.330e+01\n",
      " 2.007e+02 1.226e+02 1.909e+02 1.863e+02 1.859e+02 1.069e+02 1.574e+02\n",
      " 3.520e+01 1.406e+02 1.734e+02 1.156e+02 1.305e+02 6.790e+01 1.469e+02\n",
      " 1.235e+02 8.100e+01 1.468e+02 1.436e+02 1.888e+02 2.021e+02 1.262e+02\n",
      " 2.063e+02 2.110e+02 2.022e+02 2.009e+02 1.607e+02 1.357e+02 1.218e+02]\n"
     ]
    }
   ],
   "source": [
    "print(X1)\n",
    "print(y1)"
   ]
  },
  {
   "cell_type": "markdown",
   "metadata": {},
   "source": [
    "Primero dividiremos nuestro conjunto de datos en entrenamiento(90%) y prueba(10%), luego el entrenamiento será dividido en entrenamiento(80% del 90%) y validación(20% del 90%)."
   ]
  },
  {
   "cell_type": "code",
   "execution_count": 42,
   "metadata": {},
   "outputs": [],
   "source": [
    "from sklearn.model_selection import train_test_split\n",
    "from sklearn.preprocessing import StandardScaler, MinMaxScaler"
   ]
  },
  {
   "cell_type": "code",
   "execution_count": 43,
   "metadata": {},
   "outputs": [],
   "source": [
    "X_train_full, X_test, y_train_full, y_test=train_test_split(X1,y1,test_size=0.196, train_size=0.804,shuffle=False)"
   ]
  },
  {
   "cell_type": "code",
   "execution_count": 44,
   "metadata": {},
   "outputs": [
    {
     "name": "stdout",
     "output_type": "stream",
     "text": [
      "(213, 6)\n",
      "(53, 6)\n",
      "(213,)\n",
      "(53,)\n"
     ]
    }
   ],
   "source": [
    "print(X_train_full.shape)\n",
    "print(X_test.shape)\n",
    "\n",
    "print(y_train_full.shape)\n",
    "print(y_test.shape)"
   ]
  },
  {
   "cell_type": "code",
   "execution_count": 45,
   "metadata": {},
   "outputs": [],
   "source": [
    "X_train, X_val, y_train, y_val=train_test_split(X_train_full,y_train_full,test_size=0.125, train_size=0.875,shuffle=False)"
   ]
  },
  {
   "cell_type": "code",
   "execution_count": 46,
   "metadata": {},
   "outputs": [
    {
     "name": "stdout",
     "output_type": "stream",
     "text": [
      "(186, 6)\n",
      "(27, 6)\n",
      "(186,)\n",
      "(27,)\n"
     ]
    }
   ],
   "source": [
    "print(X_train.shape)\n",
    "print(X_val.shape)\n",
    "\n",
    "print(y_train.shape)\n",
    "print(y_val.shape)"
   ]
  },
  {
   "cell_type": "markdown",
   "metadata": {},
   "source": [
    "Vamos a chequear que los valores quedaron consecutivos"
   ]
  },
  {
   "cell_type": "code",
   "execution_count": 47,
   "metadata": {},
   "outputs": [
    {
     "data": {
      "text/plain": [
       "array([1.073e+02, 1.631e+02, 1.535e+02, 1.310e+02, 1.461e+02, 1.762e+02,\n",
       "       9.920e+01, 1.702e+02, 1.191e+02, 1.553e+02, 1.288e+02, 1.515e+02,\n",
       "       1.161e+02, 6.440e+01, 1.072e+02, 2.600e+01, 1.594e+02, 1.398e+02,\n",
       "       7.170e+01, 8.730e+01, 5.690e+01, 1.477e+02, 9.160e+01, 1.282e+02,\n",
       "       1.735e+02, 1.586e+02, 1.150e+02, 1.325e+02, 7.870e+01, 3.780e+01,\n",
       "       1.339e+02, 9.980e+01, 4.350e+01, 1.254e+02, 1.484e+02, 8.360e+01,\n",
       "       7.120e+01, 1.246e+02, 1.573e+02, 1.667e+02, 1.261e+02, 9.280e+01,\n",
       "       1.459e+02, 1.321e+02, 1.041e+02, 5.720e+01, 1.225e+02, 1.440e+02,\n",
       "       1.657e+02, 9.300e+01, 2.470e+01, 5.430e+01, 9.320e+01, 1.519e+02,\n",
       "       1.654e+02, 1.695e+02, 1.520e+02, 1.762e+02, 1.043e+02, 1.375e+02,\n",
       "       9.870e+01, 9.330e+01, 8.500e+01, 6.900e+01, 5.260e+01, 7.840e+01,\n",
       "       6.920e+01, 5.190e+01, 6.280e+01, 1.032e+02, 8.630e+01, 1.277e+02,\n",
       "       1.301e+02, 1.067e+02, 8.360e+01, 1.691e+02, 2.626e+02, 1.429e+02,\n",
       "       1.341e+02, 1.935e+02, 7.830e+01, 1.083e+02, 1.559e+02, 1.926e+02,\n",
       "       9.080e+01, 1.976e+02, 1.779e+02, 1.267e+02, 1.726e+02, 1.825e+02,\n",
       "       1.337e+02, 9.170e+01, 1.377e+02, 1.768e+02, 2.065e+02, 1.330e+02,\n",
       "       1.888e+02, 1.273e+02, 1.206e+02, 3.790e+01, 1.091e+02, 7.780e+01,\n",
       "       3.670e+01, 4.940e+01, 1.635e+02, 1.580e+02, 1.633e+02, 9.930e+01,\n",
       "       1.165e+02, 1.399e+02, 1.681e+02, 1.446e+02, 1.687e+02, 1.082e+02,\n",
       "       6.880e+01, 1.341e+02, 1.370e+02, 6.950e+01, 5.880e+01, 8.530e+01,\n",
       "       8.910e+01, 1.584e+02, 1.810e+02, 4.520e+01, 1.842e+02, 1.948e+02,\n",
       "       1.951e+02, 1.560e+02, 2.070e+02, 2.036e+02, 1.397e+02, 1.848e+02,\n",
       "       1.099e+02, 1.133e+02, 3.920e+01, 1.353e+02, 2.011e+02, 2.075e+02,\n",
       "       1.950e+02, 1.590e+02, 1.801e+02, 1.339e+02, 9.840e+01, 1.000e-03,\n",
       "       9.100e+00, 9.710e+01, 1.028e+02, 1.138e+02, 1.108e+02, 1.362e+02,\n",
       "       1.577e+02, 7.410e+01, 9.670e+01, 4.620e+01, 1.590e+02, 1.848e+02,\n",
       "       2.290e+02, 1.087e+02, 1.442e+02, 1.592e+02, 1.333e+02, 1.800e+02,\n",
       "       1.063e+02, 1.595e+02, 1.561e+02, 1.708e+02, 1.174e+02, 1.072e+02,\n",
       "       1.395e+02, 5.060e+01, 1.487e+02, 7.690e+01, 8.780e+01, 1.104e+02,\n",
       "       1.342e+02, 1.551e+02, 1.098e+02, 7.020e+01, 1.291e+02, 1.001e+02,\n",
       "       7.040e+01, 1.000e-03, 6.240e+01, 7.780e+01, 1.693e+02, 1.198e+02])"
      ]
     },
     "execution_count": 47,
     "metadata": {},
     "output_type": "execute_result"
    }
   ],
   "source": [
    "y_train"
   ]
  },
  {
   "cell_type": "code",
   "execution_count": 48,
   "metadata": {},
   "outputs": [
    {
     "data": {
      "text/plain": [
       "array([171.5, 154.7,  27.8,  99.2,  60.3,  68.3,  83.5,  60.5, 154.3,\n",
       "       153. , 126.3,  98.1,  54.2, 175.3, 178.9, 176.6, 136.1, 175.4,\n",
       "       208. , 200. , 114. , 200. , 198.4, 181.1, 203.5, 152.2, 147.2])"
      ]
     },
     "execution_count": 48,
     "metadata": {},
     "output_type": "execute_result"
    }
   ],
   "source": [
    "y_val"
   ]
  },
  {
   "cell_type": "code",
   "execution_count": 49,
   "metadata": {},
   "outputs": [
    {
     "data": {
      "text/plain": [
       "array([ 73.4,  52.9,  75.5, 133.5, 179.1, 106.3, 211. ,  71.5,  98. ,\n",
       "       174.3, 182. , 178.5, 164.4,  91.2, 129.9, 180.5, 172.4, 168.4,\n",
       "       133.9, 154.8,  72.2, 171. ,  54.9, 107.9,  13.3, 200.7, 122.6,\n",
       "       190.9, 186.3, 185.9, 106.9, 157.4,  35.2, 140.6, 173.4, 115.6,\n",
       "       130.5,  67.9, 146.9, 123.5,  81. , 146.8, 143.6, 188.8, 202.1,\n",
       "       126.2, 206.3, 211. , 202.2, 200.9, 160.7, 135.7, 121.8])"
      ]
     },
     "execution_count": 49,
     "metadata": {},
     "output_type": "execute_result"
    }
   ],
   "source": [
    "y_test"
   ]
  },
  {
   "cell_type": "markdown",
   "metadata": {},
   "source": [
    "<h2 style=\"color: #e67e22; text-align: left;\">  Normalización de las covariables únicamente</h2> \n",
    "\n",
    "Note que para éste caso se elige la normalización MinMaxScaler, es decir, transforma todas las variables a que tomen valores entre 0 y 1. Vale la pena decir que esta transformación es basada en el conjuto de entrenamiento, y aplicada con esos parámetros(Min y Max), a los tres conjuntos entrenamiento , validación y prueba."
   ]
  },
  {
   "cell_type": "code",
   "execution_count": 50,
   "metadata": {},
   "outputs": [],
   "source": [
    "scaler=MinMaxScaler()\n",
    "X_train=scaler.fit_transform(X_train)\n",
    "X_val=scaler.transform(X_val)\n",
    "X_test=scaler.transform(X_test)"
   ]
  },
  {
   "cell_type": "code",
   "execution_count": 51,
   "metadata": {
    "scrolled": true
   },
   "outputs": [
    {
     "data": {
      "text/plain": [
       "array([[0.86328969, 0.15644165, 0.60875976, 0.98831242, 0.06587611,\n",
       "        0.32901496],\n",
       "       [0.20477766, 0.09646704, 0.66662709, 0.97170292, 0.32901496,\n",
       "        0.40860399],\n",
       "       [0.06258523, 0.74226373, 0.72207994, 0.948263  , 0.40860399,\n",
       "        0.62109528],\n",
       "       ...,\n",
       "       [0.64447999, 0.02132163, 0.36913616, 0.01725432, 0.        ,\n",
       "        0.23762086],\n",
       "       [0.04325539, 0.29658605, 0.31207767, 0.03645883, 0.23762086,\n",
       "        0.29626541],\n",
       "       [0.24082733, 0.92764523, 0.25773955, 0.0623778 , 0.29626541,\n",
       "        0.64470543]])"
      ]
     },
     "execution_count": 51,
     "metadata": {},
     "output_type": "execute_result"
    }
   ],
   "source": [
    "X_train"
   ]
  },
  {
   "cell_type": "code",
   "execution_count": 52,
   "metadata": {},
   "outputs": [
    {
     "data": {
      "text/plain": [
       "array([1.073e+02, 1.631e+02, 1.535e+02, 1.310e+02, 1.461e+02, 1.762e+02,\n",
       "       9.920e+01, 1.702e+02, 1.191e+02, 1.553e+02, 1.288e+02, 1.515e+02,\n",
       "       1.161e+02, 6.440e+01, 1.072e+02, 2.600e+01, 1.594e+02, 1.398e+02,\n",
       "       7.170e+01, 8.730e+01, 5.690e+01, 1.477e+02, 9.160e+01, 1.282e+02,\n",
       "       1.735e+02, 1.586e+02, 1.150e+02, 1.325e+02, 7.870e+01, 3.780e+01,\n",
       "       1.339e+02, 9.980e+01, 4.350e+01, 1.254e+02, 1.484e+02, 8.360e+01,\n",
       "       7.120e+01, 1.246e+02, 1.573e+02, 1.667e+02, 1.261e+02, 9.280e+01,\n",
       "       1.459e+02, 1.321e+02, 1.041e+02, 5.720e+01, 1.225e+02, 1.440e+02,\n",
       "       1.657e+02, 9.300e+01, 2.470e+01, 5.430e+01, 9.320e+01, 1.519e+02,\n",
       "       1.654e+02, 1.695e+02, 1.520e+02, 1.762e+02, 1.043e+02, 1.375e+02,\n",
       "       9.870e+01, 9.330e+01, 8.500e+01, 6.900e+01, 5.260e+01, 7.840e+01,\n",
       "       6.920e+01, 5.190e+01, 6.280e+01, 1.032e+02, 8.630e+01, 1.277e+02,\n",
       "       1.301e+02, 1.067e+02, 8.360e+01, 1.691e+02, 2.626e+02, 1.429e+02,\n",
       "       1.341e+02, 1.935e+02, 7.830e+01, 1.083e+02, 1.559e+02, 1.926e+02,\n",
       "       9.080e+01, 1.976e+02, 1.779e+02, 1.267e+02, 1.726e+02, 1.825e+02,\n",
       "       1.337e+02, 9.170e+01, 1.377e+02, 1.768e+02, 2.065e+02, 1.330e+02,\n",
       "       1.888e+02, 1.273e+02, 1.206e+02, 3.790e+01, 1.091e+02, 7.780e+01,\n",
       "       3.670e+01, 4.940e+01, 1.635e+02, 1.580e+02, 1.633e+02, 9.930e+01,\n",
       "       1.165e+02, 1.399e+02, 1.681e+02, 1.446e+02, 1.687e+02, 1.082e+02,\n",
       "       6.880e+01, 1.341e+02, 1.370e+02, 6.950e+01, 5.880e+01, 8.530e+01,\n",
       "       8.910e+01, 1.584e+02, 1.810e+02, 4.520e+01, 1.842e+02, 1.948e+02,\n",
       "       1.951e+02, 1.560e+02, 2.070e+02, 2.036e+02, 1.397e+02, 1.848e+02,\n",
       "       1.099e+02, 1.133e+02, 3.920e+01, 1.353e+02, 2.011e+02, 2.075e+02,\n",
       "       1.950e+02, 1.590e+02, 1.801e+02, 1.339e+02, 9.840e+01, 1.000e-03,\n",
       "       9.100e+00, 9.710e+01, 1.028e+02, 1.138e+02, 1.108e+02, 1.362e+02,\n",
       "       1.577e+02, 7.410e+01, 9.670e+01, 4.620e+01, 1.590e+02, 1.848e+02,\n",
       "       2.290e+02, 1.087e+02, 1.442e+02, 1.592e+02, 1.333e+02, 1.800e+02,\n",
       "       1.063e+02, 1.595e+02, 1.561e+02, 1.708e+02, 1.174e+02, 1.072e+02,\n",
       "       1.395e+02, 5.060e+01, 1.487e+02, 7.690e+01, 8.780e+01, 1.104e+02,\n",
       "       1.342e+02, 1.551e+02, 1.098e+02, 7.020e+01, 1.291e+02, 1.001e+02,\n",
       "       7.040e+01, 1.000e-03, 6.240e+01, 7.780e+01, 1.693e+02, 1.198e+02])"
      ]
     },
     "execution_count": 52,
     "metadata": {},
     "output_type": "execute_result"
    }
   ],
   "source": [
    "y_train"
   ]
  },
  {
   "cell_type": "code",
   "execution_count": 53,
   "metadata": {},
   "outputs": [
    {
     "data": {
      "text/plain": [
       "array([[ 9.00491199e-01,  2.00634387e-01,  8.35535947e-01,\n",
       "         8.71019706e-01,  5.79587127e-01,  5.60546689e-01],\n",
       "       [ 2.53290311e-01,  6.51080618e-02,  8.77669785e-01,\n",
       "         8.28020502e-01,  5.60546689e-01,  2.79509823e-01],\n",
       "       [ 3.75680565e-02,  6.90194935e-01,  9.14332676e-01,\n",
       "         7.80271796e-01,  2.79509823e-01,  2.01444027e-01],\n",
       "       [ 6.30588587e-01,  9.82716793e-01,  9.44993641e-01,\n",
       "         7.28465118e-01,  2.01444027e-01,  2.87506807e-01],\n",
       "       [ 9.95252658e-01,  4.31099107e-01,  9.69208626e-01,\n",
       "         6.73350771e-01,  2.87506807e-01,  5.08375889e-01],\n",
       "       [ 4.93820405e-01,  3.40867595e-05,  9.86626932e-01,\n",
       "         6.15726962e-01,  5.08375889e-01,  6.82024684e-01],\n",
       "       [ 3.21764121e-03,  4.43386369e-01,  9.96996294e-01,\n",
       "         5.56428240e-01,  6.82024684e-01,  4.04795906e-01],\n",
       "       [ 3.81431114e-01,  9.85802836e-01,  1.00016654e+00,\n",
       "         4.96313414e-01,  4.04795906e-01,  8.03502679e-01],\n",
       "       [ 9.67025195e-01,  6.78682758e-01,  9.96091742e-01,\n",
       "         4.36253110e-01,  8.03502679e-01,  2.72274456e-01],\n",
       "       [ 7.35888327e-01,  5.91306436e-02,  9.84830929e-01,\n",
       "         3.77117166e-01,  2.72274456e-01,  3.73188778e-01],\n",
       "       [ 9.22423854e-02,  2.10645288e-01,  9.66547182e-01,\n",
       "         3.19762031e-01,  3.73188778e-01,  6.63745863e-01],\n",
       "       [ 1.61722463e-01,  8.68251508e-01,  9.41505302e-01,\n",
       "         2.65018365e-01,  6.63745863e-01,  6.93068138e-01],\n",
       "       [ 8.22818878e-01,  8.81899889e-01,  9.10067962e-01,\n",
       "         2.13679005e-01,  6.93068138e-01,  6.79739831e-01],\n",
       "       [ 9.19378415e-01,  2.27721568e-01,  8.72690461e-01,\n",
       "         1.66487486e-01,  6.79739831e-01,  6.26045796e-01],\n",
       "       [ 2.82533695e-01,  4.97711061e-02,  8.29914128e-01,\n",
       "         1.24127271e-01,  6.26045796e-01,  3.47293783e-01],\n",
       "       [ 2.60255487e-02,  6.59255755e-01,  7.82358480e-01,\n",
       "         8.72118500e-02,  3.47293783e-01,  4.94666773e-01],\n",
       "       [ 5.98446211e-01,  9.90283128e-01,  7.30712254e-01,\n",
       "         5.62758600e-02,  4.94666773e-01,  6.87356007e-01],\n",
       "       [ 9.98722353e-01,  4.63938632e-01,  6.75723428e-01,\n",
       "         3.17673387e-02,  6.87356007e-01,  6.56510497e-01],\n",
       "       [ 5.26834223e-01,  7.15659306e-04,  6.18188390e-01,\n",
       "         1.40412363e-02,  6.56510497e-01,  6.41278147e-01],\n",
       "       [ 8.03962924e-03,  4.10718026e-01,  5.58940406e-01,\n",
       "         3.35427523e-03,  6.41278147e-01,  5.09899124e-01],\n",
       "       [ 3.49628376e-01,  9.76916350e-01,  4.98837547e-01,\n",
       "        -1.38768036e-04,  5.09899124e-01,  5.89488155e-01],\n",
       "       [ 9.54215697e-01,  7.09119189e-01,  4.38750268e-01,\n",
       "         3.61269529e-03,  5.89488155e-01,  2.74940118e-01],\n",
       "       [ 7.64473857e-01,  7.56614812e-02,  3.79548796e-01,\n",
       "         1.45543337e-02,  2.74940118e-01,  6.51179174e-01],\n",
       "       [ 1.12231367e-01,  1.84360708e-01,  3.22090531e-01,\n",
       "         3.25276825e-02,  6.51179174e-01,  2.09060202e-01],\n",
       "       [ 1.38157325e-01,  8.45119090e-01,  2.67207625e-01,\n",
       "         5.72724384e-02,  2.09060202e-01,  4.10888846e-01],\n",
       "       [ 7.96911325e-01,  9.02374578e-01,  2.15694932e-01,\n",
       "         8.84302297e-02,  4.10888846e-01,  5.06437572e-02],\n",
       "       [ 9.36436667e-01,  2.55996367e-01,  1.68298499e-01,\n",
       "         1.25549806e-01,  5.06437572e-02,  7.64279377e-01],\n",
       "       [ 3.12725564e-01,  3.63978574e-02,  1.25704753e-01,\n",
       "         1.68093576e-01,  7.64279377e-01,  4.66867734e-01],\n",
       "       [ 1.65502249e-02,  6.27622158e-01,  8.85305693e-02,\n",
       "         2.15445387e-01,  4.66867734e-01,  7.26960118e-01],\n",
       "       [ 5.65874540e-01,  9.95711347e-01,  5.73143315e-02,\n",
       "         2.66919458e-01,  7.26960118e-01,  7.09442915e-01],\n",
       "       [ 1.00001704e+00,  4.96935570e-01,  3.25081360e-02,\n",
       "         3.21770302e-01,  7.09442915e-01,  7.07919680e-01],\n",
       "       [ 5.59731066e-01,  3.57488263e-03,  1.44712443e-02,\n",
       "         3.79203530e-01,  7.07919680e-01,  4.07080758e-01],\n",
       "       [ 1.50072427e-02,  3.78439206e-01,  3.46487979e-03,\n",
       "         4.38387351e-01,  4.07080758e-01,  5.99389183e-01],\n",
       "       [ 3.18481505e-01,  9.65950044e-01, -3.51555183e-04,\n",
       "         4.98464622e-01,  5.99389183e-01,  1.34040876e-01],\n",
       "       [ 9.39425299e-01,  7.38643735e-01,  3.07721175e-03,\n",
       "         5.58565260e-01,  1.34040876e-01,  5.35413311e-01],\n",
       "       [ 7.91906003e-01,  9.40431110e-02,  1.37015227e-02,\n",
       "         6.17818843e-01,  5.35413311e-01,  6.60318585e-01],\n",
       "       [ 1.33911565e-01,  1.59452854e-01,  3.13675085e-02,\n",
       "         6.75367217e-01,  6.60318585e-01,  4.40211120e-01],\n",
       "       [ 1.16170333e-01,  8.20481655e-01,  5.58193176e-02,\n",
       "         7.30376926e-01,  4.40211120e-01,  4.96951626e-01],\n",
       "       [ 7.69708919e-01,  9.21094545e-01,  8.67028208e-02,\n",
       "         7.82051277e-01,  4.96951626e-01,  2.58565341e-01],\n",
       "       [ 9.51591558e-01,  2.85335471e-01,  1.23570741e-01,\n",
       "         8.29641886e-01,  2.58565341e-01,  5.59404263e-01],\n",
       "       [ 3.43734241e-01,  2.50466399e-02,  1.65889129e-01,\n",
       "         8.72459509e-01,  5.59404263e-01,  4.70295013e-01],\n",
       "       [ 9.18340951e-03,  5.95432107e-01,  2.13045099e-01,\n",
       "         9.09884031e-01,  4.70295013e-01,  3.08451289e-01],\n",
       "       [ 5.33015628e-01,  9.98977778e-01,  2.64355705e-01,\n",
       "         9.41373443e-01,  3.08451289e-01,  5.59023454e-01],\n",
       "       [ 9.99131081e-01,  5.29946011e-01,  3.19077829e-01,\n",
       "         9.66471691e-01,  5.59023454e-01,  5.46837574e-01],\n",
       "       [ 5.92367461e-01,  8.59928691e-03,  3.76418943e-01,\n",
       "         9.84815285e-01,  5.46837574e-01,  7.18963134e-01],\n",
       "       [ 2.40900938e-02,  3.46690683e-01,  4.35548593e-01,\n",
       "         9.96138558e-01,  7.18963134e-01,  7.69610699e-01],\n",
       "       [ 2.88126340e-01,  9.52951747e-01,  4.95610420e-01,\n",
       "         1.00027752e+00,  7.69610699e-01,  4.80576849e-01],\n",
       "       [ 9.22718507e-01,  7.67127632e-01,  5.55734563e-01,\n",
       "         9.97172226e-01,  4.80576849e-01,  7.85604667e-01],\n",
       "       [ 8.18065124e-01,  1.14195366e-01,  6.15050262e-01,\n",
       "         9.86867651e-01,  7.85604667e-01,  8.03502679e-01],\n",
       "       [ 1.57188429e-01,  1.36030356e-01,  6.72698462e-01,\n",
       "         9.69513031e-01,  8.03502679e-01,  7.69991508e-01],\n",
       "       [ 9.58573805e-02,  7.94446653e-01,  7.27844261e-01,\n",
       "         9.45359710e-01,  7.69991508e-01,  7.65040994e-01],\n",
       "       [ 7.41330297e-01,  9.37978145e-01,  7.79688996e-01,\n",
       "         9.14757494e-01,  7.65040994e-01,  6.11955872e-01],\n",
       "       [ 9.64776994e-01,  3.15610922e-01,  8.27481814e-01,\n",
       "         8.78149586e-01,  6.11955872e-01,  5.16753681e-01]])"
      ]
     },
     "execution_count": 53,
     "metadata": {},
     "output_type": "execute_result"
    }
   ],
   "source": [
    "X_test"
   ]
  },
  {
   "cell_type": "code",
   "execution_count": 54,
   "metadata": {},
   "outputs": [
    {
     "data": {
      "text/plain": [
       "array([ 73.4,  52.9,  75.5, 133.5, 179.1, 106.3, 211. ,  71.5,  98. ,\n",
       "       174.3, 182. , 178.5, 164.4,  91.2, 129.9, 180.5, 172.4, 168.4,\n",
       "       133.9, 154.8,  72.2, 171. ,  54.9, 107.9,  13.3, 200.7, 122.6,\n",
       "       190.9, 186.3, 185.9, 106.9, 157.4,  35.2, 140.6, 173.4, 115.6,\n",
       "       130.5,  67.9, 146.9, 123.5,  81. , 146.8, 143.6, 188.8, 202.1,\n",
       "       126.2, 206.3, 211. , 202.2, 200.9, 160.7, 135.7, 121.8])"
      ]
     },
     "execution_count": 54,
     "metadata": {},
     "output_type": "execute_result"
    }
   ],
   "source": [
    "y_test"
   ]
  },
  {
   "cell_type": "code",
   "execution_count": 55,
   "metadata": {},
   "outputs": [
    {
     "data": {
      "text/plain": [
       "[<matplotlib.lines.Line2D at 0x2b1cc7af6d0>]"
      ]
     },
     "execution_count": 55,
     "metadata": {},
     "output_type": "execute_result"
    },
    {
     "data": {
      "image/png": "[encoded data removed]",
      "text/plain": [
       "<Figure size 432x288 with 1 Axes>"
      ]
     },
     "metadata": {
      "needs_background": "light"
     },
     "output_type": "display_data"
    }
   ],
   "source": [
    "plt.plot(y_test)"
   ]
  },
  {
   "cell_type": "code",
   "execution_count": 56,
   "metadata": {},
   "outputs": [
    {
     "data": {
      "text/plain": [
       "array([[ 8.91673686e-01,  8.10876336e-01,  2.06908770e-01,\n",
       "         9.46358753e-02,  6.44705425e-01,  4.56205088e-01],\n",
       "       [ 8.57566979e-01,  1.50489720e-01,  1.60321494e-01,\n",
       "         1.32765858e-01,  4.56205088e-01,  6.53083218e-01],\n",
       "       [ 1.98154454e-01,  1.01397267e-01,  1.18652435e-01,\n",
       "         1.76215526e-01,  6.53083218e-01,  5.89107346e-01],\n",
       "       [ 6.66444685e-02,  7.49453924e-01,  8.25050752e-02,\n",
       "         2.24355608e-01,  5.89107346e-01,  1.05861028e-01],\n",
       "       [ 6.93027216e-01,  9.61310953e-01,  5.24029266e-02,\n",
       "         2.76488904e-01,  1.05861028e-01,  3.77758483e-01],\n",
       "       [ 9.81858204e-01,  3.66463871e-01,  2.87819509e-02,\n",
       "         3.31860382e-01,  3.77758483e-01,  2.29623875e-01],\n",
       "       [ 4.28017653e-01,  5.20627381e-03,  1.19842443e-02,\n",
       "         3.89668112e-01,  2.29623875e-01,  2.60088576e-01],\n",
       "       [ 8.52118157e-05,  5.09320640e-01,  2.25308350e-03,\n",
       "         4.49074879e-01,  2.60088576e-01,  3.17971508e-01],\n",
       "       [ 4.46447132e-01,  9.97190565e-01, -2.70597677e-04,\n",
       "         5.09220312e-01,  3.17971508e-01,  2.30385493e-01],\n",
       "       [ 9.86486914e-01,  6.15608605e-01,  4.44975057e-03,\n",
       "         5.69233340e-01,  2.30385493e-01,  5.87584111e-01],\n",
       "       [ 6.75760274e-01,  3.19013402e-02,  1.63457647e-02,\n",
       "         6.28244810e-01,  5.87584111e-01,  5.82633597e-01],\n",
       "       [ 5.76790289e-02,  2.66880585e-01,  3.52451579e-02,\n",
       "         6.85400075e-01,  5.82633597e-01,  4.80957658e-01],\n",
       "       [ 2.13169655e-01,  9.09604753e-01,  6.08742153e-02,\n",
       "         7.39871371e-01,  4.80957658e-01,  3.73569587e-01],\n",
       "       [ 8.70303606e-01,  8.36050788e-01,  9.28617582e-02,\n",
       "         7.90869804e-01,  3.73569587e-01,  2.06394541e-01],\n",
       "       [ 8.79857391e-01,  1.74852957e-01,  1.30744519e-01,\n",
       "         8.37656778e-01,  2.06394541e-01,  6.67553951e-01],\n",
       "       [ 2.25122949e-01,  8.23418359e-02,  1.73973853e-01,\n",
       "         8.79554689e-01,  6.67553951e-01,  6.81263067e-01],\n",
       "       [ 5.11274084e-02,  7.20304764e-01,  2.21923680e-01,\n",
       "         9.15956741e-01,  6.81263067e-01,  6.72504465e-01],\n",
       "       [ 6.62161488e-01,  9.73045341e-01,  2.73899557e-01,\n",
       "         9.46335734e-01,  6.72504465e-01,  5.18276917e-01],\n",
       "       [ 9.89623091e-01,  3.98560217e-01,  3.29148729e-01,\n",
       "         9.70251695e-01,  5.18276917e-01,  6.67934760e-01],\n",
       "       [ 4.60833593e-01,  1.53313751e-03,  3.86871039e-01,\n",
       "         9.87358257e-01,  6.67934760e-01,  7.92078416e-01],\n",
       "       [ 5.62308533e-04,  4.76301758e-01,  4.46230510e-01,\n",
       "         9.97407670e-01,  7.92078416e-01,  7.61613715e-01],\n",
       "       [ 4.13751018e-01,  9.92570747e-01,  5.06367453e-01,\n",
       "         1.00025439e+00,  7.61613715e-01,  4.34118180e-01],\n",
       "       [ 9.77797928e-01,  6.47467183e-01,  5.66410922e-01,\n",
       "         9.95857192e-01,  4.34118180e-01,  7.61613715e-01],\n",
       "       [ 7.06274081e-01,  4.45226936e-02,  6.25491324e-01,\n",
       "         9.84279756e-01,  7.61613715e-01,  7.55520775e-01],\n",
       "       [ 7.40317991e-02,  2.38191960e-01,  6.82753012e-01,\n",
       "         9.65689755e-01,  7.55520775e-01,  6.89640859e-01],\n",
       "       [ 1.86762976e-01,  8.89778024e-01,  7.37366681e-01,\n",
       "         9.40356425e-01,  6.89640859e-01,  7.74942022e-01],\n",
       "       [ 8.47318588e-01,  8.59759773e-01,  7.88541376e-01,\n",
       "         9.08646660e-01,  7.74942022e-01,  5.79587127e-01]])"
      ]
     },
     "execution_count": 56,
     "metadata": {},
     "output_type": "execute_result"
    }
   ],
   "source": [
    "X_val"
   ]
  },
  {
   "cell_type": "code",
   "execution_count": 57,
   "metadata": {},
   "outputs": [
    {
     "data": {
      "text/plain": [
       "array([171.5, 154.7,  27.8,  99.2,  60.3,  68.3,  83.5,  60.5, 154.3,\n",
       "       153. , 126.3,  98.1,  54.2, 175.3, 178.9, 176.6, 136.1, 175.4,\n",
       "       208. , 200. , 114. , 200. , 198.4, 181.1, 203.5, 152.2, 147.2])"
      ]
     },
     "execution_count": 57,
     "metadata": {},
     "output_type": "execute_result"
    }
   ],
   "source": [
    "y_val"
   ]
  },
  {
   "cell_type": "code",
   "execution_count": 58,
   "metadata": {},
   "outputs": [],
   "source": [
    "import tensorflow.keras as keras"
   ]
  },
  {
   "cell_type": "markdown",
   "metadata": {},
   "source": [
    "<h2 style=\"color: #e67e22; text-align: left;\">   Red Nueronal con una sola Capa oculta(MLP)</h2> \n",
    "\n",
    "La siguiente es la configuración de una red neuronal con una sola capa oculta"
   ]
  },
  {
   "cell_type": "code",
   "execution_count": 59,
   "metadata": {
    "tags": []
   },
   "outputs": [
    {
     "name": "stdout",
     "output_type": "stream",
     "text": [
      "Model: \"sequential\"\n",
      "_________________________________________________________________\n",
      " Layer (type)                Output Shape              Param #   \n",
      "=================================================================\n",
      " dense (Dense)               (None, 64)                448       \n",
      "                                                                 \n",
      " dense_1 (Dense)             (None, 1)                 65        \n",
      "                                                                 \n",
      "=================================================================\n",
      "Total params: 513\n",
      "Trainable params: 513\n",
      "Non-trainable params: 0\n",
      "_________________________________________________________________\n"
     ]
    }
   ],
   "source": [
    "model=keras.models.Sequential([keras.layers.Dense(64,activation=\"relu\",input_shape=X_train.shape[1:]),keras.layers.Dense(1)])\n",
    "model.summary()"
   ]
  },
  {
   "cell_type": "code",
   "execution_count": 60,
   "metadata": {},
   "outputs": [
    {
     "name": "stdout",
     "output_type": "stream",
     "text": [
      "Epoch 1/50\n",
      "6/6 [==============================] - 3s 124ms/step - loss: 17291.6523 - val_loss: 22003.7148\n",
      "Epoch 2/50\n",
      "6/6 [==============================] - 0s 27ms/step - loss: 17250.8379 - val_loss: 21954.4160\n",
      "Epoch 3/50\n",
      "6/6 [==============================] - 0s 24ms/step - loss: 17209.5059 - val_loss: 21903.7539\n",
      "Epoch 4/50\n",
      "6/6 [==============================] - 0s 23ms/step - loss: 17166.5508 - val_loss: 21850.8301\n",
      "Epoch 5/50\n",
      "6/6 [==============================] - 0s 26ms/step - loss: 17120.2188 - val_loss: 21795.2773\n",
      "Epoch 6/50\n",
      "6/6 [==============================] - 0s 24ms/step - loss: 17070.8828 - val_loss: 21736.4219\n",
      "Epoch 7/50\n",
      "6/6 [==============================] - 0s 22ms/step - loss: 17018.9199 - val_loss: 21672.5762\n",
      "Epoch 8/50\n",
      "6/6 [==============================] - 0s 22ms/step - loss: 16963.2090 - val_loss: 21602.6074\n",
      "Epoch 9/50\n",
      "6/6 [==============================] - 0s 23ms/step - loss: 16901.4336 - val_loss: 21525.5586\n",
      "Epoch 10/50\n",
      "6/6 [==============================] - 0s 23ms/step - loss: 16836.3945 - val_loss: 21441.9043\n",
      "Epoch 11/50\n",
      "6/6 [==============================] - 0s 22ms/step - loss: 16762.9668 - val_loss: 21353.3047\n",
      "Epoch 12/50\n",
      "6/6 [==============================] - 0s 22ms/step - loss: 16686.7949 - val_loss: 21257.8379\n",
      "Epoch 13/50\n",
      "6/6 [==============================] - 0s 27ms/step - loss: 16605.7891 - val_loss: 21155.7402\n",
      "Epoch 14/50\n",
      "6/6 [==============================] - 0s 22ms/step - loss: 16518.8848 - val_loss: 21047.7578\n",
      "Epoch 15/50\n",
      "6/6 [==============================] - 0s 22ms/step - loss: 16426.4668 - val_loss: 20934.0449\n",
      "Epoch 16/50\n",
      "6/6 [==============================] - 0s 22ms/step - loss: 16328.8740 - val_loss: 20814.6777\n",
      "Epoch 17/50\n",
      "6/6 [==============================] - 0s 24ms/step - loss: 16228.6924 - val_loss: 20688.5996\n",
      "Epoch 18/50\n",
      "6/6 [==============================] - 0s 23ms/step - loss: 16122.9082 - val_loss: 20556.9297\n",
      "Epoch 19/50\n",
      "6/6 [==============================] - 0s 25ms/step - loss: 16010.8096 - val_loss: 20420.2734\n",
      "Epoch 20/50\n",
      "6/6 [==============================] - 0s 22ms/step - loss: 15894.0566 - val_loss: 20278.5625\n",
      "Epoch 21/50\n",
      "6/6 [==============================] - 0s 23ms/step - loss: 15774.5146 - val_loss: 20130.2500\n",
      "Epoch 22/50\n",
      "6/6 [==============================] - 0s 20ms/step - loss: 15651.5811 - val_loss: 19975.3594\n",
      "Epoch 23/50\n",
      "6/6 [==============================] - 0s 23ms/step - loss: 15521.6758 - val_loss: 19815.2715\n",
      "Epoch 24/50\n",
      "6/6 [==============================] - 0s 22ms/step - loss: 15386.9424 - val_loss: 19650.0645\n",
      "Epoch 25/50\n",
      "6/6 [==============================] - 0s 26ms/step - loss: 15248.7393 - val_loss: 19479.0039\n",
      "Epoch 26/50\n",
      "6/6 [==============================] - 0s 22ms/step - loss: 15105.7295 - val_loss: 19302.1074\n",
      "Epoch 27/50\n",
      "6/6 [==============================] - 0s 23ms/step - loss: 14957.9033 - val_loss: 19120.6348\n",
      "Epoch 28/50\n",
      "6/6 [==============================] - 0s 22ms/step - loss: 14808.2930 - val_loss: 18932.4531\n",
      "Epoch 29/50\n",
      "6/6 [==============================] - 0s 23ms/step - loss: 14651.4473 - val_loss: 18740.1074\n",
      "Epoch 30/50\n",
      "6/6 [==============================] - 0s 25ms/step - loss: 14493.0322 - val_loss: 18542.1230\n",
      "Epoch 31/50\n",
      "6/6 [==============================] - 0s 20ms/step - loss: 14328.4600 - val_loss: 18340.0469\n",
      "Epoch 32/50\n",
      "6/6 [==============================] - 0s 23ms/step - loss: 14160.7812 - val_loss: 18133.6719\n",
      "Epoch 33/50\n",
      "6/6 [==============================] - 0s 24ms/step - loss: 13989.9287 - val_loss: 17922.5918\n",
      "Epoch 34/50\n",
      "6/6 [==============================] - 0s 28ms/step - loss: 13815.0605 - val_loss: 17707.4160\n",
      "Epoch 35/50\n",
      "6/6 [==============================] - 0s 22ms/step - loss: 13637.2393 - val_loss: 17487.8320\n",
      "Epoch 36/50\n",
      "6/6 [==============================] - 0s 22ms/step - loss: 13456.3389 - val_loss: 17263.8730\n",
      "Epoch 37/50\n",
      "6/6 [==============================] - 0s 23ms/step - loss: 13272.5918 - val_loss: 17035.9590\n",
      "Epoch 38/50\n",
      "6/6 [==============================] - 0s 21ms/step - loss: 13088.9170 - val_loss: 16802.7637\n",
      "Epoch 39/50\n",
      "6/6 [==============================] - 0s 49ms/step - loss: 12900.8955 - val_loss: 16565.6582\n",
      "Epoch 40/50\n",
      "6/6 [==============================] - 0s 24ms/step - loss: 12707.7920 - val_loss: 16327.1797\n",
      "Epoch 41/50\n",
      "6/6 [==============================] - 0s 23ms/step - loss: 12512.5381 - val_loss: 16087.6553\n",
      "Epoch 42/50\n",
      "6/6 [==============================] - 0s 21ms/step - loss: 12318.8105 - val_loss: 15844.2129\n",
      "Epoch 43/50\n",
      "6/6 [==============================] - 0s 24ms/step - loss: 12122.1348 - val_loss: 15598.3047\n",
      "Epoch 44/50\n",
      "6/6 [==============================] - 0s 22ms/step - loss: 11923.6133 - val_loss: 15350.1582\n",
      "Epoch 45/50\n",
      "6/6 [==============================] - 0s 24ms/step - loss: 11722.3281 - val_loss: 15101.0127\n",
      "Epoch 46/50\n",
      "6/6 [==============================] - 0s 23ms/step - loss: 11518.2598 - val_loss: 14851.7803\n",
      "Epoch 47/50\n",
      "6/6 [==============================] - 0s 20ms/step - loss: 11325.5820 - val_loss: 14593.8818\n",
      "Epoch 48/50\n",
      "6/6 [==============================] - 0s 22ms/step - loss: 11117.5576 - val_loss: 14338.0928\n",
      "Epoch 49/50\n",
      "6/6 [==============================] - 0s 24ms/step - loss: 10912.0029 - val_loss: 14081.5225\n",
      "Epoch 50/50\n",
      "6/6 [==============================] - 0s 24ms/step - loss: 10707.8008 - val_loss: 13822.5928\n"
     ]
    }
   ],
   "source": [
    "model.compile(loss=\"mean_squared_error\",optimizer=\"adam\")\n",
    "history=model.fit(X_train,y_train,epochs=50,validation_data=(X_val,y_val)) #está tomando por defecto 32 del tamaño del lote, que sucede si es mayor o menor? Se puede modificar usando  el argumento batch_size= "
   ]
  },
  {
   "cell_type": "code",
   "execution_count": 61,
   "metadata": {},
   "outputs": [
    {
     "data": {
      "text/plain": [
       "<AxesSubplot:>"
      ]
     },
     "execution_count": 61,
     "metadata": {},
     "output_type": "execute_result"
    },
    {
     "data": {
      "image/png": "[encoded data removed]",
      "text/plain": [
       "<Figure size 576x360 with 1 Axes>"
      ]
     },
     "metadata": {
      "needs_background": "light"
     },
     "output_type": "display_data"
    }
   ],
   "source": [
    "pd.DataFrame(history.history).plot(figsize=(8,5))"
   ]
  },
  {
   "cell_type": "code",
   "execution_count": 62,
   "metadata": {},
   "outputs": [
    {
     "name": "stdout",
     "output_type": "stream",
     "text": [
      "2/2 [==============================] - 0s 14ms/step - loss: 13689.1416\n"
     ]
    }
   ],
   "source": [
    "mse_test=model.evaluate(X_test,y_test)\n"
   ]
  },
  {
   "cell_type": "code",
   "execution_count": 63,
   "metadata": {},
   "outputs": [
    {
     "name": "stdout",
     "output_type": "stream",
     "text": [
      "13689.1416015625\n"
     ]
    }
   ],
   "source": [
    "print(mse_test)"
   ]
  },
  {
   "cell_type": "code",
   "execution_count": 64,
   "metadata": {},
   "outputs": [
    {
     "name": "stdout",
     "output_type": "stream",
     "text": [
      "2/2 [==============================] - 0s 16ms/step\n",
      "[[38.846004]\n",
      " [30.35343 ]\n",
      " [30.844152]\n",
      " [37.660255]\n",
      " [38.210083]\n",
      " [33.84218 ]\n",
      " [32.52695 ]\n",
      " [40.4691  ]\n",
      " [40.725834]\n",
      " [29.856443]\n",
      " [28.912937]\n",
      " [36.85247 ]\n",
      " [41.456512]\n",
      " [35.609497]\n",
      " [25.922205]\n",
      " [27.284533]\n",
      " [36.50103 ]\n",
      " [35.904346]\n",
      " [27.569448]\n",
      " [25.25115 ]\n",
      " [31.568964]\n",
      " [31.519741]\n",
      " [25.060076]\n",
      " [20.101795]\n",
      " [23.539885]\n",
      " [27.457705]\n",
      " [26.099028]\n",
      " [22.936602]\n",
      " [25.348059]\n",
      " [34.64009 ]\n",
      " [33.88208 ]\n",
      " [24.27165 ]\n",
      " [22.730778]\n",
      " [27.96147 ]\n",
      " [30.799791]\n",
      " [29.242643]\n",
      " [24.56527 ]\n",
      " [29.134995]\n",
      " [34.00585 ]\n",
      " [31.362667]\n",
      " [27.005125]\n",
      " [27.73522 ]\n",
      " [36.41052 ]\n",
      " [38.648228]\n",
      " [33.218452]\n",
      " [34.08265 ]\n",
      " [39.56646 ]\n",
      " [43.46377 ]\n",
      " [40.346214]\n",
      " [35.72655 ]\n",
      " [40.609264]\n",
      " [45.529087]\n",
      " [40.165283]]\n"
     ]
    }
   ],
   "source": [
    "ypred=model.predict(X_test)\n",
    "print(ypred)"
   ]
  },
  {
   "cell_type": "code",
   "execution_count": 65,
   "metadata": {},
   "outputs": [
    {
     "data": {
      "text/plain": [
       "Text(0.5, 0, 'Index')"
      ]
     },
     "execution_count": 65,
     "metadata": {},
     "output_type": "execute_result"
    },
    {
     "data": {
      "image/png": "[encoded data removed]",
      "text/plain": [
       "<Figure size 432x432 with 1 Axes>"
      ]
     },
     "metadata": {
      "needs_background": "light"
     },
     "output_type": "display_data"
    }
   ],
   "source": [
    "plt.figure(figsize=(6, 6))\n",
    "plt.plot(range(y_test.size), y_test, linestyle='-', marker='*', color='r')\n",
    "plt.plot(range(ypred.size), ypred, linestyle='-', marker='.', color='b') \n",
    "plt.legend(['Actual','Predicted'], loc=2)\n",
    "plt.title('Actual vs Predicted Kms recorridos por Iván')\n",
    "plt.ylabel('Kms')\n",
    "plt.xlabel('Index')"
   ]
  },
  {
   "cell_type": "markdown",
   "metadata": {},
   "source": [
    "<h2 style=\"color: #e67e22; text-align: left;\"> Modelos mas complejos</h2>  "
   ]
  },
  {
   "cell_type": "code",
   "execution_count": 66,
   "metadata": {},
   "outputs": [],
   "source": [
    "input_layer = keras.layers.Input(shape=X_train.shape[1:])\n",
    "hidden1 = keras.layers.Dense(32,activation=\"linear\")(input_layer)\n",
    "hidden2 = keras.layers.Dense(16,activation=\"linear\")(hidden1)\n",
    "hidden3 = keras.layers.Dense(16,activation=\"linear\")(hidden2)\n",
    "#dropout_layer = keras.layers.Dropout(0.2)(hidden3)\n",
    "#output_layer = keras.layers.Dense(1, activation='linear')(dropout_layer)\n",
    "output_layer = keras.layers.Dense(1, activation='linear')(hidden3)"
   ]
  },
  {
   "cell_type": "code",
   "execution_count": 67,
   "metadata": {},
   "outputs": [
    {
     "name": "stdout",
     "output_type": "stream",
     "text": [
      "Model: \"model\"\n",
      "_________________________________________________________________\n",
      " Layer (type)                Output Shape              Param #   \n",
      "=================================================================\n",
      " input_1 (InputLayer)        [(None, 6)]               0         \n",
      "                                                                 \n",
      " dense_2 (Dense)             (None, 32)                224       \n",
      "                                                                 \n",
      " dense_3 (Dense)             (None, 16)                528       \n",
      "                                                                 \n",
      " dense_4 (Dense)             (None, 16)                272       \n",
      "                                                                 \n",
      " dense_5 (Dense)             (None, 1)                 17        \n",
      "                                                                 \n",
      "=================================================================\n",
      "Total params: 1,041\n",
      "Trainable params: 1,041\n",
      "Non-trainable params: 0\n",
      "_________________________________________________________________\n"
     ]
    }
   ],
   "source": [
    "ts_model=keras.Model(inputs=[input_layer],outputs=[output_layer])\n",
    "ts_model.summary()"
   ]
  },
  {
   "cell_type": "code",
   "execution_count": 68,
   "metadata": {},
   "outputs": [
    {
     "name": "stdout",
     "output_type": "stream",
     "text": [
      "Input shape: (186, 6)\n",
      "Target shape: (186,)\n"
     ]
    }
   ],
   "source": [
    "print(\"Input shape:\", X_train.shape)\n",
    "print(\"Target shape:\", y_train.shape)"
   ]
  },
  {
   "cell_type": "code",
   "execution_count": 69,
   "metadata": {},
   "outputs": [
    {
     "data": {
      "text/plain": [
       "numpy.ndarray"
      ]
     },
     "execution_count": 69,
     "metadata": {},
     "output_type": "execute_result"
    }
   ],
   "source": [
    "type(X_train)"
   ]
  },
  {
   "cell_type": "code",
   "execution_count": 70,
   "metadata": {},
   "outputs": [
    {
     "name": "stdout",
     "output_type": "stream",
     "text": [
      "Epoch 1/50\n",
      "12/12 [==============================] - 3s 53ms/step - loss: 17191.7207 - val_loss: 21731.3652\n",
      "Epoch 2/50\n",
      "12/12 [==============================] - 0s 14ms/step - loss: 16823.3301 - val_loss: 21225.8301\n",
      "Epoch 3/50\n",
      "12/12 [==============================] - 0s 14ms/step - loss: 16341.4922 - val_loss: 20514.7461\n",
      "Epoch 4/50\n",
      "12/12 [==============================] - 0s 14ms/step - loss: 15623.1992 - val_loss: 19445.1016\n",
      "Epoch 5/50\n",
      "12/12 [==============================] - 0s 13ms/step - loss: 14579.3330 - val_loss: 17836.1484\n",
      "Epoch 6/50\n",
      "12/12 [==============================] - 0s 13ms/step - loss: 13052.6025 - val_loss: 15538.5391\n",
      "Epoch 7/50\n",
      "12/12 [==============================] - 0s 13ms/step - loss: 10870.9688 - val_loss: 12487.5117\n",
      "Epoch 8/50\n",
      "12/12 [==============================] - 0s 14ms/step - loss: 8328.7725 - val_loss: 8767.2900\n",
      "Epoch 9/50\n",
      "12/12 [==============================] - 0s 15ms/step - loss: 5627.0625 - val_loss: 5170.9116\n",
      "Epoch 10/50\n",
      "12/12 [==============================] - 0s 15ms/step - loss: 3371.4634 - val_loss: 2812.4692\n",
      "Epoch 11/50\n",
      "12/12 [==============================] - 0s 14ms/step - loss: 2582.4841 - val_loss: 1805.2430\n",
      "Epoch 12/50\n",
      "12/12 [==============================] - 0s 13ms/step - loss: 2565.1238 - val_loss: 1636.1119\n",
      "Epoch 13/50\n",
      "12/12 [==============================] - 0s 13ms/step - loss: 2507.8792 - val_loss: 1728.0342\n",
      "Epoch 14/50\n",
      "12/12 [==============================] - 0s 14ms/step - loss: 2463.8208 - val_loss: 1884.0189\n",
      "Epoch 15/50\n",
      "12/12 [==============================] - 0s 13ms/step - loss: 2461.7439 - val_loss: 1877.0085\n",
      "Epoch 16/50\n",
      "12/12 [==============================] - 0s 14ms/step - loss: 2449.1233 - val_loss: 1876.1479\n",
      "Epoch 17/50\n",
      "12/12 [==============================] - 0s 13ms/step - loss: 2443.8176 - val_loss: 1879.0463\n",
      "Epoch 18/50\n",
      "12/12 [==============================] - 0s 16ms/step - loss: 2418.1636 - val_loss: 1815.2734\n",
      "Epoch 19/50\n",
      "12/12 [==============================] - 0s 14ms/step - loss: 2405.5125 - val_loss: 1809.0460\n",
      "Epoch 20/50\n",
      "12/12 [==============================] - 0s 15ms/step - loss: 2395.3430 - val_loss: 1797.9396\n",
      "Epoch 21/50\n",
      "12/12 [==============================] - 0s 17ms/step - loss: 2378.7842 - val_loss: 1788.5250\n",
      "Epoch 22/50\n",
      "12/12 [==============================] - 0s 15ms/step - loss: 2368.4944 - val_loss: 1799.1211\n",
      "Epoch 23/50\n",
      "12/12 [==============================] - 0s 14ms/step - loss: 2362.7886 - val_loss: 1829.4520\n",
      "Epoch 24/50\n",
      "12/12 [==============================] - 0s 15ms/step - loss: 2346.7314 - val_loss: 1748.6991\n",
      "Epoch 25/50\n",
      "12/12 [==============================] - 0s 24ms/step - loss: 2334.6772 - val_loss: 1806.9977\n",
      "Epoch 26/50\n",
      "12/12 [==============================] - 0s 15ms/step - loss: 2318.3931 - val_loss: 1772.9635\n",
      "Epoch 27/50\n",
      "12/12 [==============================] - 0s 13ms/step - loss: 2306.9470 - val_loss: 1784.1516\n",
      "Epoch 28/50\n",
      "12/12 [==============================] - 0s 14ms/step - loss: 2292.4463 - val_loss: 1766.2992\n",
      "Epoch 29/50\n",
      "12/12 [==============================] - 0s 14ms/step - loss: 2281.8181 - val_loss: 1800.6311\n",
      "Epoch 30/50\n",
      "12/12 [==============================] - 0s 13ms/step - loss: 2270.3699 - val_loss: 1793.2073\n",
      "Epoch 31/50\n",
      "12/12 [==============================] - 0s 15ms/step - loss: 2256.2798 - val_loss: 1771.8007\n",
      "Epoch 32/50\n",
      "12/12 [==============================] - 0s 15ms/step - loss: 2247.0908 - val_loss: 1746.2350\n",
      "Epoch 33/50\n",
      "12/12 [==============================] - 0s 17ms/step - loss: 2249.5166 - val_loss: 1729.2322\n",
      "Epoch 34/50\n",
      "12/12 [==============================] - 0s 16ms/step - loss: 2225.0149 - val_loss: 1758.4193\n",
      "Epoch 35/50\n",
      "12/12 [==============================] - 0s 15ms/step - loss: 2222.1235 - val_loss: 1807.6565\n",
      "Epoch 36/50\n",
      "12/12 [==============================] - 0s 14ms/step - loss: 2208.2498 - val_loss: 1742.9019\n",
      "Epoch 37/50\n",
      "12/12 [==============================] - 0s 14ms/step - loss: 2200.2874 - val_loss: 1743.5393\n",
      "Epoch 38/50\n",
      "12/12 [==============================] - 0s 15ms/step - loss: 2191.1619 - val_loss: 1756.3444\n",
      "Epoch 39/50\n",
      "12/12 [==============================] - 0s 14ms/step - loss: 2184.7922 - val_loss: 1821.3099\n",
      "Epoch 40/50\n",
      "12/12 [==============================] - 0s 16ms/step - loss: 2168.0850 - val_loss: 1780.2651\n",
      "Epoch 41/50\n",
      "12/12 [==============================] - 0s 13ms/step - loss: 2176.7529 - val_loss: 1696.2283\n",
      "Epoch 42/50\n",
      "12/12 [==============================] - 0s 11ms/step - loss: 2148.6274 - val_loss: 1760.2705\n",
      "Epoch 43/50\n",
      "12/12 [==============================] - 0s 13ms/step - loss: 2140.9573 - val_loss: 1801.5721\n",
      "Epoch 44/50\n",
      "12/12 [==============================] - 0s 12ms/step - loss: 2137.9590 - val_loss: 1778.2158\n",
      "Epoch 45/50\n",
      "12/12 [==============================] - 0s 13ms/step - loss: 2126.7988 - val_loss: 1749.5677\n",
      "Epoch 46/50\n",
      "12/12 [==============================] - 0s 11ms/step - loss: 2136.7766 - val_loss: 1820.1180\n",
      "Epoch 47/50\n",
      "12/12 [==============================] - 0s 11ms/step - loss: 2114.8608 - val_loss: 1754.5946\n",
      "Epoch 48/50\n",
      "12/12 [==============================] - 0s 10ms/step - loss: 2102.9890 - val_loss: 1761.2831\n",
      "Epoch 49/50\n",
      "12/12 [==============================] - 0s 11ms/step - loss: 2111.7200 - val_loss: 1738.5409\n",
      "Epoch 50/50\n",
      "12/12 [==============================] - 0s 13ms/step - loss: 2083.3296 - val_loss: 1813.4358\n"
     ]
    }
   ],
   "source": [
    "ts_model.compile(loss=\"mean_squared_error\",optimizer=\"adam\")\n",
    "history=ts_model.fit(X_train,y_train,epochs=50,batch_size=16,validation_data=(X_val,y_val))"
   ]
  },
  {
   "cell_type": "code",
   "execution_count": 71,
   "metadata": {},
   "outputs": [
    {
     "data": {
      "text/plain": [
       "<AxesSubplot:>"
      ]
     },
     "execution_count": 71,
     "metadata": {},
     "output_type": "execute_result"
    },
    {
     "data": {
      "image/png": "[encoded data removed]",
      "text/plain": [
       "<Figure size 576x360 with 1 Axes>"
      ]
     },
     "metadata": {
      "needs_background": "light"
     },
     "output_type": "display_data"
    }
   ],
   "source": [
    "pd.DataFrame(history.history).plot(figsize=(8,5))"
   ]
  },
  {
   "cell_type": "code",
   "execution_count": 72,
   "metadata": {},
   "outputs": [
    {
     "name": "stdout",
     "output_type": "stream",
     "text": [
      "2/2 [==============================] - 0s 8ms/step - loss: 2364.3738\n"
     ]
    }
   ],
   "source": [
    "mse_test=ts_model.evaluate(X_test,y_test)"
   ]
  },
  {
   "cell_type": "code",
   "execution_count": 73,
   "metadata": {},
   "outputs": [
    {
     "name": "stdout",
     "output_type": "stream",
     "text": [
      "2364.373779296875\n"
     ]
    }
   ],
   "source": [
    "print(mse_test)"
   ]
  },
  {
   "cell_type": "code",
   "execution_count": 74,
   "metadata": {},
   "outputs": [
    {
     "name": "stdout",
     "output_type": "stream",
     "text": [
      "2/2 [==============================] - 0s 0s/step\n",
      "[[140.93242 ]\n",
      " [109.21824 ]\n",
      " [ 98.539825]\n",
      " [115.31197 ]\n",
      " [128.28923 ]\n",
      " [131.85316 ]\n",
      " [122.545654]\n",
      " [148.88954 ]\n",
      " [140.12837 ]\n",
      " [104.295   ]\n",
      " [117.02599 ]\n",
      " [145.1186  ]\n",
      " [156.62563 ]\n",
      " [141.44984 ]\n",
      " [106.8741  ]\n",
      " [108.13794 ]\n",
      " [141.97543 ]\n",
      " [145.87317 ]\n",
      " [125.91544 ]\n",
      " [115.16649 ]\n",
      " [129.4853  ]\n",
      " [119.749115]\n",
      " [111.68428 ]\n",
      " [ 93.68157 ]\n",
      " [ 97.01344 ]\n",
      " [ 97.80605 ]\n",
      " [113.639084]\n",
      " [115.32616 ]\n",
      " [122.58557 ]\n",
      " [150.85503 ]\n",
      " [148.84213 ]\n",
      " [114.61623 ]\n",
      " [109.70325 ]\n",
      " [108.136765]\n",
      " [117.26338 ]\n",
      " [130.33388 ]\n",
      " [113.79018 ]\n",
      " [119.45653 ]\n",
      " [122.25545 ]\n",
      " [121.15474 ]\n",
      " [115.73523 ]\n",
      " [107.39324 ]\n",
      " [132.07074 ]\n",
      " [143.68652 ]\n",
      " [137.3379  ]\n",
      " [145.5466  ]\n",
      " [147.16402 ]\n",
      " [159.66716 ]\n",
      " [161.84633 ]\n",
      " [149.79024 ]\n",
      " [159.13274 ]\n",
      " [163.79921 ]\n",
      " [143.15033 ]]\n"
     ]
    }
   ],
   "source": [
    "preds_ts_model=ts_model.predict(X_test)\n",
    "print(preds_ts_model)"
   ]
  },
  {
   "cell_type": "code",
   "execution_count": 75,
   "metadata": {},
   "outputs": [
    {
     "data": {
      "text/plain": [
       "Text(0.5, 0, 'Index')"
      ]
     },
     "execution_count": 75,
     "metadata": {},
     "output_type": "execute_result"
    },
    {
     "data": {
      "image/png": "[encoded data removed]",
      "text/plain": [
       "<Figure size 432x432 with 1 Axes>"
      ]
     },
     "metadata": {
      "needs_background": "light"
     },
     "output_type": "display_data"
    }
   ],
   "source": [
    "plt.figure(figsize=(6, 6))\n",
    "plt.plot(range(y_test.size), y_test, linestyle='-', marker='*', color='r')\n",
    "plt.plot(range(preds_ts_model.size), preds_ts_model, linestyle='-', marker='.', color='b') \n",
    "plt.legend(['Actual','Predicted'], loc=2)\n",
    "plt.title('Actual vs Predicted Kms')\n",
    "plt.ylabel('Kms recorridos por Iván')\n",
    "plt.xlabel('Index')"
   ]
  },
  {
   "cell_type": "markdown",
   "metadata": {},
   "source": [
    "<h2 style=\"color: #e67e22; text-align: left;\"> Busqueda de los hiperparámetros</h2>   "
   ]
  },
  {
   "cell_type": "code",
   "execution_count": 76,
   "metadata": {},
   "outputs": [],
   "source": [
    "from tensorflow import keras\n",
    "import keras_tuner as kt\n",
    "from tensorflow.keras import layers"
   ]
  },
  {
   "cell_type": "code",
   "execution_count": 77,
   "metadata": {},
   "outputs": [
    {
     "data": {
      "text/plain": [
       "<keras.engine.sequential.Sequential at 0x2b1d02c1f10>"
      ]
     },
     "execution_count": 77,
     "metadata": {},
     "output_type": "execute_result"
    }
   ],
   "source": [
    "def build_model(hp):\n",
    "    model = keras.Sequential()\n",
    "    model.add(layers.Dense(units=hp.Int(\"num_units\", min_value=32, max_value=64, step=32),\n",
    "                activation=hp.Choice(\"activation\", [\"relu\", \"tanh\"])))\n",
    "    # Tune the number of layers.\n",
    "    for i in range(hp.Int(\"num_layers\", 1, 2)):\n",
    "        model.add(\n",
    "            layers.Dense(\n",
    "                # Tune number of units separately.\n",
    "                units=hp.Int(f\"units_{i}\", min_value=32, max_value=64, step=32),\n",
    "                activation=hp.Choice(\"activation\", [\"relu\", \"tanh\"]),\n",
    "            )\n",
    "        )\n",
    "    if hp.Boolean(\"dropout\"):\n",
    "        model.add(layers.Dropout(rate=0.25))\n",
    "    model.add(layers.Dense(1, activation=\"linear\"))\n",
    "    learning_rate = hp.Float(\"lr\", min_value=1e-3, max_value=1e-2,step=0.003)\n",
    "    model.compile(\n",
    "        optimizer=keras.optimizers.Adam(learning_rate=learning_rate),\n",
    "        loss=\"mean_squared_error\",\n",
    "        metrics=[\"mean_squared_error\"]\n",
    "    )\n",
    "    return model\n",
    "\n",
    "\n",
    "build_model(kt.HyperParameters())"
   ]
  },
  {
   "cell_type": "code",
   "execution_count": 78,
   "metadata": {},
   "outputs": [],
   "source": [
    "tuner_GridSearch_mlp = kt.GridSearch(\n",
    "    hypermodel=build_model,\n",
    "    objective=\"val_loss\",\n",
    "    max_trials=None,\n",
    "    executions_per_trial=1,\n",
    "    overwrite=True,\n",
    "    directory=\"dirsalida\",\n",
    "    project_name=\"helloworld\",\n",
    ")"
   ]
  },
  {
   "cell_type": "code",
   "execution_count": 79,
   "metadata": {
    "scrolled": true
   },
   "outputs": [
    {
     "name": "stdout",
     "output_type": "stream",
     "text": [
      "Search space summary\n",
      "Default search space size: 6\n",
      "num_units (Int)\n",
      "{'default': None, 'conditions': [], 'min_value': 32, 'max_value': 64, 'step': 32, 'sampling': 'linear'}\n",
      "activation (Choice)\n",
      "{'default': 'relu', 'conditions': [], 'values': ['relu', 'tanh'], 'ordered': False}\n",
      "num_layers (Int)\n",
      "{'default': None, 'conditions': [], 'min_value': 1, 'max_value': 2, 'step': 1, 'sampling': 'linear'}\n",
      "units_0 (Int)\n",
      "{'default': None, 'conditions': [], 'min_value': 32, 'max_value': 64, 'step': 32, 'sampling': 'linear'}\n",
      "dropout (Boolean)\n",
      "{'default': False, 'conditions': []}\n",
      "lr (Float)\n",
      "{'default': 0.001, 'conditions': [], 'min_value': 0.001, 'max_value': 0.01, 'step': 0.003, 'sampling': 'linear'}\n"
     ]
    }
   ],
   "source": [
    "tuner_GridSearch_mlp.search_space_summary()"
   ]
  },
  {
   "cell_type": "code",
   "execution_count": 80,
   "metadata": {},
   "outputs": [],
   "source": [
    "stop_early=tf.keras.callbacks.EarlyStopping(monitor=\"val_loss\",patience=2)"
   ]
  },
  {
   "cell_type": "code",
   "execution_count": 81,
   "metadata": {},
   "outputs": [
    {
     "name": "stdout",
     "output_type": "stream",
     "text": [
      "Trial 136 Complete [00h 00m 07s]\n",
      "val_loss: 1379.7264404296875\n",
      "\n",
      "Best val_loss So Far: 1366.018798828125\n",
      "Total elapsed time: 00h 18m 27s\n",
      "\n",
      "Search: Running Trial #137\n",
      "\n",
      "Value             |Best Value So Far |Hyperparameter\n",
      "64                |32                |num_units\n",
      "relu              |relu              |activation\n",
      "1                 |1                 |num_layers\n",
      "64                |64                |units_0\n",
      "True              |False             |dropout\n",
      "0.001             |0.004             |lr\n",
      "32                |None              |units_1\n",
      "\n",
      "Epoch 1/20\n",
      "6/6 [==============================] - 4s 167ms/step - loss: 17291.4629 - mean_squared_error: 17291.4629 - val_loss: 21985.0176 - val_mean_squared_error: 21985.0176\n",
      "Epoch 2/20\n",
      "6/6 [==============================] - 0s 49ms/step - loss: 17199.1270 - mean_squared_error: 17199.1270 - val_loss: 21875.0234 - val_mean_squared_error: 21875.0234\n",
      "Epoch 3/20\n",
      "6/6 [==============================] - 0s 47ms/step - loss: 17097.9219 - mean_squared_error: 17097.9219 - val_loss: 21750.5449 - val_mean_squared_error: 21750.5449\n",
      "Epoch 4/20\n",
      "6/6 [==============================] - 0s 51ms/step - loss: 16979.3945 - mean_squared_error: 16979.3945 - val_loss: 21602.9961 - val_mean_squared_error: 21602.9961\n",
      "Epoch 5/20\n",
      "6/6 [==============================] - 0s 52ms/step - loss: 16844.5840 - mean_squared_error: 16844.5840 - val_loss: 21425.1992 - val_mean_squared_error: 21425.1992\n",
      "Epoch 6/20\n",
      "6/6 [==============================] - 0s 55ms/step - loss: 16665.3574 - mean_squared_error: 16665.3574 - val_loss: 21201.1074 - val_mean_squared_error: 21201.1074\n",
      "Epoch 7/20\n",
      "6/6 [==============================] - 0s 47ms/step - loss: 16448.9844 - mean_squared_error: 16448.9844 - val_loss: 20915.4531 - val_mean_squared_error: 20915.4531\n",
      "Epoch 8/20\n",
      "6/6 [==============================] - 0s 53ms/step - loss: 16195.8809 - mean_squared_error: 16195.8809 - val_loss: 20555.3457 - val_mean_squared_error: 20555.3457\n",
      "Epoch 9/20\n",
      "6/6 [==============================] - 0s 46ms/step - loss: 15844.6035 - mean_squared_error: 15844.6035 - val_loss: 20113.7676 - val_mean_squared_error: 20113.7676\n",
      "Epoch 10/20\n",
      "6/6 [==============================] - 0s 75ms/step - loss: 15426.7246 - mean_squared_error: 15426.7246 - val_loss: 19572.0234 - val_mean_squared_error: 19572.0234\n",
      "Epoch 11/20\n",
      "6/6 [==============================] - 0s 43ms/step - loss: 14933.9570 - mean_squared_error: 14933.9570 - val_loss: 18923.1445 - val_mean_squared_error: 18923.1445\n",
      "Epoch 12/20\n",
      "6/6 [==============================] - 0s 48ms/step - loss: 14378.4297 - mean_squared_error: 14378.4297 - val_loss: 18155.7871 - val_mean_squared_error: 18155.7871\n",
      "Epoch 13/20\n",
      "6/6 [==============================] - 0s 48ms/step - loss: 13684.4004 - mean_squared_error: 13684.4004 - val_loss: 17255.6387 - val_mean_squared_error: 17255.6387\n",
      "Epoch 14/20\n",
      "6/6 [==============================] - 0s 47ms/step - loss: 12816.1680 - mean_squared_error: 12816.1680 - val_loss: 16233.5020 - val_mean_squared_error: 16233.5020\n",
      "Epoch 15/20\n",
      "6/6 [==============================] - 0s 54ms/step - loss: 12071.8760 - mean_squared_error: 12071.8760 - val_loss: 15082.5557 - val_mean_squared_error: 15082.5557\n",
      "Epoch 16/20\n",
      "6/6 [==============================] - 0s 58ms/step - loss: 11100.8115 - mean_squared_error: 11100.8115 - val_loss: 13831.2148 - val_mean_squared_error: 13831.2148\n",
      "Epoch 17/20\n",
      "6/6 [==============================] - 0s 53ms/step - loss: 10078.3008 - mean_squared_error: 10078.3008 - val_loss: 12499.8604 - val_mean_squared_error: 12499.8604\n",
      "Epoch 18/20\n",
      "6/6 [==============================] - 0s 48ms/step - loss: 8940.9482 - mean_squared_error: 8940.9482 - val_loss: 11104.3555 - val_mean_squared_error: 11104.3555\n",
      "Epoch 19/20\n",
      "6/6 [==============================] - 0s 56ms/step - loss: 7905.5093 - mean_squared_error: 7905.5093 - val_loss: 9683.3672 - val_mean_squared_error: 9683.3672\n",
      "Epoch 20/20\n",
      "6/6 [==============================] - 0s 49ms/step - loss: 6803.2012 - mean_squared_error: 6803.2012 - val_loss: 8284.3311 - val_mean_squared_error: 8284.3311\n"
     ]
    },
    {
     "ename": "UnicodeDecodeError",
     "evalue": "'utf-8' codec can't decode byte 0xf3 in position 82: invalid continuation byte",
     "output_type": "error",
     "traceback": [
      "\u001b[1;31m---------------------------------------------------------------------------\u001b[0m",
      "\u001b[1;31mUnicodeDecodeError\u001b[0m                        Traceback (most recent call last)",
      "Input \u001b[1;32mIn [81]\u001b[0m, in \u001b[0;36m<cell line: 1>\u001b[1;34m()\u001b[0m\n\u001b[1;32m----> 1\u001b[0m \u001b[43mtuner_GridSearch_mlp\u001b[49m\u001b[38;5;241;43m.\u001b[39;49m\u001b[43msearch\u001b[49m\u001b[43m(\u001b[49m\u001b[43mX_train\u001b[49m\u001b[43m,\u001b[49m\u001b[43my_train\u001b[49m\u001b[43m,\u001b[49m\u001b[43m \u001b[49m\u001b[43mepochs\u001b[49m\u001b[38;5;241;43m=\u001b[39;49m\u001b[38;5;241;43m20\u001b[39;49m\u001b[43m,\u001b[49m\u001b[43m \u001b[49m\u001b[43mvalidation_data\u001b[49m\u001b[38;5;241;43m=\u001b[39;49m\u001b[43m(\u001b[49m\u001b[43mX_val\u001b[49m\u001b[43m,\u001b[49m\u001b[43my_val\u001b[49m\u001b[43m)\u001b[49m\u001b[43m,\u001b[49m\u001b[43mcallbacks\u001b[49m\u001b[38;5;241;43m=\u001b[39;49m\u001b[43m[\u001b[49m\u001b[43mstop_early\u001b[49m\u001b[43m]\u001b[49m\u001b[43m)\u001b[49m\n",
      "File \u001b[1;32m~\\anaconda3\\lib\\site-packages\\keras_tuner\\src\\engine\\base_tuner.py:235\u001b[0m, in \u001b[0;36mBaseTuner.search\u001b[1;34m(self, *fit_args, **fit_kwargs)\u001b[0m\n\u001b[0;32m    233\u001b[0m     \u001b[38;5;28mself\u001b[39m\u001b[38;5;241m.\u001b[39mon_trial_begin(trial)\n\u001b[0;32m    234\u001b[0m     \u001b[38;5;28mself\u001b[39m\u001b[38;5;241m.\u001b[39m_try_run_and_update_trial(trial, \u001b[38;5;241m*\u001b[39mfit_args, \u001b[38;5;241m*\u001b[39m\u001b[38;5;241m*\u001b[39mfit_kwargs)\n\u001b[1;32m--> 235\u001b[0m     \u001b[38;5;28;43mself\u001b[39;49m\u001b[38;5;241;43m.\u001b[39;49m\u001b[43mon_trial_end\u001b[49m\u001b[43m(\u001b[49m\u001b[43mtrial\u001b[49m\u001b[43m)\u001b[49m\n\u001b[0;32m    236\u001b[0m \u001b[38;5;28mself\u001b[39m\u001b[38;5;241m.\u001b[39mon_search_end()\n",
      "File \u001b[1;32m~\\anaconda3\\lib\\site-packages\\keras_tuner\\src\\engine\\base_tuner.py:339\u001b[0m, in \u001b[0;36mBaseTuner.on_trial_end\u001b[1;34m(self, trial)\u001b[0m\n\u001b[0;32m    333\u001b[0m \u001b[38;5;28;01mdef\u001b[39;00m \u001b[38;5;21mon_trial_end\u001b[39m(\u001b[38;5;28mself\u001b[39m, trial):\n\u001b[0;32m    334\u001b[0m     \u001b[38;5;124;03m\"\"\"Called at the end of a trial.\u001b[39;00m\n\u001b[0;32m    335\u001b[0m \n\u001b[0;32m    336\u001b[0m \u001b[38;5;124;03m    Args:\u001b[39;00m\n\u001b[0;32m    337\u001b[0m \u001b[38;5;124;03m        trial: A `Trial` instance.\u001b[39;00m\n\u001b[0;32m    338\u001b[0m \u001b[38;5;124;03m    \"\"\"\u001b[39;00m\n\u001b[1;32m--> 339\u001b[0m     \u001b[38;5;28;43mself\u001b[39;49m\u001b[38;5;241;43m.\u001b[39;49m\u001b[43moracle\u001b[49m\u001b[38;5;241;43m.\u001b[39;49m\u001b[43mend_trial\u001b[49m\u001b[43m(\u001b[49m\u001b[43mtrial\u001b[49m\u001b[43m)\u001b[49m\n\u001b[0;32m    340\u001b[0m     \u001b[38;5;28mself\u001b[39m\u001b[38;5;241m.\u001b[39msave()\n",
      "File \u001b[1;32m~\\anaconda3\\lib\\site-packages\\keras_tuner\\src\\engine\\oracle.py:108\u001b[0m, in \u001b[0;36msynchronized.<locals>.wrapped_func\u001b[1;34m(*args, **kwargs)\u001b[0m\n\u001b[0;32m    106\u001b[0m     LOCKS[oracle]\u001b[38;5;241m.\u001b[39macquire()\n\u001b[0;32m    107\u001b[0m     THREADS[oracle] \u001b[38;5;241m=\u001b[39m thread_name\n\u001b[1;32m--> 108\u001b[0m ret_val \u001b[38;5;241m=\u001b[39m func(\u001b[38;5;241m*\u001b[39margs, \u001b[38;5;241m*\u001b[39m\u001b[38;5;241m*\u001b[39mkwargs)\n\u001b[0;32m    109\u001b[0m \u001b[38;5;28;01mif\u001b[39;00m need_acquire:\n\u001b[0;32m    110\u001b[0m     THREADS[oracle] \u001b[38;5;241m=\u001b[39m \u001b[38;5;28;01mNone\u001b[39;00m\n",
      "File \u001b[1;32m~\\anaconda3\\lib\\site-packages\\keras_tuner\\src\\tuners\\gridsearch.py:317\u001b[0m, in \u001b[0;36mGridSearchOracle.end_trial\u001b[1;34m(self, trial)\u001b[0m\n\u001b[0;32m    315\u001b[0m \u001b[38;5;129m@oracle_module\u001b[39m\u001b[38;5;241m.\u001b[39msynchronized\n\u001b[0;32m    316\u001b[0m \u001b[38;5;28;01mdef\u001b[39;00m \u001b[38;5;21mend_trial\u001b[39m(\u001b[38;5;28mself\u001b[39m, trial):\n\u001b[1;32m--> 317\u001b[0m     \u001b[38;5;28;43msuper\u001b[39;49m\u001b[43m(\u001b[49m\u001b[43m)\u001b[49m\u001b[38;5;241;43m.\u001b[39;49m\u001b[43mend_trial\u001b[49m\u001b[43m(\u001b[49m\u001b[43mtrial\u001b[49m\u001b[43m)\u001b[49m\n\u001b[0;32m    318\u001b[0m     \u001b[38;5;66;03m# It is OK for a trial_id to be pushed into _populate_next multiple\u001b[39;00m\n\u001b[0;32m    319\u001b[0m     \u001b[38;5;66;03m# times. It will be skipped during _populate_space if its next\u001b[39;00m\n\u001b[0;32m    320\u001b[0m     \u001b[38;5;66;03m# combination has been tried.\u001b[39;00m\n\u001b[0;32m    321\u001b[0m \n\u001b[0;32m    322\u001b[0m     \u001b[38;5;66;03m# For not blocking _populate_space, we push it regardless of the status.\u001b[39;00m\n\u001b[0;32m    323\u001b[0m     \u001b[38;5;28mself\u001b[39m\u001b[38;5;241m.\u001b[39m_populate_next\u001b[38;5;241m.\u001b[39mappend(trial\u001b[38;5;241m.\u001b[39mtrial_id)\n",
      "File \u001b[1;32m~\\anaconda3\\lib\\site-packages\\keras_tuner\\src\\engine\\oracle.py:108\u001b[0m, in \u001b[0;36msynchronized.<locals>.wrapped_func\u001b[1;34m(*args, **kwargs)\u001b[0m\n\u001b[0;32m    106\u001b[0m     LOCKS[oracle]\u001b[38;5;241m.\u001b[39macquire()\n\u001b[0;32m    107\u001b[0m     THREADS[oracle] \u001b[38;5;241m=\u001b[39m thread_name\n\u001b[1;32m--> 108\u001b[0m ret_val \u001b[38;5;241m=\u001b[39m func(\u001b[38;5;241m*\u001b[39margs, \u001b[38;5;241m*\u001b[39m\u001b[38;5;241m*\u001b[39mkwargs)\n\u001b[0;32m    109\u001b[0m \u001b[38;5;28;01mif\u001b[39;00m need_acquire:\n\u001b[0;32m    110\u001b[0m     THREADS[oracle] \u001b[38;5;241m=\u001b[39m \u001b[38;5;28;01mNone\u001b[39;00m\n",
      "File \u001b[1;32m~\\anaconda3\\lib\\site-packages\\keras_tuner\\src\\engine\\oracle.py:591\u001b[0m, in \u001b[0;36mOracle.end_trial\u001b[1;34m(self, trial)\u001b[0m\n\u001b[0;32m    588\u001b[0m     \u001b[38;5;28mself\u001b[39m\u001b[38;5;241m.\u001b[39m_check_consecutive_failures()\n\u001b[0;32m    590\u001b[0m \u001b[38;5;28mself\u001b[39m\u001b[38;5;241m.\u001b[39m_save_trial(trial)\n\u001b[1;32m--> 591\u001b[0m \u001b[38;5;28;43mself\u001b[39;49m\u001b[38;5;241;43m.\u001b[39;49m\u001b[43msave\u001b[49m\u001b[43m(\u001b[49m\u001b[43m)\u001b[49m\n\u001b[0;32m    593\u001b[0m \u001b[38;5;28mself\u001b[39m\u001b[38;5;241m.\u001b[39m_display\u001b[38;5;241m.\u001b[39mon_trial_end(trial)\n\u001b[0;32m    595\u001b[0m \u001b[38;5;66;03m# Pop the ongoing trial at last, which would notify the chief server to\u001b[39;00m\n\u001b[0;32m    596\u001b[0m \u001b[38;5;66;03m# stop when ongoing_trials is empty.\u001b[39;00m\n",
      "File \u001b[1;32m~\\anaconda3\\lib\\site-packages\\keras_tuner\\src\\engine\\oracle.py:748\u001b[0m, in \u001b[0;36mOracle.save\u001b[1;34m(self)\u001b[0m\n\u001b[0;32m    746\u001b[0m \u001b[38;5;28;01mdef\u001b[39;00m \u001b[38;5;21msave\u001b[39m(\u001b[38;5;28mself\u001b[39m):\n\u001b[0;32m    747\u001b[0m     \u001b[38;5;66;03m# `self.trials` are saved in their own, Oracle-agnostic files.\u001b[39;00m\n\u001b[1;32m--> 748\u001b[0m     \u001b[38;5;28;43msuper\u001b[39;49m\u001b[43m(\u001b[49m\u001b[43m)\u001b[49m\u001b[38;5;241;43m.\u001b[39;49m\u001b[43msave\u001b[49m\u001b[43m(\u001b[49m\u001b[38;5;28;43mself\u001b[39;49m\u001b[38;5;241;43m.\u001b[39;49m\u001b[43m_get_oracle_fname\u001b[49m\u001b[43m(\u001b[49m\u001b[43m)\u001b[49m\u001b[43m)\u001b[49m\n",
      "File \u001b[1;32m~\\anaconda3\\lib\\site-packages\\keras_tuner\\src\\engine\\stateful.py:63\u001b[0m, in \u001b[0;36mStateful.save\u001b[1;34m(self, fname)\u001b[0m\n\u001b[0;32m     54\u001b[0m \u001b[38;5;28;01mdef\u001b[39;00m \u001b[38;5;21msave\u001b[39m(\u001b[38;5;28mself\u001b[39m, fname):\n\u001b[0;32m     55\u001b[0m     \u001b[38;5;124;03m\"\"\"Saves this object using `get_state`.\u001b[39;00m\n\u001b[0;32m     56\u001b[0m \n\u001b[0;32m     57\u001b[0m \u001b[38;5;124;03m    Args:\u001b[39;00m\n\u001b[1;32m   (...)\u001b[0m\n\u001b[0;32m     61\u001b[0m \u001b[38;5;124;03m        String. The serialized state of the object.\u001b[39;00m\n\u001b[0;32m     62\u001b[0m \u001b[38;5;124;03m    \"\"\"\u001b[39;00m\n\u001b[1;32m---> 63\u001b[0m     \u001b[38;5;28;01mreturn\u001b[39;00m \u001b[43mutils\u001b[49m\u001b[38;5;241;43m.\u001b[39;49m\u001b[43msave_json\u001b[49m\u001b[43m(\u001b[49m\u001b[43mfname\u001b[49m\u001b[43m,\u001b[49m\u001b[43m \u001b[49m\u001b[38;5;28;43mself\u001b[39;49m\u001b[38;5;241;43m.\u001b[39;49m\u001b[43mget_state\u001b[49m\u001b[43m(\u001b[49m\u001b[43m)\u001b[49m\u001b[43m)\u001b[49m\n",
      "File \u001b[1;32m~\\anaconda3\\lib\\site-packages\\keras_tuner\\src\\utils.py:93\u001b[0m, in \u001b[0;36msave_json\u001b[1;34m(path, obj)\u001b[0m\n\u001b[0;32m     91\u001b[0m obj_str \u001b[38;5;241m=\u001b[39m json\u001b[38;5;241m.\u001b[39mdumps(obj)\n\u001b[0;32m     92\u001b[0m \u001b[38;5;28;01mwith\u001b[39;00m backend\u001b[38;5;241m.\u001b[39mio\u001b[38;5;241m.\u001b[39mFile(path, \u001b[38;5;124m\"\u001b[39m\u001b[38;5;124mw\u001b[39m\u001b[38;5;124m\"\u001b[39m) \u001b[38;5;28;01mas\u001b[39;00m f:\n\u001b[1;32m---> 93\u001b[0m     \u001b[43mf\u001b[49m\u001b[38;5;241;43m.\u001b[39;49m\u001b[43mwrite\u001b[49m\u001b[43m(\u001b[49m\u001b[43mobj_str\u001b[49m\u001b[43m)\u001b[49m\n\u001b[0;32m     94\u001b[0m \u001b[38;5;28;01mreturn\u001b[39;00m obj_str\n",
      "File \u001b[1;32m~\\anaconda3\\lib\\site-packages\\tensorflow\\python\\lib\\io\\file_io.py:100\u001b[0m, in \u001b[0;36mFileIO.write\u001b[1;34m(self, file_content)\u001b[0m\n\u001b[0;32m     98\u001b[0m \u001b[38;5;28;01mdef\u001b[39;00m \u001b[38;5;21mwrite\u001b[39m(\u001b[38;5;28mself\u001b[39m, file_content):\n\u001b[0;32m     99\u001b[0m   \u001b[38;5;124;03m\"\"\"Writes file_content to the file. Appends to the end of the file.\"\"\"\u001b[39;00m\n\u001b[1;32m--> 100\u001b[0m   \u001b[38;5;28;43mself\u001b[39;49m\u001b[38;5;241;43m.\u001b[39;49m\u001b[43m_prewrite_check\u001b[49m\u001b[43m(\u001b[49m\u001b[43m)\u001b[49m\n\u001b[0;32m    101\u001b[0m   \u001b[38;5;28mself\u001b[39m\u001b[38;5;241m.\u001b[39m_writable_file\u001b[38;5;241m.\u001b[39mappend(\n\u001b[0;32m    102\u001b[0m       compat\u001b[38;5;241m.\u001b[39mas_bytes(file_content, encoding\u001b[38;5;241m=\u001b[39m\u001b[38;5;28mself\u001b[39m\u001b[38;5;241m.\u001b[39m__encoding))\n",
      "File \u001b[1;32m~\\anaconda3\\lib\\site-packages\\tensorflow\\python\\lib\\io\\file_io.py:85\u001b[0m, in \u001b[0;36mFileIO._prewrite_check\u001b[1;34m(self)\u001b[0m\n\u001b[0;32m     82\u001b[0m \u001b[38;5;28;01mif\u001b[39;00m \u001b[38;5;129;01mnot\u001b[39;00m \u001b[38;5;28mself\u001b[39m\u001b[38;5;241m.\u001b[39m_write_check_passed:\n\u001b[0;32m     83\u001b[0m   \u001b[38;5;28;01mraise\u001b[39;00m errors\u001b[38;5;241m.\u001b[39mPermissionDeniedError(\u001b[38;5;28;01mNone\u001b[39;00m, \u001b[38;5;28;01mNone\u001b[39;00m,\n\u001b[0;32m     84\u001b[0m                                      \u001b[38;5;124m\"\u001b[39m\u001b[38;5;124mFile isn\u001b[39m\u001b[38;5;124m'\u001b[39m\u001b[38;5;124mt open for writing\u001b[39m\u001b[38;5;124m\"\u001b[39m)\n\u001b[1;32m---> 85\u001b[0m \u001b[38;5;28mself\u001b[39m\u001b[38;5;241m.\u001b[39m_writable_file \u001b[38;5;241m=\u001b[39m \u001b[43m_pywrap_file_io\u001b[49m\u001b[38;5;241;43m.\u001b[39;49m\u001b[43mWritableFile\u001b[49m\u001b[43m(\u001b[49m\n\u001b[0;32m     86\u001b[0m \u001b[43m    \u001b[49m\u001b[43mcompat\u001b[49m\u001b[38;5;241;43m.\u001b[39;49m\u001b[43mpath_to_bytes\u001b[49m\u001b[43m(\u001b[49m\u001b[38;5;28;43mself\u001b[39;49m\u001b[38;5;241;43m.\u001b[39;49m\u001b[43m__name\u001b[49m\u001b[43m)\u001b[49m\u001b[43m,\u001b[49m\u001b[43m \u001b[49m\u001b[43mcompat\u001b[49m\u001b[38;5;241;43m.\u001b[39;49m\u001b[43mas_bytes\u001b[49m\u001b[43m(\u001b[49m\u001b[38;5;28;43mself\u001b[39;49m\u001b[38;5;241;43m.\u001b[39;49m\u001b[43m__mode\u001b[49m\u001b[43m)\u001b[49m\u001b[43m)\u001b[49m\n",
      "\u001b[1;31mUnicodeDecodeError\u001b[0m: 'utf-8' codec can't decode byte 0xf3 in position 82: invalid continuation byte"
     ]
    }
   ],
   "source": [
    "tuner_GridSearch_mlp.search(X_train,y_train, epochs=20, validation_data=(X_val,y_val),callbacks=[stop_early])"
   ]
  },
  {
   "cell_type": "code",
   "execution_count": 95,
   "metadata": {},
   "outputs": [
    {
     "name": "stdout",
     "output_type": "stream",
     "text": [
      "Shape de la variable: (7, 64)\n"
     ]
    }
   ],
   "source": [
    "# Get the top 2 models.\n",
    "shape = (7, 64)\n",
    "initial_value = tf.random.normal(shape=(shape[0], shape[1]))\n",
    "\n",
    "# Crear la variable con el valor inicial y la forma especificada\n",
    "variable = tf.Variable(initial_value, shape=shape)\n",
    "\n",
    "# Verificar la forma de la variable creada\n",
    "print(\"Shape de la variable:\", variable.shape)"
   ]
  },
  {
   "cell_type": "markdown",
   "metadata": {},
   "source": [
    "<h2 style=\"color: #e67e22; text-align: left;\"> Los mejores 10 modelos</h2>   \n",
    "\n"
   ]
  },
  {
   "cell_type": "code",
   "execution_count": 96,
   "metadata": {},
   "outputs": [
    {
     "name": "stdout",
     "output_type": "stream",
     "text": [
      "Results summary\n",
      "Results in dirsalida\\helloworld\n",
      "Showing 10 best trials\n",
      "Objective(name=\"val_loss\", direction=\"min\")\n",
      "\n",
      "Trial 0034 summary\n",
      "Hyperparameters:\n",
      "num_units: 32\n",
      "activation: relu\n",
      "num_layers: 2\n",
      "units_0: 64\n",
      "dropout: False\n",
      "lr: 0.004\n",
      "units_1: 32\n",
      "Score: 1322.8177490234375\n",
      "\n",
      "Trial 0020 summary\n",
      "Hyperparameters:\n",
      "num_units: 32\n",
      "activation: relu\n",
      "num_layers: 2\n",
      "units_0: 32\n",
      "dropout: False\n",
      "lr: 0.007\n",
      "units_1: 32\n",
      "Score: 1337.568603515625\n",
      "\n",
      "Trial 0028 summary\n",
      "Hyperparameters:\n",
      "num_units: 32\n",
      "activation: relu\n",
      "num_layers: 2\n",
      "units_0: 32\n",
      "dropout: True\n",
      "lr: 0.007\n",
      "units_1: 32\n",
      "Score: 1342.03466796875\n",
      "\n",
      "Trial 0007 summary\n",
      "Hyperparameters:\n",
      "num_units: 32\n",
      "activation: relu\n",
      "num_layers: 1\n",
      "units_0: 32\n",
      "dropout: True\n",
      "lr: 0.010000000000000002\n",
      "Score: 1342.50732421875\n",
      "\n",
      "Trial 0142 summary\n",
      "Hyperparameters:\n",
      "num_units: 64\n",
      "activation: relu\n",
      "num_layers: 1\n",
      "units_0: 64\n",
      "dropout: True\n",
      "lr: 0.010000000000000002\n",
      "units_1: 32\n",
      "Score: 1343.3463134765625\n",
      "\n",
      "Trial 0036 summary\n",
      "Hyperparameters:\n",
      "num_units: 32\n",
      "activation: relu\n",
      "num_layers: 2\n",
      "units_0: 64\n",
      "dropout: False\n",
      "lr: 0.007\n",
      "units_1: 32\n",
      "Score: 1351.888427734375\n",
      "\n",
      "Trial 0161 summary\n",
      "Hyperparameters:\n",
      "num_units: 64\n",
      "activation: relu\n",
      "num_layers: 2\n",
      "units_0: 64\n",
      "dropout: False\n",
      "lr: 0.001\n",
      "units_1: 64\n",
      "Score: 1356.2713623046875\n",
      "\n",
      "Trial 0164 summary\n",
      "Hyperparameters:\n",
      "num_units: 64\n",
      "activation: relu\n",
      "num_layers: 2\n",
      "units_0: 64\n",
      "dropout: False\n",
      "lr: 0.007\n",
      "units_1: 32\n",
      "Score: 1370.0728759765625\n",
      "\n",
      "Trial 0035 summary\n",
      "Hyperparameters:\n",
      "num_units: 32\n",
      "activation: relu\n",
      "num_layers: 2\n",
      "units_0: 64\n",
      "dropout: False\n",
      "lr: 0.004\n",
      "units_1: 64\n",
      "Score: 1373.2196044921875\n",
      "\n",
      "Trial 0116 summary\n",
      "Hyperparameters:\n",
      "num_units: 64\n",
      "activation: relu\n",
      "num_layers: 1\n",
      "units_0: 32\n",
      "dropout: False\n",
      "lr: 0.007\n",
      "units_1: 32\n",
      "Score: 1375.9866943359375\n"
     ]
    }
   ],
   "source": [
    "tuner_GridSearch_mlp.results_summary()"
   ]
  },
  {
   "cell_type": "markdown",
   "metadata": {},
   "source": [
    "<h2 style=\"color: #e67e22; text-align: left;\"> Ajuste del mejor modelo con el conjunto de entrenamineto y validación</h2>   "
   ]
  },
  {
   "cell_type": "markdown",
   "metadata": {},
   "source": [
    "- Se configuró una red neuronal con 2 capas ocultas, cada una con 64 unidades.\n",
    "- La función de activación utilizada es Relu.\n",
    "- No se aplicó dropout para regularización.\n",
    "- La tasa de aprendizaje del optimizador se estableció en 0.004.\n",
    "- La puntuación final del modelo bajo esta configuración de hiperparámetros fue aproximadamente 1322."
   ]
  },
  {
   "cell_type": "code",
   "execution_count": 97,
   "metadata": {},
   "outputs": [],
   "source": [
    "x_all = np.concatenate((X_train, X_val))\n",
    "y_all = np.concatenate((y_train, y_val))"
   ]
  },
  {
   "cell_type": "code",
   "execution_count": 98,
   "metadata": {},
   "outputs": [
    {
     "name": "stdout",
     "output_type": "stream",
     "text": [
      "Epoch 1/50\n",
      "7/7 [==============================] - 4s 8ms/step - loss: 17830.2461 - mean_squared_error: 17830.2461\n",
      "Epoch 2/50\n",
      "7/7 [==============================] - 0s 9ms/step - loss: 17441.3750 - mean_squared_error: 17441.3750\n",
      "Epoch 3/50\n",
      "7/7 [==============================] - 0s 7ms/step - loss: 16418.0625 - mean_squared_error: 16418.0625\n",
      "Epoch 4/50\n",
      "7/7 [==============================] - 0s 7ms/step - loss: 13885.6416 - mean_squared_error: 13885.6416\n",
      "Epoch 5/50\n",
      "7/7 [==============================] - 0s 8ms/step - loss: 9012.1582 - mean_squared_error: 9012.1582\n",
      "Epoch 6/50\n",
      "7/7 [==============================] - 0s 7ms/step - loss: 3532.0132 - mean_squared_error: 3532.0132\n",
      "Epoch 7/50\n",
      "7/7 [==============================] - 0s 10ms/step - loss: 3361.8271 - mean_squared_error: 3361.8271\n",
      "Epoch 8/50\n",
      "7/7 [==============================] - 0s 8ms/step - loss: 2536.9438 - mean_squared_error: 2536.9438\n",
      "Epoch 9/50\n",
      "7/7 [==============================] - 0s 8ms/step - loss: 2574.7852 - mean_squared_error: 2574.7852\n",
      "Epoch 10/50\n",
      "7/7 [==============================] - 0s 13ms/step - loss: 2510.4370 - mean_squared_error: 2510.4370\n",
      "Epoch 11/50\n",
      "7/7 [==============================] - 0s 8ms/step - loss: 2330.4187 - mean_squared_error: 2330.4187\n",
      "Epoch 12/50\n",
      "7/7 [==============================] - 0s 10ms/step - loss: 2288.6765 - mean_squared_error: 2288.6765\n",
      "Epoch 13/50\n",
      "7/7 [==============================] - 0s 7ms/step - loss: 2233.5190 - mean_squared_error: 2233.5190\n",
      "Epoch 14/50\n",
      "7/7 [==============================] - 0s 7ms/step - loss: 2203.7095 - mean_squared_error: 2203.7095\n",
      "Epoch 15/50\n",
      "7/7 [==============================] - 0s 6ms/step - loss: 2166.0129 - mean_squared_error: 2166.0129\n",
      "Epoch 16/50\n",
      "7/7 [==============================] - 0s 6ms/step - loss: 2136.4038 - mean_squared_error: 2136.4038\n",
      "Epoch 17/50\n",
      "7/7 [==============================] - 0s 7ms/step - loss: 2109.8472 - mean_squared_error: 2109.8472\n",
      "Epoch 18/50\n",
      "7/7 [==============================] - 0s 7ms/step - loss: 2109.0161 - mean_squared_error: 2109.0161\n",
      "Epoch 19/50\n",
      "7/7 [==============================] - 0s 6ms/step - loss: 2086.1594 - mean_squared_error: 2086.1594\n",
      "Epoch 20/50\n",
      "7/7 [==============================] - 0s 6ms/step - loss: 2059.4900 - mean_squared_error: 2059.4897\n",
      "Epoch 21/50\n",
      "7/7 [==============================] - 0s 9ms/step - loss: 2064.3894 - mean_squared_error: 2064.3894\n",
      "Epoch 22/50\n",
      "7/7 [==============================] - 0s 7ms/step - loss: 2047.9900 - mean_squared_error: 2047.9900\n",
      "Epoch 23/50\n",
      "7/7 [==============================] - 0s 7ms/step - loss: 2013.1161 - mean_squared_error: 2013.1161\n",
      "Epoch 24/50\n",
      "7/7 [==============================] - 0s 7ms/step - loss: 2030.9756 - mean_squared_error: 2030.9756\n",
      "Epoch 25/50\n",
      "7/7 [==============================] - 0s 7ms/step - loss: 2010.8920 - mean_squared_error: 2010.8920\n",
      "Epoch 26/50\n",
      "7/7 [==============================] - 0s 6ms/step - loss: 1994.8052 - mean_squared_error: 1994.8052\n",
      "Epoch 27/50\n",
      "7/7 [==============================] - 0s 6ms/step - loss: 1981.9498 - mean_squared_error: 1981.9498\n",
      "Epoch 28/50\n",
      "7/7 [==============================] - 0s 6ms/step - loss: 1990.2958 - mean_squared_error: 1990.2958\n",
      "Epoch 29/50\n",
      "7/7 [==============================] - 0s 7ms/step - loss: 1974.1703 - mean_squared_error: 1974.1703\n",
      "Epoch 30/50\n",
      "7/7 [==============================] - 0s 7ms/step - loss: 1976.3516 - mean_squared_error: 1976.3516\n",
      "Epoch 31/50\n",
      "7/7 [==============================] - 0s 7ms/step - loss: 1963.6542 - mean_squared_error: 1963.6542\n",
      "Epoch 32/50\n",
      "7/7 [==============================] - 0s 7ms/step - loss: 1973.0005 - mean_squared_error: 1973.0005\n",
      "Epoch 33/50\n",
      "7/7 [==============================] - 0s 7ms/step - loss: 1968.2194 - mean_squared_error: 1968.2194\n",
      "Epoch 34/50\n",
      "7/7 [==============================] - 0s 7ms/step - loss: 1955.1954 - mean_squared_error: 1955.1954\n",
      "Epoch 35/50\n",
      "7/7 [==============================] - 0s 6ms/step - loss: 1967.3721 - mean_squared_error: 1967.3721\n",
      "Epoch 36/50\n",
      "7/7 [==============================] - 0s 7ms/step - loss: 1949.2406 - mean_squared_error: 1949.2406\n",
      "Epoch 37/50\n",
      "7/7 [==============================] - 0s 4ms/step - loss: 1976.6367 - mean_squared_error: 1976.6367\n",
      "Epoch 38/50\n",
      "7/7 [==============================] - 0s 7ms/step - loss: 1949.9130 - mean_squared_error: 1949.9130\n",
      "Epoch 39/50\n",
      "7/7 [==============================] - 0s 7ms/step - loss: 1954.4464 - mean_squared_error: 1954.4464\n",
      "Epoch 40/50\n",
      "7/7 [==============================] - 0s 7ms/step - loss: 1941.0851 - mean_squared_error: 1941.0851\n",
      "Epoch 41/50\n",
      "7/7 [==============================] - 0s 6ms/step - loss: 1957.9584 - mean_squared_error: 1957.9584\n",
      "Epoch 42/50\n",
      "7/7 [==============================] - 0s 6ms/step - loss: 1941.1752 - mean_squared_error: 1941.1752\n",
      "Epoch 43/50\n",
      "7/7 [==============================] - 0s 7ms/step - loss: 1934.0327 - mean_squared_error: 1934.0327\n",
      "Epoch 44/50\n",
      "7/7 [==============================] - 0s 7ms/step - loss: 1976.1781 - mean_squared_error: 1976.1781\n",
      "Epoch 45/50\n",
      "7/7 [==============================] - 0s 8ms/step - loss: 1935.9513 - mean_squared_error: 1935.9513\n",
      "Epoch 46/50\n",
      "7/7 [==============================] - 0s 7ms/step - loss: 1940.6838 - mean_squared_error: 1940.6838\n",
      "Epoch 47/50\n",
      "7/7 [==============================] - 0s 8ms/step - loss: 1953.3716 - mean_squared_error: 1953.3716\n",
      "Epoch 48/50\n",
      "7/7 [==============================] - 0s 7ms/step - loss: 1958.1786 - mean_squared_error: 1958.1786\n"
     ]
    },
    {
     "data": {
      "text/plain": [
       "<keras.callbacks.History at 0x2addc20ab50>"
      ]
     },
     "execution_count": 98,
     "metadata": {},
     "output_type": "execute_result"
    }
   ],
   "source": [
    "callback=tf.keras.callbacks.EarlyStopping(monitor=\"loss\",patience=5)\n",
    "best_hps_mlp = tuner_GridSearch_mlp.get_best_hyperparameters(2)\n",
    "model_mlp = build_model(best_hps_mlp[0])\n",
    "# Fit with the entire dataset.\n",
    "model_mlp.fit(x_all,y_all, epochs=50,callbacks=[callback])"
   ]
  },
  {
   "cell_type": "code",
   "execution_count": 99,
   "metadata": {},
   "outputs": [
    {
     "data": {
      "text/plain": [
       "array([[ 0.12371572, -0.1280228 , -0.19180329,  0.41650835,  0.02637871,\n",
       "         0.05273366,  0.07434419, -0.37205   ,  0.18815263,  0.12054679,\n",
       "        -0.20731786, -0.12107558,  0.20720826,  0.2580323 ,  0.08746978,\n",
       "         0.22567727,  0.1279078 , -0.24400118, -0.06791622,  0.12216742,\n",
       "         0.2987152 , -0.14920676,  0.2568025 ,  0.39565355,  0.1754178 ,\n",
       "         0.30794406, -0.09768212,  0.16054499, -0.39654297, -0.04557552,\n",
       "        -0.1230857 , -0.37150353],\n",
       "       [ 0.28714746,  0.21632864, -0.01170203,  0.29505274,  0.04428234,\n",
       "         0.01697067, -0.48001602,  0.13260436, -0.14037734, -0.32189435,\n",
       "        -0.24792708,  0.144299  ,  0.3360288 ,  0.08397264,  0.13084209,\n",
       "         0.20749684,  0.34674123,  0.36270607, -0.05051268,  0.39048627,\n",
       "        -0.18206349,  0.12904902,  0.03585727, -0.04838161, -0.26119426,\n",
       "        -0.66631836,  0.01779178,  0.09403766, -0.27314186, -0.00843714,\n",
       "         0.38126042, -0.03202182],\n",
       "       [ 0.41924685, -0.36489835, -0.14397854,  0.3427675 ,  0.25947446,\n",
       "         0.19244495, -0.15894501, -0.21404432,  0.01417434, -0.35053754,\n",
       "        -0.07737958,  0.36218712,  0.33894983, -0.2701911 , -0.391215  ,\n",
       "         0.08807261,  0.24711625, -0.2947731 ,  0.1452038 ,  0.06821357,\n",
       "         0.38027555,  0.03089448,  0.21306178,  0.47274187,  0.32188207,\n",
       "        -0.09427283, -0.32004738, -0.2943812 , -0.14929931, -0.16467059,\n",
       "        -0.2582656 , -0.07334041],\n",
       "       [ 0.4765108 , -0.25326452, -0.3875565 , -0.23750049,  0.10185488,\n",
       "        -0.30742937, -0.06252038, -0.08159073, -0.26288408,  0.12721303,\n",
       "        -0.08357564, -0.22673571,  0.16331713, -0.03279939,  0.44051388,\n",
       "         0.00631114,  0.1345342 ,  0.05456115,  0.18776944,  0.24270362,\n",
       "         0.07764344, -0.47081113,  0.05744786,  0.10537075, -0.13005118,\n",
       "         0.25367644, -0.35061893, -0.26428717, -0.31236765,  0.29674253,\n",
       "         0.24283166,  0.21206792],\n",
       "       [ 0.12366509,  0.28894326, -0.21674155,  0.10033376,  0.3662451 ,\n",
       "         0.212327  ,  0.50237024,  0.28521782, -0.20184168,  0.3497816 ,\n",
       "        -0.2556817 , -0.2731262 ,  0.20440611,  0.17739663,  0.17823085,\n",
       "         0.49036434, -0.0960012 ,  0.3380097 ,  0.17995548, -0.12599334,\n",
       "        -0.13371821,  0.38015324, -0.01822764,  0.4161451 , -0.05808339,\n",
       "        -0.07471284, -0.0116502 ,  0.2365344 ,  0.39132014, -0.02453404,\n",
       "        -0.16631992, -0.10109639],\n",
       "       [ 0.3320874 ,  0.38872895, -0.14301667, -0.01694616,  0.20257835,\n",
       "         0.5607109 ,  0.19065423,  0.68886536,  0.66877365,  0.5884584 ,\n",
       "        -0.3388615 , -0.23106508,  0.7008239 ,  0.500402  ,  0.13865018,\n",
       "         0.43480608,  0.5801386 ,  0.18095618,  0.14833651,  0.20949462,\n",
       "         0.12630948, -0.12282102,  0.21458006,  0.19396044,  0.704398  ,\n",
       "         0.05086331, -0.1558514 ,  0.07509136, -0.14073208,  0.41135427,\n",
       "         0.56134903,  0.44542122]], dtype=float32)"
      ]
     },
     "execution_count": 99,
     "metadata": {},
     "output_type": "execute_result"
    }
   ],
   "source": [
    "model_mlp.layers[0].get_weights()[0]"
   ]
  },
  {
   "cell_type": "code",
   "execution_count": 100,
   "metadata": {},
   "outputs": [
    {
     "name": "stdout",
     "output_type": "stream",
     "text": [
      "[ 0.22702342  0.17172518  0.          0.22232002  0.22623524  0.18335451\n",
      "  0.38066432  0.18443476  0.230755    0.2293577   0.         -0.02046705\n",
      "  0.22550312  0.22838989  0.15839905  0.17875394  0.22735506  0.22931024\n",
      "  0.18318327  0.18758799  0.21460487  0.12347034  0.0720036   0.22568014\n",
      "  0.21407592  0.0391313   0.          0.10501894  0.          0.21220881\n",
      "  0.19977476  0.18823415]\n"
     ]
    }
   ],
   "source": [
    "print(model_mlp.layers[0].bias.numpy())"
   ]
  },
  {
   "cell_type": "code",
   "execution_count": 101,
   "metadata": {},
   "outputs": [
    {
     "data": {
      "text/plain": [
       "(53, 6)"
      ]
     },
     "execution_count": 101,
     "metadata": {},
     "output_type": "execute_result"
    }
   ],
   "source": [
    "X_test.shape"
   ]
  },
  {
   "cell_type": "code",
   "execution_count": 102,
   "metadata": {},
   "outputs": [
    {
     "name": "stdout",
     "output_type": "stream",
     "text": [
      "2/2 [==============================] - 0s 0s/step\n"
     ]
    }
   ],
   "source": [
    "prediction_test=model_mlp.predict( X_test, verbose=1)"
   ]
  },
  {
   "cell_type": "code",
   "execution_count": 103,
   "metadata": {},
   "outputs": [
    {
     "data": {
      "text/plain": [
       "array([[138.09439 ],\n",
       "       [106.02384 ],\n",
       "       [ 89.94095 ],\n",
       "       [102.914635],\n",
       "       [123.72695 ],\n",
       "       [137.23343 ],\n",
       "       [115.89982 ],\n",
       "       [146.5676  ],\n",
       "       [119.46999 ],\n",
       "       [105.79645 ],\n",
       "       [124.530556],\n",
       "       [142.61804 ],\n",
       "       [147.95815 ],\n",
       "       [139.45981 ],\n",
       "       [106.42681 ],\n",
       "       [111.66569 ],\n",
       "       [140.68954 ],\n",
       "       [144.02449 ],\n",
       "       [135.30415 ],\n",
       "       [121.689224],\n",
       "       [131.53415 ],\n",
       "       [112.8073  ],\n",
       "       [127.187294],\n",
       "       [ 96.8176  ],\n",
       "       [104.40991 ],\n",
       "       [ 89.33911 ],\n",
       "       [134.02243 ],\n",
       "       [125.46667 ],\n",
       "       [138.63887 ],\n",
       "       [154.17845 ],\n",
       "       [154.04318 ],\n",
       "       [123.515755],\n",
       "       [125.18638 ],\n",
       "       [100.61138 ],\n",
       "       [122.91148 ],\n",
       "       [144.75937 ],\n",
       "       [122.11875 ],\n",
       "       [123.65583 ],\n",
       "       [112.3552  ],\n",
       "       [131.30368 ],\n",
       "       [125.636955],\n",
       "       [106.82923 ],\n",
       "       [130.75511 ],\n",
       "       [140.72809 ],\n",
       "       [149.763   ],\n",
       "       [152.2023  ],\n",
       "       [135.78958 ],\n",
       "       [156.80249 ],\n",
       "       [166.06772 ],\n",
       "       [155.17328 ],\n",
       "       [155.65714 ],\n",
       "       [148.95453 ],\n",
       "       [136.0733  ]], dtype=float32)"
      ]
     },
     "execution_count": 103,
     "metadata": {},
     "output_type": "execute_result"
    }
   ],
   "source": [
    "prediction_test"
   ]
  },
  {
   "cell_type": "code",
   "execution_count": 104,
   "metadata": {},
   "outputs": [],
   "source": [
    "y_test=y_test.reshape((y_test.shape[0], 1))"
   ]
  },
  {
   "cell_type": "code",
   "execution_count": 107,
   "metadata": {},
   "outputs": [
    {
     "name": "stdout",
     "output_type": "stream",
     "text": [
      "RECM: 49.5113894528004\n"
     ]
    }
   ],
   "source": [
    "errors_squared=tf.keras.metrics.mean_squared_error(y_test, prediction_test).numpy()\n",
    "print(\"RECM:\",errors_squared.mean()**0.5)"
   ]
  },
  {
   "cell_type": "markdown",
   "metadata": {},
   "source": [
    "<h2 style=\"color: #e67e22; text-align: left;\"> Gráfica en el conjunto de prueba</h2>   "
   ]
  },
  {
   "cell_type": "code",
   "execution_count": 108,
   "metadata": {},
   "outputs": [
    {
     "data": {
      "text/plain": [
       "Text(0, 0.5, 'Y y $\\\\hat{Y}$ en conjunto de prueba')"
      ]
     },
     "execution_count": 108,
     "metadata": {},
     "output_type": "execute_result"
    },
    {
     "data": {
      "image/png": "[encoded data removed]",
      "text/plain": [
       "<Figure size 432x288 with 1 Axes>"
      ]
     },
     "metadata": {
      "needs_background": "light"
     },
     "output_type": "display_data"
    }
   ],
   "source": [
    "plt.plot(y_test)\n",
    "plt.plot(prediction_test)\n",
    "plt.legend(['Respuesta real','Predicción de la Respuesta'],loc=\"best\", fontsize=12)\n",
    "plt.ylabel('Y y $\\hat{Y}$ en conjunto de prueba', fontsize=14)"
   ]
  },
  {
   "cell_type": "code",
   "execution_count": 109,
   "metadata": {},
   "outputs": [
    {
     "data": {
      "text/plain": [
       "Text(0, 0.5, '$\\\\hat{e}$ en conjunto de prueba')"
      ]
     },
     "execution_count": 109,
     "metadata": {},
     "output_type": "execute_result"
    },
    {
     "data": {
      "image/png": "[encoded data removed]",
      "text/plain": [
       "<Figure size 432x288 with 1 Axes>"
      ]
     },
     "metadata": {
      "needs_background": "light"
     },
     "output_type": "display_data"
    }
   ],
   "source": [
    "plt.plot(prediction_test-y_test)\n",
    "plt.legend(['Error de predicción'],loc=\"best\", fontsize=12)\n",
    "plt.ylabel('$\\hat{e}$ en conjunto de prueba', fontsize=12)"
   ]
  },
  {
   "cell_type": "code",
   "execution_count": 110,
   "metadata": {},
   "outputs": [
    {
     "data": {
      "text/plain": [
       "array([[  64.69439087],\n",
       "       [  53.12384186],\n",
       "       [  14.44094849],\n",
       "       [ -30.5853653 ],\n",
       "       [ -55.3730484 ],\n",
       "       [  30.93342896],\n",
       "       [ -95.10018158],\n",
       "       [  75.06759644],\n",
       "       [  21.46999359],\n",
       "       [ -68.50355225],\n",
       "       [ -57.46944427],\n",
       "       [ -35.88195801],\n",
       "       [ -16.44185486],\n",
       "       [  48.25980835],\n",
       "       [ -23.47318878],\n",
       "       [ -68.83431244],\n",
       "       [ -31.71045532],\n",
       "       [ -24.37550964],\n",
       "       [   1.40415344],\n",
       "       [ -33.11077576],\n",
       "       [  59.33414917],\n",
       "       [ -58.19270325],\n",
       "       [  72.28729401],\n",
       "       [ -11.08240356],\n",
       "       [  91.10991211],\n",
       "       [-111.36088867],\n",
       "       [  11.42243042],\n",
       "       [ -65.43333282],\n",
       "       [ -47.66112976],\n",
       "       [ -31.72154846],\n",
       "       [  47.14318237],\n",
       "       [ -33.8842453 ],\n",
       "       [  89.98637848],\n",
       "       [ -39.98861847],\n",
       "       [ -50.48851624],\n",
       "       [  29.1593689 ],\n",
       "       [  -8.38124847],\n",
       "       [  55.75583038],\n",
       "       [ -34.54479828],\n",
       "       [   7.80368042],\n",
       "       [  44.63695526],\n",
       "       [ -39.97076874],\n",
       "       [ -12.84488831],\n",
       "       [ -48.07191162],\n",
       "       [ -52.33699951],\n",
       "       [  26.00230103],\n",
       "       [ -70.5104187 ],\n",
       "       [ -54.19750977],\n",
       "       [ -36.13228149],\n",
       "       [ -45.72672119],\n",
       "       [  -5.04286499],\n",
       "       [  13.25452881],\n",
       "       [  14.27330322]])"
      ]
     },
     "execution_count": 110,
     "metadata": {},
     "output_type": "execute_result"
    }
   ],
   "source": [
    "prediction_test-y_test"
   ]
  },
  {
   "cell_type": "markdown",
   "metadata": {},
   "source": [
    "**Resumen del rendimiento de los modelos usando el RMSE**"
   ]
  },
  {
   "cell_type": "markdown",
   "metadata": {},
   "source": [
    "|Nommbre del modelo| RMSE obtenido |\n",
    "|------------------|---------------|\n",
    "|Suavizamiento exponencial|   57.29|\n",
    "|Árboles de decisión|        52.201|     \n",
    "|Red LSTM |                  47.75 |\n",
    "|Red multicapa|              49.51 |      |"
   ]
  },
  {
   "cell_type": "code",
   "execution_count": null,
   "metadata": {},
   "outputs": [],
   "source": []
  }
 ],
 "metadata": {
  "kernelspec": {
   "display_name": "Python 3 (ipykernel)",
   "language": "python",
   "name": "python3"
  },
  "language_info": {
   "codemirror_mode": {
    "name": "ipython",
    "version": 3
   },
   "file_extension": ".py",
   "mimetype": "text/x-python",
   "name": "python",
   "nbconvert_exporter": "python",
   "pygments_lexer": "ipython3",
   "version": "3.9.12"
  }
 },
 "nbformat": 4,
 "nbformat_minor": 4
}
